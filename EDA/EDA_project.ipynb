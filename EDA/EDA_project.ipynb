{
 "cells": [
  {
   "cell_type": "markdown",
   "metadata": {
    "slideshow": {
     "slide_type": "slide"
    }
   },
   "source": [
    "# Instacart dataset EDA 프로젝트"
   ]
  },
  {
   "cell_type": "markdown",
   "metadata": {
    "slideshow": {
     "slide_type": "slide"
    }
   },
   "source": [
    "<img src=\"instacartl2.png\" alt=\"Drawing\" style=\"width: 1000px\"/>\n",
    "<img src=\"instacart1.jpg\" alt=\"Drawing\" style=\"width: 500px\"/>\n"
   ]
  },
  {
   "cell_type": "code",
   "execution_count": 3,
   "metadata": {
    "ExecuteTime": {
     "end_time": "2020-02-21T03:13:24.813877Z",
     "start_time": "2020-02-21T03:13:24.811332Z"
    },
    "slideshow": {
     "slide_type": "skip"
    }
   },
   "outputs": [],
   "source": [
    "from IPython.display import Image"
   ]
  },
  {
   "cell_type": "markdown",
   "metadata": {
    "slideshow": {
     "slide_type": "slide"
    }
   },
   "source": [
    "# 회사 개요\n",
    "- **\"식품계의 우버\"라 불리는 미국의 신선식품 배달 서비스 스타트업. (ex : 한국의 B마트)**\n",
    "- **월마트, 세이프웨이, 코스트코등 대형마트 부터 지역 슈퍼마켓**\n",
    "- **설립 2년 만에 유니콘**\n",
    "- **8년간 16억달러(약 1조8800억원) 투자유치**"
   ]
  },
  {
   "cell_type": "markdown",
   "metadata": {
    "slideshow": {
     "slide_type": "slide"
    }
   },
   "source": [
    "# Dataset 개요\n",
    "> - **총 유저수 : 206,209(약 20만 명)**\n",
    "> - **판매된 총 제품수 : 33,819,106(약 3380만 건)**\n",
    "> - **품목 수 : 49,688(약 5만 종)**\n",
    "> - **총 주문량 : 3,421,083(약 340만 건)**\n",
    "> - **품목당 평균 판매 횟수 : 약 680건**\n",
    "> - **유저 1명당 평균 주문 횟수 : 16.5회**\n",
    "> - **재구매율 : 약 59%**"
   ]
  },
  {
   "cell_type": "markdown",
   "metadata": {
    "slideshow": {
     "slide_type": "slide"
    }
   },
   "source": [
    "## 선택한 이유 :\n",
    "> - **데이터의 양**\n",
    "> - **실제 생활과 밀접**\n",
    "> - **예측 모델**"
   ]
  },
  {
   "cell_type": "markdown",
   "metadata": {
    "slideshow": {
     "slide_type": "slide"
    }
   },
   "source": [
    "## 데이터 로드"
   ]
  },
  {
   "cell_type": "code",
   "execution_count": 4,
   "metadata": {
    "ExecuteTime": {
     "end_time": "2020-02-21T03:14:15.593208Z",
     "start_time": "2020-02-21T03:13:26.381803Z"
    },
    "slideshow": {
     "slide_type": "-"
    }
   },
   "outputs": [],
   "source": [
    "df_orders = pd.read_csv(\"origin/orders.csv\")\n",
    "df_order_products = pd.read_csv(\"origin/merged_order_products.csv\")\n",
    "df_ptoducts = pd.read_csv(\"origin/products.csv\")\n",
    "df_aisles = pd.read_csv(\"origin/aisles.csv\")\n",
    "df_departments = pd.read_csv(\"origin/departments.csv\")\n",
    "product_plus_aisle = pd.merge(df_ptoducts, df_aisles)\n",
    "product_plus_aisle_plus_departments = pd.merge(\n",
    "    product_plus_aisle, df_departments)\n",
    "product_plus_aisle_plus_departments_plus_order_products = pd.merge(\n",
    "    product_plus_aisle_plus_departments, df_order_products)\n",
    "raw_data = pd.merge(\n",
    "    product_plus_aisle_plus_departments_plus_order_products, df_orders)"
   ]
  },
  {
   "cell_type": "markdown",
   "metadata": {
    "ExecuteTime": {
     "end_time": "2020-02-20T13:33:00.573979Z",
     "start_time": "2020-02-20T13:33:00.565487Z"
    },
    "slideshow": {
     "slide_type": "slide"
    }
   },
   "source": [
    "##  raw_data 컬럼\n",
    "\n",
    "### 시간관련\n",
    "- order_dow: 주문한 요일\n",
    "- order_hour_of_day: 주문한 시간\n",
    "\n",
    "\n",
    "### 제품관련\n",
    "- product_id: 제품 ID\n",
    "- product_name: 제품 이름\n",
    "- aisle_id: 소분류 ID\n",
    "- aisle: 소분류 이름\n",
    "- department_id: 대분류 ID\n",
    "- department: 대분류 이름\n"
   ]
  },
  {
   "cell_type": "markdown",
   "metadata": {
    "slideshow": {
     "slide_type": "slide"
    }
   },
   "source": [
    "### 주문관련\n",
    "- user_id: 고객 ID\n",
    "- order_id: 주문 ID\n",
    "- add_to_cart_order: 각 제품이 장바구니에 추가 된 순서\n",
    "- reordered: 사용자가 해당 제품을 과거에 주문한 경우 1, 그렇지 않으면 0\n",
    "\n",
    "### etc\n",
    "- days_since_prior: 마지막 주문 이후 일 수, 30 일 제한 (NA는 order_number1) 재주문 기간의 텀\n",
    "- aisle_id : foreign key\n",
    "- department_id: foreign key\n",
    "- eval_set: 이 순서가 속하는 평가 세트\n",
    "- order_number: 이 사용자의 주문 순서 번호 (1 = 첫 번째, n = n 번째)"
   ]
  },
  {
   "cell_type": "markdown",
   "metadata": {
    "slideshow": {
     "slide_type": "slide"
    }
   },
   "source": [
    "# 그래서 뭐가 궁금한가?"
   ]
  },
  {
   "cell_type": "markdown",
   "metadata": {
    "slideshow": {
     "slide_type": "slide"
    }
   },
   "source": [
    "# 이용자들은 어떤 물건을 재구매할 확률이 높은 걸까?"
   ]
  },
  {
   "cell_type": "markdown",
   "metadata": {
    "slideshow": {
     "slide_type": "slide"
    }
   },
   "source": [
    "## 가설 1 : 시간 및 요일등에 따라 품목과 재구매 정도의 차이가 있을것이다.\n",
    "## 가설 2 :  판매량이 높은 제품이 재구매도 많을 것이다.\n",
    "## 가설 3 : 장바구니의 첫번째 담은 물건의 재구매의 확률이 높을 것이다."
   ]
  },
  {
   "cell_type": "markdown",
   "metadata": {
    "slideshow": {
     "slide_type": "slide"
    }
   },
   "source": [
    "## 시간 및 요일별 구매 및 재구매 횟수"
   ]
  },
  {
   "cell_type": "code",
   "execution_count": 9,
   "metadata": {
    "ExecuteTime": {
     "end_time": "2020-02-21T03:15:16.536996Z",
     "start_time": "2020-02-21T03:15:11.579348Z"
    },
    "code_folding": [
     15,
     25
    ],
    "scrolled": true,
    "slideshow": {
     "slide_type": "slide"
    }
   },
   "outputs": [],
   "source": [
    "# 시간,요일 별 구매 횟수\n",
    "df = pd.pivot_table(raw_data, index=raw_data['order_dow'],\n",
    "                    columns=raw_data['order_hour_of_day'], aggfunc='count', values='user_id')\n",
    "df = df / 1000\n",
    "df = df.astype(\"int\")\n",
    "\n",
    "# 시간,주 별 재구매 횟수\n",
    "columns = [\t'reordered', 'order_dow', 'order_hour_of_day']\n",
    "data_time = raw_data[columns]\n",
    "time_table = data_time.pivot_table(\n",
    "    index='order_dow', columns='order_hour_of_day',\n",
    "    values='reordered', aggfunc=sum)\n",
    "\n",
    "time_table = time_table / 1000\n",
    "time_table = time_table.astype(\"int\")"
   ]
  },
  {
   "cell_type": "code",
   "execution_count": 11,
   "metadata": {
    "ExecuteTime": {
     "end_time": "2020-02-21T03:16:08.864511Z",
     "start_time": "2020-02-21T03:16:07.394070Z"
    },
    "code_folding": [
     11
    ],
    "scrolled": false,
    "slideshow": {
     "slide_type": "slide"
    }
   },
   "outputs": [
    {
     "data": {
      "image/png": "[encoded data removed]",
      "text/plain": [
       "<Figure size 1500x1000 with 1 Axes>"
      ]
     },
     "metadata": {
      "needs_background": "light"
     },
     "output_type": "display_data"
    },
    {
     "data": {
      "image/png": "[encoded data removed]",
      "text/plain": [
       "<Figure size 1500x1000 with 1 Axes>"
      ]
     },
     "metadata": {
      "needs_background": "light"
     },
     "output_type": "display_data"
    }
   ],
   "source": [
    "plt.figure(figsize=(15, 10))\n",
    "plt.subplot(121)\n",
    "ax = plt.axes()\n",
    "ax.set_title('시간 요일별 주문 횟수 (횟수/1000)')\n",
    "sns.heatmap(df, cmap=\"BrBG\", center=3, annot=True,\n",
    "            fmt=\"d\", square=True, cbar=False, ax=ax)\n",
    "plt.tight_layout()\n",
    "\n",
    "plt.figure(figsize=(15, 10))\n",
    "plt.subplot(122)\n",
    "ax = plt.axes()\n",
    "ax.set_title('시간 요일별 재주문 횟수 (횟수/1000)')\n",
    "sns.heatmap(time_table, cmap=\"BrBG\", center=3, annot=True,\n",
    "            fmt=\"d\", square=True, cbar=False, ax=ax)\n",
    "plt.tight_layout()\n",
    "plt.show()"
   ]
  },
  {
   "cell_type": "markdown",
   "metadata": {
    "slideshow": {
     "slide_type": "slide"
    }
   },
   "source": [
    "- ### 09시 ~ 17시 사이에 주문이 집중\n",
    "- ### 토,일요일에 주문이 집중(0,1)\n",
    "- ### 시간, 요일에 따른 구매횟수와 재주문 횟수는 비슷한 빈도를 보임\n"
   ]
  },
  {
   "cell_type": "markdown",
   "metadata": {
    "slideshow": {
     "slide_type": "slide"
    }
   },
   "source": [
    "### 구매가 가장 많이 일어나는 시간대에 무슨 품목이 많이 팔리는가?"
   ]
  },
  {
   "cell_type": "code",
   "execution_count": 309,
   "metadata": {
    "ExecuteTime": {
     "end_time": "2020-02-21T01:55:16.987701Z",
     "start_time": "2020-02-21T01:55:10.276215Z"
    },
    "scrolled": false,
    "slideshow": {
     "slide_type": "slide"
    }
   },
   "outputs": [
    {
     "data": {
      "text/html": [
       "<div>\n",
       "<style scoped>\n",
       "    .dataframe tbody tr th:only-of-type {\n",
       "        vertical-align: middle;\n",
       "    }\n",
       "\n",
       "    .dataframe tbody tr th {\n",
       "        vertical-align: top;\n",
       "    }\n",
       "\n",
       "    .dataframe thead th {\n",
       "        text-align: right;\n",
       "    }\n",
       "</style>\n",
       "<table border=\"1\" class=\"dataframe\">\n",
       "  <thead>\n",
       "    <tr style=\"text-align: right;\">\n",
       "      <th></th>\n",
       "      <th>0</th>\n",
       "      <th>1</th>\n",
       "      <th>2</th>\n",
       "      <th>3</th>\n",
       "      <th>4</th>\n",
       "      <th>5</th>\n",
       "      <th>6</th>\n",
       "      <th>7</th>\n",
       "      <th>8</th>\n",
       "      <th>9</th>\n",
       "    </tr>\n",
       "    <tr>\n",
       "      <th>order_dow</th>\n",
       "      <th></th>\n",
       "      <th></th>\n",
       "      <th></th>\n",
       "      <th></th>\n",
       "      <th></th>\n",
       "      <th></th>\n",
       "      <th></th>\n",
       "      <th></th>\n",
       "      <th></th>\n",
       "      <th></th>\n",
       "    </tr>\n",
       "  </thead>\n",
       "  <tbody>\n",
       "    <tr>\n",
       "      <td>0</td>\n",
       "      <td>Banana</td>\n",
       "      <td>Bag of Organic Bananas</td>\n",
       "      <td>Organic Baby Spinach</td>\n",
       "      <td>Organic Strawberries</td>\n",
       "      <td>Organic Hass Avocado</td>\n",
       "      <td>Organic Avocado</td>\n",
       "      <td>Large Lemon</td>\n",
       "      <td>Limes</td>\n",
       "      <td>Strawberries</td>\n",
       "      <td>Organic Raspberries</td>\n",
       "    </tr>\n",
       "    <tr>\n",
       "      <td>1</td>\n",
       "      <td>Banana</td>\n",
       "      <td>Bag of Organic Bananas</td>\n",
       "      <td>Organic Strawberries</td>\n",
       "      <td>Organic Baby Spinach</td>\n",
       "      <td>Organic Hass Avocado</td>\n",
       "      <td>Organic Avocado</td>\n",
       "      <td>Large Lemon</td>\n",
       "      <td>Strawberries</td>\n",
       "      <td>Organic Raspberries</td>\n",
       "      <td>Organic Whole Milk</td>\n",
       "    </tr>\n",
       "  </tbody>\n",
       "</table>\n",
       "</div>"
      ],
      "text/plain": [
       "                0                       1                     2  \\\n",
       "order_dow                                                         \n",
       "0          Banana  Bag of Organic Bananas  Organic Baby Spinach   \n",
       "1          Banana  Bag of Organic Bananas  Organic Strawberries   \n",
       "\n",
       "                              3                     4                5  \\\n",
       "order_dow                                                                \n",
       "0          Organic Strawberries  Organic Hass Avocado  Organic Avocado   \n",
       "1          Organic Baby Spinach  Organic Hass Avocado  Organic Avocado   \n",
       "\n",
       "                     6             7                    8                    9  \n",
       "order_dow                                                                       \n",
       "0          Large Lemon         Limes         Strawberries  Organic Raspberries  \n",
       "1          Large Lemon  Strawberries  Organic Raspberries   Organic Whole Milk  "
      ]
     },
     "execution_count": 309,
     "metadata": {},
     "output_type": "execute_result"
    }
   ],
   "source": [
    "# 요일 별 구매 상품 순위\n",
    "daily_product = pd.pivot_table(\n",
    "    raw_data, index=raw_data['product_name'], columns=raw_data['order_dow'], aggfunc='count', values='user_id')\n",
    "\n",
    "result = []\n",
    "for i in range(0, 2):\n",
    "    a = daily_product[i].sort_values(ascending=False)[:10].index\n",
    "    result.append(a)\n",
    "\n",
    "daily_product = pd.DataFrame(result)\n",
    "daily_product['order_dow'] = [0, 1]\n",
    "daily_product.set_index('order_dow')"
   ]
  },
  {
   "cell_type": "code",
   "execution_count": 332,
   "metadata": {
    "ExecuteTime": {
     "end_time": "2020-02-21T02:02:55.156026Z",
     "start_time": "2020-02-21T02:02:48.351526Z"
    },
    "scrolled": false,
    "slideshow": {
     "slide_type": "slide"
    }
   },
   "outputs": [
    {
     "data": {
      "text/html": [
       "<div>\n",
       "<style scoped>\n",
       "    .dataframe tbody tr th:only-of-type {\n",
       "        vertical-align: middle;\n",
       "    }\n",
       "\n",
       "    .dataframe tbody tr th {\n",
       "        vertical-align: top;\n",
       "    }\n",
       "\n",
       "    .dataframe thead th {\n",
       "        text-align: right;\n",
       "    }\n",
       "</style>\n",
       "<table border=\"1\" class=\"dataframe\">\n",
       "  <thead>\n",
       "    <tr style=\"text-align: right;\">\n",
       "      <th></th>\n",
       "      <th>0</th>\n",
       "      <th>1</th>\n",
       "      <th>2</th>\n",
       "      <th>3</th>\n",
       "      <th>4</th>\n",
       "      <th>5</th>\n",
       "      <th>6</th>\n",
       "      <th>7</th>\n",
       "      <th>8</th>\n",
       "      <th>9</th>\n",
       "      <th>hour</th>\n",
       "    </tr>\n",
       "  </thead>\n",
       "  <tbody>\n",
       "    <tr>\n",
       "      <td>0</td>\n",
       "      <td>Banana</td>\n",
       "      <td>Bag of Organic Bananas</td>\n",
       "      <td>Organic Strawberries</td>\n",
       "      <td>Organic Baby Spinach</td>\n",
       "      <td>Organic Hass Avocado</td>\n",
       "      <td>Organic Avocado</td>\n",
       "      <td>Strawberries</td>\n",
       "      <td>Large Lemon</td>\n",
       "      <td>Organic Raspberries</td>\n",
       "      <td>Organic Whole Milk</td>\n",
       "      <td>9</td>\n",
       "    </tr>\n",
       "    <tr>\n",
       "      <td>1</td>\n",
       "      <td>Banana</td>\n",
       "      <td>Bag of Organic Bananas</td>\n",
       "      <td>Organic Strawberries</td>\n",
       "      <td>Organic Baby Spinach</td>\n",
       "      <td>Organic Hass Avocado</td>\n",
       "      <td>Organic Avocado</td>\n",
       "      <td>Large Lemon</td>\n",
       "      <td>Strawberries</td>\n",
       "      <td>Limes</td>\n",
       "      <td>Organic Raspberries</td>\n",
       "      <td>10</td>\n",
       "    </tr>\n",
       "    <tr>\n",
       "      <td>2</td>\n",
       "      <td>Banana</td>\n",
       "      <td>Bag of Organic Bananas</td>\n",
       "      <td>Organic Strawberries</td>\n",
       "      <td>Organic Baby Spinach</td>\n",
       "      <td>Organic Hass Avocado</td>\n",
       "      <td>Organic Avocado</td>\n",
       "      <td>Large Lemon</td>\n",
       "      <td>Limes</td>\n",
       "      <td>Strawberries</td>\n",
       "      <td>Organic Raspberries</td>\n",
       "      <td>11</td>\n",
       "    </tr>\n",
       "    <tr>\n",
       "      <td>3</td>\n",
       "      <td>Banana</td>\n",
       "      <td>Bag of Organic Bananas</td>\n",
       "      <td>Organic Strawberries</td>\n",
       "      <td>Organic Baby Spinach</td>\n",
       "      <td>Organic Hass Avocado</td>\n",
       "      <td>Organic Avocado</td>\n",
       "      <td>Large Lemon</td>\n",
       "      <td>Limes</td>\n",
       "      <td>Strawberries</td>\n",
       "      <td>Organic Raspberries</td>\n",
       "      <td>12</td>\n",
       "    </tr>\n",
       "    <tr>\n",
       "      <td>4</td>\n",
       "      <td>Banana</td>\n",
       "      <td>Bag of Organic Bananas</td>\n",
       "      <td>Organic Strawberries</td>\n",
       "      <td>Organic Baby Spinach</td>\n",
       "      <td>Organic Hass Avocado</td>\n",
       "      <td>Organic Avocado</td>\n",
       "      <td>Large Lemon</td>\n",
       "      <td>Limes</td>\n",
       "      <td>Strawberries</td>\n",
       "      <td>Organic Whole Milk</td>\n",
       "      <td>13</td>\n",
       "    </tr>\n",
       "    <tr>\n",
       "      <td>5</td>\n",
       "      <td>Banana</td>\n",
       "      <td>Bag of Organic Bananas</td>\n",
       "      <td>Organic Strawberries</td>\n",
       "      <td>Organic Baby Spinach</td>\n",
       "      <td>Organic Hass Avocado</td>\n",
       "      <td>Organic Avocado</td>\n",
       "      <td>Large Lemon</td>\n",
       "      <td>Limes</td>\n",
       "      <td>Strawberries</td>\n",
       "      <td>Organic Whole Milk</td>\n",
       "      <td>14</td>\n",
       "    </tr>\n",
       "    <tr>\n",
       "      <td>6</td>\n",
       "      <td>Banana</td>\n",
       "      <td>Bag of Organic Bananas</td>\n",
       "      <td>Organic Strawberries</td>\n",
       "      <td>Organic Baby Spinach</td>\n",
       "      <td>Organic Hass Avocado</td>\n",
       "      <td>Organic Avocado</td>\n",
       "      <td>Large Lemon</td>\n",
       "      <td>Limes</td>\n",
       "      <td>Strawberries</td>\n",
       "      <td>Organic Whole Milk</td>\n",
       "      <td>15</td>\n",
       "    </tr>\n",
       "    <tr>\n",
       "      <td>7</td>\n",
       "      <td>Banana</td>\n",
       "      <td>Bag of Organic Bananas</td>\n",
       "      <td>Organic Strawberries</td>\n",
       "      <td>Organic Baby Spinach</td>\n",
       "      <td>Organic Hass Avocado</td>\n",
       "      <td>Organic Avocado</td>\n",
       "      <td>Large Lemon</td>\n",
       "      <td>Limes</td>\n",
       "      <td>Strawberries</td>\n",
       "      <td>Organic Raspberries</td>\n",
       "      <td>16</td>\n",
       "    </tr>\n",
       "  </tbody>\n",
       "</table>\n",
       "</div>"
      ],
      "text/plain": [
       "        0                       1                     2                     3  \\\n",
       "0  Banana  Bag of Organic Bananas  Organic Strawberries  Organic Baby Spinach   \n",
       "1  Banana  Bag of Organic Bananas  Organic Strawberries  Organic Baby Spinach   \n",
       "2  Banana  Bag of Organic Bananas  Organic Strawberries  Organic Baby Spinach   \n",
       "3  Banana  Bag of Organic Bananas  Organic Strawberries  Organic Baby Spinach   \n",
       "4  Banana  Bag of Organic Bananas  Organic Strawberries  Organic Baby Spinach   \n",
       "5  Banana  Bag of Organic Bananas  Organic Strawberries  Organic Baby Spinach   \n",
       "6  Banana  Bag of Organic Bananas  Organic Strawberries  Organic Baby Spinach   \n",
       "7  Banana  Bag of Organic Bananas  Organic Strawberries  Organic Baby Spinach   \n",
       "\n",
       "                      4                5             6             7  \\\n",
       "0  Organic Hass Avocado  Organic Avocado  Strawberries   Large Lemon   \n",
       "1  Organic Hass Avocado  Organic Avocado   Large Lemon  Strawberries   \n",
       "2  Organic Hass Avocado  Organic Avocado   Large Lemon         Limes   \n",
       "3  Organic Hass Avocado  Organic Avocado   Large Lemon         Limes   \n",
       "4  Organic Hass Avocado  Organic Avocado   Large Lemon         Limes   \n",
       "5  Organic Hass Avocado  Organic Avocado   Large Lemon         Limes   \n",
       "6  Organic Hass Avocado  Organic Avocado   Large Lemon         Limes   \n",
       "7  Organic Hass Avocado  Organic Avocado   Large Lemon         Limes   \n",
       "\n",
       "                     8                    9  hour  \n",
       "0  Organic Raspberries   Organic Whole Milk     9  \n",
       "1                Limes  Organic Raspberries    10  \n",
       "2         Strawberries  Organic Raspberries    11  \n",
       "3         Strawberries  Organic Raspberries    12  \n",
       "4         Strawberries   Organic Whole Milk    13  \n",
       "5         Strawberries   Organic Whole Milk    14  \n",
       "6         Strawberries   Organic Whole Milk    15  \n",
       "7         Strawberries  Organic Raspberries    16  "
      ]
     },
     "execution_count": 332,
     "metadata": {},
     "output_type": "execute_result"
    }
   ],
   "source": [
    "# 시간대 별 구매 상품 순위\n",
    "df = pd.pivot_table(raw_data, index=raw_data['product_name'],\n",
    "                    columns=raw_data['order_hour_of_day'], aggfunc='count', values='user_id')\n",
    "result = []\n",
    "for i in range(9, 17):\n",
    "    a = df[i].sort_values(ascending=False)[:10].index\n",
    "    result.append(a)\n",
    "hourly_product = pd.DataFrame(result)\n",
    "hourly_product['hour'] = [9, 10, 11, 12, 13, 14, 15, 16]\n",
    "hourly_product.set_index('hour')\n",
    "hourly_product"
   ]
  },
  {
   "cell_type": "markdown",
   "metadata": {
    "slideshow": {
     "slide_type": "slide"
    }
   },
   "source": [
    "# 가설 1의 결론:\n",
    "\n",
    "- ### 토,일요일 낮시간대 (09~17시) 에 바나나(유기농), 딸기, 시금치, 아보카도 등이 많이 팔린다\n",
    "- ### 요일, 시간별 구매횟수와 재구매 횟수는 비슷한 분포를 보인다."
   ]
  },
  {
   "cell_type": "markdown",
   "metadata": {
    "slideshow": {
     "slide_type": "slide"
    }
   },
   "source": [
    "## 가설 2 :  판매량이 높은 제품이 재구매도 많을 것이다."
   ]
  },
  {
   "cell_type": "markdown",
   "metadata": {
    "slideshow": {
     "slide_type": "slide"
    }
   },
   "source": [
    "## product"
   ]
  },
  {
   "cell_type": "code",
   "execution_count": 23,
   "metadata": {
    "ExecuteTime": {
     "end_time": "2020-02-21T03:37:19.739424Z",
     "start_time": "2020-02-21T03:37:13.433473Z"
    },
    "scrolled": false,
    "slideshow": {
     "slide_type": "-"
    }
   },
   "outputs": [
    {
     "data": {
      "text/html": [
       "<div>\n",
       "<style scoped>\n",
       "    .dataframe tbody tr th:only-of-type {\n",
       "        vertical-align: middle;\n",
       "    }\n",
       "\n",
       "    .dataframe tbody tr th {\n",
       "        vertical-align: top;\n",
       "    }\n",
       "\n",
       "    .dataframe thead th {\n",
       "        text-align: right;\n",
       "    }\n",
       "</style>\n",
       "<table border=\"1\" class=\"dataframe\">\n",
       "  <thead>\n",
       "    <tr style=\"text-align: right;\">\n",
       "      <th></th>\n",
       "      <th>first_order</th>\n",
       "      <th>reorder</th>\n",
       "      <th>product_total</th>\n",
       "      <th>product_reorder_rate</th>\n",
       "    </tr>\n",
       "    <tr>\n",
       "      <th>product_name</th>\n",
       "      <th></th>\n",
       "      <th></th>\n",
       "      <th></th>\n",
       "      <th></th>\n",
       "    </tr>\n",
       "  </thead>\n",
       "  <tbody>\n",
       "    <tr>\n",
       "      <td>Banana</td>\n",
       "      <td>76125</td>\n",
       "      <td>415166</td>\n",
       "      <td>491291</td>\n",
       "      <td>84.505110</td>\n",
       "    </tr>\n",
       "    <tr>\n",
       "      <td>Bag of Organic Bananas</td>\n",
       "      <td>65655</td>\n",
       "      <td>329275</td>\n",
       "      <td>394930</td>\n",
       "      <td>83.375535</td>\n",
       "    </tr>\n",
       "    <tr>\n",
       "      <td>Organic Strawberries</td>\n",
       "      <td>61129</td>\n",
       "      <td>214448</td>\n",
       "      <td>275577</td>\n",
       "      <td>77.817815</td>\n",
       "    </tr>\n",
       "    <tr>\n",
       "      <td>Organic Baby Spinach</td>\n",
       "      <td>56766</td>\n",
       "      <td>194939</td>\n",
       "      <td>251705</td>\n",
       "      <td>77.447409</td>\n",
       "    </tr>\n",
       "    <tr>\n",
       "      <td>Organic Hass Avocado</td>\n",
       "      <td>44704</td>\n",
       "      <td>176173</td>\n",
       "      <td>220877</td>\n",
       "      <td>79.760681</td>\n",
       "    </tr>\n",
       "  </tbody>\n",
       "</table>\n",
       "</div>"
      ],
      "text/plain": [
       "                        first_order  reorder  product_total  \\\n",
       "product_name                                                  \n",
       "Banana                        76125   415166         491291   \n",
       "Bag of Organic Bananas        65655   329275         394930   \n",
       "Organic Strawberries          61129   214448         275577   \n",
       "Organic Baby Spinach          56766   194939         251705   \n",
       "Organic Hass Avocado          44704   176173         220877   \n",
       "\n",
       "                        product_reorder_rate  \n",
       "product_name                                  \n",
       "Banana                             84.505110  \n",
       "Bag of Organic Bananas             83.375535  \n",
       "Organic Strawberries               77.817815  \n",
       "Organic Baby Spinach               77.447409  \n",
       "Organic Hass Avocado               79.760681  "
      ]
     },
     "execution_count": 23,
     "metadata": {},
     "output_type": "execute_result"
    }
   ],
   "source": [
    "# 분석용 데이터 생성\n",
    "columns = ['product_id', 'reordered', 'product_name']\n",
    "data_product = raw_data[columns]\n",
    "\n",
    "# 피봇테이블\n",
    "product_table = data_product.pivot_table(\n",
    "    index='product_name', columns='reordered', aggfunc='count', fill_value=0)\n",
    "columns = ['first_order', 'reorder']\n",
    "product_table.columns = columns\n",
    "\n",
    "# 테이블 정리\n",
    "product_table['product_total'] = product_table['first_order'] + \\\n",
    "    product_table['reorder']\n",
    "product_table['product_reorder_rate'] = product_table['reorder'] / \\\n",
    "    product_table['product_total'] * 100\n",
    "product_table.sort_values(by='product_total', ascending=False, inplace=True)\n",
    "product_table.head()"
   ]
  },
  {
   "cell_type": "code",
   "execution_count": 17,
   "metadata": {
    "ExecuteTime": {
     "end_time": "2020-02-21T03:29:43.955174Z",
     "start_time": "2020-02-21T03:29:43.945349Z"
    },
    "code_folding": [
     1
    ],
    "scrolled": true,
    "slideshow": {
     "slide_type": "slide"
    }
   },
   "outputs": [
    {
     "name": "stdout",
     "output_type": "stream",
     "text": [
      "1000개 이상 팔린 제품의 총 개수: 27793456\n",
      "총 팔린 제품의 개수: 33819106\n",
      "1000개 이상 팔리면 전체 품목에서 82.18 %를 차지합니다.\n"
     ]
    }
   ],
   "source": [
    "# 몇개 이상의 제품이 팔려야 많이 팔린것인가?\n",
    "def numoforder(n):\n",
    "     return product_table[product_table['product_total'] >= n]\n",
    "n = 1000\n",
    "print(\"{}개 이상 팔린 제품의 총 개수:\".format(n),numoforder(n)['product_total'].sum())\n",
    "print(\"총 팔린 제품의 개수:\",product_table['product_total'].sum())\n",
    "print(f'{n}개 이상 팔리면 전체 품목에서',round(numoforder(n)['product_total'].sum() / product_table['product_total'].sum() * 100,2),'%를 차지합니다.' )"
   ]
  },
  {
   "cell_type": "code",
   "execution_count": 18,
   "metadata": {
    "ExecuteTime": {
     "end_time": "2020-02-21T03:29:43.966595Z",
     "start_time": "2020-02-21T03:29:43.957386Z"
    },
    "slideshow": {
     "slide_type": "-"
    }
   },
   "outputs": [],
   "source": [
    "product_table = product_table[product_table['product_total'] >= 1000]\n",
    "product_table.sort_values(by='product_name', ascending=True, inplace=True)"
   ]
  },
  {
   "cell_type": "markdown",
   "metadata": {
    "slideshow": {
     "slide_type": "slide"
    }
   },
   "source": [
    "## 두 데이터의 단위의 차이가 크기 때문에 스피어만 상관계수를 이용"
   ]
  },
  {
   "cell_type": "code",
   "execution_count": 19,
   "metadata": {
    "ExecuteTime": {
     "end_time": "2020-02-21T03:29:43.980634Z",
     "start_time": "2020-02-21T03:29:43.968555Z"
    },
    "slideshow": {
     "slide_type": "-"
    }
   },
   "outputs": [
    {
     "name": "stdout",
     "output_type": "stream",
     "text": [
      "스피어만 상관계수 0.2466400096071126\n",
      "피어슨 상관계수 0.17896402778787496\n"
     ]
    }
   ],
   "source": [
    "# 스피어만 상관계수\n",
    "print(\"스피어만 상관계수\", sp.stats.spearmanr(\n",
    "    product_table['product_total'], product_table['product_reorder_rate'])[0])\n",
    "# 피어슨 상관계수\n",
    "print(\"피어슨 상관계수\", np.corrcoef(\n",
    "    product_table['product_total'], product_table['product_reorder_rate'])[0, 1])"
   ]
  },
  {
   "cell_type": "code",
   "execution_count": 21,
   "metadata": {
    "ExecuteTime": {
     "end_time": "2020-02-21T03:29:52.245915Z",
     "start_time": "2020-02-21T03:29:52.021282Z"
    },
    "code_folding": [],
    "slideshow": {
     "slide_type": "slide"
    }
   },
   "outputs": [
    {
     "data": {
      "image/png": "[encoded data removed]",
      "text/plain": [
       "<Figure size 800x500 with 1 Axes>"
      ]
     },
     "metadata": {
      "needs_background": "light"
     },
     "output_type": "display_data"
    }
   ],
   "source": [
    "# 산점도\n",
    "from sklearn import preprocessing\n",
    "plt.plot(np.log(product_table['product_reorder_rate']),\n",
    "         np.log(preprocessing.minmax_scale(product_table['product_total'])),\n",
    "         linestyle='none',\n",
    "         marker='o',\n",
    "         markersize=3,\n",
    "         color='blue',\n",
    "         alpha=0.5)\n",
    "plt.title(\"재구매 비율의 산점도\")\n",
    "plt.xticks()\n",
    "plt.yticks()\n",
    "plt.tight_layout()\n",
    "plt.show()"
   ]
  },
  {
   "cell_type": "markdown",
   "metadata": {
    "ExecuteTime": {
     "end_time": "2020-02-20T16:47:12.500684Z",
     "start_time": "2020-02-20T16:47:12.498551Z"
    },
    "slideshow": {
     "slide_type": "slide"
    }
   },
   "source": [
    "## Aisle"
   ]
  },
  {
   "cell_type": "code",
   "execution_count": 206,
   "metadata": {
    "ExecuteTime": {
     "end_time": "2020-02-20T17:18:05.299402Z",
     "start_time": "2020-02-20T17:18:00.915022Z"
    },
    "code_folding": [],
    "slideshow": {
     "slide_type": "-"
    }
   },
   "outputs": [
    {
     "data": {
      "text/html": [
       "<div>\n",
       "<style scoped>\n",
       "    .dataframe tbody tr th:only-of-type {\n",
       "        vertical-align: middle;\n",
       "    }\n",
       "\n",
       "    .dataframe tbody tr th {\n",
       "        vertical-align: top;\n",
       "    }\n",
       "\n",
       "    .dataframe thead th {\n",
       "        text-align: right;\n",
       "    }\n",
       "</style>\n",
       "<table border=\"1\" class=\"dataframe\">\n",
       "  <thead>\n",
       "    <tr style=\"text-align: right;\">\n",
       "      <th></th>\n",
       "      <th>first_order</th>\n",
       "      <th>reorder</th>\n",
       "      <th>aisle_total</th>\n",
       "      <th>aisle_reorder_rate</th>\n",
       "    </tr>\n",
       "    <tr>\n",
       "      <th>aisle</th>\n",
       "      <th></th>\n",
       "      <th></th>\n",
       "      <th></th>\n",
       "      <th></th>\n",
       "    </tr>\n",
       "  </thead>\n",
       "  <tbody>\n",
       "    <tr>\n",
       "      <td>yogurt</td>\n",
       "      <td>472626</td>\n",
       "      <td>1034957</td>\n",
       "      <td>1507583</td>\n",
       "      <td>68.650084</td>\n",
       "    </tr>\n",
       "    <tr>\n",
       "      <td>white wines</td>\n",
       "      <td>11648</td>\n",
       "      <td>19998</td>\n",
       "      <td>31646</td>\n",
       "      <td>63.192821</td>\n",
       "    </tr>\n",
       "    <tr>\n",
       "      <td>water seltzer sparkling water</td>\n",
       "      <td>237162</td>\n",
       "      <td>640988</td>\n",
       "      <td>878150</td>\n",
       "      <td>72.992997</td>\n",
       "    </tr>\n",
       "    <tr>\n",
       "      <td>vitamins supplements</td>\n",
       "      <td>32347</td>\n",
       "      <td>14681</td>\n",
       "      <td>47028</td>\n",
       "      <td>31.217573</td>\n",
       "    </tr>\n",
       "    <tr>\n",
       "      <td>trash bags liners</td>\n",
       "      <td>22345</td>\n",
       "      <td>11357</td>\n",
       "      <td>33702</td>\n",
       "      <td>33.698297</td>\n",
       "    </tr>\n",
       "  </tbody>\n",
       "</table>\n",
       "</div>"
      ],
      "text/plain": [
       "                               first_order  reorder  aisle_total  \\\n",
       "aisle                                                              \n",
       "yogurt                              472626  1034957      1507583   \n",
       "white wines                          11648    19998        31646   \n",
       "water seltzer sparkling water       237162   640988       878150   \n",
       "vitamins supplements                 32347    14681        47028   \n",
       "trash bags liners                    22345    11357        33702   \n",
       "\n",
       "                               aisle_reorder_rate  \n",
       "aisle                                              \n",
       "yogurt                                  68.650084  \n",
       "white wines                             63.192821  \n",
       "water seltzer sparkling water           72.992997  \n",
       "vitamins supplements                    31.217573  \n",
       "trash bags liners                       33.698297  "
      ]
     },
     "execution_count": 206,
     "metadata": {},
     "output_type": "execute_result"
    }
   ],
   "source": [
    "# 분석용 데이터 프레임 생성\n",
    "columns = ['aisle_id', 'reordered', 'aisle']\n",
    "data_aisle = raw_data[columns]\n",
    "\n",
    "# 피봇테이블 생성\n",
    "aisle_table = data_aisle.pivot_table(\n",
    "    index='aisle', columns='reordered', aggfunc='count')\n",
    "columns = ['first_order', 'reorder']\n",
    "aisle_table.columns = columns\n",
    "\n",
    "# 피봇테이블 정리\n",
    "aisle_table['aisle_total'] = aisle_table['first_order'] + \\\n",
    "    aisle_table['reorder']\n",
    "aisle_table['aisle_reorder_rate'] = aisle_table['reorder'] / \\\n",
    "    aisle_table['aisle_total'] * 100\n",
    "aisle_table.sort_values(by='aisle', ascending=False, inplace=True)\n",
    "aisle_table.head()"
   ]
  },
  {
   "cell_type": "code",
   "execution_count": 199,
   "metadata": {
    "ExecuteTime": {
     "end_time": "2020-02-20T17:14:46.058163Z",
     "start_time": "2020-02-20T17:14:46.052336Z"
    },
    "code_folding": [],
    "slideshow": {
     "slide_type": "slide"
    }
   },
   "outputs": [
    {
     "name": "stdout",
     "output_type": "stream",
     "text": [
      "스피어만 상관계수 0.5708126036484247\n",
      "피어슨 상관계수 0.38006683048455375\n"
     ]
    }
   ],
   "source": [
    "# 스피어만 상관계수\n",
    "print(\"스피어만 상관계수\", sp.stats.spearmanr(\n",
    "    aisle_table['aisle_total'], aisle_table['aisle_reorder_rate'])[0])\n",
    "# 피어슨 상관계수\n",
    "print(\"피어슨 상관계수\", np.corrcoef(\n",
    "    aisle_table['aisle_total'], aisle_table['aisle_reorder_rate'])[0, 1])"
   ]
  },
  {
   "cell_type": "code",
   "execution_count": 364,
   "metadata": {
    "ExecuteTime": {
     "end_time": "2020-02-21T02:14:27.982121Z",
     "start_time": "2020-02-21T02:14:27.862728Z"
    },
    "code_folding": [
     0
    ],
    "scrolled": false,
    "slideshow": {
     "slide_type": "slide"
    }
   },
   "outputs": [
    {
     "data": {
      "image/png": "[encoded data removed]",
      "text/plain": [
       "<Figure size 800x500 with 1 Axes>"
      ]
     },
     "metadata": {
      "needs_background": "light"
     },
     "output_type": "display_data"
    }
   ],
   "source": [
    "# 산점도\n",
    "plt.subplot(121)\n",
    "plt.plot(np.log(aisle_table['aisle_reorder_rate']),\n",
    "         np.log(aisle_table['aisle_total']),  \n",
    "         linestyle='none', \n",
    "         marker='o', \n",
    "         markersize=3,\n",
    "         color='blue', \n",
    "         alpha=0.5)\n",
    "plt.title(\"재구매 비율의 산점도(aisel별)\")\n",
    "plt.tight_layout()\n",
    "plt.show()"
   ]
  },
  {
   "cell_type": "markdown",
   "metadata": {
    "slideshow": {
     "slide_type": "slide"
    }
   },
   "source": [
    "## 가설 2 결론 : \n",
    "- ### 양의 상관계를 보이는것으로 보아, 주문량이 증가하면 재구매율도 같이 높다. "
   ]
  },
  {
   "cell_type": "markdown",
   "metadata": {
    "slideshow": {
     "slide_type": "slide"
    }
   },
   "source": [
    "## 가설 3 : 장바구니의 첫번째 담은 물건의 재구매의 확률이 높을 것이다."
   ]
  },
  {
   "cell_type": "code",
   "execution_count": 29,
   "metadata": {
    "ExecuteTime": {
     "end_time": "2020-02-21T03:54:45.580083Z",
     "start_time": "2020-02-21T03:54:43.064719Z"
    },
    "slideshow": {
     "slide_type": "slide"
    }
   },
   "outputs": [
    {
     "data": {
      "text/html": [
       "<div>\n",
       "<style scoped>\n",
       "    .dataframe tbody tr th:only-of-type {\n",
       "        vertical-align: middle;\n",
       "    }\n",
       "\n",
       "    .dataframe tbody tr th {\n",
       "        vertical-align: top;\n",
       "    }\n",
       "\n",
       "    .dataframe thead th {\n",
       "        text-align: right;\n",
       "    }\n",
       "</style>\n",
       "<table border=\"1\" class=\"dataframe\">\n",
       "  <thead>\n",
       "    <tr style=\"text-align: right;\">\n",
       "      <th></th>\n",
       "      <th>order_id</th>\n",
       "      <th>product_id</th>\n",
       "      <th>add_to_cart_order</th>\n",
       "      <th>reordered</th>\n",
       "      <th>days_since_prior_order</th>\n",
       "    </tr>\n",
       "  </thead>\n",
       "  <tbody>\n",
       "    <tr>\n",
       "      <td>0</td>\n",
       "      <td>1107</td>\n",
       "      <td>1</td>\n",
       "      <td>7</td>\n",
       "      <td>0</td>\n",
       "      <td>7.0</td>\n",
       "    </tr>\n",
       "    <tr>\n",
       "      <td>1</td>\n",
       "      <td>1107</td>\n",
       "      <td>46149</td>\n",
       "      <td>6</td>\n",
       "      <td>0</td>\n",
       "      <td>7.0</td>\n",
       "    </tr>\n",
       "  </tbody>\n",
       "</table>\n",
       "</div>"
      ],
      "text/plain": [
       "   order_id  product_id  add_to_cart_order  reordered  days_since_prior_order\n",
       "0      1107           1                  7          0                     7.0\n",
       "1      1107       46149                  6          0                     7.0"
      ]
     },
     "execution_count": 29,
     "metadata": {},
     "output_type": "execute_result"
    }
   ],
   "source": [
    "# 분석용 데이터셋 생성\n",
    "columns = ['order_id', 'product_id', 'add_to_cart_order',\n",
    "           'reordered', 'days_since_prior_order']\n",
    "data_cart = raw_data[columns]\n",
    "data_cart.head(2)"
   ]
  },
  {
   "cell_type": "code",
   "execution_count": 30,
   "metadata": {
    "ExecuteTime": {
     "end_time": "2020-02-21T03:54:47.693484Z",
     "start_time": "2020-02-21T03:54:45.582350Z"
    },
    "code_folding": [],
    "slideshow": {
     "slide_type": "-"
    }
   },
   "outputs": [
    {
     "name": "stdout",
     "output_type": "stream",
     "text": [
      "163593 개\n"
     ]
    }
   ],
   "source": [
    "# 총 주문갯수가 1개인 데이터의 갯수\n",
    "a = data_cart['order_id'].value_counts() == 1\n",
    "print(a.sum(), '개')"
   ]
  },
  {
   "cell_type": "code",
   "execution_count": 31,
   "metadata": {
    "ExecuteTime": {
     "end_time": "2020-02-21T03:54:47.763712Z",
     "start_time": "2020-02-21T03:54:47.696834Z"
    },
    "slideshow": {
     "slide_type": "-"
    }
   },
   "outputs": [],
   "source": [
    "# 전체 주문이 1인 데이터 갯수 전처리\n",
    "# 전체 주문이 1인 데이터를 데이터 프레임 및 True = 1, False = 0 으로 변환\n",
    "a = pd.DataFrame(a)\n",
    "a.replace(False, 0, inplace=True)\n",
    "# 컬럼명 변환\n",
    "a.columns = ['first']\n",
    "# merge용 index 생성\n",
    "a.reset_index(inplace=True)"
   ]
  },
  {
   "cell_type": "code",
   "execution_count": 32,
   "metadata": {
    "ExecuteTime": {
     "end_time": "2020-02-21T03:54:54.194731Z",
     "start_time": "2020-02-21T03:54:47.766816Z"
    },
    "slideshow": {
     "slide_type": "-"
    }
   },
   "outputs": [],
   "source": [
    "# 분석용 데이터 셋과, 전체 주문이 1개인 데이터 merge\n",
    "data_cart_two_more = data_cart.merge(a, left_on='order_id', right_on='index')"
   ]
  },
  {
   "cell_type": "code",
   "execution_count": 33,
   "metadata": {
    "ExecuteTime": {
     "end_time": "2020-02-21T03:54:59.386150Z",
     "start_time": "2020-02-21T03:54:54.196553Z"
    },
    "slideshow": {
     "slide_type": "slide"
    }
   },
   "outputs": [
    {
     "data": {
      "text/html": [
       "<div>\n",
       "<style scoped>\n",
       "    .dataframe tbody tr th:only-of-type {\n",
       "        vertical-align: middle;\n",
       "    }\n",
       "\n",
       "    .dataframe tbody tr th {\n",
       "        vertical-align: top;\n",
       "    }\n",
       "\n",
       "    .dataframe thead th {\n",
       "        text-align: right;\n",
       "    }\n",
       "</style>\n",
       "<table border=\"1\" class=\"dataframe\">\n",
       "  <thead>\n",
       "    <tr style=\"text-align: right;\">\n",
       "      <th></th>\n",
       "      <th>order_id</th>\n",
       "      <th>product_id</th>\n",
       "      <th>add_to_cart_order</th>\n",
       "      <th>reordered</th>\n",
       "      <th>days_since_prior_order</th>\n",
       "      <th>index</th>\n",
       "      <th>first</th>\n",
       "    </tr>\n",
       "  </thead>\n",
       "  <tbody>\n",
       "    <tr>\n",
       "      <td>0</td>\n",
       "      <td>1107</td>\n",
       "      <td>1</td>\n",
       "      <td>7</td>\n",
       "      <td>0</td>\n",
       "      <td>7.0</td>\n",
       "      <td>1107</td>\n",
       "      <td>0.0</td>\n",
       "    </tr>\n",
       "    <tr>\n",
       "      <td>1</td>\n",
       "      <td>1107</td>\n",
       "      <td>46149</td>\n",
       "      <td>6</td>\n",
       "      <td>0</td>\n",
       "      <td>7.0</td>\n",
       "      <td>1107</td>\n",
       "      <td>0.0</td>\n",
       "    </tr>\n",
       "    <tr>\n",
       "      <td>2</td>\n",
       "      <td>1107</td>\n",
       "      <td>9434</td>\n",
       "      <td>2</td>\n",
       "      <td>0</td>\n",
       "      <td>7.0</td>\n",
       "      <td>1107</td>\n",
       "      <td>0.0</td>\n",
       "    </tr>\n",
       "    <tr>\n",
       "      <td>3</td>\n",
       "      <td>1107</td>\n",
       "      <td>769</td>\n",
       "      <td>10</td>\n",
       "      <td>0</td>\n",
       "      <td>7.0</td>\n",
       "      <td>1107</td>\n",
       "      <td>0.0</td>\n",
       "    </tr>\n",
       "    <tr>\n",
       "      <td>4</td>\n",
       "      <td>1107</td>\n",
       "      <td>12078</td>\n",
       "      <td>9</td>\n",
       "      <td>0</td>\n",
       "      <td>7.0</td>\n",
       "      <td>1107</td>\n",
       "      <td>0.0</td>\n",
       "    </tr>\n",
       "    <tr>\n",
       "      <td>...</td>\n",
       "      <td>...</td>\n",
       "      <td>...</td>\n",
       "      <td>...</td>\n",
       "      <td>...</td>\n",
       "      <td>...</td>\n",
       "      <td>...</td>\n",
       "      <td>...</td>\n",
       "    </tr>\n",
       "    <tr>\n",
       "      <td>33818867</td>\n",
       "      <td>62363</td>\n",
       "      <td>5161</td>\n",
       "      <td>1</td>\n",
       "      <td>1</td>\n",
       "      <td>5.0</td>\n",
       "      <td>62363</td>\n",
       "      <td>0.0</td>\n",
       "    </tr>\n",
       "    <tr>\n",
       "      <td>33818874</td>\n",
       "      <td>1159533</td>\n",
       "      <td>1000</td>\n",
       "      <td>2</td>\n",
       "      <td>1</td>\n",
       "      <td>3.0</td>\n",
       "      <td>1159533</td>\n",
       "      <td>0.0</td>\n",
       "    </tr>\n",
       "    <tr>\n",
       "      <td>33818875</td>\n",
       "      <td>1159533</td>\n",
       "      <td>5161</td>\n",
       "      <td>1</td>\n",
       "      <td>1</td>\n",
       "      <td>3.0</td>\n",
       "      <td>1159533</td>\n",
       "      <td>0.0</td>\n",
       "    </tr>\n",
       "    <tr>\n",
       "      <td>33818884</td>\n",
       "      <td>3275452</td>\n",
       "      <td>1000</td>\n",
       "      <td>1</td>\n",
       "      <td>1</td>\n",
       "      <td>5.0</td>\n",
       "      <td>3275452</td>\n",
       "      <td>0.0</td>\n",
       "    </tr>\n",
       "    <tr>\n",
       "      <td>33818885</td>\n",
       "      <td>3275452</td>\n",
       "      <td>5161</td>\n",
       "      <td>2</td>\n",
       "      <td>1</td>\n",
       "      <td>5.0</td>\n",
       "      <td>3275452</td>\n",
       "      <td>0.0</td>\n",
       "    </tr>\n",
       "  </tbody>\n",
       "</table>\n",
       "<p>33655513 rows × 7 columns</p>\n",
       "</div>"
      ],
      "text/plain": [
       "          order_id  product_id  add_to_cart_order  reordered  \\\n",
       "0             1107           1                  7          0   \n",
       "1             1107       46149                  6          0   \n",
       "2             1107        9434                  2          0   \n",
       "3             1107         769                 10          0   \n",
       "4             1107       12078                  9          0   \n",
       "...            ...         ...                ...        ...   \n",
       "33818867     62363        5161                  1          1   \n",
       "33818874   1159533        1000                  2          1   \n",
       "33818875   1159533        5161                  1          1   \n",
       "33818884   3275452        1000                  1          1   \n",
       "33818885   3275452        5161                  2          1   \n",
       "\n",
       "          days_since_prior_order    index  first  \n",
       "0                            7.0     1107    0.0  \n",
       "1                            7.0     1107    0.0  \n",
       "2                            7.0     1107    0.0  \n",
       "3                            7.0     1107    0.0  \n",
       "4                            7.0     1107    0.0  \n",
       "...                          ...      ...    ...  \n",
       "33818867                     5.0    62363    0.0  \n",
       "33818874                     3.0  1159533    0.0  \n",
       "33818875                     3.0  1159533    0.0  \n",
       "33818884                     5.0  3275452    0.0  \n",
       "33818885                     5.0  3275452    0.0  \n",
       "\n",
       "[33655513 rows x 7 columns]"
      ]
     },
     "execution_count": 33,
     "metadata": {},
     "output_type": "execute_result"
    }
   ],
   "source": [
    "# 전체 주문이 1개인 데이터 삭제\n",
    "data_cart_two_more[data_cart_two_more['first'] != 1]"
   ]
  },
  {
   "cell_type": "code",
   "execution_count": 34,
   "metadata": {
    "ExecuteTime": {
     "end_time": "2020-02-21T03:55:00.512265Z",
     "start_time": "2020-02-21T03:54:59.388002Z"
    },
    "slideshow": {
     "slide_type": "slide"
    }
   },
   "outputs": [],
   "source": [
    "# 분석에 필요한 컬럼만 재 정렬\n",
    "data_cart_two_more = data_cart_two_more[['order_id', 'product_id',\n",
    "                                         'add_to_cart_order', 'reordered', 'days_since_prior_order']]"
   ]
  },
  {
   "cell_type": "code",
   "execution_count": 35,
   "metadata": {
    "ExecuteTime": {
     "end_time": "2020-02-21T03:55:01.038193Z",
     "start_time": "2020-02-21T03:55:00.518143Z"
    },
    "scrolled": false,
    "slideshow": {
     "slide_type": "-"
    }
   },
   "outputs": [
    {
     "data": {
      "text/html": [
       "<div>\n",
       "<style scoped>\n",
       "    .dataframe tbody tr th:only-of-type {\n",
       "        vertical-align: middle;\n",
       "    }\n",
       "\n",
       "    .dataframe tbody tr th {\n",
       "        vertical-align: top;\n",
       "    }\n",
       "\n",
       "    .dataframe thead th {\n",
       "        text-align: right;\n",
       "    }\n",
       "</style>\n",
       "<table border=\"1\" class=\"dataframe\">\n",
       "  <thead>\n",
       "    <tr style=\"text-align: right;\">\n",
       "      <th></th>\n",
       "      <th>order_id</th>\n",
       "      <th>product_id</th>\n",
       "      <th>add_to_cart_order</th>\n",
       "      <th>reordered</th>\n",
       "      <th>days_since_prior_order</th>\n",
       "    </tr>\n",
       "  </thead>\n",
       "  <tbody>\n",
       "    <tr>\n",
       "      <td>12</td>\n",
       "      <td>1107</td>\n",
       "      <td>16797</td>\n",
       "      <td>1</td>\n",
       "      <td>1</td>\n",
       "      <td>7.0</td>\n",
       "    </tr>\n",
       "    <tr>\n",
       "      <td>19</td>\n",
       "      <td>5319</td>\n",
       "      <td>19972</td>\n",
       "      <td>1</td>\n",
       "      <td>1</td>\n",
       "      <td>1.0</td>\n",
       "    </tr>\n",
       "    <tr>\n",
       "      <td>28</td>\n",
       "      <td>6695</td>\n",
       "      <td>37600</td>\n",
       "      <td>1</td>\n",
       "      <td>1</td>\n",
       "      <td>8.0</td>\n",
       "    </tr>\n",
       "    <tr>\n",
       "      <td>50</td>\n",
       "      <td>7540</td>\n",
       "      <td>48907</td>\n",
       "      <td>1</td>\n",
       "      <td>1</td>\n",
       "      <td>7.0</td>\n",
       "    </tr>\n",
       "    <tr>\n",
       "      <td>54</td>\n",
       "      <td>9228</td>\n",
       "      <td>45260</td>\n",
       "      <td>1</td>\n",
       "      <td>0</td>\n",
       "      <td>30.0</td>\n",
       "    </tr>\n",
       "    <tr>\n",
       "      <td>...</td>\n",
       "      <td>...</td>\n",
       "      <td>...</td>\n",
       "      <td>...</td>\n",
       "      <td>...</td>\n",
       "      <td>...</td>\n",
       "    </tr>\n",
       "    <tr>\n",
       "      <td>33819101</td>\n",
       "      <td>2323735</td>\n",
       "      <td>30365</td>\n",
       "      <td>1</td>\n",
       "      <td>1</td>\n",
       "      <td>1.0</td>\n",
       "    </tr>\n",
       "    <tr>\n",
       "      <td>33819102</td>\n",
       "      <td>2733396</td>\n",
       "      <td>30365</td>\n",
       "      <td>1</td>\n",
       "      <td>0</td>\n",
       "      <td>0.0</td>\n",
       "    </tr>\n",
       "    <tr>\n",
       "      <td>33819103</td>\n",
       "      <td>3152383</td>\n",
       "      <td>30365</td>\n",
       "      <td>1</td>\n",
       "      <td>0</td>\n",
       "      <td>13.0</td>\n",
       "    </tr>\n",
       "    <tr>\n",
       "      <td>33819104</td>\n",
       "      <td>31522</td>\n",
       "      <td>48778</td>\n",
       "      <td>1</td>\n",
       "      <td>1</td>\n",
       "      <td>4.0</td>\n",
       "    </tr>\n",
       "    <tr>\n",
       "      <td>33819105</td>\n",
       "      <td>2484167</td>\n",
       "      <td>48778</td>\n",
       "      <td>1</td>\n",
       "      <td>1</td>\n",
       "      <td>10.0</td>\n",
       "    </tr>\n",
       "  </tbody>\n",
       "</table>\n",
       "<p>3346083 rows × 5 columns</p>\n",
       "</div>"
      ],
      "text/plain": [
       "          order_id  product_id  add_to_cart_order  reordered  \\\n",
       "12            1107       16797                  1          1   \n",
       "19            5319       19972                  1          1   \n",
       "28            6695       37600                  1          1   \n",
       "50            7540       48907                  1          1   \n",
       "54            9228       45260                  1          0   \n",
       "...            ...         ...                ...        ...   \n",
       "33819101   2323735       30365                  1          1   \n",
       "33819102   2733396       30365                  1          0   \n",
       "33819103   3152383       30365                  1          0   \n",
       "33819104     31522       48778                  1          1   \n",
       "33819105   2484167       48778                  1          1   \n",
       "\n",
       "          days_since_prior_order  \n",
       "12                           7.0  \n",
       "19                           1.0  \n",
       "28                           8.0  \n",
       "50                           7.0  \n",
       "54                          30.0  \n",
       "...                          ...  \n",
       "33819101                     1.0  \n",
       "33819102                     0.0  \n",
       "33819103                    13.0  \n",
       "33819104                     4.0  \n",
       "33819105                    10.0  \n",
       "\n",
       "[3346083 rows x 5 columns]"
      ]
     },
     "execution_count": 35,
     "metadata": {},
     "output_type": "execute_result"
    }
   ],
   "source": [
    "# 장바구니에 1번째로 담긴 품목만 확인\n",
    "data_cart_two_more = data_cart_two_more[data_cart_two_more['add_to_cart_order'] == 1]\n",
    "data_cart_two_more"
   ]
  },
  {
   "cell_type": "markdown",
   "metadata": {
    "slideshow": {
     "slide_type": "-"
    }
   },
   "source": [
    "## 각 주문에서 장바구니에 제일 처음 담은 물품만 남기고 필터링\n",
    "## 3,346,083 (약 330만)"
   ]
  },
  {
   "cell_type": "code",
   "execution_count": 36,
   "metadata": {
    "ExecuteTime": {
     "end_time": "2020-02-21T03:55:01.489527Z",
     "start_time": "2020-02-21T03:55:01.042984Z"
    },
    "slideshow": {
     "slide_type": "skip"
    }
   },
   "outputs": [],
   "source": [
    "# 피벗테이블 생성\n",
    "table_cart = data_cart_two_more.pivot_table(\n",
    "    index='product_id', columns='reordered', values='add_to_cart_order', aggfunc='count', fill_value=0)\n",
    "table_cart.reset_index(inplace=True)\n",
    "table_cart.columns = ['product_id', 'first_order', 'reorder']\n",
    "# proudct_name을 알기위해 df_ptoducts merge\n",
    "table_cart_product = table_cart.merge(\n",
    "    df_ptoducts, left_on='product_id', right_on='product_id')"
   ]
  },
  {
   "cell_type": "code",
   "execution_count": 37,
   "metadata": {
    "ExecuteTime": {
     "end_time": "2020-02-21T03:55:01.505272Z",
     "start_time": "2020-02-21T03:55:01.491940Z"
    },
    "slideshow": {
     "slide_type": "skip"
    }
   },
   "outputs": [],
   "source": [
    "# 피벗테이블의 컬럼명 정리\n",
    "table_cart_product = table_cart_product[[\n",
    "    'product_id', 'product_name', 'first_order', 'reorder']]\n",
    "# 첫 주문과, 재주문의 총합 (1번째로 장바구니에 추가된 제품들의)\n",
    "table_cart_product['total'] = table_cart_product['first_order'] + \\\n",
    "    table_cart_product['reorder']\n",
    "# 1번째로 장바구니에 추가된 제품의 재구매 비율\n",
    "table_cart_product['reorder_rate'] = table_cart_product['reorder'] / \\\n",
    "    table_cart_product['total'] * 100"
   ]
  },
  {
   "cell_type": "markdown",
   "metadata": {
    "slideshow": {
     "slide_type": "slide"
    }
   },
   "source": [
    "## 장바구니에 처음 담긴 물품의 재구매율 상위 5위 비교"
   ]
  },
  {
   "cell_type": "code",
   "execution_count": 38,
   "metadata": {
    "ExecuteTime": {
     "end_time": "2020-02-21T03:55:01.523191Z",
     "start_time": "2020-02-21T03:55:01.507408Z"
    },
    "scrolled": true,
    "slideshow": {
     "slide_type": "-"
    }
   },
   "outputs": [
    {
     "data": {
      "text/html": [
       "<div>\n",
       "<style scoped>\n",
       "    .dataframe tbody tr th:only-of-type {\n",
       "        vertical-align: middle;\n",
       "    }\n",
       "\n",
       "    .dataframe tbody tr th {\n",
       "        vertical-align: top;\n",
       "    }\n",
       "\n",
       "    .dataframe thead th {\n",
       "        text-align: right;\n",
       "    }\n",
       "</style>\n",
       "<table border=\"1\" class=\"dataframe\">\n",
       "  <thead>\n",
       "    <tr style=\"text-align: right;\">\n",
       "      <th></th>\n",
       "      <th>product_id</th>\n",
       "      <th>product_name</th>\n",
       "      <th>first_order</th>\n",
       "      <th>reorder</th>\n",
       "      <th>total</th>\n",
       "      <th>reorder_rate</th>\n",
       "    </tr>\n",
       "  </thead>\n",
       "  <tbody>\n",
       "    <tr>\n",
       "      <td>36619</td>\n",
       "      <td>43147</td>\n",
       "      <td>Chardonnay, Oak Knoll District of Napa Valley,...</td>\n",
       "      <td>0</td>\n",
       "      <td>2</td>\n",
       "      <td>2</td>\n",
       "      <td>100.0</td>\n",
       "    </tr>\n",
       "    <tr>\n",
       "      <td>40541</td>\n",
       "      <td>47729</td>\n",
       "      <td>Salami, Rose, Recipe No. 7</td>\n",
       "      <td>0</td>\n",
       "      <td>1</td>\n",
       "      <td>1</td>\n",
       "      <td>100.0</td>\n",
       "    </tr>\n",
       "    <tr>\n",
       "      <td>22070</td>\n",
       "      <td>26018</td>\n",
       "      <td>Fruit Chews Superfruit Flavors</td>\n",
       "      <td>0</td>\n",
       "      <td>2</td>\n",
       "      <td>2</td>\n",
       "      <td>100.0</td>\n",
       "    </tr>\n",
       "    <tr>\n",
       "      <td>38919</td>\n",
       "      <td>45827</td>\n",
       "      <td>Roasted Seaweed Snack Coconut Oil</td>\n",
       "      <td>0</td>\n",
       "      <td>1</td>\n",
       "      <td>1</td>\n",
       "      <td>100.0</td>\n",
       "    </tr>\n",
       "    <tr>\n",
       "      <td>24549</td>\n",
       "      <td>28950</td>\n",
       "      <td>Spry Fresh Fruit Chewing Gum</td>\n",
       "      <td>0</td>\n",
       "      <td>2</td>\n",
       "      <td>2</td>\n",
       "      <td>100.0</td>\n",
       "    </tr>\n",
       "  </tbody>\n",
       "</table>\n",
       "</div>"
      ],
      "text/plain": [
       "       product_id                                       product_name  \\\n",
       "36619       43147  Chardonnay, Oak Knoll District of Napa Valley,...   \n",
       "40541       47729                         Salami, Rose, Recipe No. 7   \n",
       "22070       26018                     Fruit Chews Superfruit Flavors   \n",
       "38919       45827                  Roasted Seaweed Snack Coconut Oil   \n",
       "24549       28950                       Spry Fresh Fruit Chewing Gum   \n",
       "\n",
       "       first_order  reorder  total  reorder_rate  \n",
       "36619            0        2      2         100.0  \n",
       "40541            0        1      1         100.0  \n",
       "22070            0        2      2         100.0  \n",
       "38919            0        1      1         100.0  \n",
       "24549            0        2      2         100.0  "
      ]
     },
     "execution_count": 38,
     "metadata": {},
     "output_type": "execute_result"
    }
   ],
   "source": [
    "# 주문량이 많지 않음\n",
    "table_cart_product.sort_values(by='reorder_rate', ascending=False).head()"
   ]
  },
  {
   "cell_type": "markdown",
   "metadata": {
    "slideshow": {
     "slide_type": "slide"
    }
   },
   "source": [
    "## 판매된 제품 수량별 재구매율"
   ]
  },
  {
   "cell_type": "code",
   "execution_count": 39,
   "metadata": {
    "ExecuteTime": {
     "end_time": "2020-02-21T03:55:01.527821Z",
     "start_time": "2020-02-21T03:55:01.525074Z"
    },
    "slideshow": {
     "slide_type": "-"
    }
   },
   "outputs": [],
   "source": [
    "# 대표성 확인을 위한 함수 설정\n",
    "def numofproduct(n):\n",
    "    return table_cart_product[table_cart_product['total'] >= n].sort_values(by='reorder_rate', ascending=False)"
   ]
  },
  {
   "cell_type": "code",
   "execution_count": 40,
   "metadata": {
    "ExecuteTime": {
     "end_time": "2020-02-21T03:55:01.544302Z",
     "start_time": "2020-02-21T03:55:01.529494Z"
    },
    "code_folding": [
     0
    ],
    "scrolled": true,
    "slideshow": {
     "slide_type": "slide"
    }
   },
   "outputs": [
    {
     "name": "stdout",
     "output_type": "stream",
     "text": [
      "100개 이상 팔린 제품은 4693 가지 입니다.\n",
      "100개 이상 팔린 제품수의 총합은 2784804 개 입니다.\n",
      "장바구니에 1번째로 선택된 제품의 총합은 3346083 개 입니다.\n",
      "100개 이상 팔린 제품은 장바구니에 1번째로 선택된 제품 총합의 83.23 % 입니다\n"
     ]
    }
   ],
   "source": [
    "# 100개 이상 팔린 제품의 reorder_rate\n",
    "n = 100\n",
    "print(f'{n}개 이상 팔린 제품은', numofproduct(n)['total'].count(), '가지 입니다.')\n",
    "print(f'{n}개 이상 팔린 제품수의 총합은', numofproduct(n)['total'].sum(), '개 입니다.')\n",
    "print('장바구니에 1번째로 선택된 제품의 총합은', table_cart_product['total'].sum(), '개 입니다.')\n",
    "print(f'{n}개 이상 팔린 제품은 장바구니에 1번째로 선택된 제품 총합의', round(numofproduct(n)[\n",
    "      'total'].sum() / table_cart_product['total'].sum() * 100, 2), '% 입니다')"
   ]
  },
  {
   "cell_type": "code",
   "execution_count": 41,
   "metadata": {
    "ExecuteTime": {
     "end_time": "2020-02-21T03:55:01.557828Z",
     "start_time": "2020-02-21T03:55:01.546918Z"
    },
    "code_folding": [
     0
    ],
    "scrolled": true,
    "slideshow": {
     "slide_type": "-"
    }
   },
   "outputs": [
    {
     "name": "stdout",
     "output_type": "stream",
     "text": [
      "1000개 이상 팔린 제품은 484 가지 입니다.\n",
      "1000개 이상 팔린 제품은 1611806 개 입니다.\n",
      "장바구니에 1번째로 선택된 제품의 총합은 3346083 개 입니다.\n",
      "1000개 이상 팔린 제품은 장바구니에 1번째로 선택된 제품 총합의 48.17 % 입니다\n"
     ]
    }
   ],
   "source": [
    "# 1000개 이상 팔린 제품의 reorder_rate\n",
    "n = 1000\n",
    "print(f'{n}개 이상 팔린 제품은', numofproduct(n)['total'].count(), '가지 입니다.')\n",
    "print(f'{n}개 이상 팔린 제품은', numofproduct(n)['total'].sum(), '개 입니다.')\n",
    "print('장바구니에 1번째로 선택된 제품의 총합은', table_cart_product['total'].sum(), '개 입니다.')\n",
    "print(f'{n}개 이상 팔린 제품은 장바구니에 1번째로 선택된 제품 총합의', round(numofproduct(n)[\n",
    "      'total'].sum() / table_cart_product['total'].sum() * 100, 2), '% 입니다')"
   ]
  },
  {
   "cell_type": "code",
   "execution_count": 42,
   "metadata": {
    "ExecuteTime": {
     "end_time": "2020-02-21T03:55:01.576163Z",
     "start_time": "2020-02-21T03:55:01.559914Z"
    },
    "code_folding": [
     0
    ],
    "scrolled": true,
    "slideshow": {
     "slide_type": "-"
    }
   },
   "outputs": [
    {
     "name": "stdout",
     "output_type": "stream",
     "text": [
      "10000개 이상 팔린 제품은 16 가지 입니다.\n",
      "10000개 이상 팔린 제품은 454642 개 입니다.\n",
      "장바구니에 1번째로 선택된 제품의 총합은 3346083 개 입니다.\n",
      "10000개 이상 팔린 제품은 장바구니에 1번째로 선택된 제품 총합의 13.59 % 입니다\n"
     ]
    }
   ],
   "source": [
    "# 10000개 이상 팔린 제품의 reorder_rate\n",
    "n = 10000\n",
    "print(f'{n}개 이상 팔린 제품은', numofproduct(n)['total'].count(), '가지 입니다.')\n",
    "print(f'{n}개 이상 팔린 제품은', numofproduct(n)['total'].sum(), '개 입니다.')\n",
    "print('장바구니에 1번째로 선택된 제품의 총합은', table_cart_product['total'].sum(), '개 입니다.')\n",
    "print(f'{n}개 이상 팔린 제품은 장바구니에 1번째로 선택된 제품 총합의', round(numofproduct(n)[\n",
    "      'total'].sum() / table_cart_product['total'].sum() * 100, 2), '% 입니다')"
   ]
  },
  {
   "cell_type": "code",
   "execution_count": 43,
   "metadata": {
    "ExecuteTime": {
     "end_time": "2020-02-21T03:55:01.591115Z",
     "start_time": "2020-02-21T03:55:01.578178Z"
    },
    "scrolled": true,
    "slideshow": {
     "slide_type": "slide"
    }
   },
   "outputs": [
    {
     "data": {
      "text/html": [
       "<div>\n",
       "<style scoped>\n",
       "    .dataframe tbody tr th:only-of-type {\n",
       "        vertical-align: middle;\n",
       "    }\n",
       "\n",
       "    .dataframe tbody tr th {\n",
       "        vertical-align: top;\n",
       "    }\n",
       "\n",
       "    .dataframe thead th {\n",
       "        text-align: right;\n",
       "    }\n",
       "</style>\n",
       "<table border=\"1\" class=\"dataframe\">\n",
       "  <thead>\n",
       "    <tr style=\"text-align: right;\">\n",
       "      <th></th>\n",
       "      <th>product_id</th>\n",
       "      <th>product_name</th>\n",
       "      <th>first_order</th>\n",
       "      <th>reorder</th>\n",
       "      <th>total</th>\n",
       "      <th>reorder_rate</th>\n",
       "    </tr>\n",
       "  </thead>\n",
       "  <tbody>\n",
       "    <tr>\n",
       "      <td>8491</td>\n",
       "      <td>10031</td>\n",
       "      <td>Homestyle Orange Juice</td>\n",
       "      <td>7</td>\n",
       "      <td>140</td>\n",
       "      <td>147</td>\n",
       "      <td>95.238095</td>\n",
       "    </tr>\n",
       "    <tr>\n",
       "      <td>14515</td>\n",
       "      <td>17163</td>\n",
       "      <td>Vitamin A &amp; D Fat Free Milk</td>\n",
       "      <td>9</td>\n",
       "      <td>111</td>\n",
       "      <td>120</td>\n",
       "      <td>92.500000</td>\n",
       "    </tr>\n",
       "    <tr>\n",
       "      <td>2733</td>\n",
       "      <td>3248</td>\n",
       "      <td>Breakfast Burrito With Potatoes Jack &amp; Cheddar...</td>\n",
       "      <td>9</td>\n",
       "      <td>109</td>\n",
       "      <td>118</td>\n",
       "      <td>92.372881</td>\n",
       "    </tr>\n",
       "  </tbody>\n",
       "</table>\n",
       "</div>"
      ],
      "text/plain": [
       "       product_id                                       product_name  \\\n",
       "8491        10031                             Homestyle Orange Juice   \n",
       "14515       17163                        Vitamin A & D Fat Free Milk   \n",
       "2733         3248  Breakfast Burrito With Potatoes Jack & Cheddar...   \n",
       "\n",
       "       first_order  reorder  total  reorder_rate  \n",
       "8491             7      140    147     95.238095  \n",
       "14515            9      111    120     92.500000  \n",
       "2733             9      109    118     92.372881  "
      ]
     },
     "execution_count": 43,
     "metadata": {},
     "output_type": "execute_result"
    }
   ],
   "source": [
    "numofproduct(100).head(3)"
   ]
  },
  {
   "cell_type": "code",
   "execution_count": 44,
   "metadata": {
    "ExecuteTime": {
     "end_time": "2020-02-21T03:55:01.604871Z",
     "start_time": "2020-02-21T03:55:01.593674Z"
    },
    "slideshow": {
     "slide_type": "-"
    }
   },
   "outputs": [
    {
     "data": {
      "text/html": [
       "<div>\n",
       "<style scoped>\n",
       "    .dataframe tbody tr th:only-of-type {\n",
       "        vertical-align: middle;\n",
       "    }\n",
       "\n",
       "    .dataframe tbody tr th {\n",
       "        vertical-align: top;\n",
       "    }\n",
       "\n",
       "    .dataframe thead th {\n",
       "        text-align: right;\n",
       "    }\n",
       "</style>\n",
       "<table border=\"1\" class=\"dataframe\">\n",
       "  <thead>\n",
       "    <tr style=\"text-align: right;\">\n",
       "      <th></th>\n",
       "      <th>product_id</th>\n",
       "      <th>product_name</th>\n",
       "      <th>first_order</th>\n",
       "      <th>reorder</th>\n",
       "      <th>total</th>\n",
       "      <th>reorder_rate</th>\n",
       "    </tr>\n",
       "  </thead>\n",
       "  <tbody>\n",
       "    <tr>\n",
       "      <td>38633</td>\n",
       "      <td>45504</td>\n",
       "      <td>Whole Organic Omega 3 Milk</td>\n",
       "      <td>221</td>\n",
       "      <td>2137</td>\n",
       "      <td>2358</td>\n",
       "      <td>90.627651</td>\n",
       "    </tr>\n",
       "    <tr>\n",
       "      <td>4679</td>\n",
       "      <td>5514</td>\n",
       "      <td>Organic Homogenized Whole Milk</td>\n",
       "      <td>121</td>\n",
       "      <td>1037</td>\n",
       "      <td>1158</td>\n",
       "      <td>89.550950</td>\n",
       "    </tr>\n",
       "    <tr>\n",
       "      <td>4650</td>\n",
       "      <td>5479</td>\n",
       "      <td>Italian Sparkling Mineral Water</td>\n",
       "      <td>745</td>\n",
       "      <td>6214</td>\n",
       "      <td>6959</td>\n",
       "      <td>89.294439</td>\n",
       "    </tr>\n",
       "  </tbody>\n",
       "</table>\n",
       "</div>"
      ],
      "text/plain": [
       "       product_id                     product_name  first_order  reorder  \\\n",
       "38633       45504       Whole Organic Omega 3 Milk          221     2137   \n",
       "4679         5514   Organic Homogenized Whole Milk          121     1037   \n",
       "4650         5479  Italian Sparkling Mineral Water          745     6214   \n",
       "\n",
       "       total  reorder_rate  \n",
       "38633   2358     90.627651  \n",
       "4679    1158     89.550950  \n",
       "4650    6959     89.294439  "
      ]
     },
     "execution_count": 44,
     "metadata": {},
     "output_type": "execute_result"
    }
   ],
   "source": [
    "numofproduct(1000).head(3)"
   ]
  },
  {
   "cell_type": "code",
   "execution_count": 45,
   "metadata": {
    "ExecuteTime": {
     "end_time": "2020-02-21T03:55:01.619445Z",
     "start_time": "2020-02-21T03:55:01.607117Z"
    },
    "slideshow": {
     "slide_type": "-"
    }
   },
   "outputs": [
    {
     "data": {
      "text/html": [
       "<div>\n",
       "<style scoped>\n",
       "    .dataframe tbody tr th:only-of-type {\n",
       "        vertical-align: middle;\n",
       "    }\n",
       "\n",
       "    .dataframe tbody tr th {\n",
       "        vertical-align: top;\n",
       "    }\n",
       "\n",
       "    .dataframe thead th {\n",
       "        text-align: right;\n",
       "    }\n",
       "</style>\n",
       "<table border=\"1\" class=\"dataframe\">\n",
       "  <thead>\n",
       "    <tr style=\"text-align: right;\">\n",
       "      <th></th>\n",
       "      <th>product_id</th>\n",
       "      <th>product_name</th>\n",
       "      <th>first_order</th>\n",
       "      <th>reorder</th>\n",
       "      <th>total</th>\n",
       "      <th>reorder_rate</th>\n",
       "    </tr>\n",
       "  </thead>\n",
       "  <tbody>\n",
       "    <tr>\n",
       "      <td>21084</td>\n",
       "      <td>24852</td>\n",
       "      <td>Banana</td>\n",
       "      <td>13252</td>\n",
       "      <td>102269</td>\n",
       "      <td>115521</td>\n",
       "      <td>88.528493</td>\n",
       "    </tr>\n",
       "    <tr>\n",
       "      <td>32824</td>\n",
       "      <td>38689</td>\n",
       "      <td>Organic Reduced Fat Milk</td>\n",
       "      <td>1180</td>\n",
       "      <td>9062</td>\n",
       "      <td>10242</td>\n",
       "      <td>88.478813</td>\n",
       "    </tr>\n",
       "    <tr>\n",
       "      <td>11142</td>\n",
       "      <td>13176</td>\n",
       "      <td>Bag of Organic Bananas</td>\n",
       "      <td>10226</td>\n",
       "      <td>72651</td>\n",
       "      <td>82877</td>\n",
       "      <td>87.661233</td>\n",
       "    </tr>\n",
       "  </tbody>\n",
       "</table>\n",
       "</div>"
      ],
      "text/plain": [
       "       product_id              product_name  first_order  reorder   total  \\\n",
       "21084       24852                    Banana        13252   102269  115521   \n",
       "32824       38689  Organic Reduced Fat Milk         1180     9062   10242   \n",
       "11142       13176    Bag of Organic Bananas        10226    72651   82877   \n",
       "\n",
       "       reorder_rate  \n",
       "21084     88.528493  \n",
       "32824     88.478813  \n",
       "11142     87.661233  "
      ]
     },
     "execution_count": 45,
     "metadata": {},
     "output_type": "execute_result"
    }
   ],
   "source": [
    "numofproduct(10000).head(3)"
   ]
  },
  {
   "cell_type": "markdown",
   "metadata": {
    "ExecuteTime": {
     "end_time": "2020-02-21T00:56:45.718029Z",
     "start_time": "2020-02-21T00:56:45.715931Z"
    },
    "slideshow": {
     "slide_type": "slide"
    }
   },
   "source": [
    "## 가설 3 결론 : 장바구니에 첫번째로 들어간 제품은 재구매 한 재품일 확률이 높다."
   ]
  },
  {
   "cell_type": "markdown",
   "metadata": {
    "slideshow": {
     "slide_type": "slide"
    }
   },
   "source": [
    "## 가설 1 결론\n",
    "- ### 요일, 시간별 구매횟수와 재구매 횟수는 비슷한 분포를 보인다.\n",
    "\n",
    "## 가설 2 결론\n",
    "- ### 양의 상관계를 보이는것으로 보아, 주문량이 증가하면 재구매율도 같이 높다. \n",
    "\n",
    "## 가설 3 결론\n",
    "- ### 장바구니에 첫번째로 들어간 제품은 재구매 한 재품일 확률이 높다."
   ]
  },
  {
   "cell_type": "markdown",
   "metadata": {
    "ExecuteTime": {
     "end_time": "2020-02-21T02:32:23.563246Z",
     "start_time": "2020-02-21T02:32:23.561243Z"
    },
    "slideshow": {
     "slide_type": "slide"
    }
   },
   "source": [
    "# 그래서 이용자들은 어떤 물건을 재구매할 확률이 높은 걸까?\n"
   ]
  },
  {
   "cell_type": "markdown",
   "metadata": {
    "slideshow": {
     "slide_type": "slide"
    }
   },
   "source": [
    "### 재구매율은 시간 및 요일보다, 제품의 주문량이 높고, 장바구니에 첫번째로 들어간 제품일수록 높아진다."
   ]
  },
  {
   "cell_type": "markdown",
   "metadata": {
    "slideshow": {
     "slide_type": "slide"
    }
   },
   "source": [
    "## So what?\n",
    "> **사업이 발전하려면, 재구매율을 높여야 한다.**\n",
    "\n",
    "> **이를 위해, 주문량이 높고, 장바구니에 처음들어간 제품을 우선으로 프로모션하고,\n",
    "유사한 제품을 취급하는 채널들과의 연계를 발전시켜야 한다.**"
   ]
  },
  {
   "cell_type": "markdown",
   "metadata": {
    "slideshow": {
     "slide_type": "slide"
    }
   },
   "source": [
    "# 그리고...\n",
    "\n",
    "- #### 처음 구매한 주문이 약 40%를 차지 한다는건, 취급하는 상점이 증가되거나, 신규유저가 지속적으로 유입되서 새로운 주문이 증가했다고 볼수 있다.\n",
    "- #### 즉 이 데이터셋이 수집된 기간 동안 사업이 지속적으로 성장했다고도 볼수 있다.\n"
   ]
  },
  {
   "cell_type": "code",
   "execution_count": 24,
   "metadata": {
    "ExecuteTime": {
     "end_time": "2020-02-21T03:49:00.339231Z",
     "start_time": "2020-02-21T03:49:00.314794Z"
    },
    "scrolled": true,
    "slideshow": {
     "slide_type": "-"
    }
   },
   "outputs": [
    {
     "data": {
      "text/plain": [
       "0.4099382757190566"
      ]
     },
     "execution_count": 24,
     "metadata": {},
     "output_type": "execute_result"
    }
   ],
   "source": [
    "# 처음 구매한 비율\n",
    "1 - (raw_data[\"reordered\"].sum() / len(raw_data[\"reordered\"]))"
   ]
  },
  {
   "cell_type": "markdown",
   "metadata": {
    "ExecuteTime": {
     "end_time": "2020-02-21T03:57:25.626419Z",
     "start_time": "2020-02-21T03:57:25.623157Z"
    },
    "slideshow": {
     "slide_type": "slide"
    }
   },
   "source": [
    "# 아쉬운점\n",
    "\n",
    "- #### 예측 모델을 만들어 봤으면..\n",
    "- #### barplot 같은 좀더 직관적인 그래프 였으면..\n",
    "- #### 날짜 데이터가 있었다면.."
   ]
  }
 ],
 "metadata": {
  "celltoolbar": "Slideshow",
  "kernelspec": {
   "display_name": "Python 3",
   "language": "python",
   "name": "python3"
  },
  "language_info": {
   "codemirror_mode": {
    "name": "ipython",
    "version": 3
   },
   "file_extension": ".py",
   "mimetype": "text/x-python",
   "name": "python",
   "nbconvert_exporter": "python",
   "pygments_lexer": "ipython3",
   "version": "3.7.4"
  }
 },
 "nbformat": 4,
 "nbformat_minor": 2
}
