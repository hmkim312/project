{
 "cells": [
  {
   "cell_type": "markdown",
   "id": "5760a306-69f8-4b8e-adca-323e179c4bbd",
   "metadata": {},
   "source": [
    "## 뽐뿌 특가 게시물 크롤링\n",
    "- https://www.ppomppu.co.kr/robots.txt 확인 결과 zboard는 Allow이며, 그중 뽐뿌 게시판은 disallow가 없으므로 맘편히 크롤링함\n",
    "- 인기, 핫 게시물은 1달이 지나면 뽐뿌 게시판에 마크가 사라짐\n",
    "    - 인기 게시판에서 인기/핫 여부를 크롤링하여 두 데이터를 merge 해주어야함\n",
    "- 크롤링 기준 2019년 1월 1일 ~ 2023년 6월 29일 약 3년 6개월 데이터"
   ]
  },
  {
   "cell_type": "code",
   "execution_count": 75,
   "id": "03e57e03-a334-4e5b-971f-743249822840",
   "metadata": {
    "execution": {
     "iopub.execute_input": "2023-06-30T13:03:32.230969Z",
     "iopub.status.busy": "2023-06-30T13:03:32.230499Z",
     "iopub.status.idle": "2023-06-30T13:03:32.234411Z",
     "shell.execute_reply": "2023-06-30T13:03:32.234050Z",
     "shell.execute_reply.started": "2023-06-30T13:03:32.230944Z"
    },
    "tags": []
   },
   "outputs": [],
   "source": [
    "# 패키지 import\n",
    "import requests\n",
    "import pandas as pd\n",
    "import bs4\n",
    "import time\n",
    "\n",
    "from datetime import datetime\n",
    "from bs4 import BeautifulSoup\n",
    "from tqdm import notebook, tqdm_notebook\n",
    "\n",
    "import tqdm"
   ]
  },
  {
   "cell_type": "code",
   "execution_count": 76,
   "id": "c75e21ed-45ea-4460-a52f-5ee3adf9dee0",
   "metadata": {
    "execution": {
     "iopub.execute_input": "2023-06-30T13:03:43.744826Z",
     "iopub.status.busy": "2023-06-30T13:03:43.744204Z",
     "iopub.status.idle": "2023-06-30T13:03:43.756555Z",
     "shell.execute_reply": "2023-06-30T13:03:43.755690Z",
     "shell.execute_reply.started": "2023-06-30T13:03:43.744786Z"
    },
    "tags": []
   },
   "outputs": [],
   "source": [
    "def get_datas(items):\n",
    "    \"\"\" 뽐뿌 게시판 크롤링 함수\n",
    "    뽐뿌 사이트 내 뽐뿌 게시판에 작성된 특가 게시글 크롤링\n",
    "    Args:\n",
    "        items - BS4를 사용한 HTML 파서 데이터. 뽐뿌 게시판 1페이지의 게시글 정보가 담긴 데이터\n",
    "    Returns:\n",
    "        DataFrame : 아래의 컬럼 정보를 가진 DataFrame을 Return\n",
    "            - item_no : 게시글 번호\n",
    "            - writet : 작성자\n",
    "            - title : 게시글 제목\n",
    "            - end : 게시글 종료 여부\n",
    "            - comment : 게시글에 달린 댓글 수\n",
    "            - date : 게시글 등록일\n",
    "            - recommend : 추천수\n",
    "            - opposite : 반대수\n",
    "            - view : 조회수\n",
    "            - category : 게시글의 카테고리 e.g) 디지털\n",
    "            - ULR : 게시글 접속 URL\n",
    "    \"\"\"\n",
    "    data = {\n",
    "        \"item_no\": [],\n",
    "        \"writer\": [],\n",
    "        \"title\": [],\n",
    "        \"end\": [],\n",
    "        \"comment\": [],\n",
    "        \"date\": [],\n",
    "        \"recommend\": [],\n",
    "        \"opposite\": [],\n",
    "        \"view\": [],\n",
    "        \"category\": [],\n",
    "        \"URL\": [],\n",
    "    }\n",
    "\n",
    "    for item in items:\n",
    "        item_no = item.find(\"td\", \"eng list_vspace\").text.strip()\n",
    "        data[\"item_no\"].append(item_no)\n",
    "\n",
    "        writer = item.find(\"span\", \"list_name\")\n",
    "        data[\"writer\"].append(writer.text if writer else \"Image_name\")\n",
    "\n",
    "        title = item.find(\"font\")\n",
    "        data[\"title\"].append(title.text if title else \"해당글은 게시중단요청에 의해 블라인드 처리된 글입니다.\")\n",
    "\n",
    "        data[\"end\"].append(bool(item.find(\"img\", {\"src\": \"/zboard/skin/DQ_Revolution_BBS_New1/end_icon.PNG\"})))\n",
    "\n",
    "        comment = item.find(\"span\", \"list_comment2\")\n",
    "        data[\"comment\"].append(comment.text.strip() if comment else 0)\n",
    "\n",
    "        data[\"date\"].append(item.find_all(\"td\", \"eng list_vspace\")[1][\"title\"])\n",
    "\n",
    "        rec_opp = item.find_all(\"td\", \"eng list_vspace\")[2].text.split('-')\n",
    "        data[\"recommend\"].append(rec_opp[0] if len(rec_opp) > 1 else 0)\n",
    "        data[\"opposite\"].append(rec_opp[1] if len(rec_opp) > 1 else 0)\n",
    "\n",
    "        data[\"view\"].append(item.find_all(\"td\", \"eng list_vspace\")[3].text)\n",
    "\n",
    "        cat = item.find(\"span\", {\"style\": \"color:#999;font-size:11px;\"})\n",
    "        data[\"category\"].append(cat.text if cat else \"\")\n",
    "\n",
    "        data[\"URL\"].append(f\"https://www.ppomppu.co.kr/zboard/view.php?id=ppomppu&no={item_no}\")\n",
    "\n",
    "    return pd.DataFrame(data)"
   ]
  },
  {
   "cell_type": "code",
   "execution_count": 78,
   "id": "d7a3afa5-d845-47fd-bf73-8604a5d2239b",
   "metadata": {
    "execution": {
     "iopub.execute_input": "2023-06-30T13:04:15.394740Z",
     "iopub.status.busy": "2023-06-30T13:04:15.394368Z",
     "iopub.status.idle": "2023-06-30T13:04:15.400946Z",
     "shell.execute_reply": "2023-06-30T13:04:15.400043Z",
     "shell.execute_reply.started": "2023-06-30T13:04:15.394718Z"
    }
   },
   "outputs": [],
   "source": [
    "def get_pop_post(items):\n",
    "    \"\"\" 인기 게시판 크롤링 함수\n",
    "    뽐뿌 사이트 내 뽐뿌 게시판에 작성된 특가 게시글 중 인기/Hot 게시물 크롤링\n",
    "    Args:\n",
    "        items - BS4를 사용한 HTML 파서 데이터. 뽐뿌 핫 게시판 1페이지의 게시글 정보가 담긴 데이터\n",
    "    Returns:\n",
    "        DataFrame : 아래의 컬럼 정보를 가진 DataFrame을 Return\n",
    "            - item_no : 게시글 번호\n",
    "            - pop : 인기 게시글 여부\n",
    "            - hot : 핫 게시글 여부\n",
    "    \"\"\"\n",
    "    data = {\n",
    "        \"item_no\": [],\n",
    "        \"pop\": [],\n",
    "        \"hot\": [],\n",
    "    }\n",
    "\n",
    "    for item in items:\n",
    "        item_no = item.find(\"td\", \"eng list_vspace\").text.strip()\n",
    "        data[\"item_no\"].append(item_no)\n",
    "\n",
    "\n",
    "        data[\"pop\"].append(bool(item.find(\"img\", {\"src\": \"/images/menu/pop_icon2.jpg\"})))\n",
    "        data[\"hot\"].append(bool(item.find(\"img\", {\"src\": \"/images/menu/hot_icon2.jpg\"})))\n",
    "\n",
    "    return pd.DataFrame(data)"
   ]
  },
  {
   "cell_type": "code",
   "execution_count": 77,
   "id": "3ecc7556-badd-4e36-af5b-d013ac234392",
   "metadata": {
    "execution": {
     "iopub.execute_input": "2023-06-30T13:03:50.797236Z",
     "iopub.status.busy": "2023-06-30T13:03:50.796871Z",
     "iopub.status.idle": "2023-06-30T13:03:50.801368Z",
     "shell.execute_reply": "2023-06-30T13:03:50.800386Z",
     "shell.execute_reply.started": "2023-06-30T13:03:50.797211Z"
    },
    "tags": []
   },
   "outputs": [],
   "source": [
    "# 특가 게시물 크롤링\n",
    "# 파라미터\n",
    "end_page = 5900\n",
    "base_url = \"https://www.ppomppu.co.kr/zboard/zboard.php?id=ppomppu&page={}\"\n",
    "temp_list = []\n",
    "\n",
    "# 시작 시간 체크\n",
    "start_time = time.time()\n",
    "\n",
    "# Crawling\n",
    "for page in tqdm.tqdm(range(2, end_page)):\n",
    "    response = requests.get(base_url.format(page))\n",
    "    \n",
    "    if response.status_code == 200:\n",
    "        html = BeautifulSoup(response.text, 'html.parser')\n",
    "        items = html.find_all(\"tr\", [\"common-list0\", \"common-list1\"])\n",
    "        temp_df = get_datas(items)\n",
    "        temp_list.append(temp_df)\n",
    "        time.sleep(0.1)\n",
    "\n",
    "# 최종 데이터 프레임 저장\n",
    "df = pd.concat(temp_list).reset_index(drop=True)\n",
    "\n",
    "# 소요시간 체크\n",
    "elapsed_time = time.time() - start_time\n",
    "print(f\"Crawling took {round(elapsed_time, 2)} seconds\")"
   ]
  },
  {
   "cell_type": "code",
   "execution_count": 79,
   "id": "64481343-3d2f-4a18-bf5f-7c577e661bbb",
   "metadata": {
    "execution": {
     "iopub.execute_input": "2023-06-30T13:06:28.113245Z",
     "iopub.status.busy": "2023-06-30T13:06:28.112074Z",
     "iopub.status.idle": "2023-06-30T13:24:03.571125Z",
     "shell.execute_reply": "2023-06-30T13:24:03.570366Z",
     "shell.execute_reply.started": "2023-06-30T13:06:28.113183Z"
    },
    "tags": []
   },
   "outputs": [
    {
     "name": "stderr",
     "output_type": "stream",
     "text": [
      "100%|████████████████████████████████████████████████████████████████████████████| 1598/1598 [17:35<00:00,  1.51it/s]"
     ]
    },
    {
     "name": "stdout",
     "output_type": "stream",
     "text": [
      "Crawling took 1055.45 seconds\n"
     ]
    },
    {
     "name": "stderr",
     "output_type": "stream",
     "text": [
      "\n"
     ]
    }
   ],
   "source": [
    "# 인기/핫 게시물 크롤링\n",
    "# 파라미터\n",
    "end_page = 1600\n",
    "hot_url = \"https://www.ppomppu.co.kr/zboard/zboard.php?id=ppomppu&page={}&hotlist_flag=999\"\n",
    "temp_list = []\n",
    "\n",
    "# 시작 시간 체크\n",
    "start_time = time.time()\n",
    "\n",
    "# Crawling\n",
    "for page in tqdm.tqdm(range(2, end_page)):\n",
    "    response = requests.get(hot_url.format(page))\n",
    "    \n",
    "    if response.status_code == 200:\n",
    "        html = BeautifulSoup(response.text, 'html.parser')\n",
    "        items = html.find_all(\"tr\", [\"common-list0\", \"common-list1\"])\n",
    "        temp_df = get_pop_post(items)\n",
    "        temp_list.append(temp_df)\n",
    "        # time.sleep(0.1)\n",
    "\n",
    "# 최종 데이터 프레임 저장\n",
    "hot_df = pd.concat(temp_list).reset_index(drop=True)\n",
    "\n",
    "# 소요시간 체크\n",
    "elapsed_time = time.time() - start_time\n",
    "print(f\"Crawling took {round(elapsed_time, 2)} seconds\")"
   ]
  },
  {
   "cell_type": "code",
   "execution_count": null,
   "id": "a9c5011d-20c2-400c-a51b-c70025af18d4",
   "metadata": {},
   "outputs": [],
   "source": [
    "df = df.merge(hot_df, how=\"left\").fillna(False)"
   ]
  },
  {
   "cell_type": "code",
   "execution_count": 100,
   "id": "ce859a13-828a-4e66-ba4f-8207492b193f",
   "metadata": {
    "execution": {
     "iopub.execute_input": "2023-06-30T13:27:20.662539Z",
     "iopub.status.busy": "2023-06-30T13:27:20.661137Z",
     "iopub.status.idle": "2023-06-30T13:27:21.121980Z",
     "shell.execute_reply": "2023-06-30T13:27:21.121623Z",
     "shell.execute_reply.started": "2023-06-30T13:27:20.662474Z"
    },
    "tags": []
   },
   "outputs": [],
   "source": [
    "# 데이터 csv 저장\n",
    "now = str(datetime.now())\n",
    "df.to_csv(f\"./datas/{now}_{len(df)}개.csv\", index=False)"
   ]
  },
  {
   "cell_type": "code",
   "execution_count": null,
   "id": "f807fc9d-93fd-4c76-bcdb-6e9712654df8",
   "metadata": {},
   "outputs": [],
   "source": []
  }
 ],
 "metadata": {
  "kernelspec": {
   "display_name": "Python [conda env:EDAProject]",
   "language": "python",
   "name": "conda-env-EDAProject-py"
  },
  "language_info": {
   "codemirror_mode": {
    "name": "ipython",
    "version": 3
   },
   "file_extension": ".py",
   "mimetype": "text/x-python",
   "name": "python",
   "nbconvert_exporter": "python",
   "pygments_lexer": "ipython3",
   "version": "3.11.4"
  }
 },
 "nbformat": 4,
 "nbformat_minor": 5
}
