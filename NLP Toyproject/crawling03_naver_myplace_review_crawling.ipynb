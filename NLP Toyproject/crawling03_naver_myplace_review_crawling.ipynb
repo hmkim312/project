{
 "cells": [
  {
   "cell_type": "markdown",
   "metadata": {},
   "source": [
    "## 네이버 myplace 리뷰 크롤링"
   ]
  },
  {
   "cell_type": "code",
   "execution_count": 1,
   "metadata": {},
   "outputs": [],
   "source": [
    "from bs4 import BeautifulSoup\n",
    "import requests\n",
    "from selenium import webdriver\n",
    "from selenium.webdriver.common.keys import Keys\n",
    "from selenium.webdriver.common.alert import Alert\n",
    "import time\n",
    "import random\n",
    "import re"
   ]
  },
  {
   "cell_type": "markdown",
   "metadata": {},
   "source": [
    "## 실행"
   ]
  },
  {
   "cell_type": "code",
   "execution_count": 2,
   "metadata": {},
   "outputs": [],
   "source": [
    "# 전버전 백업\n",
    "# def naver_myplace(url, main_num):\n",
    "#     driver = webdriver.Chrome('./driver/chromedriver.exe')\n",
    "#     driver.get(url)\n",
    "    \n",
    "#     # 메인페이지에서 설정한 숫자만큼 아래로 스크롤링(음식점 로딩)\n",
    "#     for i in range(main_num):\n",
    "#         driver.execute_script(\n",
    "#             \"window.scrollTo(0, document.body.scrollHeight);\")\n",
    "#         time.sleep(0.5)\n",
    "#     driver.execute_script(\"window.scrollTo(0, 0);\")\n",
    "    \n",
    "#     # 메인페이지의 정보 취득\n",
    "#     time.sleep(0.5)\n",
    "#     all_link = driver.find_elements_by_xpath(\n",
    "#         '/html/body/div[3]/div[4]/div/div/div[1]/button/div')\n",
    "#     all_name = driver.find_elements_by_xpath(\n",
    "#         '/html/body/div[3]/div[4]/div/div/div[1]/button/div/div[2]')\n",
    "#     all_loca = driver.find_elements_by_xpath(\n",
    "#         '/html/body/div[3]/div[4]/div/div/div[1]/button/div/div[1]/div[1]')\n",
    "    \n",
    "#     # 프레임으로 내용 빈리스트 생성\n",
    "#     names = []\n",
    "#     locas = []\n",
    "#     points = []\n",
    "#     reviews = []\n",
    "#     writers = []\n",
    "    \n",
    "#     # 크롤링 시작\n",
    "#     # 메인페이지의 음식점 리스트에서\n",
    "#     for i in range(len(all_link)):\n",
    "#         time.sleep(0.5)\n",
    "#         # 이름 지역 링크를 가지고옴\n",
    "#         i = i+1\n",
    "#         print(i,'of', len(all_link))\n",
    "#         name = driver.find_element_by_xpath(\n",
    "#             f'/html/body/div[3]/div[4]/div/div/div[1]/button[{i}]/div/div[2]').text\n",
    "#         loca = driver.find_element_by_xpath(\n",
    "#             f'/html/body/div[3]/div[4]/div/div/div[1]/button[{i}]/div/div[1]/div[1]').text\n",
    "#         link = driver.find_element_by_xpath(\n",
    "#             f'/html/body/div[3]/div[4]/div/div/div[1]/button[{i}]/div')\n",
    "#         # 링크에 들어가서\n",
    "#         link.click()\n",
    "\n",
    "#         # 리뷰가 모두 보이게 하단으로 스크롤링\n",
    "#         last_height = driver.execute_script(\n",
    "#             \"return document.body.scrollHeight\")\n",
    "\n",
    "#         while True:\n",
    "#             driver.execute_script(\n",
    "#                 \"window.scrollTo(0, document.body.scrollHeight);\")\n",
    "#             time.sleep(2)\n",
    "#             new_height = driver.execute_script(\n",
    "#                 \"return document.body.scrollHeight\")\n",
    "#             if new_height == last_height:\n",
    "#                 break\n",
    "#             last_height = new_height\n",
    "#         time.sleep(1)\n",
    "\n",
    "#         # 별점 가져오기\n",
    "#         point = driver.find_element_by_xpath(\n",
    "#             '/html/body/div[3]/div/div[1]/div[1]/div[2]/div/span[2]').text.replace('별점', '')\n",
    "#         points.append(point)\n",
    "#         names.append(name)\n",
    "#         locas.append(loca)\n",
    "\n",
    "#         # 그외 다른 별점\n",
    "#         other_points = driver.find_elements_by_xpath(\n",
    "#             '/html/body/div[3]/div/div[3]/div/ul/div/li/div[1]/div[2]/div/span[2]')\n",
    "#         for i in range(len(other_points)):\n",
    "#             other_point = other_points[i].text.replace('별점', '')\n",
    "#             points.append(other_point)\n",
    "#             names.append(name)\n",
    "#             locas.append(loca)\n",
    "\n",
    "#         # 리뷰 가져오기\n",
    "#         # 더보기 클릭\n",
    "#         time.sleep(0.5)\n",
    "#         driver.execute_script(\"window.scrollTo(0, 0);\")\n",
    "#         more = driver.find_elements_by_xpath(\n",
    "#             '/html/body/div[3]/div/div[3]/div/ul/div/li/div/button/div/div/span/span/span[2]')\n",
    "#         for i in range(len(more)):\n",
    "#             more[i].click()\n",
    "#             driver.execute_script(\"window.scrollTo(0, 0);\")\n",
    "#             time.sleep(0.5)\n",
    "\n",
    "#         # 맨위의 메인 리뷰 및 작성자 가져오기\n",
    "#         main_review = driver.find_element_by_xpath(\n",
    "#             '/html/body/div[3]/div/div[1]/div[1]/div[3]').text\n",
    "#         main_review = re.sub('[^ ㄱ-ㅣ가-힣A-Za-z0-9]+', '', str(main_review))\n",
    "#         reviews.append(main_review)\n",
    "#         main_writer = driver.find_element_by_xpath(\n",
    "#             '/html/body/div[3]/div/div[1]/div[1]/div[1]/a/div[2]/div[1]').text\n",
    "#         writers.append(main_writer)\n",
    "\n",
    "#         other_writers = driver.find_elements_by_xpath(\n",
    "#             '/html/body/div[3]/div/div[3]/div/ul/div/li/div[1]/div[1]/a/div[2]/div[1]')\n",
    "#         other_reviews = driver.find_elements_by_xpath(\n",
    "#             '/html/body/div[3]/div/div[3]/div/ul/div/li/div[1]')\n",
    "#         for i in range(len(other_reviews)):\n",
    "#             other_review = other_reviews[i].text.splitlines()\n",
    "#             other_writer = other_writers[i].text\n",
    "#             if len(other_review) == 6:\n",
    "#                 try:\n",
    "#                     int(other_review[5])\n",
    "#                     reviews.append('')\n",
    "#                 except:\n",
    "#                     other_review_test = other_review[5:]\n",
    "#                     other_review_test = re.sub(\n",
    "#                 '[^ ㄱ-ㅣ가-힣A-Za-z0-9]+', '', str(other_review_test))\n",
    "#                     reviews.append(other_review_test)\n",
    "\n",
    "#             elif len(other_review) <= 5:\n",
    "#                 other_review = other_review[5:]\n",
    "#                 other_review = re.sub(\n",
    "#                     '[^ ㄱ-ㅣ가-힣A-Za-z0-9]+', '', str(other_review))\n",
    "#                 reviews.append(other_review)\n",
    "\n",
    "#             elif len(other_review) > 6:\n",
    "#                 try:\n",
    "#                     int(other_review[5])\n",
    "#                     other_review_test = other_review[6:]\n",
    "#                     other_review_test = re.sub(\n",
    "#                     '[^ ㄱ-ㅣ가-힣A-Za-z0-9]+', '', str(other_review_test))\n",
    "#                     reviews.append(other_review_test)\n",
    "#                 except:\n",
    "#                     other_review_test = other_review[5:]\n",
    "#                     other_review_test = re.sub(\n",
    "#                 '[^ ㄱ-ㅣ가-힣A-Za-z0-9]+', '', str(other_review_test))\n",
    "#                     reviews.append(other_review_test)\n",
    "#             writers.append(other_writer)\n",
    "            \n",
    "#         driver.back()\n",
    "#         driver.execute_script(\"window.scrollTo(0, 0);\")\n",
    "#         time.sleep(0.5)\n",
    "    \n",
    "#     # 드라이버 종료 및 데이터 프레임으로 저장\n",
    "#     driver.quit()\n",
    "#     datas = pd.DataFrame({'name': names,\n",
    "#                           'loca': locas,\n",
    "#                           'writer': writers,\n",
    "#                           'review': reviews,\n",
    "#                           'point': points,\n",
    "#                           })\n",
    "#     return datas"
   ]
  },
  {
   "cell_type": "code",
   "execution_count": 3,
   "metadata": {},
   "outputs": [],
   "source": [
    "def naver_myplace(url, start_num, stop_num,main_num):\n",
    "    driver = webdriver.Chrome('./driver/chromedriver.exe')\n",
    "    driver.get(url)\n",
    "\n",
    "    # 메인페이지에서 설정한 숫자만큼 아래로 스크롤링(음식점 로딩)\n",
    "    for i in range(main_num):\n",
    "        driver.execute_script(\n",
    "            \"window.scrollTo(0, document.body.scrollHeight);\")\n",
    "        time.sleep(1.5)\n",
    "    driver.execute_script(\"window.scrollTo(0, 0);\")\n",
    "\n",
    "    # 메인페이지의 정보 취득\n",
    "    time.sleep(0.5)\n",
    "    all_link = driver.find_elements_by_xpath(\n",
    "        '/html/body/div[3]/div[4]/div/div/div[1]/button/div')\n",
    "    all_name = driver.find_elements_by_xpath(\n",
    "        '/html/body/div[3]/div[4]/div/div/div[1]/button/div/div[2]')\n",
    "    all_loca = driver.find_elements_by_xpath(\n",
    "        '/html/body/div[3]/div[4]/div/div/div[1]/button/div/div[1]/div[1]')\n",
    "\n",
    "    # 프레임으로 내용 빈리스트 생성\n",
    "    names = []\n",
    "    locas = []\n",
    "    points = []\n",
    "    reviews = []\n",
    "    writers = []\n",
    "\n",
    "    # 크롤링 시작\n",
    "    # 메인페이지의 음식점 리스트에서\n",
    "    for i in range(start_num,stop_num):\n",
    "        time.sleep(0.5)\n",
    "        # 이름 지역 링크를 가지고옴\n",
    "        i = i+1\n",
    "        name = driver.find_element_by_xpath(\n",
    "            f'/html/body/div[3]/div[4]/div/div/div[1]/button[{i}]/div/div[2]').text\n",
    "        loca = driver.find_element_by_xpath(\n",
    "            f'/html/body/div[3]/div[4]/div/div/div[1]/button[{i}]/div/div[1]/div[1]').text\n",
    "        link = driver.find_element_by_xpath(\n",
    "            f'/html/body/div[3]/div[4]/div/div/div[1]/button[{i}]/div')\n",
    "        \n",
    "        print(f'전체 {len(all_link)}개 음식점 중에 {i}번째 {name} ({i}/{stop_num})')\n",
    "        # 링크에 들어가서\n",
    "        link.click()\n",
    "\n",
    "        # 리뷰가 모두 보이게 하단으로 스크롤링\n",
    "        last_height = driver.execute_script(\n",
    "            \"return document.body.scrollHeight\")\n",
    "\n",
    "        while True:\n",
    "            driver.execute_script(\n",
    "                \"window.scrollTo(0, document.body.scrollHeight);\")\n",
    "            time.sleep(1.5)\n",
    "            new_height = driver.execute_script(\n",
    "                \"return document.body.scrollHeight\")\n",
    "            if new_height == last_height:\n",
    "                break\n",
    "            last_height = new_height\n",
    "        time.sleep(0.5)\n",
    "\n",
    "        # 별점 가져오기\n",
    "        point = driver.find_element_by_xpath(\n",
    "            '/html/body/div[3]/div/div[1]/div[1]/div[2]/div/span[2]').text.replace('별점', '')\n",
    "        points.append(point)\n",
    "        names.append(name)\n",
    "        locas.append(loca)\n",
    "\n",
    "        # 그외 다른 별점\n",
    "        other_points = driver.find_elements_by_xpath(\n",
    "            '/html/body/div[3]/div/div[3]/div/ul/div/li/div[1]/div[2]/div/span[2]')\n",
    "        for i in range(len(other_points)):\n",
    "            other_point = other_points[i].text.replace('별점', '')\n",
    "            points.append(other_point)\n",
    "            names.append(name)\n",
    "            locas.append(loca)\n",
    "\n",
    "        # 리뷰 가져오기\n",
    "        # 더보기 클릭\n",
    "        time.sleep(0.5)\n",
    "        driver.execute_script(\"window.scrollTo(0, 0);\")\n",
    "        more = driver.find_elements_by_xpath(\n",
    "            '/html/body/div[3]/div/div[3]/div/ul/div/li/div/button/div/div/span/span/span[2]')\n",
    "        for i in range(len(more)):\n",
    "            more[i].click()\n",
    "            driver.execute_script(\"window.scrollTo(0, 0);\")\n",
    "            time.sleep(0.5)\n",
    "\n",
    "        # 맨위의 메인 리뷰 및 작성자 가져오기\n",
    "        main_review = driver.find_element_by_xpath(\n",
    "            '/html/body/div[3]/div/div[1]/div[1]/div[3]').text\n",
    "        main_review = re.sub('[^ ㄱ-ㅣ가-힣A-Za-z0-9]+', '', str(main_review))\n",
    "        reviews.append(main_review)\n",
    "        main_writer = driver.find_element_by_xpath(\n",
    "            '/html/body/div[3]/div/div[1]/div[1]/div[1]/a/div[2]/div[1]').text\n",
    "        writers.append(main_writer)\n",
    "\n",
    "        other_writers = driver.find_elements_by_xpath(\n",
    "            '/html/body/div[3]/div/div[3]/div/ul/div/li/div[1]/div[1]/a/div[2]/div[1]')\n",
    "        other_reviews = driver.find_elements_by_xpath(\n",
    "            '/html/body/div[3]/div/div[3]/div/ul/div/li/div[1]')\n",
    "        for i in range(len(other_reviews)):\n",
    "            other_review = other_reviews[i].text.splitlines()\n",
    "            other_writer = other_writers[i].text\n",
    "            if len(other_review) == 6:\n",
    "                try:\n",
    "                    int(other_review[5])\n",
    "                    reviews.append('')\n",
    "                except:\n",
    "                    other_review_test = other_review[5:]\n",
    "                    other_review_test = re.sub(\n",
    "                        '[^ ㄱ-ㅣ가-힣A-Za-z0-9]+', '', str(other_review_test))\n",
    "                    reviews.append(other_review_test)\n",
    "\n",
    "            elif len(other_review) <= 5:\n",
    "                other_review = other_review[5:]\n",
    "                other_review = re.sub(\n",
    "                    '[^ ㄱ-ㅣ가-힣A-Za-z0-9]+', '', str(other_review))\n",
    "                reviews.append(other_review)\n",
    "\n",
    "            elif len(other_review) > 6:\n",
    "                try:\n",
    "                    int(other_review[5])\n",
    "                    other_review_test = other_review[6:]\n",
    "                    other_review_test = re.sub(\n",
    "                        '[^ ㄱ-ㅣ가-힣A-Za-z0-9]+', '', str(other_review_test))\n",
    "                    reviews.append(other_review_test)\n",
    "                except:\n",
    "                    other_review_test = other_review[5:]\n",
    "                    other_review_test = re.sub(\n",
    "                        '[^ ㄱ-ㅣ가-힣A-Za-z0-9]+', '', str(other_review_test))\n",
    "                    reviews.append(other_review_test)\n",
    "            writers.append(other_writer)\n",
    "\n",
    "        driver.back()\n",
    "        driver.execute_script(\"window.scrollTo(0, 0);\")\n",
    "        time.sleep(0.5)\n",
    "\n",
    "    # 드라이버 종료 및 데이터 프레임으로 저장\n",
    "    driver.quit()\n",
    "    datas = pd.DataFrame({'name': names,\n",
    "                          'loca': locas,\n",
    "                          'writer': writers,\n",
    "                          'review': reviews,\n",
    "                          'point': points,\n",
    "                          })\n",
    "    return datas"
   ]
  },
  {
   "cell_type": "code",
   "execution_count": 23,
   "metadata": {
    "scrolled": true
   },
   "outputs": [],
   "source": [
    "url = 'https://m.place.naver.com/my/pick'\n",
    "# 크롤링을 시작할 음식점 위치\n",
    "start_num = 5\n",
    "\n",
    "# 크롤링을 끝낼 음식점 위치\n",
    "stop_num = 1\n",
    "\n",
    "# 전체 음식점 로딩하는 횟수 (1당 약 20개 정도 가져옴, 기본은 10개)\n",
    "main_num = 10\n",
    "\n",
    "datas = naver_myplace(url, start_num, stop_num, main_num)"
   ]
  },
  {
   "cell_type": "code",
   "execution_count": 60,
   "metadata": {
    "scrolled": true
   },
   "outputs": [
    {
     "name": "stdout",
     "output_type": "stream",
     "text": [
      "130 of 200\n",
      "전체 280개 음식점 중에 131번째 도봉관 (131/135)\n",
      "전체 280개 음식점 중에 132번째 왕비돈까스 인천본점 (132/135)\n",
      "전체 280개 음식점 중에 133번째 라피콜라 이탈리아 (133/135)\n",
      "전체 280개 음식점 중에 134번째 다스티 더 히든 (134/135)\n",
      "전체 280개 음식점 중에 135번째 스페인클럽 이태원점 (135/135)\n",
      "135번까지 저장 완료\n",
      "135 of 200\n",
      "전체 280개 음식점 중에 136번째 마이카츠 감삼점 (136/140)\n",
      "전체 280개 음식점 중에 137번째 영육일삼 (137/140)\n",
      "전체 280개 음식점 중에 138번째 카츠교 (138/140)\n",
      "전체 280개 음식점 중에 139번째 다온나루 (139/140)\n",
      "전체 280개 음식점 중에 140번째 아웃도어키친 한강본점 (140/140)\n",
      "140번까지 저장 완료\n",
      "140 of 200\n",
      "전체 280개 음식점 중에 141번째 성북동빵공장 (141/145)\n",
      "전체 280개 음식점 중에 142번째 브로테 (142/145)\n",
      "전체 280개 음식점 중에 143번째 뽕사부 (143/145)\n",
      "전체 280개 음식점 중에 144번째 정서진메밀면옥 (144/145)\n",
      "전체 280개 음식점 중에 145번째 푼푼 (145/145)\n",
      "145번까지 저장 완료\n",
      "145 of 200\n",
      "전체 280개 음식점 중에 146번째 마롱카페 (146/150)\n",
      "전체 280개 음식점 중에 147번째 인딕슬로우 (147/150)\n",
      "전체 280개 음식점 중에 148번째 안녕베트남 (148/150)\n",
      "전체 280개 음식점 중에 149번째 이태경순대국 (149/150)\n",
      "전체 280개 음식점 중에 150번째 카페 원더 (150/150)\n",
      "150번까지 저장 완료\n",
      "150 of 200\n",
      "전체 170개 음식점 중에 151번째 부다스벨리 이태원점 (151/155)\n",
      "전체 170개 음식점 중에 152번째 덩그러니 (152/155)\n",
      "전체 170개 음식점 중에 153번째 만옥당 (153/155)\n",
      "전체 170개 음식점 중에 154번째 마살라키친 (154/155)\n",
      "전체 170개 음식점 중에 155번째 잠수교집 3호점 (155/155)\n",
      "155번까지 저장 완료\n",
      "155 of 200\n",
      "전체 290개 음식점 중에 156번째 수목금토 카페 (156/160)\n",
      "전체 290개 음식점 중에 157번째 아트몬스터 익선동점 (157/160)\n",
      "전체 290개 음식점 중에 158번째 군자대한곱창 주안역점 (158/160)\n",
      "전체 290개 음식점 중에 159번째 투핸즈 (159/160)\n",
      "전체 290개 음식점 중에 160번째 섬과섬사이조개구이 (160/160)\n",
      "160번까지 저장 완료\n",
      "160 of 200\n"
     ]
    },
    {
     "ename": "NoSuchElementException",
     "evalue": "Message: no such element: Unable to locate element: {\"method\":\"xpath\",\"selector\":\"/html/body/div[3]/div[4]/div/div/div[1]/button[161]/div/div[2]\"}\n  (Session info: chrome=81.0.4044.129)\n",
     "output_type": "error",
     "traceback": [
      "\u001b[1;31m---------------------------------------------------------------------------\u001b[0m",
      "\u001b[1;31mNoSuchElementException\u001b[0m                    Traceback (most recent call last)",
      "\u001b[1;32m<ipython-input-60-463c435294a4>\u001b[0m in \u001b[0;36m<module>\u001b[1;34m\u001b[0m\n\u001b[0;32m     17\u001b[0m \u001b[1;32mfor\u001b[0m \u001b[0mi\u001b[0m \u001b[1;32min\u001b[0m \u001b[0mrange\u001b[0m\u001b[1;33m(\u001b[0m\u001b[0mstart_num\u001b[0m\u001b[1;33m,\u001b[0m \u001b[0mstop_num\u001b[0m\u001b[1;33m,\u001b[0m \u001b[0mterm\u001b[0m\u001b[1;33m)\u001b[0m\u001b[1;33m:\u001b[0m\u001b[1;33m\u001b[0m\u001b[1;33m\u001b[0m\u001b[0m\n\u001b[0;32m     18\u001b[0m     \u001b[0mprint\u001b[0m\u001b[1;33m(\u001b[0m\u001b[1;34mf'{i} of {stop_num}'\u001b[0m\u001b[1;33m)\u001b[0m\u001b[1;33m\u001b[0m\u001b[1;33m\u001b[0m\u001b[0m\n\u001b[1;32m---> 19\u001b[1;33m     \u001b[0mdata\u001b[0m \u001b[1;33m=\u001b[0m \u001b[0mnaver_myplace\u001b[0m\u001b[1;33m(\u001b[0m\u001b[0murl\u001b[0m\u001b[1;33m,\u001b[0m \u001b[0mi\u001b[0m\u001b[1;33m,\u001b[0m \u001b[0mi\u001b[0m\u001b[1;33m+\u001b[0m\u001b[0mterm\u001b[0m\u001b[1;33m,\u001b[0m \u001b[0mmain_num\u001b[0m\u001b[1;33m)\u001b[0m\u001b[1;33m\u001b[0m\u001b[1;33m\u001b[0m\u001b[0m\n\u001b[0m\u001b[0;32m     20\u001b[0m     \u001b[0mdatas_ls\u001b[0m\u001b[1;33m.\u001b[0m\u001b[0mappend\u001b[0m\u001b[1;33m(\u001b[0m\u001b[0mdata\u001b[0m\u001b[1;33m)\u001b[0m\u001b[1;33m\u001b[0m\u001b[1;33m\u001b[0m\u001b[0m\n\u001b[0;32m     21\u001b[0m     \u001b[0mprint\u001b[0m\u001b[1;33m(\u001b[0m\u001b[1;34mf'{i+term}번까지 저장 완료'\u001b[0m\u001b[1;33m)\u001b[0m\u001b[1;33m\u001b[0m\u001b[1;33m\u001b[0m\u001b[0m\n",
      "\u001b[1;32m<ipython-input-3-4eb953d48f82>\u001b[0m in \u001b[0;36mnaver_myplace\u001b[1;34m(url, start_num, stop_num, main_num)\u001b[0m\n\u001b[0;32m     33\u001b[0m         \u001b[0mi\u001b[0m \u001b[1;33m=\u001b[0m \u001b[0mi\u001b[0m\u001b[1;33m+\u001b[0m\u001b[1;36m1\u001b[0m\u001b[1;33m\u001b[0m\u001b[1;33m\u001b[0m\u001b[0m\n\u001b[0;32m     34\u001b[0m         name = driver.find_element_by_xpath(\n\u001b[1;32m---> 35\u001b[1;33m             f'/html/body/div[3]/div[4]/div/div/div[1]/button[{i}]/div/div[2]').text\n\u001b[0m\u001b[0;32m     36\u001b[0m         loca = driver.find_element_by_xpath(\n\u001b[0;32m     37\u001b[0m             f'/html/body/div[3]/div[4]/div/div/div[1]/button[{i}]/div/div[1]/div[1]').text\n",
      "\u001b[1;32mC:\\ProgramData\\Anaconda3\\lib\\site-packages\\selenium\\webdriver\\remote\\webdriver.py\u001b[0m in \u001b[0;36mfind_element_by_xpath\u001b[1;34m(self, xpath)\u001b[0m\n\u001b[0;32m    392\u001b[0m             \u001b[0melement\u001b[0m \u001b[1;33m=\u001b[0m \u001b[0mdriver\u001b[0m\u001b[1;33m.\u001b[0m\u001b[0mfind_element_by_xpath\u001b[0m\u001b[1;33m(\u001b[0m\u001b[1;34m'//div/td[1]'\u001b[0m\u001b[1;33m)\u001b[0m\u001b[1;33m\u001b[0m\u001b[1;33m\u001b[0m\u001b[0m\n\u001b[0;32m    393\u001b[0m         \"\"\"\n\u001b[1;32m--> 394\u001b[1;33m         \u001b[1;32mreturn\u001b[0m \u001b[0mself\u001b[0m\u001b[1;33m.\u001b[0m\u001b[0mfind_element\u001b[0m\u001b[1;33m(\u001b[0m\u001b[0mby\u001b[0m\u001b[1;33m=\u001b[0m\u001b[0mBy\u001b[0m\u001b[1;33m.\u001b[0m\u001b[0mXPATH\u001b[0m\u001b[1;33m,\u001b[0m \u001b[0mvalue\u001b[0m\u001b[1;33m=\u001b[0m\u001b[0mxpath\u001b[0m\u001b[1;33m)\u001b[0m\u001b[1;33m\u001b[0m\u001b[1;33m\u001b[0m\u001b[0m\n\u001b[0m\u001b[0;32m    395\u001b[0m \u001b[1;33m\u001b[0m\u001b[0m\n\u001b[0;32m    396\u001b[0m     \u001b[1;32mdef\u001b[0m \u001b[0mfind_elements_by_xpath\u001b[0m\u001b[1;33m(\u001b[0m\u001b[0mself\u001b[0m\u001b[1;33m,\u001b[0m \u001b[0mxpath\u001b[0m\u001b[1;33m)\u001b[0m\u001b[1;33m:\u001b[0m\u001b[1;33m\u001b[0m\u001b[1;33m\u001b[0m\u001b[0m\n",
      "\u001b[1;32mC:\\ProgramData\\Anaconda3\\lib\\site-packages\\selenium\\webdriver\\remote\\webdriver.py\u001b[0m in \u001b[0;36mfind_element\u001b[1;34m(self, by, value)\u001b[0m\n\u001b[0;32m    976\u001b[0m         return self.execute(Command.FIND_ELEMENT, {\n\u001b[0;32m    977\u001b[0m             \u001b[1;34m'using'\u001b[0m\u001b[1;33m:\u001b[0m \u001b[0mby\u001b[0m\u001b[1;33m,\u001b[0m\u001b[1;33m\u001b[0m\u001b[1;33m\u001b[0m\u001b[0m\n\u001b[1;32m--> 978\u001b[1;33m             'value': value})['value']\n\u001b[0m\u001b[0;32m    979\u001b[0m \u001b[1;33m\u001b[0m\u001b[0m\n\u001b[0;32m    980\u001b[0m     \u001b[1;32mdef\u001b[0m \u001b[0mfind_elements\u001b[0m\u001b[1;33m(\u001b[0m\u001b[0mself\u001b[0m\u001b[1;33m,\u001b[0m \u001b[0mby\u001b[0m\u001b[1;33m=\u001b[0m\u001b[0mBy\u001b[0m\u001b[1;33m.\u001b[0m\u001b[0mID\u001b[0m\u001b[1;33m,\u001b[0m \u001b[0mvalue\u001b[0m\u001b[1;33m=\u001b[0m\u001b[1;32mNone\u001b[0m\u001b[1;33m)\u001b[0m\u001b[1;33m:\u001b[0m\u001b[1;33m\u001b[0m\u001b[1;33m\u001b[0m\u001b[0m\n",
      "\u001b[1;32mC:\\ProgramData\\Anaconda3\\lib\\site-packages\\selenium\\webdriver\\remote\\webdriver.py\u001b[0m in \u001b[0;36mexecute\u001b[1;34m(self, driver_command, params)\u001b[0m\n\u001b[0;32m    319\u001b[0m         \u001b[0mresponse\u001b[0m \u001b[1;33m=\u001b[0m \u001b[0mself\u001b[0m\u001b[1;33m.\u001b[0m\u001b[0mcommand_executor\u001b[0m\u001b[1;33m.\u001b[0m\u001b[0mexecute\u001b[0m\u001b[1;33m(\u001b[0m\u001b[0mdriver_command\u001b[0m\u001b[1;33m,\u001b[0m \u001b[0mparams\u001b[0m\u001b[1;33m)\u001b[0m\u001b[1;33m\u001b[0m\u001b[1;33m\u001b[0m\u001b[0m\n\u001b[0;32m    320\u001b[0m         \u001b[1;32mif\u001b[0m \u001b[0mresponse\u001b[0m\u001b[1;33m:\u001b[0m\u001b[1;33m\u001b[0m\u001b[1;33m\u001b[0m\u001b[0m\n\u001b[1;32m--> 321\u001b[1;33m             \u001b[0mself\u001b[0m\u001b[1;33m.\u001b[0m\u001b[0merror_handler\u001b[0m\u001b[1;33m.\u001b[0m\u001b[0mcheck_response\u001b[0m\u001b[1;33m(\u001b[0m\u001b[0mresponse\u001b[0m\u001b[1;33m)\u001b[0m\u001b[1;33m\u001b[0m\u001b[1;33m\u001b[0m\u001b[0m\n\u001b[0m\u001b[0;32m    322\u001b[0m             response['value'] = self._unwrap_value(\n\u001b[0;32m    323\u001b[0m                 response.get('value', None))\n",
      "\u001b[1;32mC:\\ProgramData\\Anaconda3\\lib\\site-packages\\selenium\\webdriver\\remote\\errorhandler.py\u001b[0m in \u001b[0;36mcheck_response\u001b[1;34m(self, response)\u001b[0m\n\u001b[0;32m    240\u001b[0m                 \u001b[0malert_text\u001b[0m \u001b[1;33m=\u001b[0m \u001b[0mvalue\u001b[0m\u001b[1;33m[\u001b[0m\u001b[1;34m'alert'\u001b[0m\u001b[1;33m]\u001b[0m\u001b[1;33m.\u001b[0m\u001b[0mget\u001b[0m\u001b[1;33m(\u001b[0m\u001b[1;34m'text'\u001b[0m\u001b[1;33m)\u001b[0m\u001b[1;33m\u001b[0m\u001b[1;33m\u001b[0m\u001b[0m\n\u001b[0;32m    241\u001b[0m             \u001b[1;32mraise\u001b[0m \u001b[0mexception_class\u001b[0m\u001b[1;33m(\u001b[0m\u001b[0mmessage\u001b[0m\u001b[1;33m,\u001b[0m \u001b[0mscreen\u001b[0m\u001b[1;33m,\u001b[0m \u001b[0mstacktrace\u001b[0m\u001b[1;33m,\u001b[0m \u001b[0malert_text\u001b[0m\u001b[1;33m)\u001b[0m\u001b[1;33m\u001b[0m\u001b[1;33m\u001b[0m\u001b[0m\n\u001b[1;32m--> 242\u001b[1;33m         \u001b[1;32mraise\u001b[0m \u001b[0mexception_class\u001b[0m\u001b[1;33m(\u001b[0m\u001b[0mmessage\u001b[0m\u001b[1;33m,\u001b[0m \u001b[0mscreen\u001b[0m\u001b[1;33m,\u001b[0m \u001b[0mstacktrace\u001b[0m\u001b[1;33m)\u001b[0m\u001b[1;33m\u001b[0m\u001b[1;33m\u001b[0m\u001b[0m\n\u001b[0m\u001b[0;32m    243\u001b[0m \u001b[1;33m\u001b[0m\u001b[0m\n\u001b[0;32m    244\u001b[0m     \u001b[1;32mdef\u001b[0m \u001b[0m_value_or_default\u001b[0m\u001b[1;33m(\u001b[0m\u001b[0mself\u001b[0m\u001b[1;33m,\u001b[0m \u001b[0mobj\u001b[0m\u001b[1;33m,\u001b[0m \u001b[0mkey\u001b[0m\u001b[1;33m,\u001b[0m \u001b[0mdefault\u001b[0m\u001b[1;33m)\u001b[0m\u001b[1;33m:\u001b[0m\u001b[1;33m\u001b[0m\u001b[1;33m\u001b[0m\u001b[0m\n",
      "\u001b[1;31mNoSuchElementException\u001b[0m: Message: no such element: Unable to locate element: {\"method\":\"xpath\",\"selector\":\"/html/body/div[3]/div[4]/div/div/div[1]/button[161]/div/div[2]\"}\n  (Session info: chrome=81.0.4044.129)\n"
     ]
    }
   ],
   "source": [
    "url = 'https://m.place.naver.com/my/pick'\n",
    "\n",
    "datas_ls = []\n",
    "\n",
    "# 크롤링을 시작할 음식점 위치\n",
    "start_num = 130\n",
    "\n",
    "# 크롤링을 끝낼 음식점 위치\n",
    "stop_num = 200\n",
    "\n",
    "# 전체 음식점 로딩하는 횟수 (1당 약 20개 ~ 30개 정도 가져옴, 기본은 10개)\n",
    "main_num = 10\n",
    "\n",
    "# 몇개의 음식점을 크롤링 후 저장할지\n",
    "term = 5\n",
    "\n",
    "for i in range(start_num, stop_num, term):\n",
    "    print(f'{i} of {stop_num}')\n",
    "    data = naver_myplace(url, i, i+term, main_num)\n",
    "    datas_ls.append(data)\n",
    "    print(f'{i+term}번까지 저장 완료')"
   ]
  },
  {
   "cell_type": "code",
   "execution_count": 61,
   "metadata": {},
   "outputs": [
    {
     "data": {
      "text/html": [
       "<div>\n",
       "<style scoped>\n",
       "    .dataframe tbody tr th:only-of-type {\n",
       "        vertical-align: middle;\n",
       "    }\n",
       "\n",
       "    .dataframe tbody tr th {\n",
       "        vertical-align: top;\n",
       "    }\n",
       "\n",
       "    .dataframe thead th {\n",
       "        text-align: right;\n",
       "    }\n",
       "</style>\n",
       "<table border=\"1\" class=\"dataframe\">\n",
       "  <thead>\n",
       "    <tr style=\"text-align: right;\">\n",
       "      <th></th>\n",
       "      <th>name</th>\n",
       "      <th>loca</th>\n",
       "      <th>writer</th>\n",
       "      <th>review</th>\n",
       "      <th>point</th>\n",
       "    </tr>\n",
       "  </thead>\n",
       "  <tbody>\n",
       "    <tr>\n",
       "      <th>0</th>\n",
       "      <td>도봉관</td>\n",
       "      <td>도봉구</td>\n",
       "      <td>andadasee</td>\n",
       "      <td>지나가면서 보기만 하다가 드디어왔네요 낮에오면예쁠것같아요 ㅋㅋ동네에 이규모에 예쁜카...</td>\n",
       "      <td>4</td>\n",
       "    </tr>\n",
       "    <tr>\n",
       "      <th>1</th>\n",
       "      <td>도봉관</td>\n",
       "      <td>도봉구</td>\n",
       "      <td>묵데기</td>\n",
       "      <td>커피도 맛있고 케잌 맛있어요</td>\n",
       "      <td>4</td>\n",
       "    </tr>\n",
       "    <tr>\n",
       "      <th>2</th>\n",
       "      <td>도봉관</td>\n",
       "      <td>도봉구</td>\n",
       "      <td>kgb1020</td>\n",
       "      <td>티라미수 케이크도 맛있네요 제 입맛엔 치즈케이크가 제일 맛있어요</td>\n",
       "      <td>4.5</td>\n",
       "    </tr>\n",
       "    <tr>\n",
       "      <th>3</th>\n",
       "      <td>도봉관</td>\n",
       "      <td>도봉구</td>\n",
       "      <td>The나은</td>\n",
       "      <td>치즈케이크 넘넘 맛있고 휘낭시에도 맛있어요 치즈케이크 생각나서 또 올 것 같아요  ...</td>\n",
       "      <td>5</td>\n",
       "    </tr>\n",
       "    <tr>\n",
       "      <th>4</th>\n",
       "      <td>도봉관</td>\n",
       "      <td>도봉구</td>\n",
       "      <td>lsm******</td>\n",
       "      <td></td>\n",
       "      <td>5</td>\n",
       "    </tr>\n",
       "    <tr>\n",
       "      <th>...</th>\n",
       "      <td>...</td>\n",
       "      <td>...</td>\n",
       "      <td>...</td>\n",
       "      <td>...</td>\n",
       "      <td>...</td>\n",
       "    </tr>\n",
       "    <tr>\n",
       "      <th>257</th>\n",
       "      <td>섬과섬사이조개구이</td>\n",
       "      <td>보령시</td>\n",
       "      <td>나무맘</td>\n",
       "      <td>여기 조개 신선도랑 양념은 인정 다만 무한리필 생각하고 넉넉한인심 기대하니는분들은 ...</td>\n",
       "      <td>2</td>\n",
       "    </tr>\n",
       "    <tr>\n",
       "      <th>258</th>\n",
       "      <td>섬과섬사이조개구이</td>\n",
       "      <td>보령시</td>\n",
       "      <td>크로와상</td>\n",
       "      <td>양념이 맛남 호객행위를 안해서인지 서비스로 뭐 팍팍 주는 건 없었다</td>\n",
       "      <td>4</td>\n",
       "    </tr>\n",
       "    <tr>\n",
       "      <th>259</th>\n",
       "      <td>섬과섬사이조개구이</td>\n",
       "      <td>보령시</td>\n",
       "      <td>안정균</td>\n",
       "      <td></td>\n",
       "      <td>4</td>\n",
       "    </tr>\n",
       "    <tr>\n",
       "      <th>260</th>\n",
       "      <td>섬과섬사이조개구이</td>\n",
       "      <td>보령시</td>\n",
       "      <td>란잉</td>\n",
       "      <td>칼국수 너무 짜요  조개구이도 먹다보면 너무 짜요</td>\n",
       "      <td>3</td>\n",
       "    </tr>\n",
       "    <tr>\n",
       "      <th>261</th>\n",
       "      <td>섬과섬사이조개구이</td>\n",
       "      <td>보령시</td>\n",
       "      <td>식대장</td>\n",
       "      <td>친절하고 조개구이랑 회 다 맛있어요 특히 조개구이 특제소스도 최고예요</td>\n",
       "      <td>5</td>\n",
       "    </tr>\n",
       "  </tbody>\n",
       "</table>\n",
       "<p>2168 rows × 5 columns</p>\n",
       "</div>"
      ],
      "text/plain": [
       "          name loca     writer  \\\n",
       "0          도봉관  도봉구  andadasee   \n",
       "1          도봉관  도봉구        묵데기   \n",
       "2          도봉관  도봉구    kgb1020   \n",
       "3          도봉관  도봉구      The나은   \n",
       "4          도봉관  도봉구  lsm******   \n",
       "..         ...  ...        ...   \n",
       "257  섬과섬사이조개구이  보령시        나무맘   \n",
       "258  섬과섬사이조개구이  보령시       크로와상   \n",
       "259  섬과섬사이조개구이  보령시        안정균   \n",
       "260  섬과섬사이조개구이  보령시         란잉   \n",
       "261  섬과섬사이조개구이  보령시        식대장   \n",
       "\n",
       "                                                review point  \n",
       "0    지나가면서 보기만 하다가 드디어왔네요 낮에오면예쁠것같아요 ㅋㅋ동네에 이규모에 예쁜카...     4  \n",
       "1                                      커피도 맛있고 케잌 맛있어요     4  \n",
       "2                  티라미수 케이크도 맛있네요 제 입맛엔 치즈케이크가 제일 맛있어요   4.5  \n",
       "3    치즈케이크 넘넘 맛있고 휘낭시에도 맛있어요 치즈케이크 생각나서 또 올 것 같아요  ...     5  \n",
       "4                                                          5  \n",
       "..                                                 ...   ...  \n",
       "257  여기 조개 신선도랑 양념은 인정 다만 무한리필 생각하고 넉넉한인심 기대하니는분들은 ...     2  \n",
       "258              양념이 맛남 호객행위를 안해서인지 서비스로 뭐 팍팍 주는 건 없었다     4  \n",
       "259                                                        4  \n",
       "260                        칼국수 너무 짜요  조개구이도 먹다보면 너무 짜요     3  \n",
       "261             친절하고 조개구이랑 회 다 맛있어요 특히 조개구이 특제소스도 최고예요     5  \n",
       "\n",
       "[2168 rows x 5 columns]"
      ]
     },
     "execution_count": 61,
     "metadata": {},
     "output_type": "execute_result"
    }
   ],
   "source": [
    "datas = pd.concat(datas_ls)\n",
    "datas"
   ]
  },
  {
   "cell_type": "markdown",
   "metadata": {},
   "source": [
    "## 데이터 전처리 및 오류 확인"
   ]
  },
  {
   "cell_type": "markdown",
   "metadata": {},
   "source": [
    "#### 빈 리뷰 삭제"
   ]
  },
  {
   "cell_type": "code",
   "execution_count": 62,
   "metadata": {},
   "outputs": [
    {
     "data": {
      "text/html": [
       "<div>\n",
       "<style scoped>\n",
       "    .dataframe tbody tr th:only-of-type {\n",
       "        vertical-align: middle;\n",
       "    }\n",
       "\n",
       "    .dataframe tbody tr th {\n",
       "        vertical-align: top;\n",
       "    }\n",
       "\n",
       "    .dataframe thead th {\n",
       "        text-align: right;\n",
       "    }\n",
       "</style>\n",
       "<table border=\"1\" class=\"dataframe\">\n",
       "  <thead>\n",
       "    <tr style=\"text-align: right;\">\n",
       "      <th></th>\n",
       "      <th>name</th>\n",
       "      <th>loca</th>\n",
       "      <th>writer</th>\n",
       "      <th>review</th>\n",
       "      <th>point</th>\n",
       "    </tr>\n",
       "  </thead>\n",
       "  <tbody>\n",
       "    <tr>\n",
       "      <th>0</th>\n",
       "      <td>도봉관</td>\n",
       "      <td>도봉구</td>\n",
       "      <td>andadasee</td>\n",
       "      <td>지나가면서 보기만 하다가 드디어왔네요 낮에오면예쁠것같아요 ㅋㅋ동네에 이규모에 예쁜카...</td>\n",
       "      <td>4</td>\n",
       "    </tr>\n",
       "    <tr>\n",
       "      <th>1</th>\n",
       "      <td>도봉관</td>\n",
       "      <td>도봉구</td>\n",
       "      <td>묵데기</td>\n",
       "      <td>커피도 맛있고 케잌 맛있어요</td>\n",
       "      <td>4</td>\n",
       "    </tr>\n",
       "    <tr>\n",
       "      <th>2</th>\n",
       "      <td>도봉관</td>\n",
       "      <td>도봉구</td>\n",
       "      <td>kgb1020</td>\n",
       "      <td>티라미수 케이크도 맛있네요 제 입맛엔 치즈케이크가 제일 맛있어요</td>\n",
       "      <td>4.5</td>\n",
       "    </tr>\n",
       "    <tr>\n",
       "      <th>3</th>\n",
       "      <td>도봉관</td>\n",
       "      <td>도봉구</td>\n",
       "      <td>The나은</td>\n",
       "      <td>치즈케이크 넘넘 맛있고 휘낭시에도 맛있어요 치즈케이크 생각나서 또 올 것 같아요  ...</td>\n",
       "      <td>5</td>\n",
       "    </tr>\n",
       "    <tr>\n",
       "      <th>5</th>\n",
       "      <td>도봉관</td>\n",
       "      <td>도봉구</td>\n",
       "      <td>flo*****</td>\n",
       "      <td>치즈 케이크 맛있어용</td>\n",
       "      <td>5</td>\n",
       "    </tr>\n",
       "    <tr>\n",
       "      <th>...</th>\n",
       "      <td>...</td>\n",
       "      <td>...</td>\n",
       "      <td>...</td>\n",
       "      <td>...</td>\n",
       "      <td>...</td>\n",
       "    </tr>\n",
       "    <tr>\n",
       "      <th>254</th>\n",
       "      <td>섬과섬사이조개구이</td>\n",
       "      <td>보령시</td>\n",
       "      <td>두홍이</td>\n",
       "      <td>정말맛있었네요 소스올라간 조개들 굿굿 전복은 살아 움직일정도로 싱싱했어요</td>\n",
       "      <td>5</td>\n",
       "    </tr>\n",
       "    <tr>\n",
       "      <th>257</th>\n",
       "      <td>섬과섬사이조개구이</td>\n",
       "      <td>보령시</td>\n",
       "      <td>나무맘</td>\n",
       "      <td>여기 조개 신선도랑 양념은 인정 다만 무한리필 생각하고 넉넉한인심 기대하니는분들은 ...</td>\n",
       "      <td>2</td>\n",
       "    </tr>\n",
       "    <tr>\n",
       "      <th>258</th>\n",
       "      <td>섬과섬사이조개구이</td>\n",
       "      <td>보령시</td>\n",
       "      <td>크로와상</td>\n",
       "      <td>양념이 맛남 호객행위를 안해서인지 서비스로 뭐 팍팍 주는 건 없었다</td>\n",
       "      <td>4</td>\n",
       "    </tr>\n",
       "    <tr>\n",
       "      <th>260</th>\n",
       "      <td>섬과섬사이조개구이</td>\n",
       "      <td>보령시</td>\n",
       "      <td>란잉</td>\n",
       "      <td>칼국수 너무 짜요  조개구이도 먹다보면 너무 짜요</td>\n",
       "      <td>3</td>\n",
       "    </tr>\n",
       "    <tr>\n",
       "      <th>261</th>\n",
       "      <td>섬과섬사이조개구이</td>\n",
       "      <td>보령시</td>\n",
       "      <td>식대장</td>\n",
       "      <td>친절하고 조개구이랑 회 다 맛있어요 특히 조개구이 특제소스도 최고예요</td>\n",
       "      <td>5</td>\n",
       "    </tr>\n",
       "  </tbody>\n",
       "</table>\n",
       "<p>781 rows × 5 columns</p>\n",
       "</div>"
      ],
      "text/plain": [
       "          name loca     writer  \\\n",
       "0          도봉관  도봉구  andadasee   \n",
       "1          도봉관  도봉구        묵데기   \n",
       "2          도봉관  도봉구    kgb1020   \n",
       "3          도봉관  도봉구      The나은   \n",
       "5          도봉관  도봉구   flo*****   \n",
       "..         ...  ...        ...   \n",
       "254  섬과섬사이조개구이  보령시        두홍이   \n",
       "257  섬과섬사이조개구이  보령시        나무맘   \n",
       "258  섬과섬사이조개구이  보령시       크로와상   \n",
       "260  섬과섬사이조개구이  보령시         란잉   \n",
       "261  섬과섬사이조개구이  보령시        식대장   \n",
       "\n",
       "                                                review point  \n",
       "0    지나가면서 보기만 하다가 드디어왔네요 낮에오면예쁠것같아요 ㅋㅋ동네에 이규모에 예쁜카...     4  \n",
       "1                                      커피도 맛있고 케잌 맛있어요     4  \n",
       "2                  티라미수 케이크도 맛있네요 제 입맛엔 치즈케이크가 제일 맛있어요   4.5  \n",
       "3    치즈케이크 넘넘 맛있고 휘낭시에도 맛있어요 치즈케이크 생각나서 또 올 것 같아요  ...     5  \n",
       "5                                          치즈 케이크 맛있어용     5  \n",
       "..                                                 ...   ...  \n",
       "254           정말맛있었네요 소스올라간 조개들 굿굿 전복은 살아 움직일정도로 싱싱했어요     5  \n",
       "257  여기 조개 신선도랑 양념은 인정 다만 무한리필 생각하고 넉넉한인심 기대하니는분들은 ...     2  \n",
       "258              양념이 맛남 호객행위를 안해서인지 서비스로 뭐 팍팍 주는 건 없었다     4  \n",
       "260                        칼국수 너무 짜요  조개구이도 먹다보면 너무 짜요     3  \n",
       "261             친절하고 조개구이랑 회 다 맛있어요 특히 조개구이 특제소스도 최고예요     5  \n",
       "\n",
       "[781 rows x 5 columns]"
      ]
     },
     "execution_count": 62,
     "metadata": {},
     "output_type": "execute_result"
    }
   ],
   "source": [
    "datas = datas[datas['review'] != '']\n",
    "datas"
   ]
  },
  {
   "cell_type": "markdown",
   "metadata": {},
   "source": [
    "#### 이름, 장소, 별점, 리뷰 빈 것 확인 "
   ]
  },
  {
   "cell_type": "code",
   "execution_count": 63,
   "metadata": {},
   "outputs": [
    {
     "name": "stdout",
     "output_type": "stream",
     "text": [
      "0 0 0 0\n"
     ]
    }
   ],
   "source": [
    "print(len(datas[datas['name'] == '']), len(datas[datas['loca'] == '']), \n",
    "len(datas[datas['point'] == '']),len(datas[datas['writer'] == '1']))"
   ]
  },
  {
   "cell_type": "markdown",
   "metadata": {},
   "source": [
    "#### 리뷰의 조회수가 리뷰로 저징된 것 삭제"
   ]
  },
  {
   "cell_type": "code",
   "execution_count": 64,
   "metadata": {},
   "outputs": [],
   "source": [
    "num_ls =[]\n",
    "for i in range(0,100):\n",
    "    num = datas[datas['review'] == str(i+1)]\n",
    "    num_ls.append(num)\n",
    "num_df = pd.concat(num_ls)\n",
    "datas = datas.drop(num_df.index)"
   ]
  },
  {
   "cell_type": "markdown",
   "metadata": {},
   "source": [
    "#### 별점 타입 float으로 변경"
   ]
  },
  {
   "cell_type": "code",
   "execution_count": 65,
   "metadata": {},
   "outputs": [
    {
     "name": "stderr",
     "output_type": "stream",
     "text": [
      "C:\\ProgramData\\Anaconda3\\lib\\site-packages\\ipykernel_launcher.py:1: SettingWithCopyWarning: \n",
      "A value is trying to be set on a copy of a slice from a DataFrame.\n",
      "Try using .loc[row_indexer,col_indexer] = value instead\n",
      "\n",
      "See the caveats in the documentation: https://pandas.pydata.org/pandas-docs/stable/user_guide/indexing.html#returning-a-view-versus-a-copy\n",
      "  \"\"\"Entry point for launching an IPython kernel.\n"
     ]
    }
   ],
   "source": [
    "datas['point'] = datas['point'].astype('float')"
   ]
  },
  {
   "cell_type": "markdown",
   "metadata": {},
   "source": [
    "#### 감정 컬럼 생성"
   ]
  },
  {
   "cell_type": "code",
   "execution_count": 66,
   "metadata": {},
   "outputs": [
    {
     "name": "stderr",
     "output_type": "stream",
     "text": [
      "C:\\ProgramData\\Anaconda3\\lib\\site-packages\\pandas\\core\\indexing.py:844: SettingWithCopyWarning: \n",
      "A value is trying to be set on a copy of a slice from a DataFrame.\n",
      "Try using .loc[row_indexer,col_indexer] = value instead\n",
      "\n",
      "See the caveats in the documentation: https://pandas.pydata.org/pandas-docs/stable/user_guide/indexing.html#returning-a-view-versus-a-copy\n",
      "  self.obj[key] = _infer_fill_value(value)\n",
      "C:\\ProgramData\\Anaconda3\\lib\\site-packages\\pandas\\core\\indexing.py:965: SettingWithCopyWarning: \n",
      "A value is trying to be set on a copy of a slice from a DataFrame.\n",
      "Try using .loc[row_indexer,col_indexer] = value instead\n",
      "\n",
      "See the caveats in the documentation: https://pandas.pydata.org/pandas-docs/stable/user_guide/indexing.html#returning-a-view-versus-a-copy\n",
      "  self.obj[item] = s\n"
     ]
    }
   ],
   "source": [
    "datas.loc[datas['point'] > 3, 'emotion'] = 'positive'\n",
    "# datas.loc[datas['point'] == 3, 'emotion'] = 'neutral'\n",
    "datas.loc[datas['point'] <= 3, 'emotion'] = 'negative'"
   ]
  },
  {
   "cell_type": "markdown",
   "metadata": {},
   "source": [
    "#### 정보 확인"
   ]
  },
  {
   "cell_type": "code",
   "execution_count": 67,
   "metadata": {},
   "outputs": [
    {
     "name": "stdout",
     "output_type": "stream",
     "text": [
      "<class 'pandas.core.frame.DataFrame'>\n",
      "Int64Index: 776 entries, 0 to 261\n",
      "Data columns (total 6 columns):\n",
      " #   Column   Non-Null Count  Dtype  \n",
      "---  ------   --------------  -----  \n",
      " 0   name     776 non-null    object \n",
      " 1   loca     776 non-null    object \n",
      " 2   writer   776 non-null    object \n",
      " 3   review   776 non-null    object \n",
      " 4   point    776 non-null    float64\n",
      " 5   emotion  776 non-null    object \n",
      "dtypes: float64(1), object(5)\n",
      "memory usage: 42.4+ KB\n"
     ]
    }
   ],
   "source": [
    "datas.info()"
   ]
  },
  {
   "cell_type": "markdown",
   "metadata": {},
   "source": [
    "#### 갯수 확인"
   ]
  },
  {
   "cell_type": "code",
   "execution_count": 68,
   "metadata": {},
   "outputs": [
    {
     "data": {
      "text/plain": [
       "성북동빵공장         145\n",
       "마롱카페            90\n",
       "안녕베트남           55\n",
       "아웃도어키친 한강본점     49\n",
       "다온나루            45\n",
       "아트몬스터 익선동점      41\n",
       "뽕사부             38\n",
       "왕비돈까스 인천본점      30\n",
       "도봉관             25\n",
       "만옥당             24\n",
       "섬과섬사이조개구이       24\n",
       "인딕슬로우           20\n",
       "부다스벨리 이태원점      20\n",
       "잠수교집 3호점        18\n",
       "수목금토 카페         16\n",
       "덩그러니            16\n",
       "투핸즈             13\n",
       "정서진메밀면옥         12\n",
       "브로테             12\n",
       "푼푼              11\n",
       "이태경순대국          11\n",
       "마이카츠 감삼점        10\n",
       "라피콜라 이탈리아        9\n",
       "카페 원더            9\n",
       "스페인클럽 이태원점       9\n",
       "다스티 더 히든         8\n",
       "영육일삼             8\n",
       "군자대한곱창 주안역점      4\n",
       "마살라키친            2\n",
       "카츠교              2\n",
       "Name: name, dtype: int64"
      ]
     },
     "execution_count": 68,
     "metadata": {},
     "output_type": "execute_result"
    }
   ],
   "source": [
    "datas['name'].value_counts()"
   ]
  },
  {
   "cell_type": "code",
   "execution_count": 69,
   "metadata": {},
   "outputs": [
    {
     "data": {
      "text/plain": [
       "positive    662\n",
       "negative    114\n",
       "Name: emotion, dtype: int64"
      ]
     },
     "execution_count": 69,
     "metadata": {},
     "output_type": "execute_result"
    }
   ],
   "source": [
    "datas['emotion'].value_counts()"
   ]
  },
  {
   "cell_type": "markdown",
   "metadata": {},
   "source": [
    "#### 인덱스 정리"
   ]
  },
  {
   "cell_type": "code",
   "execution_count": 70,
   "metadata": {},
   "outputs": [],
   "source": [
    "datas.reset_index(drop = True, inplace= True)"
   ]
  },
  {
   "cell_type": "markdown",
   "metadata": {},
   "source": [
    "#### 파일 저장"
   ]
  },
  {
   "cell_type": "code",
   "execution_count": 71,
   "metadata": {},
   "outputs": [],
   "source": [
    "datas.to_csv('datas/naver_myplace_review.csv',mode='a', index=False, header=False)"
   ]
  },
  {
   "cell_type": "markdown",
   "metadata": {},
   "source": [
    "#### 중복저장된 리뷰 확인 및 삭제"
   ]
  },
  {
   "cell_type": "code",
   "execution_count": 72,
   "metadata": {},
   "outputs": [
    {
     "data": {
      "text/html": [
       "<div>\n",
       "<style scoped>\n",
       "    .dataframe tbody tr th:only-of-type {\n",
       "        vertical-align: middle;\n",
       "    }\n",
       "\n",
       "    .dataframe tbody tr th {\n",
       "        vertical-align: top;\n",
       "    }\n",
       "\n",
       "    .dataframe thead th {\n",
       "        text-align: right;\n",
       "    }\n",
       "</style>\n",
       "<table border=\"1\" class=\"dataframe\">\n",
       "  <thead>\n",
       "    <tr style=\"text-align: right;\">\n",
       "      <th></th>\n",
       "      <th>name</th>\n",
       "      <th>loca</th>\n",
       "      <th>writer</th>\n",
       "      <th>review</th>\n",
       "      <th>point</th>\n",
       "      <th>emotion</th>\n",
       "    </tr>\n",
       "  </thead>\n",
       "  <tbody>\n",
       "    <tr>\n",
       "      <th>0</th>\n",
       "      <td>우시장정육식당</td>\n",
       "      <td>대전광역시</td>\n",
       "      <td>sor*********</td>\n",
       "      <td>두번째 방문인데도 존맛 입에서 사르르 녹아요정말 다른소고기집에서 느낄수 없는 맛이예...</td>\n",
       "      <td>5.0</td>\n",
       "      <td>positive</td>\n",
       "    </tr>\n",
       "    <tr>\n",
       "      <th>1</th>\n",
       "      <td>우시장정육식당</td>\n",
       "      <td>대전광역시</td>\n",
       "      <td>상큼녀</td>\n",
       "      <td>가게분위기도 너무좋고 직원분들도 너무 친절하시고 무엇보다 고기가 정말 입에서 살살 ...</td>\n",
       "      <td>5.0</td>\n",
       "      <td>positive</td>\n",
       "    </tr>\n",
       "    <tr>\n",
       "      <th>2</th>\n",
       "      <td>우시장정육식당</td>\n",
       "      <td>대전광역시</td>\n",
       "      <td>sor*********</td>\n",
       "      <td>사장님께서 직접 고기 설명 하나 하나 해주시고 육즙 하나 하나 너무 감사했습니다 너...</td>\n",
       "      <td>5.0</td>\n",
       "      <td>positive</td>\n",
       "    </tr>\n",
       "    <tr>\n",
       "      <th>3</th>\n",
       "      <td>우시장정육식당</td>\n",
       "      <td>대전광역시</td>\n",
       "      <td>이현옥</td>\n",
       "      <td>둘째가 조금만 질겨도안먹고 부채살만먹는데 정말 맛있게 잘먹었네요 넘 부드러워요</td>\n",
       "      <td>5.0</td>\n",
       "      <td>positive</td>\n",
       "    </tr>\n",
       "    <tr>\n",
       "      <th>4</th>\n",
       "      <td>우시장정육식당</td>\n",
       "      <td>대전광역시</td>\n",
       "      <td>이망고</td>\n",
       "      <td>친절하고 고기가 신선합니다 서비스로 사시미 한점씩 주시는데  넘적어요ㅜㅜ담엔 사시미...</td>\n",
       "      <td>4.0</td>\n",
       "      <td>positive</td>\n",
       "    </tr>\n",
       "    <tr>\n",
       "      <th>...</th>\n",
       "      <td>...</td>\n",
       "      <td>...</td>\n",
       "      <td>...</td>\n",
       "      <td>...</td>\n",
       "      <td>...</td>\n",
       "      <td>...</td>\n",
       "    </tr>\n",
       "    <tr>\n",
       "      <th>8086</th>\n",
       "      <td>섬과섬사이조개구이</td>\n",
       "      <td>보령시</td>\n",
       "      <td>두홍이</td>\n",
       "      <td>정말맛있었네요 소스올라간 조개들 굿굿 전복은 살아 움직일정도로 싱싱했어요</td>\n",
       "      <td>5.0</td>\n",
       "      <td>positive</td>\n",
       "    </tr>\n",
       "    <tr>\n",
       "      <th>8087</th>\n",
       "      <td>섬과섬사이조개구이</td>\n",
       "      <td>보령시</td>\n",
       "      <td>나무맘</td>\n",
       "      <td>여기 조개 신선도랑 양념은 인정 다만 무한리필 생각하고 넉넉한인심 기대하니는분들은 ...</td>\n",
       "      <td>2.0</td>\n",
       "      <td>negative</td>\n",
       "    </tr>\n",
       "    <tr>\n",
       "      <th>8088</th>\n",
       "      <td>섬과섬사이조개구이</td>\n",
       "      <td>보령시</td>\n",
       "      <td>크로와상</td>\n",
       "      <td>양념이 맛남 호객행위를 안해서인지 서비스로 뭐 팍팍 주는 건 없었다</td>\n",
       "      <td>4.0</td>\n",
       "      <td>positive</td>\n",
       "    </tr>\n",
       "    <tr>\n",
       "      <th>8089</th>\n",
       "      <td>섬과섬사이조개구이</td>\n",
       "      <td>보령시</td>\n",
       "      <td>란잉</td>\n",
       "      <td>칼국수 너무 짜요  조개구이도 먹다보면 너무 짜요</td>\n",
       "      <td>3.0</td>\n",
       "      <td>negative</td>\n",
       "    </tr>\n",
       "    <tr>\n",
       "      <th>8090</th>\n",
       "      <td>섬과섬사이조개구이</td>\n",
       "      <td>보령시</td>\n",
       "      <td>식대장</td>\n",
       "      <td>친절하고 조개구이랑 회 다 맛있어요 특히 조개구이 특제소스도 최고예요</td>\n",
       "      <td>5.0</td>\n",
       "      <td>positive</td>\n",
       "    </tr>\n",
       "  </tbody>\n",
       "</table>\n",
       "<p>8091 rows × 6 columns</p>\n",
       "</div>"
      ],
      "text/plain": [
       "           name   loca        writer  \\\n",
       "0       우시장정육식당  대전광역시  sor*********   \n",
       "1       우시장정육식당  대전광역시           상큼녀   \n",
       "2       우시장정육식당  대전광역시  sor*********   \n",
       "3       우시장정육식당  대전광역시           이현옥   \n",
       "4       우시장정육식당  대전광역시           이망고   \n",
       "...         ...    ...           ...   \n",
       "8086  섬과섬사이조개구이    보령시           두홍이   \n",
       "8087  섬과섬사이조개구이    보령시           나무맘   \n",
       "8088  섬과섬사이조개구이    보령시          크로와상   \n",
       "8089  섬과섬사이조개구이    보령시            란잉   \n",
       "8090  섬과섬사이조개구이    보령시           식대장   \n",
       "\n",
       "                                                 review  point   emotion  \n",
       "0     두번째 방문인데도 존맛 입에서 사르르 녹아요정말 다른소고기집에서 느낄수 없는 맛이예...    5.0  positive  \n",
       "1     가게분위기도 너무좋고 직원분들도 너무 친절하시고 무엇보다 고기가 정말 입에서 살살 ...    5.0  positive  \n",
       "2     사장님께서 직접 고기 설명 하나 하나 해주시고 육즙 하나 하나 너무 감사했습니다 너...    5.0  positive  \n",
       "3           둘째가 조금만 질겨도안먹고 부채살만먹는데 정말 맛있게 잘먹었네요 넘 부드러워요    5.0  positive  \n",
       "4     친절하고 고기가 신선합니다 서비스로 사시미 한점씩 주시는데  넘적어요ㅜㅜ담엔 사시미...    4.0  positive  \n",
       "...                                                 ...    ...       ...  \n",
       "8086           정말맛있었네요 소스올라간 조개들 굿굿 전복은 살아 움직일정도로 싱싱했어요    5.0  positive  \n",
       "8087  여기 조개 신선도랑 양념은 인정 다만 무한리필 생각하고 넉넉한인심 기대하니는분들은 ...    2.0  negative  \n",
       "8088              양념이 맛남 호객행위를 안해서인지 서비스로 뭐 팍팍 주는 건 없었다    4.0  positive  \n",
       "8089                        칼국수 너무 짜요  조개구이도 먹다보면 너무 짜요    3.0  negative  \n",
       "8090             친절하고 조개구이랑 회 다 맛있어요 특히 조개구이 특제소스도 최고예요    5.0  positive  \n",
       "\n",
       "[8091 rows x 6 columns]"
      ]
     },
     "execution_count": 72,
     "metadata": {},
     "output_type": "execute_result"
    }
   ],
   "source": [
    "columns = ['name','loca','writer','review','point','emotion']\n",
    "raw_datas = pd.read_csv('datas/naver_myplace_review.csv',names = columns)\n",
    "raw_datas"
   ]
  },
  {
   "cell_type": "code",
   "execution_count": 73,
   "metadata": {},
   "outputs": [
    {
     "data": {
      "text/html": [
       "<div>\n",
       "<style scoped>\n",
       "    .dataframe tbody tr th:only-of-type {\n",
       "        vertical-align: middle;\n",
       "    }\n",
       "\n",
       "    .dataframe tbody tr th {\n",
       "        vertical-align: top;\n",
       "    }\n",
       "\n",
       "    .dataframe thead th {\n",
       "        text-align: right;\n",
       "    }\n",
       "</style>\n",
       "<table border=\"1\" class=\"dataframe\">\n",
       "  <thead>\n",
       "    <tr style=\"text-align: right;\">\n",
       "      <th></th>\n",
       "      <th>name</th>\n",
       "      <th>loca</th>\n",
       "      <th>writer</th>\n",
       "      <th>review</th>\n",
       "      <th>point</th>\n",
       "      <th>emotion</th>\n",
       "    </tr>\n",
       "  </thead>\n",
       "  <tbody>\n",
       "    <tr>\n",
       "      <th>7315</th>\n",
       "      <td>도봉관</td>\n",
       "      <td>도봉구</td>\n",
       "      <td>andadasee</td>\n",
       "      <td>지나가면서 보기만 하다가 드디어왔네요 낮에오면예쁠것같아요 ㅋㅋ동네에 이규모에 예쁜카...</td>\n",
       "      <td>4.0</td>\n",
       "      <td>positive</td>\n",
       "    </tr>\n",
       "    <tr>\n",
       "      <th>7316</th>\n",
       "      <td>도봉관</td>\n",
       "      <td>도봉구</td>\n",
       "      <td>묵데기</td>\n",
       "      <td>커피도 맛있고 케잌 맛있어요</td>\n",
       "      <td>4.0</td>\n",
       "      <td>positive</td>\n",
       "    </tr>\n",
       "    <tr>\n",
       "      <th>7317</th>\n",
       "      <td>도봉관</td>\n",
       "      <td>도봉구</td>\n",
       "      <td>kgb1020</td>\n",
       "      <td>티라미수 케이크도 맛있네요 제 입맛엔 치즈케이크가 제일 맛있어요</td>\n",
       "      <td>4.5</td>\n",
       "      <td>positive</td>\n",
       "    </tr>\n",
       "    <tr>\n",
       "      <th>7318</th>\n",
       "      <td>도봉관</td>\n",
       "      <td>도봉구</td>\n",
       "      <td>The나은</td>\n",
       "      <td>치즈케이크 넘넘 맛있고 휘낭시에도 맛있어요 치즈케이크 생각나서 또 올 것 같아요  ...</td>\n",
       "      <td>5.0</td>\n",
       "      <td>positive</td>\n",
       "    </tr>\n",
       "    <tr>\n",
       "      <th>7319</th>\n",
       "      <td>도봉관</td>\n",
       "      <td>도봉구</td>\n",
       "      <td>flo*****</td>\n",
       "      <td>치즈 케이크 맛있어용</td>\n",
       "      <td>5.0</td>\n",
       "      <td>positive</td>\n",
       "    </tr>\n",
       "    <tr>\n",
       "      <th>...</th>\n",
       "      <td>...</td>\n",
       "      <td>...</td>\n",
       "      <td>...</td>\n",
       "      <td>...</td>\n",
       "      <td>...</td>\n",
       "      <td>...</td>\n",
       "    </tr>\n",
       "    <tr>\n",
       "      <th>8086</th>\n",
       "      <td>섬과섬사이조개구이</td>\n",
       "      <td>보령시</td>\n",
       "      <td>두홍이</td>\n",
       "      <td>정말맛있었네요 소스올라간 조개들 굿굿 전복은 살아 움직일정도로 싱싱했어요</td>\n",
       "      <td>5.0</td>\n",
       "      <td>positive</td>\n",
       "    </tr>\n",
       "    <tr>\n",
       "      <th>8087</th>\n",
       "      <td>섬과섬사이조개구이</td>\n",
       "      <td>보령시</td>\n",
       "      <td>나무맘</td>\n",
       "      <td>여기 조개 신선도랑 양념은 인정 다만 무한리필 생각하고 넉넉한인심 기대하니는분들은 ...</td>\n",
       "      <td>2.0</td>\n",
       "      <td>negative</td>\n",
       "    </tr>\n",
       "    <tr>\n",
       "      <th>8088</th>\n",
       "      <td>섬과섬사이조개구이</td>\n",
       "      <td>보령시</td>\n",
       "      <td>크로와상</td>\n",
       "      <td>양념이 맛남 호객행위를 안해서인지 서비스로 뭐 팍팍 주는 건 없었다</td>\n",
       "      <td>4.0</td>\n",
       "      <td>positive</td>\n",
       "    </tr>\n",
       "    <tr>\n",
       "      <th>8089</th>\n",
       "      <td>섬과섬사이조개구이</td>\n",
       "      <td>보령시</td>\n",
       "      <td>란잉</td>\n",
       "      <td>칼국수 너무 짜요  조개구이도 먹다보면 너무 짜요</td>\n",
       "      <td>3.0</td>\n",
       "      <td>negative</td>\n",
       "    </tr>\n",
       "    <tr>\n",
       "      <th>8090</th>\n",
       "      <td>섬과섬사이조개구이</td>\n",
       "      <td>보령시</td>\n",
       "      <td>식대장</td>\n",
       "      <td>친절하고 조개구이랑 회 다 맛있어요 특히 조개구이 특제소스도 최고예요</td>\n",
       "      <td>5.0</td>\n",
       "      <td>positive</td>\n",
       "    </tr>\n",
       "  </tbody>\n",
       "</table>\n",
       "<p>767 rows × 6 columns</p>\n",
       "</div>"
      ],
      "text/plain": [
       "           name loca     writer  \\\n",
       "7315        도봉관  도봉구  andadasee   \n",
       "7316        도봉관  도봉구        묵데기   \n",
       "7317        도봉관  도봉구    kgb1020   \n",
       "7318        도봉관  도봉구      The나은   \n",
       "7319        도봉관  도봉구   flo*****   \n",
       "...         ...  ...        ...   \n",
       "8086  섬과섬사이조개구이  보령시        두홍이   \n",
       "8087  섬과섬사이조개구이  보령시        나무맘   \n",
       "8088  섬과섬사이조개구이  보령시       크로와상   \n",
       "8089  섬과섬사이조개구이  보령시         란잉   \n",
       "8090  섬과섬사이조개구이  보령시        식대장   \n",
       "\n",
       "                                                 review  point   emotion  \n",
       "7315  지나가면서 보기만 하다가 드디어왔네요 낮에오면예쁠것같아요 ㅋㅋ동네에 이규모에 예쁜카...    4.0  positive  \n",
       "7316                                    커피도 맛있고 케잌 맛있어요    4.0  positive  \n",
       "7317                티라미수 케이크도 맛있네요 제 입맛엔 치즈케이크가 제일 맛있어요    4.5  positive  \n",
       "7318  치즈케이크 넘넘 맛있고 휘낭시에도 맛있어요 치즈케이크 생각나서 또 올 것 같아요  ...    5.0  positive  \n",
       "7319                                        치즈 케이크 맛있어용    5.0  positive  \n",
       "...                                                 ...    ...       ...  \n",
       "8086           정말맛있었네요 소스올라간 조개들 굿굿 전복은 살아 움직일정도로 싱싱했어요    5.0  positive  \n",
       "8087  여기 조개 신선도랑 양념은 인정 다만 무한리필 생각하고 넉넉한인심 기대하니는분들은 ...    2.0  negative  \n",
       "8088              양념이 맛남 호객행위를 안해서인지 서비스로 뭐 팍팍 주는 건 없었다    4.0  positive  \n",
       "8089                        칼국수 너무 짜요  조개구이도 먹다보면 너무 짜요    3.0  negative  \n",
       "8090             친절하고 조개구이랑 회 다 맛있어요 특히 조개구이 특제소스도 최고예요    5.0  positive  \n",
       "\n",
       "[767 rows x 6 columns]"
      ]
     },
     "execution_count": 73,
     "metadata": {},
     "output_type": "execute_result"
    }
   ],
   "source": [
    "raw_datas[raw_datas.duplicated(['review','writer'])]"
   ]
  },
  {
   "cell_type": "code",
   "execution_count": 74,
   "metadata": {},
   "outputs": [
    {
     "data": {
      "text/html": [
       "<div>\n",
       "<style scoped>\n",
       "    .dataframe tbody tr th:only-of-type {\n",
       "        vertical-align: middle;\n",
       "    }\n",
       "\n",
       "    .dataframe tbody tr th {\n",
       "        vertical-align: top;\n",
       "    }\n",
       "\n",
       "    .dataframe thead th {\n",
       "        text-align: right;\n",
       "    }\n",
       "</style>\n",
       "<table border=\"1\" class=\"dataframe\">\n",
       "  <thead>\n",
       "    <tr style=\"text-align: right;\">\n",
       "      <th></th>\n",
       "      <th>name</th>\n",
       "      <th>loca</th>\n",
       "      <th>writer</th>\n",
       "      <th>review</th>\n",
       "      <th>point</th>\n",
       "      <th>emotion</th>\n",
       "    </tr>\n",
       "  </thead>\n",
       "  <tbody>\n",
       "    <tr>\n",
       "      <th>0</th>\n",
       "      <td>우시장정육식당</td>\n",
       "      <td>대전광역시</td>\n",
       "      <td>sor*********</td>\n",
       "      <td>두번째 방문인데도 존맛 입에서 사르르 녹아요정말 다른소고기집에서 느낄수 없는 맛이예...</td>\n",
       "      <td>5.0</td>\n",
       "      <td>positive</td>\n",
       "    </tr>\n",
       "    <tr>\n",
       "      <th>1</th>\n",
       "      <td>우시장정육식당</td>\n",
       "      <td>대전광역시</td>\n",
       "      <td>상큼녀</td>\n",
       "      <td>가게분위기도 너무좋고 직원분들도 너무 친절하시고 무엇보다 고기가 정말 입에서 살살 ...</td>\n",
       "      <td>5.0</td>\n",
       "      <td>positive</td>\n",
       "    </tr>\n",
       "    <tr>\n",
       "      <th>2</th>\n",
       "      <td>우시장정육식당</td>\n",
       "      <td>대전광역시</td>\n",
       "      <td>sor*********</td>\n",
       "      <td>사장님께서 직접 고기 설명 하나 하나 해주시고 육즙 하나 하나 너무 감사했습니다 너...</td>\n",
       "      <td>5.0</td>\n",
       "      <td>positive</td>\n",
       "    </tr>\n",
       "    <tr>\n",
       "      <th>3</th>\n",
       "      <td>우시장정육식당</td>\n",
       "      <td>대전광역시</td>\n",
       "      <td>이현옥</td>\n",
       "      <td>둘째가 조금만 질겨도안먹고 부채살만먹는데 정말 맛있게 잘먹었네요 넘 부드러워요</td>\n",
       "      <td>5.0</td>\n",
       "      <td>positive</td>\n",
       "    </tr>\n",
       "    <tr>\n",
       "      <th>4</th>\n",
       "      <td>우시장정육식당</td>\n",
       "      <td>대전광역시</td>\n",
       "      <td>이망고</td>\n",
       "      <td>친절하고 고기가 신선합니다 서비스로 사시미 한점씩 주시는데  넘적어요ㅜㅜ담엔 사시미...</td>\n",
       "      <td>4.0</td>\n",
       "      <td>positive</td>\n",
       "    </tr>\n",
       "    <tr>\n",
       "      <th>...</th>\n",
       "      <td>...</td>\n",
       "      <td>...</td>\n",
       "      <td>...</td>\n",
       "      <td>...</td>\n",
       "      <td>...</td>\n",
       "      <td>...</td>\n",
       "    </tr>\n",
       "    <tr>\n",
       "      <th>7319</th>\n",
       "      <td>안녕베트남</td>\n",
       "      <td>관악구</td>\n",
       "      <td>밍뚱</td>\n",
       "      <td>맛있어요 ㅠㅠ JMT</td>\n",
       "      <td>5.0</td>\n",
       "      <td>positive</td>\n",
       "    </tr>\n",
       "    <tr>\n",
       "      <th>7320</th>\n",
       "      <td>덩그러니</td>\n",
       "      <td>인천광역시</td>\n",
       "      <td>cha110125</td>\n",
       "      <td>좋아요</td>\n",
       "      <td>4.0</td>\n",
       "      <td>positive</td>\n",
       "    </tr>\n",
       "    <tr>\n",
       "      <th>7321</th>\n",
       "      <td>만옥당</td>\n",
       "      <td>송파구</td>\n",
       "      <td>한번뿐인인생</td>\n",
       "      <td>좋아요 만족스러운 식사였습니다</td>\n",
       "      <td>4.0</td>\n",
       "      <td>positive</td>\n",
       "    </tr>\n",
       "    <tr>\n",
       "      <th>7322</th>\n",
       "      <td>아트몬스터 익선동점</td>\n",
       "      <td>종로구</td>\n",
       "      <td>백지원</td>\n",
       "      <td>no7먹었는데 진짜 달달구리하니 너무 맛있엏어요ㅜㅜ 근데 예약하고가면 감튀나 나초 ...</td>\n",
       "      <td>4.5</td>\n",
       "      <td>positive</td>\n",
       "    </tr>\n",
       "    <tr>\n",
       "      <th>7323</th>\n",
       "      <td>섬과섬사이조개구이</td>\n",
       "      <td>보령시</td>\n",
       "      <td>양갈비</td>\n",
       "      <td>1148 sns에서 인기 많길래 친구랑 같이 기대하고 가봤는데 날이 따뜻해서 그런지...</td>\n",
       "      <td>1.0</td>\n",
       "      <td>negative</td>\n",
       "    </tr>\n",
       "  </tbody>\n",
       "</table>\n",
       "<p>7324 rows × 6 columns</p>\n",
       "</div>"
      ],
      "text/plain": [
       "            name   loca        writer  \\\n",
       "0        우시장정육식당  대전광역시  sor*********   \n",
       "1        우시장정육식당  대전광역시           상큼녀   \n",
       "2        우시장정육식당  대전광역시  sor*********   \n",
       "3        우시장정육식당  대전광역시           이현옥   \n",
       "4        우시장정육식당  대전광역시           이망고   \n",
       "...          ...    ...           ...   \n",
       "7319       안녕베트남    관악구            밍뚱   \n",
       "7320        덩그러니  인천광역시     cha110125   \n",
       "7321         만옥당    송파구        한번뿐인인생   \n",
       "7322  아트몬스터 익선동점    종로구           백지원   \n",
       "7323   섬과섬사이조개구이    보령시           양갈비   \n",
       "\n",
       "                                                 review  point   emotion  \n",
       "0     두번째 방문인데도 존맛 입에서 사르르 녹아요정말 다른소고기집에서 느낄수 없는 맛이예...    5.0  positive  \n",
       "1     가게분위기도 너무좋고 직원분들도 너무 친절하시고 무엇보다 고기가 정말 입에서 살살 ...    5.0  positive  \n",
       "2     사장님께서 직접 고기 설명 하나 하나 해주시고 육즙 하나 하나 너무 감사했습니다 너...    5.0  positive  \n",
       "3           둘째가 조금만 질겨도안먹고 부채살만먹는데 정말 맛있게 잘먹었네요 넘 부드러워요    5.0  positive  \n",
       "4     친절하고 고기가 신선합니다 서비스로 사시미 한점씩 주시는데  넘적어요ㅜㅜ담엔 사시미...    4.0  positive  \n",
       "...                                                 ...    ...       ...  \n",
       "7319                                        맛있어요 ㅠㅠ JMT    5.0  positive  \n",
       "7320                                                좋아요    4.0  positive  \n",
       "7321                                   좋아요 만족스러운 식사였습니다    4.0  positive  \n",
       "7322  no7먹었는데 진짜 달달구리하니 너무 맛있엏어요ㅜㅜ 근데 예약하고가면 감튀나 나초 ...    4.5  positive  \n",
       "7323  1148 sns에서 인기 많길래 친구랑 같이 기대하고 가봤는데 날이 따뜻해서 그런지...    1.0  negative  \n",
       "\n",
       "[7324 rows x 6 columns]"
      ]
     },
     "execution_count": 74,
     "metadata": {},
     "output_type": "execute_result"
    }
   ],
   "source": [
    "raw_datas.drop_duplicates(['review','writer'], keep='first', inplace = True)\n",
    "raw_datas.reset_index(drop = True, inplace= True)\n",
    "raw_datas"
   ]
  },
  {
   "cell_type": "markdown",
   "metadata": {},
   "source": [
    "#### 중복삭제 시킨 후 다시 저장 후 확인"
   ]
  },
  {
   "cell_type": "code",
   "execution_count": 75,
   "metadata": {},
   "outputs": [],
   "source": [
    "raw_datas.to_csv('datas/naver_myplace_review.csv',index=False, header=False)"
   ]
  },
  {
   "cell_type": "code",
   "execution_count": 76,
   "metadata": {},
   "outputs": [
    {
     "data": {
      "text/html": [
       "<div>\n",
       "<style scoped>\n",
       "    .dataframe tbody tr th:only-of-type {\n",
       "        vertical-align: middle;\n",
       "    }\n",
       "\n",
       "    .dataframe tbody tr th {\n",
       "        vertical-align: top;\n",
       "    }\n",
       "\n",
       "    .dataframe thead th {\n",
       "        text-align: right;\n",
       "    }\n",
       "</style>\n",
       "<table border=\"1\" class=\"dataframe\">\n",
       "  <thead>\n",
       "    <tr style=\"text-align: right;\">\n",
       "      <th></th>\n",
       "      <th>name</th>\n",
       "      <th>loca</th>\n",
       "      <th>writer</th>\n",
       "      <th>review</th>\n",
       "      <th>point</th>\n",
       "      <th>emotion</th>\n",
       "    </tr>\n",
       "  </thead>\n",
       "  <tbody>\n",
       "    <tr>\n",
       "      <th>0</th>\n",
       "      <td>우시장정육식당</td>\n",
       "      <td>대전광역시</td>\n",
       "      <td>sor*********</td>\n",
       "      <td>두번째 방문인데도 존맛 입에서 사르르 녹아요정말 다른소고기집에서 느낄수 없는 맛이예...</td>\n",
       "      <td>5.0</td>\n",
       "      <td>positive</td>\n",
       "    </tr>\n",
       "    <tr>\n",
       "      <th>1</th>\n",
       "      <td>우시장정육식당</td>\n",
       "      <td>대전광역시</td>\n",
       "      <td>상큼녀</td>\n",
       "      <td>가게분위기도 너무좋고 직원분들도 너무 친절하시고 무엇보다 고기가 정말 입에서 살살 ...</td>\n",
       "      <td>5.0</td>\n",
       "      <td>positive</td>\n",
       "    </tr>\n",
       "    <tr>\n",
       "      <th>2</th>\n",
       "      <td>우시장정육식당</td>\n",
       "      <td>대전광역시</td>\n",
       "      <td>sor*********</td>\n",
       "      <td>사장님께서 직접 고기 설명 하나 하나 해주시고 육즙 하나 하나 너무 감사했습니다 너...</td>\n",
       "      <td>5.0</td>\n",
       "      <td>positive</td>\n",
       "    </tr>\n",
       "    <tr>\n",
       "      <th>3</th>\n",
       "      <td>우시장정육식당</td>\n",
       "      <td>대전광역시</td>\n",
       "      <td>이현옥</td>\n",
       "      <td>둘째가 조금만 질겨도안먹고 부채살만먹는데 정말 맛있게 잘먹었네요 넘 부드러워요</td>\n",
       "      <td>5.0</td>\n",
       "      <td>positive</td>\n",
       "    </tr>\n",
       "    <tr>\n",
       "      <th>4</th>\n",
       "      <td>우시장정육식당</td>\n",
       "      <td>대전광역시</td>\n",
       "      <td>이망고</td>\n",
       "      <td>친절하고 고기가 신선합니다 서비스로 사시미 한점씩 주시는데  넘적어요ㅜㅜ담엔 사시미...</td>\n",
       "      <td>4.0</td>\n",
       "      <td>positive</td>\n",
       "    </tr>\n",
       "    <tr>\n",
       "      <th>...</th>\n",
       "      <td>...</td>\n",
       "      <td>...</td>\n",
       "      <td>...</td>\n",
       "      <td>...</td>\n",
       "      <td>...</td>\n",
       "      <td>...</td>\n",
       "    </tr>\n",
       "    <tr>\n",
       "      <th>7319</th>\n",
       "      <td>안녕베트남</td>\n",
       "      <td>관악구</td>\n",
       "      <td>밍뚱</td>\n",
       "      <td>맛있어요 ㅠㅠ JMT</td>\n",
       "      <td>5.0</td>\n",
       "      <td>positive</td>\n",
       "    </tr>\n",
       "    <tr>\n",
       "      <th>7320</th>\n",
       "      <td>덩그러니</td>\n",
       "      <td>인천광역시</td>\n",
       "      <td>cha110125</td>\n",
       "      <td>좋아요</td>\n",
       "      <td>4.0</td>\n",
       "      <td>positive</td>\n",
       "    </tr>\n",
       "    <tr>\n",
       "      <th>7321</th>\n",
       "      <td>만옥당</td>\n",
       "      <td>송파구</td>\n",
       "      <td>한번뿐인인생</td>\n",
       "      <td>좋아요 만족스러운 식사였습니다</td>\n",
       "      <td>4.0</td>\n",
       "      <td>positive</td>\n",
       "    </tr>\n",
       "    <tr>\n",
       "      <th>7322</th>\n",
       "      <td>아트몬스터 익선동점</td>\n",
       "      <td>종로구</td>\n",
       "      <td>백지원</td>\n",
       "      <td>no7먹었는데 진짜 달달구리하니 너무 맛있엏어요ㅜㅜ 근데 예약하고가면 감튀나 나초 ...</td>\n",
       "      <td>4.5</td>\n",
       "      <td>positive</td>\n",
       "    </tr>\n",
       "    <tr>\n",
       "      <th>7323</th>\n",
       "      <td>섬과섬사이조개구이</td>\n",
       "      <td>보령시</td>\n",
       "      <td>양갈비</td>\n",
       "      <td>1148 sns에서 인기 많길래 친구랑 같이 기대하고 가봤는데 날이 따뜻해서 그런지...</td>\n",
       "      <td>1.0</td>\n",
       "      <td>negative</td>\n",
       "    </tr>\n",
       "  </tbody>\n",
       "</table>\n",
       "<p>7324 rows × 6 columns</p>\n",
       "</div>"
      ],
      "text/plain": [
       "            name   loca        writer  \\\n",
       "0        우시장정육식당  대전광역시  sor*********   \n",
       "1        우시장정육식당  대전광역시           상큼녀   \n",
       "2        우시장정육식당  대전광역시  sor*********   \n",
       "3        우시장정육식당  대전광역시           이현옥   \n",
       "4        우시장정육식당  대전광역시           이망고   \n",
       "...          ...    ...           ...   \n",
       "7319       안녕베트남    관악구            밍뚱   \n",
       "7320        덩그러니  인천광역시     cha110125   \n",
       "7321         만옥당    송파구        한번뿐인인생   \n",
       "7322  아트몬스터 익선동점    종로구           백지원   \n",
       "7323   섬과섬사이조개구이    보령시           양갈비   \n",
       "\n",
       "                                                 review  point   emotion  \n",
       "0     두번째 방문인데도 존맛 입에서 사르르 녹아요정말 다른소고기집에서 느낄수 없는 맛이예...    5.0  positive  \n",
       "1     가게분위기도 너무좋고 직원분들도 너무 친절하시고 무엇보다 고기가 정말 입에서 살살 ...    5.0  positive  \n",
       "2     사장님께서 직접 고기 설명 하나 하나 해주시고 육즙 하나 하나 너무 감사했습니다 너...    5.0  positive  \n",
       "3           둘째가 조금만 질겨도안먹고 부채살만먹는데 정말 맛있게 잘먹었네요 넘 부드러워요    5.0  positive  \n",
       "4     친절하고 고기가 신선합니다 서비스로 사시미 한점씩 주시는데  넘적어요ㅜㅜ담엔 사시미...    4.0  positive  \n",
       "...                                                 ...    ...       ...  \n",
       "7319                                        맛있어요 ㅠㅠ JMT    5.0  positive  \n",
       "7320                                                좋아요    4.0  positive  \n",
       "7321                                   좋아요 만족스러운 식사였습니다    4.0  positive  \n",
       "7322  no7먹었는데 진짜 달달구리하니 너무 맛있엏어요ㅜㅜ 근데 예약하고가면 감튀나 나초 ...    4.5  positive  \n",
       "7323  1148 sns에서 인기 많길래 친구랑 같이 기대하고 가봤는데 날이 따뜻해서 그런지...    1.0  negative  \n",
       "\n",
       "[7324 rows x 6 columns]"
      ]
     },
     "execution_count": 76,
     "metadata": {},
     "output_type": "execute_result"
    }
   ],
   "source": [
    "columns = ['name','loca','writer','review','point','emotion']\n",
    "raw_datas = pd.read_csv('datas/naver_myplace_review.csv',names = columns)\n",
    "raw_datas"
   ]
  },
  {
   "cell_type": "code",
   "execution_count": 77,
   "metadata": {},
   "outputs": [
    {
     "data": {
      "text/plain": [
       "7324"
      ]
     },
     "execution_count": 77,
     "metadata": {},
     "output_type": "execute_result"
    }
   ],
   "source": [
    "len(raw_datas)"
   ]
  },
  {
   "cell_type": "code",
   "execution_count": 78,
   "metadata": {},
   "outputs": [
    {
     "data": {
      "text/plain": [
       "328"
      ]
     },
     "execution_count": 78,
     "metadata": {},
     "output_type": "execute_result"
    }
   ],
   "source": [
    "len(raw_datas['name'].unique())"
   ]
  },
  {
   "cell_type": "markdown",
   "metadata": {},
   "source": [
    "## 아래는 코드작성할때 쓴 내용입니다. 안보셔도됨"
   ]
  },
  {
   "cell_type": "markdown",
   "metadata": {},
   "source": [
    "#### 드라이버 열기"
   ]
  },
  {
   "cell_type": "code",
   "execution_count": 653,
   "metadata": {},
   "outputs": [],
   "source": [
    "url = 'https://m.place.naver.com/my/pick'\n",
    "driver = webdriver.Chrome('./driver/chromedriver.exe')\n",
    "driver.get(url)"
   ]
  },
  {
   "cell_type": "markdown",
   "metadata": {},
   "source": [
    "#### 링크 가져오기"
   ]
  },
  {
   "cell_type": "code",
   "execution_count": 236,
   "metadata": {},
   "outputs": [],
   "source": [
    "# 페이지 제일 아래로 내려보내기\n",
    "def scroll_main(num):\n",
    "    for i in range(num):\n",
    "        # Scroll down to bottom                                                     \n",
    "        driver.execute_script(\"window.scrollTo(0, document.body.scrollHeight);\")\n",
    "        # Wait to load page\n",
    "        time.sleep(0.5)\n",
    "    driver.execute_script(\"window.scrollTo(0, 0);\")"
   ]
  },
  {
   "cell_type": "code",
   "execution_count": 12,
   "metadata": {},
   "outputs": [],
   "source": [
    "all_name = driver.find_elements_by_xpath('/html/body/div[3]/div[4]/div/div/div[1]/button/div/div[2]')\n",
    "all_link = driver.find_elements_by_xpath('/html/body/div[3]/div[4]/div/div/div[1]/button/div')\n",
    "all_loca = driver.find_elements_by_xpath('/html/body/div[3]/div[4]/div/div/div[1]/button/div/div[1]/div[1]')"
   ]
  },
  {
   "cell_type": "code",
   "execution_count": 237,
   "metadata": {},
   "outputs": [],
   "source": [
    "scroll_main(3)"
   ]
  },
  {
   "cell_type": "code",
   "execution_count": 238,
   "metadata": {},
   "outputs": [
    {
     "name": "stdout",
     "output_type": "stream",
     "text": [
      "1\n",
      "여기서 부터 상세페이지 크롤링\n",
      "100\n",
      "2\n",
      "여기서 부터 상세페이지 크롤링\n",
      "100\n",
      "3\n",
      "여기서 부터 상세페이지 크롤링\n",
      "100\n",
      "4\n",
      "여기서 부터 상세페이지 크롤링\n",
      "100\n",
      "5\n",
      "여기서 부터 상세페이지 크롤링\n",
      "100\n",
      "6\n",
      "여기서 부터 상세페이지 크롤링\n",
      "100\n",
      "7\n",
      "여기서 부터 상세페이지 크롤링\n",
      "100\n",
      "8\n",
      "여기서 부터 상세페이지 크롤링\n",
      "100\n",
      "9\n",
      "여기서 부터 상세페이지 크롤링\n",
      "100\n",
      "10\n",
      "여기서 부터 상세페이지 크롤링\n",
      "100\n",
      "11\n",
      "여기서 부터 상세페이지 크롤링\n",
      "100\n",
      "12\n",
      "여기서 부터 상세페이지 크롤링\n",
      "100\n",
      "13\n",
      "여기서 부터 상세페이지 크롤링\n",
      "100\n",
      "14\n",
      "여기서 부터 상세페이지 크롤링\n",
      "100\n",
      "15\n",
      "여기서 부터 상세페이지 크롤링\n",
      "100\n",
      "16\n",
      "여기서 부터 상세페이지 크롤링\n",
      "100\n",
      "17\n",
      "여기서 부터 상세페이지 크롤링\n",
      "100\n",
      "18\n",
      "여기서 부터 상세페이지 크롤링\n",
      "100\n",
      "19\n",
      "여기서 부터 상세페이지 크롤링\n",
      "100\n",
      "20\n",
      "여기서 부터 상세페이지 크롤링\n",
      "100\n",
      "21\n",
      "여기서 부터 상세페이지 크롤링\n",
      "100\n",
      "22\n",
      "여기서 부터 상세페이지 크롤링\n",
      "100\n",
      "23\n",
      "여기서 부터 상세페이지 크롤링\n",
      "100\n",
      "24\n",
      "여기서 부터 상세페이지 크롤링\n",
      "100\n",
      "25\n",
      "여기서 부터 상세페이지 크롤링\n",
      "100\n",
      "26\n",
      "여기서 부터 상세페이지 크롤링\n",
      "100\n",
      "27\n",
      "여기서 부터 상세페이지 크롤링\n",
      "100\n",
      "28\n",
      "여기서 부터 상세페이지 크롤링\n",
      "100\n",
      "29\n",
      "여기서 부터 상세페이지 크롤링\n",
      "100\n",
      "30\n",
      "여기서 부터 상세페이지 크롤링\n",
      "100\n",
      "31\n",
      "여기서 부터 상세페이지 크롤링\n",
      "100\n",
      "32\n",
      "여기서 부터 상세페이지 크롤링\n",
      "100\n",
      "33\n",
      "여기서 부터 상세페이지 크롤링\n",
      "100\n",
      "34\n",
      "여기서 부터 상세페이지 크롤링\n",
      "100\n",
      "35\n",
      "여기서 부터 상세페이지 크롤링\n",
      "100\n",
      "36\n",
      "여기서 부터 상세페이지 크롤링\n",
      "100\n",
      "37\n",
      "여기서 부터 상세페이지 크롤링\n"
     ]
    },
    {
     "ename": "KeyboardInterrupt",
     "evalue": "",
     "output_type": "error",
     "traceback": [
      "\u001b[1;31m---------------------------------------------------------------------------\u001b[0m",
      "\u001b[1;31mKeyboardInterrupt\u001b[0m                         Traceback (most recent call last)",
      "\u001b[1;32m<ipython-input-238-be1025819daa>\u001b[0m in \u001b[0;36m<module>\u001b[1;34m\u001b[0m\n\u001b[0;32m      9\u001b[0m     \u001b[0mdriver\u001b[0m\u001b[1;33m.\u001b[0m\u001b[0mback\u001b[0m\u001b[1;33m(\u001b[0m\u001b[1;33m)\u001b[0m\u001b[1;33m\u001b[0m\u001b[1;33m\u001b[0m\u001b[0m\n\u001b[0;32m     10\u001b[0m     \u001b[0mdriver\u001b[0m\u001b[1;33m.\u001b[0m\u001b[0mexecute_script\u001b[0m\u001b[1;33m(\u001b[0m\u001b[1;34m\"window.scrollTo(0, 0);\"\u001b[0m\u001b[1;33m)\u001b[0m\u001b[1;33m\u001b[0m\u001b[1;33m\u001b[0m\u001b[0m\n\u001b[1;32m---> 11\u001b[1;33m     \u001b[0mtime\u001b[0m\u001b[1;33m.\u001b[0m\u001b[0msleep\u001b[0m\u001b[1;33m(\u001b[0m\u001b[1;36m0.5\u001b[0m\u001b[1;33m)\u001b[0m\u001b[1;33m\u001b[0m\u001b[1;33m\u001b[0m\u001b[0m\n\u001b[0m\u001b[0;32m     12\u001b[0m     \u001b[0mprint\u001b[0m\u001b[1;33m(\u001b[0m\u001b[0mlen\u001b[0m\u001b[1;33m(\u001b[0m\u001b[0mall_link\u001b[0m\u001b[1;33m)\u001b[0m\u001b[1;33m)\u001b[0m\u001b[1;33m\u001b[0m\u001b[1;33m\u001b[0m\u001b[0m\n",
      "\u001b[1;31mKeyboardInterrupt\u001b[0m: "
     ]
    }
   ],
   "source": [
    "all_link = driver.find_elements_by_xpath('/html/body/div[3]/div[4]/div/div/div[1]/button/div')\n",
    "all_name = driver.find_elements_by_xpath('/html/body/div[3]/div[4]/div/div/div[1]/button/div/div[2]')\n",
    "all_loca = driver.find_elements_by_xpath('/html/body/div[3]/div[4]/div/div/div[1]/button/div/div[1]/div[1]')\n",
    "\n",
    "for i in range(len(all_link)):\n",
    "    i = i+1\n",
    "    print(i)\n",
    "    link = driver.find_element_by_xpath(f'/html/body/div[3]/div[4]/div/div/div[1]/button[{i}]/div')\n",
    "    name = driver.find_element_by_xpath(f'/html/body/div[3]/div[4]/div/div/div[1]/button[{i}]/div/div[2]')\n",
    "    loca = driver.find_element_by_xpath(f'/html/body/div[3]/div[4]/div/div/div[1]/button[{i}]/div/div[1]/div[1]')\n",
    "    link.click()\n",
    "    time.sleep(0.5)\n",
    "    print('여기서 부터 상세페이지 크롤링')\n",
    "    driver.back()\n",
    "    driver.execute_script(\"window.scrollTo(0, 0);\")\n",
    "    time.sleep(0.5)\n",
    "    print(len(all_link))"
   ]
  },
  {
   "cell_type": "markdown",
   "metadata": {},
   "source": [
    "#### 전체리뷰 불러오기"
   ]
  },
  {
   "cell_type": "code",
   "execution_count": 463,
   "metadata": {},
   "outputs": [],
   "source": [
    "# 페이지 제일 아래로 내려보내기\n",
    "def scroll_detail(num):\n",
    "    last_height = driver.execute_script(\"return document.body.scrollHeight\") \n",
    "    while True:\n",
    "        for i in range(num):\n",
    "            # Scroll down to bottom                                                     \n",
    "            driver.execute_script(\"window.scrollTo(0, document.body.scrollHeight);\")\n",
    "            # Wait to load page\n",
    "            time.sleep(0.5)\n",
    "            # Calculate new scroll height and compare with last scroll height\n",
    "            new_height = driver.execute_script(\"return document.body.scrollHeight\")\n",
    "        if new_height == last_height:                                               \n",
    "            break\n",
    "        last_height = new_height"
   ]
  },
  {
   "cell_type": "code",
   "execution_count": 464,
   "metadata": {},
   "outputs": [
    {
     "ename": "WebDriverException",
     "evalue": "Message: chrome not reachable\n  (Session info: chrome=81.0.4044.129)\n",
     "output_type": "error",
     "traceback": [
      "\u001b[1;31m---------------------------------------------------------------------------\u001b[0m",
      "\u001b[1;31mWebDriverException\u001b[0m                        Traceback (most recent call last)",
      "\u001b[1;32m<ipython-input-464-756f6358677f>\u001b[0m in \u001b[0;36m<module>\u001b[1;34m\u001b[0m\n\u001b[1;32m----> 1\u001b[1;33m \u001b[0mscroll_detail\u001b[0m\u001b[1;33m(\u001b[0m\u001b[1;36m5\u001b[0m\u001b[1;33m)\u001b[0m\u001b[1;33m\u001b[0m\u001b[1;33m\u001b[0m\u001b[0m\n\u001b[0m",
      "\u001b[1;32m<ipython-input-463-83fad291066a>\u001b[0m in \u001b[0;36mscroll_detail\u001b[1;34m(num)\u001b[0m\n\u001b[0;32m      1\u001b[0m \u001b[1;31m# 페이지 제일 아래로 내려보내기\u001b[0m\u001b[1;33m\u001b[0m\u001b[1;33m\u001b[0m\u001b[1;33m\u001b[0m\u001b[0m\n\u001b[0;32m      2\u001b[0m \u001b[1;32mdef\u001b[0m \u001b[0mscroll_detail\u001b[0m\u001b[1;33m(\u001b[0m\u001b[0mnum\u001b[0m\u001b[1;33m)\u001b[0m\u001b[1;33m:\u001b[0m\u001b[1;33m\u001b[0m\u001b[1;33m\u001b[0m\u001b[0m\n\u001b[1;32m----> 3\u001b[1;33m     \u001b[0mlast_height\u001b[0m \u001b[1;33m=\u001b[0m \u001b[0mdriver\u001b[0m\u001b[1;33m.\u001b[0m\u001b[0mexecute_script\u001b[0m\u001b[1;33m(\u001b[0m\u001b[1;34m\"return document.body.scrollHeight\"\u001b[0m\u001b[1;33m)\u001b[0m\u001b[1;33m\u001b[0m\u001b[1;33m\u001b[0m\u001b[0m\n\u001b[0m\u001b[0;32m      4\u001b[0m     \u001b[1;32mwhile\u001b[0m \u001b[1;32mTrue\u001b[0m\u001b[1;33m:\u001b[0m\u001b[1;33m\u001b[0m\u001b[1;33m\u001b[0m\u001b[0m\n\u001b[0;32m      5\u001b[0m         \u001b[1;32mfor\u001b[0m \u001b[0mi\u001b[0m \u001b[1;32min\u001b[0m \u001b[0mrange\u001b[0m\u001b[1;33m(\u001b[0m\u001b[0mnum\u001b[0m\u001b[1;33m)\u001b[0m\u001b[1;33m:\u001b[0m\u001b[1;33m\u001b[0m\u001b[1;33m\u001b[0m\u001b[0m\n",
      "\u001b[1;32mC:\\ProgramData\\Anaconda3\\lib\\site-packages\\selenium\\webdriver\\remote\\webdriver.py\u001b[0m in \u001b[0;36mexecute_script\u001b[1;34m(self, script, *args)\u001b[0m\n\u001b[0;32m    634\u001b[0m         return self.execute(command, {\n\u001b[0;32m    635\u001b[0m             \u001b[1;34m'script'\u001b[0m\u001b[1;33m:\u001b[0m \u001b[0mscript\u001b[0m\u001b[1;33m,\u001b[0m\u001b[1;33m\u001b[0m\u001b[1;33m\u001b[0m\u001b[0m\n\u001b[1;32m--> 636\u001b[1;33m             'args': converted_args})['value']\n\u001b[0m\u001b[0;32m    637\u001b[0m \u001b[1;33m\u001b[0m\u001b[0m\n\u001b[0;32m    638\u001b[0m     \u001b[1;32mdef\u001b[0m \u001b[0mexecute_async_script\u001b[0m\u001b[1;33m(\u001b[0m\u001b[0mself\u001b[0m\u001b[1;33m,\u001b[0m \u001b[0mscript\u001b[0m\u001b[1;33m,\u001b[0m \u001b[1;33m*\u001b[0m\u001b[0margs\u001b[0m\u001b[1;33m)\u001b[0m\u001b[1;33m:\u001b[0m\u001b[1;33m\u001b[0m\u001b[1;33m\u001b[0m\u001b[0m\n",
      "\u001b[1;32mC:\\ProgramData\\Anaconda3\\lib\\site-packages\\selenium\\webdriver\\remote\\webdriver.py\u001b[0m in \u001b[0;36mexecute\u001b[1;34m(self, driver_command, params)\u001b[0m\n\u001b[0;32m    319\u001b[0m         \u001b[0mresponse\u001b[0m \u001b[1;33m=\u001b[0m \u001b[0mself\u001b[0m\u001b[1;33m.\u001b[0m\u001b[0mcommand_executor\u001b[0m\u001b[1;33m.\u001b[0m\u001b[0mexecute\u001b[0m\u001b[1;33m(\u001b[0m\u001b[0mdriver_command\u001b[0m\u001b[1;33m,\u001b[0m \u001b[0mparams\u001b[0m\u001b[1;33m)\u001b[0m\u001b[1;33m\u001b[0m\u001b[1;33m\u001b[0m\u001b[0m\n\u001b[0;32m    320\u001b[0m         \u001b[1;32mif\u001b[0m \u001b[0mresponse\u001b[0m\u001b[1;33m:\u001b[0m\u001b[1;33m\u001b[0m\u001b[1;33m\u001b[0m\u001b[0m\n\u001b[1;32m--> 321\u001b[1;33m             \u001b[0mself\u001b[0m\u001b[1;33m.\u001b[0m\u001b[0merror_handler\u001b[0m\u001b[1;33m.\u001b[0m\u001b[0mcheck_response\u001b[0m\u001b[1;33m(\u001b[0m\u001b[0mresponse\u001b[0m\u001b[1;33m)\u001b[0m\u001b[1;33m\u001b[0m\u001b[1;33m\u001b[0m\u001b[0m\n\u001b[0m\u001b[0;32m    322\u001b[0m             response['value'] = self._unwrap_value(\n\u001b[0;32m    323\u001b[0m                 response.get('value', None))\n",
      "\u001b[1;32mC:\\ProgramData\\Anaconda3\\lib\\site-packages\\selenium\\webdriver\\remote\\errorhandler.py\u001b[0m in \u001b[0;36mcheck_response\u001b[1;34m(self, response)\u001b[0m\n\u001b[0;32m    240\u001b[0m                 \u001b[0malert_text\u001b[0m \u001b[1;33m=\u001b[0m \u001b[0mvalue\u001b[0m\u001b[1;33m[\u001b[0m\u001b[1;34m'alert'\u001b[0m\u001b[1;33m]\u001b[0m\u001b[1;33m.\u001b[0m\u001b[0mget\u001b[0m\u001b[1;33m(\u001b[0m\u001b[1;34m'text'\u001b[0m\u001b[1;33m)\u001b[0m\u001b[1;33m\u001b[0m\u001b[1;33m\u001b[0m\u001b[0m\n\u001b[0;32m    241\u001b[0m             \u001b[1;32mraise\u001b[0m \u001b[0mexception_class\u001b[0m\u001b[1;33m(\u001b[0m\u001b[0mmessage\u001b[0m\u001b[1;33m,\u001b[0m \u001b[0mscreen\u001b[0m\u001b[1;33m,\u001b[0m \u001b[0mstacktrace\u001b[0m\u001b[1;33m,\u001b[0m \u001b[0malert_text\u001b[0m\u001b[1;33m)\u001b[0m\u001b[1;33m\u001b[0m\u001b[1;33m\u001b[0m\u001b[0m\n\u001b[1;32m--> 242\u001b[1;33m         \u001b[1;32mraise\u001b[0m \u001b[0mexception_class\u001b[0m\u001b[1;33m(\u001b[0m\u001b[0mmessage\u001b[0m\u001b[1;33m,\u001b[0m \u001b[0mscreen\u001b[0m\u001b[1;33m,\u001b[0m \u001b[0mstacktrace\u001b[0m\u001b[1;33m)\u001b[0m\u001b[1;33m\u001b[0m\u001b[1;33m\u001b[0m\u001b[0m\n\u001b[0m\u001b[0;32m    243\u001b[0m \u001b[1;33m\u001b[0m\u001b[0m\n\u001b[0;32m    244\u001b[0m     \u001b[1;32mdef\u001b[0m \u001b[0m_value_or_default\u001b[0m\u001b[1;33m(\u001b[0m\u001b[0mself\u001b[0m\u001b[1;33m,\u001b[0m \u001b[0mobj\u001b[0m\u001b[1;33m,\u001b[0m \u001b[0mkey\u001b[0m\u001b[1;33m,\u001b[0m \u001b[0mdefault\u001b[0m\u001b[1;33m)\u001b[0m\u001b[1;33m:\u001b[0m\u001b[1;33m\u001b[0m\u001b[1;33m\u001b[0m\u001b[0m\n",
      "\u001b[1;31mWebDriverException\u001b[0m: Message: chrome not reachable\n  (Session info: chrome=81.0.4044.129)\n"
     ]
    }
   ],
   "source": [
    "scroll_detail(5)"
   ]
  },
  {
   "cell_type": "markdown",
   "metadata": {},
   "source": [
    "#### 별점 가져오기"
   ]
  },
  {
   "cell_type": "code",
   "execution_count": 256,
   "metadata": {},
   "outputs": [
    {
     "data": {
      "text/plain": [
       "'4'"
      ]
     },
     "execution_count": 256,
     "metadata": {},
     "output_type": "execute_result"
    }
   ],
   "source": [
    "# 맨위의 메인 별점\n",
    "point = driver.find_element_by_xpath('/html/body/div[3]/div/div[1]/div[1]/div[2]/div/span[2]').text\n",
    "point.replace('별점','')"
   ]
  },
  {
   "cell_type": "code",
   "execution_count": 257,
   "metadata": {
    "scrolled": true
   },
   "outputs": [
    {
     "data": {
      "text/plain": [
       "'5'"
      ]
     },
     "execution_count": 257,
     "metadata": {},
     "output_type": "execute_result"
    }
   ],
   "source": [
    "# 그외 다른 별점\n",
    "other_points = driver.find_elements_by_xpath('/html/body/div[3]/div/div[3]/div/ul/div/li/div[1]/div[2]/div/span[2]')\n",
    "other_points[0].text.replace('별점','')"
   ]
  },
  {
   "cell_type": "code",
   "execution_count": 398,
   "metadata": {},
   "outputs": [],
   "source": [
    "# 맨위의 메인 별점\n",
    "points = []\n",
    "\n",
    "point = driver.find_element_by_xpath('/html/body/div[3]/div/div[1]/div[1]/div[2]/div/span[2]').text.replace('별점','')\n",
    "points.append(point)\n",
    "\n",
    "# 그외 다른 별점\n",
    "other_points = driver.find_elements_by_xpath('/html/body/div[3]/div/div[3]/div/ul/div/li/div[1]/div[2]/div/span[2]')\n",
    "for i in range(len(other_points)):  \n",
    "    other_point = other_points[i].text.replace('별점','')\n",
    "    points.append(other_point)"
   ]
  },
  {
   "cell_type": "markdown",
   "metadata": {},
   "source": [
    "#### 리뷰 가져오기"
   ]
  },
  {
   "cell_type": "code",
   "execution_count": 309,
   "metadata": {},
   "outputs": [],
   "source": [
    "# 더보기 클릭\n",
    "more = driver.find_elements_by_xpath('/html/body/div[3]/div/div[3]/div/ul/div/li/div/button/div/div/span/span/span[2]')\n",
    "for i in range(len(more)):\n",
    "    more[i].click()\n",
    "    driver.execute_script(\"window.scrollTo(0, 0);\")"
   ]
  },
  {
   "cell_type": "code",
   "execution_count": 310,
   "metadata": {},
   "outputs": [
    {
     "data": {
      "text/plain": [
       "'지나가면서 보기만 하다가 드디어왔네요 낮에오면예쁠것같아요 ㅋㅋ동네에 이규모에 예쁜카페 찾기힘든데 좋네여 ! 그리고 다른메뉴 골랐다가 직원분이 치즈케이크는 안하시는거에요라고 반문해서 주문했는데 ㅋㅋㅋㅋㅋ존맛🥺'"
      ]
     },
     "execution_count": 310,
     "metadata": {},
     "output_type": "execute_result"
    }
   ],
   "source": [
    "# 맨위의 메인 리뷰\n",
    "review = driver.find_element_by_xpath('/html/body/div[3]/div/div[1]/div[1]/div[3]').text\n",
    "review"
   ]
  },
  {
   "cell_type": "code",
   "execution_count": 429,
   "metadata": {},
   "outputs": [],
   "source": [
    "# 맨위의 메인 리뷰\n",
    "reviews = []\n",
    "main_review = driver.find_element_by_xpath('/html/body/div[3]/div/div[1]/div[1]/div[3]').text\n",
    "main_review = re.sub('[^ ㄱ-ㅣ가-힣A-Za-z0-9]+', '', str(main_review))\n",
    "reviews.append(main_review)\n",
    "# 다른 리뷰 가져오기\n",
    "other_reviews = driver.find_elements_by_xpath('/html/body/div[3]/div/div[3]/div/ul/div/li')\n",
    "for i in range(len(other_reviews)):\n",
    "    other_review = other_reviews[i].text.splitlines()[6:]\n",
    "    other_review = re.sub('[^ ㄱ-ㅣ가-힣A-Za-z0-9]+', '', str(other_review))\n",
    "    reviews.append(other_review)"
   ]
  },
  {
   "cell_type": "code",
   "execution_count": 556,
   "metadata": {},
   "outputs": [],
   "source": [
    "other_reviews = driver.find_elements_by_xpath('/html/body/div[3]/div/div[3]/div/ul/div/li')"
   ]
  },
  {
   "cell_type": "code",
   "execution_count": null,
   "metadata": {},
   "outputs": [],
   "source": [
    "\n",
    "other_reviews = driver.find_elements_by_xpath('/html/body/div[3]/div/div[3]/div/ul/div/li')\n",
    "for i in range(len(other_reviews)):\n",
    "    other_review = other_reviews[i].text.splitlines()\n",
    "#     other_writer = other_writers[i].text\n",
    "    if len(other_review) == 6:\n",
    "        for i in other_review[5]:\n",
    "            try:\n",
    "                type(int(i))\n",
    "            except:\n",
    "                other_review = other_review[5:]\n",
    "    else:\n",
    "        other_review = other_review[6:]"
   ]
  },
  {
   "cell_type": "code",
   "execution_count": 596,
   "metadata": {},
   "outputs": [
    {
     "name": "stdout",
     "output_type": "stream",
     "text": [
      "실행\n",
      "실행\n",
      "실행\n",
      "실행\n",
      "실행\n"
     ]
    }
   ],
   "source": [
    "other_review = other_reviews[0].text.splitlines()\n",
    "#     other_writer = other_writers[i].text\n",
    "if len(other_review) == 6:\n",
    "    for i in other_review[4]:\n",
    "        try:\n",
    "            testim= int(i)\n",
    "        except:\n",
    "            print('실행')\n",
    "            other_review_test = other_review[5:]\n",
    "else:\n",
    "    other_review = other_review[6:]"
   ]
  },
  {
   "cell_type": "code",
   "execution_count": 605,
   "metadata": {},
   "outputs": [
    {
     "name": "stdout",
     "output_type": "stream",
     "text": [
      "1\n",
      "번\n",
      "째\n",
      " \n",
      "방\n",
      "문\n"
     ]
    }
   ],
   "source": [
    "for i in int(other_review[5]:\n",
    "    print(i)"
   ]
  },
  {
   "cell_type": "code",
   "execution_count": 595,
   "metadata": {},
   "outputs": [
    {
     "data": {
      "text/plain": [
       "['rnd****', '2020.04.01', '리뷰 내역 관리', '별점5', '1번째 방문', '1']"
      ]
     },
     "execution_count": 595,
     "metadata": {},
     "output_type": "execute_result"
    }
   ],
   "source": [
    "other_review"
   ]
  },
  {
   "cell_type": "code",
   "execution_count": 593,
   "metadata": {},
   "outputs": [
    {
     "data": {
      "text/plain": [
       "1"
      ]
     },
     "execution_count": 593,
     "metadata": {},
     "output_type": "execute_result"
    }
   ],
   "source": [
    "testim"
   ]
  },
  {
   "cell_type": "code",
   "execution_count": 594,
   "metadata": {},
   "outputs": [
    {
     "data": {
      "text/plain": [
       "'1'"
      ]
     },
     "execution_count": 594,
     "metadata": {},
     "output_type": "execute_result"
    }
   ],
   "source": [
    "other_reviews[3].text.splitlines()[5]"
   ]
  },
  {
   "cell_type": "code",
   "execution_count": 583,
   "metadata": {},
   "outputs": [
    {
     "data": {
      "text/plain": [
       "'1'"
      ]
     },
     "execution_count": 583,
     "metadata": {},
     "output_type": "execute_result"
    }
   ],
   "source": [
    "other_review[5]"
   ]
  },
  {
   "cell_type": "code",
   "execution_count": 559,
   "metadata": {},
   "outputs": [
    {
     "data": {
      "text/plain": [
       "6"
      ]
     },
     "execution_count": 559,
     "metadata": {},
     "output_type": "execute_result"
    }
   ],
   "source": [
    "len(other_reviews[0].text.splitlines())"
   ]
  },
  {
   "cell_type": "code",
   "execution_count": 561,
   "metadata": {},
   "outputs": [
    {
     "data": {
      "text/plain": [
       "['1']"
      ]
     },
     "execution_count": 561,
     "metadata": {},
     "output_type": "execute_result"
    }
   ],
   "source": [
    "other_reviews[0].text.splitlines()[5:]"
   ]
  },
  {
   "cell_type": "code",
   "execution_count": 572,
   "metadata": {},
   "outputs": [
    {
     "ename": "IndexError",
     "evalue": "list index out of range",
     "output_type": "error",
     "traceback": [
      "\u001b[1;31m---------------------------------------------------------------------------\u001b[0m",
      "\u001b[1;31mIndexError\u001b[0m                                Traceback (most recent call last)",
      "\u001b[1;32m<ipython-input-572-866fa4d518b1>\u001b[0m in \u001b[0;36m<module>\u001b[1;34m\u001b[0m\n\u001b[1;32m----> 1\u001b[1;33m \u001b[0mother_reviews\u001b[0m\u001b[1;33m[\u001b[0m\u001b[1;36m12\u001b[0m\u001b[1;33m]\u001b[0m\u001b[1;33m.\u001b[0m\u001b[0mtext\u001b[0m\u001b[1;33m.\u001b[0m\u001b[0msplitlines\u001b[0m\u001b[1;33m(\u001b[0m\u001b[1;33m)\u001b[0m\u001b[1;33m\u001b[0m\u001b[1;33m\u001b[0m\u001b[0m\n\u001b[0m",
      "\u001b[1;31mIndexError\u001b[0m: list index out of range"
     ]
    }
   ],
   "source": [
    "len(other_reviews[12].text.splitlines())"
   ]
  },
  {
   "cell_type": "code",
   "execution_count": 562,
   "metadata": {},
   "outputs": [
    {
     "data": {
      "text/plain": [
       "['1']"
      ]
     },
     "execution_count": 562,
     "metadata": {},
     "output_type": "execute_result"
    }
   ],
   "source": [
    "other_reviews[1].text.splitlines()[5:]"
   ]
  },
  {
   "cell_type": "code",
   "execution_count": 555,
   "metadata": {},
   "outputs": [
    {
     "data": {
      "text/plain": [
       "['항상 맛있게 먹고 있어용', '그런데 테라 6천원 놀랐어요']"
      ]
     },
     "execution_count": 555,
     "metadata": {},
     "output_type": "execute_result"
    }
   ],
   "source": [
    "other_reviews[15].text.splitlines()[5:]"
   ]
  },
  {
   "cell_type": "code",
   "execution_count": 529,
   "metadata": {},
   "outputs": [
    {
     "data": {
      "text/plain": [
       "'lov*******\\n2019.12.07\\n리뷰 내역 관리\\n별점5\\n1번째 방문'"
      ]
     },
     "execution_count": 529,
     "metadata": {},
     "output_type": "execute_result"
    }
   ],
   "source": [
    "other_reviews[12].text"
   ]
  },
  {
   "cell_type": "code",
   "execution_count": 980,
   "metadata": {},
   "outputs": [
    {
     "ename": "KeyboardInterrupt",
     "evalue": "",
     "output_type": "error",
     "traceback": [
      "\u001b[1;31m---------------------------------------------------------------------------\u001b[0m",
      "\u001b[1;31mKeyboardInterrupt\u001b[0m                         Traceback (most recent call last)",
      "\u001b[1;32m<ipython-input-980-3a0ea7fb0578>\u001b[0m in \u001b[0;36m<module>\u001b[1;34m\u001b[0m\n\u001b[0;32m      5\u001b[0m \u001b[1;33m\u001b[0m\u001b[0m\n\u001b[0;32m      6\u001b[0m other_writers = driver.find_elements_by_xpath(\n\u001b[1;32m----> 7\u001b[1;33m     '/html/body/div[3]/div/div[3]/div/ul/div/li/div[1]/div[1]/a/div[2]/div[1]')\n\u001b[0m\u001b[0;32m      8\u001b[0m other_reviews = driver.find_elements_by_xpath(\n\u001b[0;32m      9\u001b[0m     '/html/body/div[3]/div/div[3]/div/ul/div/li/div[1]')\n",
      "\u001b[1;32mC:\\ProgramData\\Anaconda3\\lib\\site-packages\\selenium\\webdriver\\remote\\webdriver.py\u001b[0m in \u001b[0;36mfind_elements_by_xpath\u001b[1;34m(self, xpath)\u001b[0m\n\u001b[0;32m    408\u001b[0m             \u001b[0melements\u001b[0m \u001b[1;33m=\u001b[0m \u001b[0mdriver\u001b[0m\u001b[1;33m.\u001b[0m\u001b[0mfind_elements_by_xpath\u001b[0m\u001b[1;33m(\u001b[0m\u001b[1;34m\"//div[contains(@class, 'foo')]\"\u001b[0m\u001b[1;33m)\u001b[0m\u001b[1;33m\u001b[0m\u001b[1;33m\u001b[0m\u001b[0m\n\u001b[0;32m    409\u001b[0m         \"\"\"\n\u001b[1;32m--> 410\u001b[1;33m         \u001b[1;32mreturn\u001b[0m \u001b[0mself\u001b[0m\u001b[1;33m.\u001b[0m\u001b[0mfind_elements\u001b[0m\u001b[1;33m(\u001b[0m\u001b[0mby\u001b[0m\u001b[1;33m=\u001b[0m\u001b[0mBy\u001b[0m\u001b[1;33m.\u001b[0m\u001b[0mXPATH\u001b[0m\u001b[1;33m,\u001b[0m \u001b[0mvalue\u001b[0m\u001b[1;33m=\u001b[0m\u001b[0mxpath\u001b[0m\u001b[1;33m)\u001b[0m\u001b[1;33m\u001b[0m\u001b[1;33m\u001b[0m\u001b[0m\n\u001b[0m\u001b[0;32m    411\u001b[0m \u001b[1;33m\u001b[0m\u001b[0m\n\u001b[0;32m    412\u001b[0m     \u001b[1;32mdef\u001b[0m \u001b[0mfind_element_by_link_text\u001b[0m\u001b[1;33m(\u001b[0m\u001b[0mself\u001b[0m\u001b[1;33m,\u001b[0m \u001b[0mlink_text\u001b[0m\u001b[1;33m)\u001b[0m\u001b[1;33m:\u001b[0m\u001b[1;33m\u001b[0m\u001b[1;33m\u001b[0m\u001b[0m\n",
      "\u001b[1;32mC:\\ProgramData\\Anaconda3\\lib\\site-packages\\selenium\\webdriver\\remote\\webdriver.py\u001b[0m in \u001b[0;36mfind_elements\u001b[1;34m(self, by, value)\u001b[0m\n\u001b[0;32m   1005\u001b[0m         return self.execute(Command.FIND_ELEMENTS, {\n\u001b[0;32m   1006\u001b[0m             \u001b[1;34m'using'\u001b[0m\u001b[1;33m:\u001b[0m \u001b[0mby\u001b[0m\u001b[1;33m,\u001b[0m\u001b[1;33m\u001b[0m\u001b[1;33m\u001b[0m\u001b[0m\n\u001b[1;32m-> 1007\u001b[1;33m             'value': value})['value'] or []\n\u001b[0m\u001b[0;32m   1008\u001b[0m \u001b[1;33m\u001b[0m\u001b[0m\n\u001b[0;32m   1009\u001b[0m     \u001b[1;33m@\u001b[0m\u001b[0mproperty\u001b[0m\u001b[1;33m\u001b[0m\u001b[1;33m\u001b[0m\u001b[0m\n",
      "\u001b[1;32mC:\\ProgramData\\Anaconda3\\lib\\site-packages\\selenium\\webdriver\\remote\\webdriver.py\u001b[0m in \u001b[0;36mexecute\u001b[1;34m(self, driver_command, params)\u001b[0m\n\u001b[0;32m    317\u001b[0m \u001b[1;33m\u001b[0m\u001b[0m\n\u001b[0;32m    318\u001b[0m         \u001b[0mparams\u001b[0m \u001b[1;33m=\u001b[0m \u001b[0mself\u001b[0m\u001b[1;33m.\u001b[0m\u001b[0m_wrap_value\u001b[0m\u001b[1;33m(\u001b[0m\u001b[0mparams\u001b[0m\u001b[1;33m)\u001b[0m\u001b[1;33m\u001b[0m\u001b[1;33m\u001b[0m\u001b[0m\n\u001b[1;32m--> 319\u001b[1;33m         \u001b[0mresponse\u001b[0m \u001b[1;33m=\u001b[0m \u001b[0mself\u001b[0m\u001b[1;33m.\u001b[0m\u001b[0mcommand_executor\u001b[0m\u001b[1;33m.\u001b[0m\u001b[0mexecute\u001b[0m\u001b[1;33m(\u001b[0m\u001b[0mdriver_command\u001b[0m\u001b[1;33m,\u001b[0m \u001b[0mparams\u001b[0m\u001b[1;33m)\u001b[0m\u001b[1;33m\u001b[0m\u001b[1;33m\u001b[0m\u001b[0m\n\u001b[0m\u001b[0;32m    320\u001b[0m         \u001b[1;32mif\u001b[0m \u001b[0mresponse\u001b[0m\u001b[1;33m:\u001b[0m\u001b[1;33m\u001b[0m\u001b[1;33m\u001b[0m\u001b[0m\n\u001b[0;32m    321\u001b[0m             \u001b[0mself\u001b[0m\u001b[1;33m.\u001b[0m\u001b[0merror_handler\u001b[0m\u001b[1;33m.\u001b[0m\u001b[0mcheck_response\u001b[0m\u001b[1;33m(\u001b[0m\u001b[0mresponse\u001b[0m\u001b[1;33m)\u001b[0m\u001b[1;33m\u001b[0m\u001b[1;33m\u001b[0m\u001b[0m\n",
      "\u001b[1;32mC:\\ProgramData\\Anaconda3\\lib\\site-packages\\selenium\\webdriver\\remote\\remote_connection.py\u001b[0m in \u001b[0;36mexecute\u001b[1;34m(self, command, params)\u001b[0m\n\u001b[0;32m    372\u001b[0m         \u001b[0mdata\u001b[0m \u001b[1;33m=\u001b[0m \u001b[0mutils\u001b[0m\u001b[1;33m.\u001b[0m\u001b[0mdump_json\u001b[0m\u001b[1;33m(\u001b[0m\u001b[0mparams\u001b[0m\u001b[1;33m)\u001b[0m\u001b[1;33m\u001b[0m\u001b[1;33m\u001b[0m\u001b[0m\n\u001b[0;32m    373\u001b[0m         \u001b[0murl\u001b[0m \u001b[1;33m=\u001b[0m \u001b[1;34m'%s%s'\u001b[0m \u001b[1;33m%\u001b[0m \u001b[1;33m(\u001b[0m\u001b[0mself\u001b[0m\u001b[1;33m.\u001b[0m\u001b[0m_url\u001b[0m\u001b[1;33m,\u001b[0m \u001b[0mpath\u001b[0m\u001b[1;33m)\u001b[0m\u001b[1;33m\u001b[0m\u001b[1;33m\u001b[0m\u001b[0m\n\u001b[1;32m--> 374\u001b[1;33m         \u001b[1;32mreturn\u001b[0m \u001b[0mself\u001b[0m\u001b[1;33m.\u001b[0m\u001b[0m_request\u001b[0m\u001b[1;33m(\u001b[0m\u001b[0mcommand_info\u001b[0m\u001b[1;33m[\u001b[0m\u001b[1;36m0\u001b[0m\u001b[1;33m]\u001b[0m\u001b[1;33m,\u001b[0m \u001b[0murl\u001b[0m\u001b[1;33m,\u001b[0m \u001b[0mbody\u001b[0m\u001b[1;33m=\u001b[0m\u001b[0mdata\u001b[0m\u001b[1;33m)\u001b[0m\u001b[1;33m\u001b[0m\u001b[1;33m\u001b[0m\u001b[0m\n\u001b[0m\u001b[0;32m    375\u001b[0m \u001b[1;33m\u001b[0m\u001b[0m\n\u001b[0;32m    376\u001b[0m     \u001b[1;32mdef\u001b[0m \u001b[0m_request\u001b[0m\u001b[1;33m(\u001b[0m\u001b[0mself\u001b[0m\u001b[1;33m,\u001b[0m \u001b[0mmethod\u001b[0m\u001b[1;33m,\u001b[0m \u001b[0murl\u001b[0m\u001b[1;33m,\u001b[0m \u001b[0mbody\u001b[0m\u001b[1;33m=\u001b[0m\u001b[1;32mNone\u001b[0m\u001b[1;33m)\u001b[0m\u001b[1;33m:\u001b[0m\u001b[1;33m\u001b[0m\u001b[1;33m\u001b[0m\u001b[0m\n",
      "\u001b[1;32mC:\\ProgramData\\Anaconda3\\lib\\site-packages\\selenium\\webdriver\\remote\\remote_connection.py\u001b[0m in \u001b[0;36m_request\u001b[1;34m(self, method, url, body)\u001b[0m\n\u001b[0;32m    395\u001b[0m \u001b[1;33m\u001b[0m\u001b[0m\n\u001b[0;32m    396\u001b[0m         \u001b[1;32mif\u001b[0m \u001b[0mself\u001b[0m\u001b[1;33m.\u001b[0m\u001b[0mkeep_alive\u001b[0m\u001b[1;33m:\u001b[0m\u001b[1;33m\u001b[0m\u001b[1;33m\u001b[0m\u001b[0m\n\u001b[1;32m--> 397\u001b[1;33m             \u001b[0mresp\u001b[0m \u001b[1;33m=\u001b[0m \u001b[0mself\u001b[0m\u001b[1;33m.\u001b[0m\u001b[0m_conn\u001b[0m\u001b[1;33m.\u001b[0m\u001b[0mrequest\u001b[0m\u001b[1;33m(\u001b[0m\u001b[0mmethod\u001b[0m\u001b[1;33m,\u001b[0m \u001b[0murl\u001b[0m\u001b[1;33m,\u001b[0m \u001b[0mbody\u001b[0m\u001b[1;33m=\u001b[0m\u001b[0mbody\u001b[0m\u001b[1;33m,\u001b[0m \u001b[0mheaders\u001b[0m\u001b[1;33m=\u001b[0m\u001b[0mheaders\u001b[0m\u001b[1;33m)\u001b[0m\u001b[1;33m\u001b[0m\u001b[1;33m\u001b[0m\u001b[0m\n\u001b[0m\u001b[0;32m    398\u001b[0m \u001b[1;33m\u001b[0m\u001b[0m\n\u001b[0;32m    399\u001b[0m             \u001b[0mstatuscode\u001b[0m \u001b[1;33m=\u001b[0m \u001b[0mresp\u001b[0m\u001b[1;33m.\u001b[0m\u001b[0mstatus\u001b[0m\u001b[1;33m\u001b[0m\u001b[1;33m\u001b[0m\u001b[0m\n",
      "\u001b[1;32mC:\\ProgramData\\Anaconda3\\lib\\site-packages\\urllib3\\request.py\u001b[0m in \u001b[0;36mrequest\u001b[1;34m(self, method, url, fields, headers, **urlopen_kw)\u001b[0m\n\u001b[0;32m     78\u001b[0m         \u001b[1;32melse\u001b[0m\u001b[1;33m:\u001b[0m\u001b[1;33m\u001b[0m\u001b[1;33m\u001b[0m\u001b[0m\n\u001b[0;32m     79\u001b[0m             return self.request_encode_body(\n\u001b[1;32m---> 80\u001b[1;33m                 \u001b[0mmethod\u001b[0m\u001b[1;33m,\u001b[0m \u001b[0murl\u001b[0m\u001b[1;33m,\u001b[0m \u001b[0mfields\u001b[0m\u001b[1;33m=\u001b[0m\u001b[0mfields\u001b[0m\u001b[1;33m,\u001b[0m \u001b[0mheaders\u001b[0m\u001b[1;33m=\u001b[0m\u001b[0mheaders\u001b[0m\u001b[1;33m,\u001b[0m \u001b[1;33m**\u001b[0m\u001b[0murlopen_kw\u001b[0m\u001b[1;33m\u001b[0m\u001b[1;33m\u001b[0m\u001b[0m\n\u001b[0m\u001b[0;32m     81\u001b[0m             )\n\u001b[0;32m     82\u001b[0m \u001b[1;33m\u001b[0m\u001b[0m\n",
      "\u001b[1;32mC:\\ProgramData\\Anaconda3\\lib\\site-packages\\urllib3\\request.py\u001b[0m in \u001b[0;36mrequest_encode_body\u001b[1;34m(self, method, url, fields, headers, encode_multipart, multipart_boundary, **urlopen_kw)\u001b[0m\n\u001b[0;32m    169\u001b[0m         \u001b[0mextra_kw\u001b[0m\u001b[1;33m.\u001b[0m\u001b[0mupdate\u001b[0m\u001b[1;33m(\u001b[0m\u001b[0murlopen_kw\u001b[0m\u001b[1;33m)\u001b[0m\u001b[1;33m\u001b[0m\u001b[1;33m\u001b[0m\u001b[0m\n\u001b[0;32m    170\u001b[0m \u001b[1;33m\u001b[0m\u001b[0m\n\u001b[1;32m--> 171\u001b[1;33m         \u001b[1;32mreturn\u001b[0m \u001b[0mself\u001b[0m\u001b[1;33m.\u001b[0m\u001b[0murlopen\u001b[0m\u001b[1;33m(\u001b[0m\u001b[0mmethod\u001b[0m\u001b[1;33m,\u001b[0m \u001b[0murl\u001b[0m\u001b[1;33m,\u001b[0m \u001b[1;33m**\u001b[0m\u001b[0mextra_kw\u001b[0m\u001b[1;33m)\u001b[0m\u001b[1;33m\u001b[0m\u001b[1;33m\u001b[0m\u001b[0m\n\u001b[0m",
      "\u001b[1;32mC:\\ProgramData\\Anaconda3\\lib\\site-packages\\urllib3\\poolmanager.py\u001b[0m in \u001b[0;36murlopen\u001b[1;34m(self, method, url, redirect, **kw)\u001b[0m\n\u001b[0;32m    328\u001b[0m             \u001b[0mresponse\u001b[0m \u001b[1;33m=\u001b[0m \u001b[0mconn\u001b[0m\u001b[1;33m.\u001b[0m\u001b[0murlopen\u001b[0m\u001b[1;33m(\u001b[0m\u001b[0mmethod\u001b[0m\u001b[1;33m,\u001b[0m \u001b[0murl\u001b[0m\u001b[1;33m,\u001b[0m \u001b[1;33m**\u001b[0m\u001b[0mkw\u001b[0m\u001b[1;33m)\u001b[0m\u001b[1;33m\u001b[0m\u001b[1;33m\u001b[0m\u001b[0m\n\u001b[0;32m    329\u001b[0m         \u001b[1;32melse\u001b[0m\u001b[1;33m:\u001b[0m\u001b[1;33m\u001b[0m\u001b[1;33m\u001b[0m\u001b[0m\n\u001b[1;32m--> 330\u001b[1;33m             \u001b[0mresponse\u001b[0m \u001b[1;33m=\u001b[0m \u001b[0mconn\u001b[0m\u001b[1;33m.\u001b[0m\u001b[0murlopen\u001b[0m\u001b[1;33m(\u001b[0m\u001b[0mmethod\u001b[0m\u001b[1;33m,\u001b[0m \u001b[0mu\u001b[0m\u001b[1;33m.\u001b[0m\u001b[0mrequest_uri\u001b[0m\u001b[1;33m,\u001b[0m \u001b[1;33m**\u001b[0m\u001b[0mkw\u001b[0m\u001b[1;33m)\u001b[0m\u001b[1;33m\u001b[0m\u001b[1;33m\u001b[0m\u001b[0m\n\u001b[0m\u001b[0;32m    331\u001b[0m \u001b[1;33m\u001b[0m\u001b[0m\n\u001b[0;32m    332\u001b[0m         \u001b[0mredirect_location\u001b[0m \u001b[1;33m=\u001b[0m \u001b[0mredirect\u001b[0m \u001b[1;32mand\u001b[0m \u001b[0mresponse\u001b[0m\u001b[1;33m.\u001b[0m\u001b[0mget_redirect_location\u001b[0m\u001b[1;33m(\u001b[0m\u001b[1;33m)\u001b[0m\u001b[1;33m\u001b[0m\u001b[1;33m\u001b[0m\u001b[0m\n",
      "\u001b[1;32mC:\\ProgramData\\Anaconda3\\lib\\site-packages\\urllib3\\connectionpool.py\u001b[0m in \u001b[0;36murlopen\u001b[1;34m(self, method, url, body, headers, retries, redirect, assert_same_host, timeout, pool_timeout, release_conn, chunked, body_pos, **response_kw)\u001b[0m\n\u001b[0;32m    670\u001b[0m                 \u001b[0mbody\u001b[0m\u001b[1;33m=\u001b[0m\u001b[0mbody\u001b[0m\u001b[1;33m,\u001b[0m\u001b[1;33m\u001b[0m\u001b[1;33m\u001b[0m\u001b[0m\n\u001b[0;32m    671\u001b[0m                 \u001b[0mheaders\u001b[0m\u001b[1;33m=\u001b[0m\u001b[0mheaders\u001b[0m\u001b[1;33m,\u001b[0m\u001b[1;33m\u001b[0m\u001b[1;33m\u001b[0m\u001b[0m\n\u001b[1;32m--> 672\u001b[1;33m                 \u001b[0mchunked\u001b[0m\u001b[1;33m=\u001b[0m\u001b[0mchunked\u001b[0m\u001b[1;33m,\u001b[0m\u001b[1;33m\u001b[0m\u001b[1;33m\u001b[0m\u001b[0m\n\u001b[0m\u001b[0;32m    673\u001b[0m             )\n\u001b[0;32m    674\u001b[0m \u001b[1;33m\u001b[0m\u001b[0m\n",
      "\u001b[1;32mC:\\ProgramData\\Anaconda3\\lib\\site-packages\\urllib3\\connectionpool.py\u001b[0m in \u001b[0;36m_make_request\u001b[1;34m(self, conn, method, url, timeout, chunked, **httplib_request_kw)\u001b[0m\n\u001b[0;32m    419\u001b[0m                     \u001b[1;31m# Python 3 (including for exceptions like SystemExit).\u001b[0m\u001b[1;33m\u001b[0m\u001b[1;33m\u001b[0m\u001b[1;33m\u001b[0m\u001b[0m\n\u001b[0;32m    420\u001b[0m                     \u001b[1;31m# Otherwise it looks like a bug in the code.\u001b[0m\u001b[1;33m\u001b[0m\u001b[1;33m\u001b[0m\u001b[1;33m\u001b[0m\u001b[0m\n\u001b[1;32m--> 421\u001b[1;33m                     \u001b[0msix\u001b[0m\u001b[1;33m.\u001b[0m\u001b[0mraise_from\u001b[0m\u001b[1;33m(\u001b[0m\u001b[0me\u001b[0m\u001b[1;33m,\u001b[0m \u001b[1;32mNone\u001b[0m\u001b[1;33m)\u001b[0m\u001b[1;33m\u001b[0m\u001b[1;33m\u001b[0m\u001b[0m\n\u001b[0m\u001b[0;32m    422\u001b[0m         \u001b[1;32mexcept\u001b[0m \u001b[1;33m(\u001b[0m\u001b[0mSocketTimeout\u001b[0m\u001b[1;33m,\u001b[0m \u001b[0mBaseSSLError\u001b[0m\u001b[1;33m,\u001b[0m \u001b[0mSocketError\u001b[0m\u001b[1;33m)\u001b[0m \u001b[1;32mas\u001b[0m \u001b[0me\u001b[0m\u001b[1;33m:\u001b[0m\u001b[1;33m\u001b[0m\u001b[1;33m\u001b[0m\u001b[0m\n\u001b[0;32m    423\u001b[0m             \u001b[0mself\u001b[0m\u001b[1;33m.\u001b[0m\u001b[0m_raise_timeout\u001b[0m\u001b[1;33m(\u001b[0m\u001b[0merr\u001b[0m\u001b[1;33m=\u001b[0m\u001b[0me\u001b[0m\u001b[1;33m,\u001b[0m \u001b[0murl\u001b[0m\u001b[1;33m=\u001b[0m\u001b[0murl\u001b[0m\u001b[1;33m,\u001b[0m \u001b[0mtimeout_value\u001b[0m\u001b[1;33m=\u001b[0m\u001b[0mread_timeout\u001b[0m\u001b[1;33m)\u001b[0m\u001b[1;33m\u001b[0m\u001b[1;33m\u001b[0m\u001b[0m\n",
      "\u001b[1;32mC:\\ProgramData\\Anaconda3\\lib\\site-packages\\urllib3\\packages\\six.py\u001b[0m in \u001b[0;36mraise_from\u001b[1;34m(value, from_value)\u001b[0m\n",
      "\u001b[1;32mC:\\ProgramData\\Anaconda3\\lib\\site-packages\\urllib3\\connectionpool.py\u001b[0m in \u001b[0;36m_make_request\u001b[1;34m(self, conn, method, url, timeout, chunked, **httplib_request_kw)\u001b[0m\n\u001b[0;32m    414\u001b[0m                 \u001b[1;31m# Python 3\u001b[0m\u001b[1;33m\u001b[0m\u001b[1;33m\u001b[0m\u001b[1;33m\u001b[0m\u001b[0m\n\u001b[0;32m    415\u001b[0m                 \u001b[1;32mtry\u001b[0m\u001b[1;33m:\u001b[0m\u001b[1;33m\u001b[0m\u001b[1;33m\u001b[0m\u001b[0m\n\u001b[1;32m--> 416\u001b[1;33m                     \u001b[0mhttplib_response\u001b[0m \u001b[1;33m=\u001b[0m \u001b[0mconn\u001b[0m\u001b[1;33m.\u001b[0m\u001b[0mgetresponse\u001b[0m\u001b[1;33m(\u001b[0m\u001b[1;33m)\u001b[0m\u001b[1;33m\u001b[0m\u001b[1;33m\u001b[0m\u001b[0m\n\u001b[0m\u001b[0;32m    417\u001b[0m                 \u001b[1;32mexcept\u001b[0m \u001b[0mBaseException\u001b[0m \u001b[1;32mas\u001b[0m \u001b[0me\u001b[0m\u001b[1;33m:\u001b[0m\u001b[1;33m\u001b[0m\u001b[1;33m\u001b[0m\u001b[0m\n\u001b[0;32m    418\u001b[0m                     \u001b[1;31m# Remove the TypeError from the exception chain in\u001b[0m\u001b[1;33m\u001b[0m\u001b[1;33m\u001b[0m\u001b[1;33m\u001b[0m\u001b[0m\n",
      "\u001b[1;32mC:\\ProgramData\\Anaconda3\\lib\\http\\client.py\u001b[0m in \u001b[0;36mgetresponse\u001b[1;34m(self)\u001b[0m\n\u001b[0;32m   1342\u001b[0m         \u001b[1;32mtry\u001b[0m\u001b[1;33m:\u001b[0m\u001b[1;33m\u001b[0m\u001b[1;33m\u001b[0m\u001b[0m\n\u001b[0;32m   1343\u001b[0m             \u001b[1;32mtry\u001b[0m\u001b[1;33m:\u001b[0m\u001b[1;33m\u001b[0m\u001b[1;33m\u001b[0m\u001b[0m\n\u001b[1;32m-> 1344\u001b[1;33m                 \u001b[0mresponse\u001b[0m\u001b[1;33m.\u001b[0m\u001b[0mbegin\u001b[0m\u001b[1;33m(\u001b[0m\u001b[1;33m)\u001b[0m\u001b[1;33m\u001b[0m\u001b[1;33m\u001b[0m\u001b[0m\n\u001b[0m\u001b[0;32m   1345\u001b[0m             \u001b[1;32mexcept\u001b[0m \u001b[0mConnectionError\u001b[0m\u001b[1;33m:\u001b[0m\u001b[1;33m\u001b[0m\u001b[1;33m\u001b[0m\u001b[0m\n\u001b[0;32m   1346\u001b[0m                 \u001b[0mself\u001b[0m\u001b[1;33m.\u001b[0m\u001b[0mclose\u001b[0m\u001b[1;33m(\u001b[0m\u001b[1;33m)\u001b[0m\u001b[1;33m\u001b[0m\u001b[1;33m\u001b[0m\u001b[0m\n",
      "\u001b[1;32mC:\\ProgramData\\Anaconda3\\lib\\http\\client.py\u001b[0m in \u001b[0;36mbegin\u001b[1;34m(self)\u001b[0m\n\u001b[0;32m    304\u001b[0m         \u001b[1;31m# read until we get a non-100 response\u001b[0m\u001b[1;33m\u001b[0m\u001b[1;33m\u001b[0m\u001b[1;33m\u001b[0m\u001b[0m\n\u001b[0;32m    305\u001b[0m         \u001b[1;32mwhile\u001b[0m \u001b[1;32mTrue\u001b[0m\u001b[1;33m:\u001b[0m\u001b[1;33m\u001b[0m\u001b[1;33m\u001b[0m\u001b[0m\n\u001b[1;32m--> 306\u001b[1;33m             \u001b[0mversion\u001b[0m\u001b[1;33m,\u001b[0m \u001b[0mstatus\u001b[0m\u001b[1;33m,\u001b[0m \u001b[0mreason\u001b[0m \u001b[1;33m=\u001b[0m \u001b[0mself\u001b[0m\u001b[1;33m.\u001b[0m\u001b[0m_read_status\u001b[0m\u001b[1;33m(\u001b[0m\u001b[1;33m)\u001b[0m\u001b[1;33m\u001b[0m\u001b[1;33m\u001b[0m\u001b[0m\n\u001b[0m\u001b[0;32m    307\u001b[0m             \u001b[1;32mif\u001b[0m \u001b[0mstatus\u001b[0m \u001b[1;33m!=\u001b[0m \u001b[0mCONTINUE\u001b[0m\u001b[1;33m:\u001b[0m\u001b[1;33m\u001b[0m\u001b[1;33m\u001b[0m\u001b[0m\n\u001b[0;32m    308\u001b[0m                 \u001b[1;32mbreak\u001b[0m\u001b[1;33m\u001b[0m\u001b[1;33m\u001b[0m\u001b[0m\n",
      "\u001b[1;32mC:\\ProgramData\\Anaconda3\\lib\\http\\client.py\u001b[0m in \u001b[0;36m_read_status\u001b[1;34m(self)\u001b[0m\n\u001b[0;32m    265\u001b[0m \u001b[1;33m\u001b[0m\u001b[0m\n\u001b[0;32m    266\u001b[0m     \u001b[1;32mdef\u001b[0m \u001b[0m_read_status\u001b[0m\u001b[1;33m(\u001b[0m\u001b[0mself\u001b[0m\u001b[1;33m)\u001b[0m\u001b[1;33m:\u001b[0m\u001b[1;33m\u001b[0m\u001b[1;33m\u001b[0m\u001b[0m\n\u001b[1;32m--> 267\u001b[1;33m         \u001b[0mline\u001b[0m \u001b[1;33m=\u001b[0m \u001b[0mstr\u001b[0m\u001b[1;33m(\u001b[0m\u001b[0mself\u001b[0m\u001b[1;33m.\u001b[0m\u001b[0mfp\u001b[0m\u001b[1;33m.\u001b[0m\u001b[0mreadline\u001b[0m\u001b[1;33m(\u001b[0m\u001b[0m_MAXLINE\u001b[0m \u001b[1;33m+\u001b[0m \u001b[1;36m1\u001b[0m\u001b[1;33m)\u001b[0m\u001b[1;33m,\u001b[0m \u001b[1;34m\"iso-8859-1\"\u001b[0m\u001b[1;33m)\u001b[0m\u001b[1;33m\u001b[0m\u001b[1;33m\u001b[0m\u001b[0m\n\u001b[0m\u001b[0;32m    268\u001b[0m         \u001b[1;32mif\u001b[0m \u001b[0mlen\u001b[0m\u001b[1;33m(\u001b[0m\u001b[0mline\u001b[0m\u001b[1;33m)\u001b[0m \u001b[1;33m>\u001b[0m \u001b[0m_MAXLINE\u001b[0m\u001b[1;33m:\u001b[0m\u001b[1;33m\u001b[0m\u001b[1;33m\u001b[0m\u001b[0m\n\u001b[0;32m    269\u001b[0m             \u001b[1;32mraise\u001b[0m \u001b[0mLineTooLong\u001b[0m\u001b[1;33m(\u001b[0m\u001b[1;34m\"status line\"\u001b[0m\u001b[1;33m)\u001b[0m\u001b[1;33m\u001b[0m\u001b[1;33m\u001b[0m\u001b[0m\n",
      "\u001b[1;32mC:\\ProgramData\\Anaconda3\\lib\\socket.py\u001b[0m in \u001b[0;36mreadinto\u001b[1;34m(self, b)\u001b[0m\n\u001b[0;32m    587\u001b[0m         \u001b[1;32mwhile\u001b[0m \u001b[1;32mTrue\u001b[0m\u001b[1;33m:\u001b[0m\u001b[1;33m\u001b[0m\u001b[1;33m\u001b[0m\u001b[0m\n\u001b[0;32m    588\u001b[0m             \u001b[1;32mtry\u001b[0m\u001b[1;33m:\u001b[0m\u001b[1;33m\u001b[0m\u001b[1;33m\u001b[0m\u001b[0m\n\u001b[1;32m--> 589\u001b[1;33m                 \u001b[1;32mreturn\u001b[0m \u001b[0mself\u001b[0m\u001b[1;33m.\u001b[0m\u001b[0m_sock\u001b[0m\u001b[1;33m.\u001b[0m\u001b[0mrecv_into\u001b[0m\u001b[1;33m(\u001b[0m\u001b[0mb\u001b[0m\u001b[1;33m)\u001b[0m\u001b[1;33m\u001b[0m\u001b[1;33m\u001b[0m\u001b[0m\n\u001b[0m\u001b[0;32m    590\u001b[0m             \u001b[1;32mexcept\u001b[0m \u001b[0mtimeout\u001b[0m\u001b[1;33m:\u001b[0m\u001b[1;33m\u001b[0m\u001b[1;33m\u001b[0m\u001b[0m\n\u001b[0;32m    591\u001b[0m                 \u001b[0mself\u001b[0m\u001b[1;33m.\u001b[0m\u001b[0m_timeout_occurred\u001b[0m \u001b[1;33m=\u001b[0m \u001b[1;32mTrue\u001b[0m\u001b[1;33m\u001b[0m\u001b[1;33m\u001b[0m\u001b[0m\n",
      "\u001b[1;31mKeyboardInterrupt\u001b[0m: "
     ]
    }
   ],
   "source": [
    "# 다른 리뷰 가져오기 및 작성자 가져오기\n",
    "# 리뷰의 조회수가 있고없고, 리뷰가 있고없고의 경우의 수에 따라 다르게 크롤링을 해야함\n",
    "reviews = []\n",
    "writers = []\n",
    "\n",
    "other_writers = driver.find_elements_by_xpath(\n",
    "    '/html/body/div[3]/div/div[3]/div/ul/div/li/div[1]/div[1]/a/div[2]/div[1]')\n",
    "other_reviews = driver.find_elements_by_xpath(\n",
    "    '/html/body/div[3]/div/div[3]/div/ul/div/li/div[1]')\n",
    "for i in range(len(other_reviews)):\n",
    "    other_review = other_reviews[i].text.splitlines()\n",
    "    other_writer = other_writers[i].text\n",
    "    if len(other_review) == 6:\n",
    "\n",
    "        try:\n",
    "            int(other_review[5])\n",
    "            print('2번',i)\n",
    "            reviews.append('')\n",
    "        except:\n",
    "            print('3번',i)\n",
    "            other_review_test = other_review[5:]\n",
    "            other_review_test = re.sub(\n",
    "        '[^ ㄱ-ㅣ가-힣A-Za-z0-9]+', '', str(other_review_test))\n",
    "            print(other_review_test)\n",
    "            reviews.append(other_review_test)\n",
    "\n",
    "    elif len(other_review) <= 5:\n",
    "        other_review = other_review[5:]\n",
    "        other_review = re.sub(\n",
    "            '[^ ㄱ-ㅣ가-힣A-Za-z0-9]+', '', str(other_review))\n",
    "        reviews.append(other_review)\n",
    "        \n",
    "    elif len(other_review) > 6:\n",
    "        try:\n",
    "            int(other_review[5])\n",
    "            other_review_test = other_review[6:]\n",
    "            other_review_test = re.sub(\n",
    "            '[^ ㄱ-ㅣ가-힣A-Za-z0-9]+', '', str(other_review_test))\n",
    "            reviews.append(other_review_test)\n",
    "        except:\n",
    "            print('6번',i)\n",
    "            other_review_test = other_review[5:]\n",
    "            other_review_test = re.sub(\n",
    "        '[^ ㄱ-ㅣ가-힣A-Za-z0-9]+', '', str(other_review_test))\n",
    "            print(other_review_test)\n",
    "            reviews.append(other_review_test)\n",
    "\n",
    "    writers.append(other_writer)"
   ]
  },
  {
   "cell_type": "markdown",
   "metadata": {},
   "source": [
    "#### 작성자 가져오기"
   ]
  },
  {
   "cell_type": "code",
   "execution_count": null,
   "metadata": {},
   "outputs": [],
   "source": [
    "other_reviews = driver.find_elements_by_xpath(\n",
    "            '/html/body/div[3]/div/div[3]/div/ul/div/li/div[1]')"
   ]
  },
  {
   "cell_type": "code",
   "execution_count": 451,
   "metadata": {},
   "outputs": [
    {
     "data": {
      "text/plain": [
       "'sor*********'"
      ]
     },
     "execution_count": 451,
     "metadata": {},
     "output_type": "execute_result"
    }
   ],
   "source": [
    "writer = driver.find_element_by_xpath('/html/body/div[3]/div/div[1]/div[1]/div[1]/a/div[2]/div[1]').text\n",
    "writer"
   ]
  },
  {
   "cell_type": "code",
   "execution_count": 476,
   "metadata": {},
   "outputs": [
    {
     "data": {
      "text/plain": [
       "'똘빡'"
      ]
     },
     "execution_count": 476,
     "metadata": {},
     "output_type": "execute_result"
    }
   ],
   "source": [
    "writers = driver.find_elements_by_xpath('/html/body/div[3]/div/div[3]/div/ul/div/li/div[1]/div[1]/a/div[2]/div[1]')\n",
    "writers[5].text"
   ]
  },
  {
   "cell_type": "markdown",
   "metadata": {},
   "source": [
    "#### 리뷰와 평점을 데이터 프레임으로"
   ]
  },
  {
   "cell_type": "code",
   "execution_count": 430,
   "metadata": {},
   "outputs": [],
   "source": [
    "datas = pd.DataFrame({'review' : reviews,\n",
    "                      'point' : points\n",
    "                     })"
   ]
  },
  {
   "cell_type": "markdown",
   "metadata": {},
   "source": [
    "#### 한번에 함수로"
   ]
  },
  {
   "cell_type": "code",
   "execution_count": 435,
   "metadata": {},
   "outputs": [],
   "source": [
    "# 맨위의 메인 별점\n",
    "def review_crawling(num):\n",
    "    scroll_detail(num)\n",
    "    # 별점 가져오기\n",
    "    points = []\n",
    "\n",
    "    point = driver.find_element_by_xpath('/html/body/div[3]/div/div[1]/div[1]/div[2]/div/span[2]').text.replace('별점','')\n",
    "    points.append(point)\n",
    "\n",
    "    # 그외 다른 별점\n",
    "    other_points = driver.find_elements_by_xpath('/html/body/div[3]/div/div[3]/div/ul/div/li/div[1]/div[2]/div/span[2]')\n",
    "    for i in range(len(other_points)):  \n",
    "        other_point = other_points[i].text.replace('별점','')\n",
    "        points.append(other_point)\n",
    "\n",
    "    # 리뷰 가져오기\n",
    "    # 더보기 클릭\n",
    "    more = driver.find_elements_by_xpath('/html/body/div[3]/div/div[3]/div/ul/div/li/div/button/div/div/span/span/span[2]')\n",
    "    for i in range(len(more)):\n",
    "        more[i].click()\n",
    "        driver.execute_script(\"window.scrollTo(0, 0);\")\n",
    "\n",
    "    # 맨위의 메인 리뷰\n",
    "    reviews = []\n",
    "    main_review = driver.find_element_by_xpath('/html/body/div[3]/div/div[1]/div[1]/div[3]').text\n",
    "    main_review = re.sub('[^ ㄱ-ㅣ가-힣A-Za-z0-9]+', '', str(main_review))\n",
    "    reviews.append(main_review)\n",
    "    # 다른 리뷰 가져오기\n",
    "    other_reviews = driver.find_elements_by_xpath('/html/body/div[3]/div/div[3]/div/ul/div/li')\n",
    "    for i in range(len(other_reviews)):\n",
    "        other_review = other_reviews[i].text.splitlines()[6:]\n",
    "        other_review = re.sub('[^ ㄱ-ㅣ가-힣A-Za-z0-9]+', '', str(other_review))\n",
    "        reviews.append(other_review)\n",
    "\n",
    "    datas = pd.DataFrame({'review' : reviews,\n",
    "                          'point' : points\n",
    "                         })\n",
    "    \n",
    "    \n",
    "    \n",
    "    \n",
    "    return datas"
   ]
  },
  {
   "cell_type": "markdown",
   "metadata": {},
   "source": [
    "#### 한번에 실행"
   ]
  },
  {
   "cell_type": "code",
   "execution_count": 373,
   "metadata": {},
   "outputs": [],
   "source": [
    "def naver_myplace(url, main_num):\n",
    "    driver = webdriver.Chrome('./driver/chromedriver.exe')\n",
    "    driver.get(url)\n",
    "\n",
    "    for i in range(main_num):\n",
    "        # Scroll down to bottom\n",
    "        driver.execute_script(\n",
    "            \"window.scrollTo(0, document.body.scrollHeight);\")\n",
    "        # Wait to load page\n",
    "        time.sleep(0.5)\n",
    "    driver.execute_script(\"window.scrollTo(0, 0);\")\n",
    "    \n",
    "    time.sleep(0.5)\n",
    "    all_link = driver.find_elements_by_xpath('/html/body/div[3]/div[4]/div/div/div[1]/button/div')\n",
    "    all_name = driver.find_elements_by_xpath('/html/body/div[3]/div[4]/div/div/div[1]/button/div/div[2]')\n",
    "    all_loca = driver.find_elements_by_xpath('/html/body/div[3]/div[4]/div/div/div[1]/button/div/div[1]/div[1]')\n",
    "    \n",
    "    names = []\n",
    "    locas = []\n",
    "    points = []\n",
    "    reviews = []\n",
    "    print(len(all_link),'개의 음식점의 리뷰를 크롤링 합니다.')\n",
    "    \n",
    "    for i in range(len(all_link)):\n",
    "        i = i+1\n",
    "        print(i,'번째 음식점 크롤링 합니다.')\n",
    "        name = driver.find_element_by_xpath(f'/html/body/div[3]/div[4]/div/div/div[1]/button[{i}]/div/div[2]').text\n",
    "        loca = driver.find_element_by_xpath(f'/html/body/div[3]/div[4]/div/div/div[1]/button[{i}]/div/div[1]/div[1]').text    \n",
    "        link = driver.find_element_by_xpath(f'/html/body/div[3]/div[4]/div/div/div[1]/button[{i}]/div')\n",
    "        link.click()\n",
    "\n",
    "        last_height = driver.execute_script(\"return document.body.scrollHeight\")\n",
    "\n",
    "        while True:\n",
    "            # Scroll down to bottom                                                     \n",
    "            driver.execute_script(\"window.scrollTo(0, document.body.scrollHeight);\")\n",
    "            # Wait to load page\n",
    "            time.sleep(0.5)\n",
    "            # Calculate new scroll height and compare with last scroll height           \n",
    "            new_height = driver.execute_script(\"return document.body.scrollHeight\")\n",
    "            if new_height == last_height:                                               \n",
    "                break\n",
    "            last_height = new_height\n",
    "            \n",
    "        time.sleep(1)\n",
    "        \n",
    "        # 별점 가져오기\n",
    "        print('별점 가져오는중..')\n",
    "        point = driver.find_element_by_xpath(\n",
    "            '/html/body/div[3]/div/div[1]/div[1]/div[2]/div/span[2]').text.replace('별점', '')\n",
    "        points.append(point)\n",
    "        names.append(name)\n",
    "        locas.append(loca)\n",
    "        \n",
    "        # 그외 다른 별점\n",
    "        other_points = driver.find_elements_by_xpath(\n",
    "            '/html/body/div[3]/div/div[3]/div/ul/div/li/div[1]/div[2]/div/span[2]')\n",
    "        for i in range(len(other_points)):\n",
    "            other_point = other_points[i].text.replace('별점', '')\n",
    "            points.append(other_point)\n",
    "            names.append(name)\n",
    "            locas.append(loca)\n",
    "        \n",
    "        # 리뷰 가져오기\n",
    "        # 더보기 클릭\n",
    "        time.sleep(0.5)\n",
    "        print('리뷰 가져오는중..')\n",
    "        driver.execute_script(\"window.scrollTo(0, 0);\")\n",
    "        more = driver.find_elements_by_xpath(\n",
    "            '/html/body/div[3]/div/div[3]/div/ul/div/li/div/button/div/div/span/span/span[2]')\n",
    "        for i in range(len(more)):\n",
    "            more[i].click()\n",
    "            driver.execute_script(\"window.scrollTo(0, 0);\")\n",
    "            time.sleep(0.3)\n",
    "\n",
    "        # 맨위의 메인 리뷰\n",
    "        main_review = driver.find_element_by_xpath(\n",
    "            '/html/body/div[3]/div/div[1]/div[1]/div[3]').text\n",
    "        main_review = re.sub('[^ ㄱ-ㅣ가-힣A-Za-z0-9]+', '', str(main_review))\n",
    "        reviews.append(main_review)\n",
    "        # 다른 리뷰 가져오기\n",
    "        other_reviews = driver.find_elements_by_xpath(\n",
    "            '/html/body/div[3]/div/div[3]/div/ul/div/li/div[1]')\n",
    "        for i in range(len(other_reviews)):\n",
    "            other_review = other_reviews[i].text.splitlines()\n",
    "            if len(other_review) ==6:\n",
    "                for i in other_review[5]:\n",
    "                    try :\n",
    "                        type(int(i))\n",
    "                    except:\n",
    "                        other_review = other_review[5:]\n",
    "            else :\n",
    "                other_review = other_review[6:]\n",
    "                \n",
    "            other_review = re.sub(\n",
    "                '[^ ㄱ-ㅣ가-힣A-Za-z0-9]+', '', str(other_review))\n",
    "            reviews.append(other_review)\n",
    "        driver.back()\n",
    "        driver.execute_script(\"window.scrollTo(0, 0);\")\n",
    "        time.sleep(0.5)\n",
    "    \n",
    "    driver.quit()\n",
    "    datas = pd.DataFrame({'name': names,\n",
    "                          'loca': locas,\n",
    "                          'review': reviews,\n",
    "                          'point': points,\n",
    "                          })\n",
    "    return datas"
   ]
  },
  {
   "cell_type": "code",
   "execution_count": 376,
   "metadata": {
    "scrolled": true
   },
   "outputs": [
    {
     "name": "stdout",
     "output_type": "stream",
     "text": [
      "10 개의 음식점의 리뷰를 크롤링 합니다.\n",
      "1 번째 음식점 크롤링 합니다.\n",
      "별점 가져오는중..\n",
      "리뷰 가져오는중..\n",
      "2 번째 음식점 크롤링 합니다.\n",
      "별점 가져오는중..\n",
      "리뷰 가져오는중..\n",
      "3 번째 음식점 크롤링 합니다.\n",
      "별점 가져오는중..\n",
      "리뷰 가져오는중..\n",
      "4 번째 음식점 크롤링 합니다.\n",
      "별점 가져오는중..\n",
      "리뷰 가져오는중..\n",
      "5 번째 음식점 크롤링 합니다.\n",
      "별점 가져오는중..\n",
      "리뷰 가져오는중..\n",
      "6 번째 음식점 크롤링 합니다.\n",
      "별점 가져오는중..\n",
      "리뷰 가져오는중..\n",
      "7 번째 음식점 크롤링 합니다.\n",
      "별점 가져오는중..\n",
      "리뷰 가져오는중..\n",
      "8 번째 음식점 크롤링 합니다.\n",
      "별점 가져오는중..\n",
      "리뷰 가져오는중..\n",
      "9 번째 음식점 크롤링 합니다.\n",
      "별점 가져오는중..\n",
      "리뷰 가져오는중..\n",
      "10 번째 음식점 크롤링 합니다.\n",
      "별점 가져오는중..\n",
      "리뷰 가져오는중..\n"
     ]
    }
   ],
   "source": [
    "url = 'https://m.place.naver.com/my/pick'\n",
    "datas = naver_myplace(url,1)"
   ]
  },
  {
   "cell_type": "markdown",
   "metadata": {},
   "source": [
    "#### 데이터 전처리"
   ]
  },
  {
   "cell_type": "code",
   "execution_count": 385,
   "metadata": {},
   "outputs": [
    {
     "data": {
      "text/html": [
       "<div>\n",
       "<style scoped>\n",
       "    .dataframe tbody tr th:only-of-type {\n",
       "        vertical-align: middle;\n",
       "    }\n",
       "\n",
       "    .dataframe tbody tr th {\n",
       "        vertical-align: top;\n",
       "    }\n",
       "\n",
       "    .dataframe thead th {\n",
       "        text-align: right;\n",
       "    }\n",
       "</style>\n",
       "<table border=\"1\" class=\"dataframe\">\n",
       "  <thead>\n",
       "    <tr style=\"text-align: right;\">\n",
       "      <th></th>\n",
       "      <th>name</th>\n",
       "      <th>loca</th>\n",
       "      <th>review</th>\n",
       "      <th>point</th>\n",
       "    </tr>\n",
       "  </thead>\n",
       "  <tbody>\n",
       "    <tr>\n",
       "      <th>0</th>\n",
       "      <td>우시장정육식당</td>\n",
       "      <td>대전광역시</td>\n",
       "      <td>두번째 방문인데도 존맛 입에서 사르르 녹아요정말 다른소고기집에서 느낄수 없는 맛이예...</td>\n",
       "      <td>5</td>\n",
       "    </tr>\n",
       "    <tr>\n",
       "      <th>1</th>\n",
       "      <td>우시장정육식당</td>\n",
       "      <td>대전광역시</td>\n",
       "      <td>가게분위기도 너무좋고 직원분들도 너무 친절하시고 무엇보다 고기가 정말 입에서 살살 ...</td>\n",
       "      <td>5</td>\n",
       "    </tr>\n",
       "    <tr>\n",
       "      <th>2</th>\n",
       "      <td>우시장정육식당</td>\n",
       "      <td>대전광역시</td>\n",
       "      <td>사장님께서 직접 고기 설명 하나 하나 해주시고 육즙 하나 하나 너무 감사했습니다 너...</td>\n",
       "      <td>5</td>\n",
       "    </tr>\n",
       "    <tr>\n",
       "      <th>3</th>\n",
       "      <td>우시장정육식당</td>\n",
       "      <td>대전광역시</td>\n",
       "      <td>둘째가 조금만 질겨도안먹고 부채살만먹는데 정말 맛있게 잘먹었네요 넘 부드러워요</td>\n",
       "      <td>5</td>\n",
       "    </tr>\n",
       "    <tr>\n",
       "      <th>4</th>\n",
       "      <td>우시장정육식당</td>\n",
       "      <td>대전광역시</td>\n",
       "      <td>친절하고 고기가 신선합니다 서비스로 사시미 한점씩 주시는데  넘적어요ㅜㅜ담엔 사시미...</td>\n",
       "      <td>4</td>\n",
       "    </tr>\n",
       "    <tr>\n",
       "      <th>...</th>\n",
       "      <td>...</td>\n",
       "      <td>...</td>\n",
       "      <td>...</td>\n",
       "      <td>...</td>\n",
       "    </tr>\n",
       "    <tr>\n",
       "      <th>600</th>\n",
       "      <td>바이산코리아</td>\n",
       "      <td>성동구</td>\n",
       "      <td>사람이 매우 많다 음료 나오는데 25분 걸릴 예정이라고 한다</td>\n",
       "      <td>5</td>\n",
       "    </tr>\n",
       "    <tr>\n",
       "      <th>601</th>\n",
       "      <td>바이산코리아</td>\n",
       "      <td>성동구</td>\n",
       "      <td>밥블레스유에 나온 곳이더라구요 커피도 무난하고 초코머핀아랑 그외 빵들도 맛있었어요 ...</td>\n",
       "      <td>3</td>\n",
       "    </tr>\n",
       "    <tr>\n",
       "      <th>605</th>\n",
       "      <td>바이산코리아</td>\n",
       "      <td>성동구</td>\n",
       "      <td>개인적으로 음식이나 카페 인터리어중에 시멘바르다만듯 공사하다 만듯한 공장형 인테리어...</td>\n",
       "      <td>2</td>\n",
       "    </tr>\n",
       "    <tr>\n",
       "      <th>608</th>\n",
       "      <td>바이산코리아</td>\n",
       "      <td>성동구</td>\n",
       "      <td>성수역 카페 여기 옥상 테라스 있어서 갔는데  진짜 너무 예뻐요 가격은 좀 사악함</td>\n",
       "      <td>5</td>\n",
       "    </tr>\n",
       "    <tr>\n",
       "      <th>610</th>\n",
       "      <td>까베르네</td>\n",
       "      <td>광주광역시</td>\n",
       "      <td>와인 잘 모르는데 너무 만족스러웠어요 분위기도 예쁘고 가격도 착해요 사장님도 진짜 ...</td>\n",
       "      <td>5</td>\n",
       "    </tr>\n",
       "  </tbody>\n",
       "</table>\n",
       "<p>522 rows × 4 columns</p>\n",
       "</div>"
      ],
      "text/plain": [
       "        name   loca                                             review point\n",
       "0    우시장정육식당  대전광역시  두번째 방문인데도 존맛 입에서 사르르 녹아요정말 다른소고기집에서 느낄수 없는 맛이예...     5\n",
       "1    우시장정육식당  대전광역시  가게분위기도 너무좋고 직원분들도 너무 친절하시고 무엇보다 고기가 정말 입에서 살살 ...     5\n",
       "2    우시장정육식당  대전광역시  사장님께서 직접 고기 설명 하나 하나 해주시고 육즙 하나 하나 너무 감사했습니다 너...     5\n",
       "3    우시장정육식당  대전광역시        둘째가 조금만 질겨도안먹고 부채살만먹는데 정말 맛있게 잘먹었네요 넘 부드러워요     5\n",
       "4    우시장정육식당  대전광역시  친절하고 고기가 신선합니다 서비스로 사시미 한점씩 주시는데  넘적어요ㅜㅜ담엔 사시미...     4\n",
       "..       ...    ...                                                ...   ...\n",
       "600   바이산코리아    성동구                  사람이 매우 많다 음료 나오는데 25분 걸릴 예정이라고 한다     5\n",
       "601   바이산코리아    성동구  밥블레스유에 나온 곳이더라구요 커피도 무난하고 초코머핀아랑 그외 빵들도 맛있었어요 ...     3\n",
       "605   바이산코리아    성동구  개인적으로 음식이나 카페 인터리어중에 시멘바르다만듯 공사하다 만듯한 공장형 인테리어...     2\n",
       "608   바이산코리아    성동구      성수역 카페 여기 옥상 테라스 있어서 갔는데  진짜 너무 예뻐요 가격은 좀 사악함     5\n",
       "610     까베르네  광주광역시  와인 잘 모르는데 너무 만족스러웠어요 분위기도 예쁘고 가격도 착해요 사장님도 진짜 ...     5\n",
       "\n",
       "[522 rows x 4 columns]"
      ]
     },
     "execution_count": 385,
     "metadata": {},
     "output_type": "execute_result"
    }
   ],
   "source": [
    "datas = datas[datas['review'] != '']\n",
    "datas"
   ]
  },
  {
   "cell_type": "code",
   "execution_count": 386,
   "metadata": {},
   "outputs": [
    {
     "data": {
      "text/html": [
       "<div>\n",
       "<style scoped>\n",
       "    .dataframe tbody tr th:only-of-type {\n",
       "        vertical-align: middle;\n",
       "    }\n",
       "\n",
       "    .dataframe tbody tr th {\n",
       "        vertical-align: top;\n",
       "    }\n",
       "\n",
       "    .dataframe thead th {\n",
       "        text-align: right;\n",
       "    }\n",
       "</style>\n",
       "<table border=\"1\" class=\"dataframe\">\n",
       "  <thead>\n",
       "    <tr style=\"text-align: right;\">\n",
       "      <th></th>\n",
       "      <th>name</th>\n",
       "      <th>loca</th>\n",
       "      <th>review</th>\n",
       "      <th>point</th>\n",
       "    </tr>\n",
       "  </thead>\n",
       "  <tbody>\n",
       "  </tbody>\n",
       "</table>\n",
       "</div>"
      ],
      "text/plain": [
       "Empty DataFrame\n",
       "Columns: [name, loca, review, point]\n",
       "Index: []"
      ]
     },
     "execution_count": 386,
     "metadata": {},
     "output_type": "execute_result"
    }
   ],
   "source": [
    "datas[datas['name'] =='']"
   ]
  },
  {
   "cell_type": "code",
   "execution_count": 387,
   "metadata": {},
   "outputs": [
    {
     "data": {
      "text/html": [
       "<div>\n",
       "<style scoped>\n",
       "    .dataframe tbody tr th:only-of-type {\n",
       "        vertical-align: middle;\n",
       "    }\n",
       "\n",
       "    .dataframe tbody tr th {\n",
       "        vertical-align: top;\n",
       "    }\n",
       "\n",
       "    .dataframe thead th {\n",
       "        text-align: right;\n",
       "    }\n",
       "</style>\n",
       "<table border=\"1\" class=\"dataframe\">\n",
       "  <thead>\n",
       "    <tr style=\"text-align: right;\">\n",
       "      <th></th>\n",
       "      <th>name</th>\n",
       "      <th>loca</th>\n",
       "      <th>review</th>\n",
       "      <th>point</th>\n",
       "    </tr>\n",
       "  </thead>\n",
       "  <tbody>\n",
       "  </tbody>\n",
       "</table>\n",
       "</div>"
      ],
      "text/plain": [
       "Empty DataFrame\n",
       "Columns: [name, loca, review, point]\n",
       "Index: []"
      ]
     },
     "execution_count": 387,
     "metadata": {},
     "output_type": "execute_result"
    }
   ],
   "source": [
    "datas[datas['loca'] =='']"
   ]
  },
  {
   "cell_type": "code",
   "execution_count": 388,
   "metadata": {},
   "outputs": [
    {
     "data": {
      "text/html": [
       "<div>\n",
       "<style scoped>\n",
       "    .dataframe tbody tr th:only-of-type {\n",
       "        vertical-align: middle;\n",
       "    }\n",
       "\n",
       "    .dataframe tbody tr th {\n",
       "        vertical-align: top;\n",
       "    }\n",
       "\n",
       "    .dataframe thead th {\n",
       "        text-align: right;\n",
       "    }\n",
       "</style>\n",
       "<table border=\"1\" class=\"dataframe\">\n",
       "  <thead>\n",
       "    <tr style=\"text-align: right;\">\n",
       "      <th></th>\n",
       "      <th>name</th>\n",
       "      <th>loca</th>\n",
       "      <th>review</th>\n",
       "      <th>point</th>\n",
       "    </tr>\n",
       "  </thead>\n",
       "  <tbody>\n",
       "  </tbody>\n",
       "</table>\n",
       "</div>"
      ],
      "text/plain": [
       "Empty DataFrame\n",
       "Columns: [name, loca, review, point]\n",
       "Index: []"
      ]
     },
     "execution_count": 388,
     "metadata": {},
     "output_type": "execute_result"
    }
   ],
   "source": [
    "datas[datas['point'] =='']"
   ]
  },
  {
   "cell_type": "code",
   "execution_count": 389,
   "metadata": {},
   "outputs": [
    {
     "data": {
      "text/html": [
       "<div>\n",
       "<style scoped>\n",
       "    .dataframe tbody tr th:only-of-type {\n",
       "        vertical-align: middle;\n",
       "    }\n",
       "\n",
       "    .dataframe tbody tr th {\n",
       "        vertical-align: top;\n",
       "    }\n",
       "\n",
       "    .dataframe thead th {\n",
       "        text-align: right;\n",
       "    }\n",
       "</style>\n",
       "<table border=\"1\" class=\"dataframe\">\n",
       "  <thead>\n",
       "    <tr style=\"text-align: right;\">\n",
       "      <th></th>\n",
       "      <th>name</th>\n",
       "      <th>loca</th>\n",
       "      <th>review</th>\n",
       "      <th>point</th>\n",
       "    </tr>\n",
       "  </thead>\n",
       "  <tbody>\n",
       "  </tbody>\n",
       "</table>\n",
       "</div>"
      ],
      "text/plain": [
       "Empty DataFrame\n",
       "Columns: [name, loca, review, point]\n",
       "Index: []"
      ]
     },
     "execution_count": 389,
     "metadata": {},
     "output_type": "execute_result"
    }
   ],
   "source": [
    "datas[datas['review'] =='1']"
   ]
  },
  {
   "cell_type": "code",
   "execution_count": 391,
   "metadata": {},
   "outputs": [],
   "source": [
    "datas['point'] = datas['point'].astype('float')"
   ]
  },
  {
   "cell_type": "code",
   "execution_count": 392,
   "metadata": {},
   "outputs": [
    {
     "name": "stdout",
     "output_type": "stream",
     "text": [
      "<class 'pandas.core.frame.DataFrame'>\n",
      "Int64Index: 522 entries, 0 to 610\n",
      "Data columns (total 4 columns):\n",
      " #   Column  Non-Null Count  Dtype  \n",
      "---  ------  --------------  -----  \n",
      " 0   name    522 non-null    object \n",
      " 1   loca    522 non-null    object \n",
      " 2   review  522 non-null    object \n",
      " 3   point   522 non-null    float64\n",
      "dtypes: float64(1), object(3)\n",
      "memory usage: 20.4+ KB\n"
     ]
    }
   ],
   "source": [
    "datas.info()"
   ]
  },
  {
   "cell_type": "code",
   "execution_count": 393,
   "metadata": {},
   "outputs": [],
   "source": [
    "datas.loc[datas['point'] > 3, 'emotion'] = 'positive'\n",
    "datas.loc[datas['point'] == 3, 'emotion'] = 'neutral'\n",
    "datas.loc[datas['point'] < 3, 'emotion'] = 'negative'"
   ]
  },
  {
   "cell_type": "code",
   "execution_count": 394,
   "metadata": {},
   "outputs": [
    {
     "data": {
      "text/plain": [
       "positive    473\n",
       "neutral      37\n",
       "negative     12\n",
       "Name: emotion, dtype: int64"
      ]
     },
     "execution_count": 394,
     "metadata": {},
     "output_type": "execute_result"
    }
   ],
   "source": [
    "datas['emotion'].value_counts()"
   ]
  },
  {
   "cell_type": "code",
   "execution_count": 395,
   "metadata": {},
   "outputs": [],
   "source": [
    "datas.reset_index(drop = True, inplace= True)"
   ]
  },
  {
   "cell_type": "code",
   "execution_count": 399,
   "metadata": {},
   "outputs": [],
   "source": [
    "datas.to_csv('datas/naver_myplace_review.csv',mode='a', index=False) #"
   ]
  },
  {
   "cell_type": "code",
   "execution_count": 400,
   "metadata": {},
   "outputs": [
    {
     "data": {
      "text/html": [
       "<div>\n",
       "<style scoped>\n",
       "    .dataframe tbody tr th:only-of-type {\n",
       "        vertical-align: middle;\n",
       "    }\n",
       "\n",
       "    .dataframe tbody tr th {\n",
       "        vertical-align: top;\n",
       "    }\n",
       "\n",
       "    .dataframe thead th {\n",
       "        text-align: right;\n",
       "    }\n",
       "</style>\n",
       "<table border=\"1\" class=\"dataframe\">\n",
       "  <thead>\n",
       "    <tr style=\"text-align: right;\">\n",
       "      <th></th>\n",
       "      <th>name</th>\n",
       "      <th>loca</th>\n",
       "      <th>review</th>\n",
       "      <th>point</th>\n",
       "      <th>emotion</th>\n",
       "    </tr>\n",
       "  </thead>\n",
       "  <tbody>\n",
       "    <tr>\n",
       "      <th>0</th>\n",
       "      <td>우시장정육식당</td>\n",
       "      <td>대전광역시</td>\n",
       "      <td>두번째 방문인데도 존맛 입에서 사르르 녹아요정말 다른소고기집에서 느낄수 없는 맛이예...</td>\n",
       "      <td>5.0</td>\n",
       "      <td>positive</td>\n",
       "    </tr>\n",
       "    <tr>\n",
       "      <th>1</th>\n",
       "      <td>우시장정육식당</td>\n",
       "      <td>대전광역시</td>\n",
       "      <td>가게분위기도 너무좋고 직원분들도 너무 친절하시고 무엇보다 고기가 정말 입에서 살살 ...</td>\n",
       "      <td>5.0</td>\n",
       "      <td>positive</td>\n",
       "    </tr>\n",
       "    <tr>\n",
       "      <th>2</th>\n",
       "      <td>우시장정육식당</td>\n",
       "      <td>대전광역시</td>\n",
       "      <td>사장님께서 직접 고기 설명 하나 하나 해주시고 육즙 하나 하나 너무 감사했습니다 너...</td>\n",
       "      <td>5.0</td>\n",
       "      <td>positive</td>\n",
       "    </tr>\n",
       "    <tr>\n",
       "      <th>3</th>\n",
       "      <td>우시장정육식당</td>\n",
       "      <td>대전광역시</td>\n",
       "      <td>둘째가 조금만 질겨도안먹고 부채살만먹는데 정말 맛있게 잘먹었네요 넘 부드러워요</td>\n",
       "      <td>5.0</td>\n",
       "      <td>positive</td>\n",
       "    </tr>\n",
       "    <tr>\n",
       "      <th>4</th>\n",
       "      <td>우시장정육식당</td>\n",
       "      <td>대전광역시</td>\n",
       "      <td>친절하고 고기가 신선합니다 서비스로 사시미 한점씩 주시는데  넘적어요ㅜㅜ담엔 사시미...</td>\n",
       "      <td>4.0</td>\n",
       "      <td>positive</td>\n",
       "    </tr>\n",
       "    <tr>\n",
       "      <th>...</th>\n",
       "      <td>...</td>\n",
       "      <td>...</td>\n",
       "      <td>...</td>\n",
       "      <td>...</td>\n",
       "      <td>...</td>\n",
       "    </tr>\n",
       "    <tr>\n",
       "      <th>517</th>\n",
       "      <td>바이산코리아</td>\n",
       "      <td>성동구</td>\n",
       "      <td>사람이 매우 많다 음료 나오는데 25분 걸릴 예정이라고 한다</td>\n",
       "      <td>5.0</td>\n",
       "      <td>positive</td>\n",
       "    </tr>\n",
       "    <tr>\n",
       "      <th>518</th>\n",
       "      <td>바이산코리아</td>\n",
       "      <td>성동구</td>\n",
       "      <td>밥블레스유에 나온 곳이더라구요 커피도 무난하고 초코머핀아랑 그외 빵들도 맛있었어요 ...</td>\n",
       "      <td>3.0</td>\n",
       "      <td>neutral</td>\n",
       "    </tr>\n",
       "    <tr>\n",
       "      <th>519</th>\n",
       "      <td>바이산코리아</td>\n",
       "      <td>성동구</td>\n",
       "      <td>개인적으로 음식이나 카페 인터리어중에 시멘바르다만듯 공사하다 만듯한 공장형 인테리어...</td>\n",
       "      <td>2.0</td>\n",
       "      <td>negative</td>\n",
       "    </tr>\n",
       "    <tr>\n",
       "      <th>520</th>\n",
       "      <td>바이산코리아</td>\n",
       "      <td>성동구</td>\n",
       "      <td>성수역 카페 여기 옥상 테라스 있어서 갔는데  진짜 너무 예뻐요 가격은 좀 사악함</td>\n",
       "      <td>5.0</td>\n",
       "      <td>positive</td>\n",
       "    </tr>\n",
       "    <tr>\n",
       "      <th>521</th>\n",
       "      <td>까베르네</td>\n",
       "      <td>광주광역시</td>\n",
       "      <td>와인 잘 모르는데 너무 만족스러웠어요 분위기도 예쁘고 가격도 착해요 사장님도 진짜 ...</td>\n",
       "      <td>5.0</td>\n",
       "      <td>positive</td>\n",
       "    </tr>\n",
       "  </tbody>\n",
       "</table>\n",
       "<p>522 rows × 5 columns</p>\n",
       "</div>"
      ],
      "text/plain": [
       "        name   loca                                             review  point  \\\n",
       "0    우시장정육식당  대전광역시  두번째 방문인데도 존맛 입에서 사르르 녹아요정말 다른소고기집에서 느낄수 없는 맛이예...    5.0   \n",
       "1    우시장정육식당  대전광역시  가게분위기도 너무좋고 직원분들도 너무 친절하시고 무엇보다 고기가 정말 입에서 살살 ...    5.0   \n",
       "2    우시장정육식당  대전광역시  사장님께서 직접 고기 설명 하나 하나 해주시고 육즙 하나 하나 너무 감사했습니다 너...    5.0   \n",
       "3    우시장정육식당  대전광역시        둘째가 조금만 질겨도안먹고 부채살만먹는데 정말 맛있게 잘먹었네요 넘 부드러워요    5.0   \n",
       "4    우시장정육식당  대전광역시  친절하고 고기가 신선합니다 서비스로 사시미 한점씩 주시는데  넘적어요ㅜㅜ담엔 사시미...    4.0   \n",
       "..       ...    ...                                                ...    ...   \n",
       "517   바이산코리아    성동구                  사람이 매우 많다 음료 나오는데 25분 걸릴 예정이라고 한다    5.0   \n",
       "518   바이산코리아    성동구  밥블레스유에 나온 곳이더라구요 커피도 무난하고 초코머핀아랑 그외 빵들도 맛있었어요 ...    3.0   \n",
       "519   바이산코리아    성동구  개인적으로 음식이나 카페 인터리어중에 시멘바르다만듯 공사하다 만듯한 공장형 인테리어...    2.0   \n",
       "520   바이산코리아    성동구      성수역 카페 여기 옥상 테라스 있어서 갔는데  진짜 너무 예뻐요 가격은 좀 사악함    5.0   \n",
       "521     까베르네  광주광역시  와인 잘 모르는데 너무 만족스러웠어요 분위기도 예쁘고 가격도 착해요 사장님도 진짜 ...    5.0   \n",
       "\n",
       "      emotion  \n",
       "0    positive  \n",
       "1    positive  \n",
       "2    positive  \n",
       "3    positive  \n",
       "4    positive  \n",
       "..        ...  \n",
       "517  positive  \n",
       "518   neutral  \n",
       "519  negative  \n",
       "520  positive  \n",
       "521  positive  \n",
       "\n",
       "[522 rows x 5 columns]"
      ]
     },
     "execution_count": 400,
     "metadata": {},
     "output_type": "execute_result"
    }
   ],
   "source": [
    "raw_datas = pd.read_csv('datas/naver_myplace_review.csv')\n",
    "raw_datas"
   ]
  },
  {
   "cell_type": "code",
   "execution_count": 401,
   "metadata": {},
   "outputs": [
    {
     "data": {
      "text/plain": [
       "0      False\n",
       "1      False\n",
       "2      False\n",
       "3      False\n",
       "4      False\n",
       "       ...  \n",
       "517    False\n",
       "518    False\n",
       "519    False\n",
       "520    False\n",
       "521    False\n",
       "Length: 522, dtype: bool"
      ]
     },
     "execution_count": 401,
     "metadata": {},
     "output_type": "execute_result"
    }
   ],
   "source": [
    "raw_datas.duplicated('review')"
   ]
  }
 ],
 "metadata": {
  "kernelspec": {
   "display_name": "Python 3",
   "language": "python",
   "name": "python3"
  },
  "language_info": {
   "codemirror_mode": {
    "name": "ipython",
    "version": 3
   },
   "file_extension": ".py",
   "mimetype": "text/x-python",
   "name": "python",
   "nbconvert_exporter": "python",
   "pygments_lexer": "ipython3",
   "version": "3.7.6"
  }
 },
 "nbformat": 4,
 "nbformat_minor": 4
}
