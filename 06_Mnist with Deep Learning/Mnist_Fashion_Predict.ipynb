{
 "cells": [
  {
   "cell_type": "markdown",
   "metadata": {
    "execution": {
     "iopub.execute_input": "2020-12-16T02:35:13.719623Z",
     "iopub.status.busy": "2020-12-16T02:35:13.718926Z",
     "iopub.status.idle": "2020-12-16T02:35:13.724830Z",
     "shell.execute_reply": "2020-12-16T02:35:13.724277Z",
     "shell.execute_reply.started": "2020-12-16T02:35:13.719439Z"
    }
   },
   "source": [
    "# Mnist Fashion으로 알아보는 Deep Learning\n",
    "\n",
    "<img src=\"https://user-images.githubusercontent.com/77366857/120592063-2cb34d80-c478-11eb-8007-efbf53f7b667.png\">\n",
    "\n",
    "- Mnist Fashion Image란 운동화, 셔츠, 샌들과 같은 작은 이미지들의 모음입니다.\n",
    "- 총 10 가지의 Class로 이루어져 있으며, 이미지는 28×28 픽셀이며 총 70,000 장으로로 이루어져 있습니다.\n",
    "- 그 중 60,000장의 데이터는 Train 데이터이고, 10,000장은 Test 데이터입니다.\n",
    "- 글창사에서 제공한 데이터에는 Test 데이터 대한 Label이 없으며 Test 데이터 Label을 예측하여 CSV파일로 제출하는 것이 실습 문제 입니다. \n",
    "\n",
    "## 0. Package Import\n",
    "---"
   ]
  },
  {
   "cell_type": "code",
   "execution_count": 1,
   "metadata": {
    "execution": {
     "iopub.execute_input": "2020-12-17T01:33:27.713073Z",
     "iopub.status.busy": "2020-12-17T01:33:27.712305Z",
     "iopub.status.idle": "2020-12-17T01:33:28.899184Z",
     "shell.execute_reply": "2020-12-17T01:33:28.898751Z",
     "shell.execute_reply.started": "2020-12-17T01:33:27.712846Z"
    }
   },
   "outputs": [],
   "source": [
    "from tensorflow import keras\n",
    "from tensorflow.keras.callbacks import ModelCheckpoint, EarlyStopping\n",
    "\n",
    "from sklearn.model_selection import train_test_split, StratifiedKFold, cross_val_score\n",
    "from sklearn.tree import DecisionTreeClassifier\n",
    "from sklearn.ensemble import RandomForestClassifier\n",
    "\n",
    "import os\n",
    "import tensorflow as tf\n",
    "import pandas as pd\n",
    "import numpy as np\n",
    "import matplotlib.pyplot as plt\n",
    "import matplotlib.pyplot as plt\n",
    "import matplotlib.image as mpimg\n",
    "\n",
    "np.set_printoptions(threshold=np.inf, linewidth=500)"
   ]
  },
  {
   "cell_type": "markdown",
   "metadata": {},
   "source": [
    "## 1. Data Load\n",
    "---"
   ]
  },
  {
   "cell_type": "code",
   "execution_count": 2,
   "metadata": {
    "execution": {
     "iopub.execute_input": "2020-12-17T01:33:28.899916Z",
     "iopub.status.busy": "2020-12-17T01:33:28.899816Z",
     "iopub.status.idle": "2020-12-17T01:33:28.909198Z",
     "shell.execute_reply": "2020-12-17T01:33:28.908763Z",
     "shell.execute_reply.started": "2020-12-17T01:33:28.899903Z"
    }
   },
   "outputs": [],
   "source": [
    "y_train = np.array(pd.read_csv('Fashion_MNIST/train.csv')['class'])\n",
    "y_test = pd.read_csv('./Fashion_MNIST/test_sample.csv')"
   ]
  },
  {
   "cell_type": "markdown",
   "metadata": {},
   "source": [
    "- y label은 train.csv파일에 class라는 컬럼에 있습니다.\n",
    "- y값은 id값의 순서대로 들어가져 있습니다."
   ]
  },
  {
   "cell_type": "code",
   "execution_count": 3,
   "metadata": {
    "execution": {
     "iopub.execute_input": "2020-12-17T01:33:29.519967Z",
     "iopub.status.busy": "2020-12-17T01:33:29.519368Z",
     "iopub.status.idle": "2020-12-17T01:33:35.669769Z",
     "shell.execute_reply": "2020-12-17T01:33:35.669359Z",
     "shell.execute_reply.started": "2020-12-17T01:33:29.519894Z"
    }
   },
   "outputs": [],
   "source": [
    "train_path = './Fashion_MNIST/images/train/'\n",
    "test_path = './Fashion_MNIST/images/test/'\n",
    "\n",
    "X_train = np.array([mpimg.imread(train_path + str(i) + '.png') for i in range(0,60000)])\n",
    "# for i in range(0,60000):\n",
    "#     image_path = str(i) + '.png'\n",
    "#     image = mpimg.imread(train_path + str(i) + '.png')\n",
    "#     train_images.append(image)\n",
    "\n",
    "X_test = np.array([mpimg.imread(test_path + str(i) + '.png') for i in range(0,10000)])\n",
    "# for i in range(0,10000):\n",
    "#     image_path = str(i) + '.png'\n",
    "#     image = mpimg.imread(test_path + str(i) + '.png')\n",
    "#     test_images.append(image)"
   ]
  },
  {
   "cell_type": "markdown",
   "metadata": {},
   "source": [
    "- Train 데이터는 한장 한장 실제 이미지로 있습니다.\n",
    "- 따라서 이미지를 불러오는데 별도의 전처리를 해야합니다.\n",
    "- matplotlib의 image를 사용하여 불러왔고, 파일명이 곧 id이 이므로, 순서대로 가져오면 0번 ~ 6만번, 0번 ~ 1만번의 데이터를 가져옵니다."
   ]
  },
  {
   "cell_type": "code",
   "execution_count": 4,
   "metadata": {
    "execution": {
     "iopub.execute_input": "2020-12-17T01:33:35.670545Z",
     "iopub.status.busy": "2020-12-17T01:33:35.670424Z",
     "iopub.status.idle": "2020-12-17T01:33:35.674512Z",
     "shell.execute_reply": "2020-12-17T01:33:35.674106Z",
     "shell.execute_reply.started": "2020-12-17T01:33:35.670532Z"
    }
   },
   "outputs": [
    {
     "data": {
      "text/plain": [
       "((60000, 28, 28), (60000,), (10000, 28, 28))"
      ]
     },
     "execution_count": 4,
     "metadata": {},
     "output_type": "execute_result"
    }
   ],
   "source": [
    "X_train.shape, y_train.shape, X_test.shape"
   ]
  },
  {
   "cell_type": "markdown",
   "metadata": {},
   "source": [
    "- 불러온 데이터의 모양을 살펴보았습니다.\n",
    "- X_train 데이터는 60000장에 28 by 28 데이터로 Chanel은 1개(생략되어있음)로 Gray 스케일 입니다.\n",
    "- y_train 데이터는 X_train의 라벨입니다. 총 6만개의 데이터의 라벨로 구성되어 있습니다.\n",
    "- Test 데이터는 y_test는 제공해주지 않아 없습니다."
   ]
  },
  {
   "cell_type": "markdown",
   "metadata": {},
   "source": [
    "## 2. 데이터 라벨링\n",
    "---"
   ]
  },
  {
   "cell_type": "code",
   "execution_count": 5,
   "metadata": {
    "execution": {
     "iopub.execute_input": "2020-12-17T01:33:35.675246Z",
     "iopub.status.busy": "2020-12-17T01:33:35.675105Z",
     "iopub.status.idle": "2020-12-17T01:33:35.677332Z",
     "shell.execute_reply": "2020-12-17T01:33:35.676964Z",
     "shell.execute_reply.started": "2020-12-17T01:33:35.675235Z"
    }
   },
   "outputs": [],
   "source": [
    "mnist_fashion_labels = ['T-shirt/top', 'Trouser', 'Pullover', 'Dress', 'Coat', 'Sandal', 'Shirt', 'Sneaker', 'Bag','Ankle Boot']"
   ]
  },
  {
   "cell_type": "markdown",
   "metadata": {},
   "source": [
    "- Mnist Fashion Image의 라벨은 총 10가지로 0 ~ 9까지 구성되어 있으며, 각각의 숫자는 아래의 클래스를 의미합니다.\n",
    "|Label|Class\n",
    "|---|---\n",
    "|0|T-shirt/top(티셔츠)\n",
    "1|Trouser(바지)\n",
    "2|Pullover(풀오버스웨터)\n",
    "3|Dress(드레스)\n",
    "4|Coat(코드)\n",
    "5|Sandal(샌들)\n",
    "6|Shirt(셔츠)\n",
    "7|Sneaker(운동화)\n",
    "8|Bag(가방)\n",
    "9|Ankle boot(발목 부츠)"
   ]
  },
  {
   "cell_type": "markdown",
   "metadata": {},
   "source": [
    "## 3. 데이터 시각화\n",
    "---"
   ]
  },
  {
   "cell_type": "code",
   "execution_count": 6,
   "metadata": {
    "execution": {
     "iopub.execute_input": "2020-12-17T01:33:43.704849Z",
     "iopub.status.busy": "2020-12-17T01:33:43.704231Z",
     "iopub.status.idle": "2020-12-17T01:33:44.018576Z",
     "shell.execute_reply": "2020-12-17T01:33:44.018198Z",
     "shell.execute_reply.started": "2020-12-17T01:33:43.704773Z"
    }
   },
   "outputs": [
    {
     "data": {
      "image/png": "[encoded data removed]",
      "text/plain": [
       "<Figure size 1080x720 with 15 Axes>"
      ]
     },
     "metadata": {},
     "output_type": "display_data"
    }
   ],
   "source": [
    "figure = plt.figure(figsize=(15, 10))\n",
    "for index, i in enumerate(np.random.randint(0, X_train.shape[0], 15)):\n",
    "    ax = figure.add_subplot(3, 5, index + 1, xticks=[], yticks=[])\n",
    "    ax.imshow(X_train[i], cmap = 'gray')\n",
    "    ax.set_title(f\"{y_train[i]} : {mnist_fashion_labels[y_train[i]]}\")\n",
    "plt.show()"
   ]
  },
  {
   "cell_type": "markdown",
   "metadata": {},
   "source": [
    "- Train 데이터에서 랜덤하게 15개 데이터를 골라 시각화 하였습니다.\n",
    "- 28 by 28의 1채널이라 화질이 그렇게 좋은 이미지는 아니지만, 눈으로 보아도 어떤 의류 사진인지 알수 있는것도 있으나, 아닌것도 있습니다."
   ]
  },
  {
   "cell_type": "code",
   "execution_count": 8,
   "metadata": {
    "execution": {
     "iopub.execute_input": "2020-12-17T01:34:31.208584Z",
     "iopub.status.busy": "2020-12-17T01:34:31.207964Z",
     "iopub.status.idle": "2020-12-17T01:34:31.320702Z",
     "shell.execute_reply": "2020-12-17T01:34:31.320244Z",
     "shell.execute_reply.started": "2020-12-17T01:34:31.208510Z"
    }
   },
   "outputs": [
    {
     "data": {
      "image/png": "[encoded data removed]",
      "text/plain": [
       "<Figure size 864x864 with 1 Axes>"
      ]
     },
     "metadata": {},
     "output_type": "display_data"
    }
   ],
   "source": [
    "plt.figure(figsize=(12,12))\n",
    "plt.imshow(X_train[8703], cmap ='gray')\n",
    "plt.title(f'{y_train[8703]} : {mnist_fashion_labels[y_train[8703]]}')\n",
    "plt.xticks([])\n",
    "plt.yticks([])\n",
    "plt.show()"
   ]
  },
  {
   "cell_type": "markdown",
   "metadata": {},
   "source": [
    "- Train Data를 하나 골라 시각화 해보았습니다.\n",
    "- 위의 이미지는 6번 Shirt(셔츠) 입니다."
   ]
  },
  {
   "cell_type": "code",
   "execution_count": 21,
   "metadata": {
    "execution": {
     "iopub.execute_input": "2020-12-17T04:31:30.663200Z",
     "iopub.status.busy": "2020-12-17T04:31:30.662590Z",
     "iopub.status.idle": "2020-12-17T04:31:30.677000Z",
     "shell.execute_reply": "2020-12-17T04:31:30.676532Z",
     "shell.execute_reply.started": "2020-12-17T04:31:30.663126Z"
    }
   },
   "outputs": [
    {
     "name": "stdout",
     "output_type": "stream",
     "text": [
      "[[  0.   0.   0.   0.   0.   0.   0.   0.   0.   0.   0.   0.   0.   0.   0.   0.   0.   0.   0.   0.   0.  11.   0.   0.   0.   0.   0.   0.]\n",
      " [  0.   0.   0.   0.   0.   0.  59. 164. 220. 219. 222. 255. 252. 249. 247. 252. 255. 255. 221. 221. 227. 122.  23.   0.   0.   0.   0.   0.]\n",
      " [  0.   0.   0.   0.   0.   0.  88. 207. 244. 238. 229. 227. 228. 228. 228. 228. 227. 226. 229. 238. 239. 196.  39.   0.   0.   0.   0.   0.]\n",
      " [  0.   0.   0.   0.   0.   0.  98. 244. 231. 212. 233. 229. 224. 224. 226. 226. 229. 229. 234. 207. 238. 239.  71.   0.   0.   0.   0.   0.]\n",
      " [  0.   0.   0.   0.   0.   0. 204. 251. 213.  56. 255. 232. 236. 234. 235. 236. 237. 232. 255.  67. 219. 247. 200.   0.   0.   0.   0.   0.]\n",
      " [  0.   0.   0.   0.   0.   0. 211. 255. 200.   4. 255. 229. 234. 232. 233. 234. 234. 232. 255.   0. 216. 254. 201.   0.   0.   0.   0.   0.]\n",
      " [  0.   0.   0.   0.   0.  20. 208. 255. 159.   0. 255. 232. 233. 231. 231. 231. 232. 235. 255.   0. 180. 255. 197.   2.   0.   0.   0.   0.]\n",
      " [  0.   0.   0.   0.   0.  82. 230. 255. 159.   0. 255. 237. 234. 232. 232. 233. 232. 234. 255.   0. 183. 254. 227.  75.   0.   0.   0.   0.]\n",
      " [  0.   0.   0.   0.   0.  38. 226. 254.  23.   0. 255. 239. 232. 231. 231. 232. 232. 234. 255.   0.  25. 254. 225.  44.   0.   0.   0.   0.]\n",
      " [  0.   0.   0.   0.   0.  49. 220. 247.   0.   0. 255. 237. 233. 233. 231. 232. 232. 235. 255.   0.   0. 248. 217.  44.   0.   0.   0.   0.]\n",
      " [  0.   0.   0.   0.   0. 103. 242. 255.   0.  10. 255. 232. 235. 233. 231. 232. 235. 229. 255.  21.   0. 255. 241. 103.   0.   0.   0.   0.]\n",
      " [  0.   0.   0.   0.   0.  32. 206. 255.   0. 143. 255. 230. 233. 231. 231. 232. 234. 229. 255. 146.   0. 255. 210.  38.   0.   0.   0.   0.]\n",
      " [  0.   0.   0.   0.   0.  65. 203. 242.   0. 243. 250. 231. 233. 233. 233. 233. 235. 228. 248. 246.   0. 242. 200.  60.   0.   0.   0.   0.]\n",
      " [  0.   0.   0.   0.   0. 137. 239. 250.  30. 255. 235. 234. 234. 234. 234. 235. 234. 232. 235. 255.  25. 247. 236. 127.   0.   0.   0.   0.]\n",
      " [  0.   0.   0.   0.   0.  83. 170. 147.  78. 255. 231. 234. 234. 234. 234. 234. 234. 234. 233. 255.  76. 179. 198. 108.   0.   0.   0.   0.]\n",
      " [  0.   0.   0.   0.   0.   0.   0.   0. 102. 251. 230. 234. 234. 234. 234. 234. 234. 233. 230. 253.  97.   0.   0.   0.   0.   0.   0.   0.]\n",
      " [  0.   0.   0.   0.   0.   1.   5.   0. 133. 252. 230. 233. 232. 233. 234. 234. 234. 232. 229. 250. 114.   0.   3.   0.   0.   0.   0.   0.]\n",
      " [  0.   0.   0.   0.   0.   0.   3.   0. 141. 249. 229. 232. 232. 232. 232. 232. 232. 233. 228. 249. 134.   0.   3.   0.   0.   0.   0.   0.]\n",
      " [  0.   0.   0.   0.   0.   0.   1.   0. 153. 247. 229. 232. 231. 231. 232. 232. 232. 233. 228. 248. 136.   0.   3.   0.   0.   0.   0.   0.]\n",
      " [  0.   0.   0.   0.   0.   0.   2.   0. 150. 247. 229. 231. 231. 231. 232. 232. 232. 232. 228. 249. 119.   0.   4.   0.   0.   0.   0.   0.]\n",
      " [  0.   0.   0.   0.   0.   0.   3.   0. 128. 248. 227. 231. 231. 231. 232. 232. 232. 231. 229. 248.  99.   0.   4.   0.   0.   0.   0.   0.]\n",
      " [  0.   0.   0.   0.   0.   0.   4.   0. 107. 247. 228. 232. 231. 231. 232. 232. 232. 231. 229. 247.  85.   0.   4.   0.   0.   0.   0.   0.]\n",
      " [  0.   0.   0.   0.   0.   0.   4.   0.  88. 247. 228. 232. 231. 231. 232. 232. 233. 232. 230. 242.  40.   0.   6.   0.   0.   0.   0.   0.]\n",
      " [  0.   0.   0.   0.   0.   0.   6.   0.  39. 240. 230. 230. 231. 231. 232. 232. 232. 230. 233. 230.   0.   0.   4.   0.   0.   0.   0.   0.]\n",
      " [  0.   0.   0.   0.   0.   0.   3.   0.   0. 220. 235. 230. 232. 232. 233. 233. 234. 230. 239. 207.   0.   0.   2.   0.   0.   0.   0.   0.]\n",
      " [  0.   0.   0.   0.   0.   0.   1.   0.   0. 194. 238. 226. 228. 224. 222. 223. 229. 227. 243. 177.   0.   0.   0.   0.   0.   0.   0.   0.]\n",
      " [  0.   0.   0.   0.   0.   0.   0.   2.   0. 184. 255. 238. 255. 255. 255. 255. 255. 242. 255. 168.   0.   2.   0.   0.   0.   0.   0.   0.]\n",
      " [  0.   0.   0.   0.   0.   0.   0.   2.   0.  16.  99.  78.  79.  79.  86.  91.  96.  98. 115.  15.   0.   4.   0.   0.   0.   0.   0.   0.]]\n"
     ]
    }
   ],
   "source": [
    "print(X_train[8703] * 255)"
   ]
  },
  {
   "cell_type": "markdown",
   "metadata": {},
   "source": [
    "- 위에서 그림으로 본 이미지를 Array 타입으로 보았습니다.\n",
    "- 검은곳은 0이고 색깔이 있는 부분에 숫자가 있는것을 알수 있습니다.\n",
    "- 이러한 숫자의 패턴으로 알고리즘들이 패턴을 찾고, 어떤 이미지인지 예측할수 있습니다."
   ]
  },
  {
   "cell_type": "markdown",
   "metadata": {
    "execution": {
     "iopub.execute_input": "2020-12-16T07:03:58.136089Z",
     "iopub.status.busy": "2020-12-16T07:03:58.135474Z",
     "iopub.status.idle": "2020-12-16T07:03:58.143403Z",
     "shell.execute_reply": "2020-12-16T07:03:58.141115Z",
     "shell.execute_reply.started": "2020-12-16T07:03:58.136016Z"
    }
   },
   "source": [
    "## 4. 공통 데이터 처리\n",
    "---"
   ]
  },
  {
   "cell_type": "code",
   "execution_count": 10,
   "metadata": {
    "execution": {
     "iopub.execute_input": "2020-12-17T02:10:07.695442Z",
     "iopub.status.busy": "2020-12-17T02:10:07.694821Z",
     "iopub.status.idle": "2020-12-17T02:10:07.782729Z",
     "shell.execute_reply": "2020-12-17T02:10:07.782292Z",
     "shell.execute_reply.started": "2020-12-17T02:10:07.695366Z"
    }
   },
   "outputs": [
    {
     "data": {
      "text/plain": [
       "((48000, 28, 28), (12000, 28, 28), (48000,), (12000,))"
      ]
     },
     "execution_count": 10,
     "metadata": {},
     "output_type": "execute_result"
    }
   ],
   "source": [
    "X_train, X_valid, y_train, y_valid = train_test_split(X_train, y_train, stratify = y_train, test_size = 0.2, random_state = 87)\n",
    "X_train.shape, X_valid.shape, y_train.shape, y_valid.shape"
   ]
  },
  {
   "cell_type": "markdown",
   "metadata": {},
   "source": [
    "- X_train 데이터 6만장을 실제 모델 학습 데이터와 검증 데이터로 나누겠습니다.\n",
    "- 이렇게 학습 데이터를 나누는 이유는 가지고 있는 6만장의 데이터를 모두 모델 학습에 사용한다면 과적합이 올수 있습니다.\n",
    "- 따라서 train 데이터에서 검증용 데이터와 학습용 데이터로 한번더 나누어서 모델 학습은 학습용 데이터에서 만합니다.\n",
    "- 이후 생성된 모델을 검증용 데이터로 모델의 성능을 확인 합니다.\n",
    "- 모델 성능이 확인되면 마지막으로 제출해야할 실제 y값이 없는 테스트 데이터를 예측 후 해당 결과를 csv파일로 저장하여 제출합니다.\n",
    "- 즉, 6만장 데이터를 4만8천장의 모델 학습용 데이터와, 1만 2천장의 모델 검증용 데이터로 나누어 모델을 생성 한 후 생성된 모델을 1만장의 test 데이터를 예측합니다. "
   ]
  },
  {
   "cell_type": "code",
   "execution_count": 11,
   "metadata": {
    "execution": {
     "iopub.execute_input": "2020-12-17T02:10:09.092495Z",
     "iopub.status.busy": "2020-12-17T02:10:09.091909Z",
     "iopub.status.idle": "2020-12-17T02:10:09.099500Z",
     "shell.execute_reply": "2020-12-17T02:10:09.099085Z",
     "shell.execute_reply.started": "2020-12-17T02:10:09.092424Z"
    }
   },
   "outputs": [
    {
     "data": {
      "text/plain": [
       "{0: 1200,\n",
       " 1: 1200,\n",
       " 2: 1200,\n",
       " 3: 1200,\n",
       " 4: 1200,\n",
       " 5: 1200,\n",
       " 6: 1200,\n",
       " 7: 1200,\n",
       " 8: 1200,\n",
       " 9: 1200}"
      ]
     },
     "execution_count": 11,
     "metadata": {},
     "output_type": "execute_result"
    }
   ],
   "source": [
    "unique, counts = np.unique(y_valid, return_counts=True)\n",
    "dict(zip(unique, counts))"
   ]
  },
  {
   "cell_type": "code",
   "execution_count": 12,
   "metadata": {
    "execution": {
     "iopub.execute_input": "2020-12-17T02:10:09.630102Z",
     "iopub.status.busy": "2020-12-17T02:10:09.629520Z",
     "iopub.status.idle": "2020-12-17T02:10:09.635861Z",
     "shell.execute_reply": "2020-12-17T02:10:09.635437Z",
     "shell.execute_reply.started": "2020-12-17T02:10:09.630031Z"
    }
   },
   "outputs": [
    {
     "data": {
      "text/plain": [
       "{0: 4800,\n",
       " 1: 4800,\n",
       " 2: 4800,\n",
       " 3: 4800,\n",
       " 4: 4800,\n",
       " 5: 4800,\n",
       " 6: 4800,\n",
       " 7: 4800,\n",
       " 8: 4800,\n",
       " 9: 4800}"
      ]
     },
     "execution_count": 12,
     "metadata": {},
     "output_type": "execute_result"
    }
   ],
   "source": [
    "unique, counts = np.unique(y_train, return_counts=True)\n",
    "dict(zip(unique, counts))"
   ]
  },
  {
   "cell_type": "markdown",
   "metadata": {},
   "source": [
    "- 또한 split 과정에서 stratify 옵션을 넣어 label의 class가 모두 동일한 비율로 들어가게 만들었습니다."
   ]
  },
  {
   "cell_type": "code",
   "execution_count": 13,
   "metadata": {
    "execution": {
     "iopub.execute_input": "2020-12-17T02:10:10.246215Z",
     "iopub.status.busy": "2020-12-17T02:10:10.245626Z",
     "iopub.status.idle": "2020-12-17T02:10:10.298949Z",
     "shell.execute_reply": "2020-12-17T02:10:10.298249Z",
     "shell.execute_reply.started": "2020-12-17T02:10:10.246144Z"
    }
   },
   "outputs": [
    {
     "data": {
      "text/plain": [
       "(0.0, 1.0)"
      ]
     },
     "execution_count": 13,
     "metadata": {},
     "output_type": "execute_result"
    }
   ],
   "source": [
    "X_train.min(),  X_train.max()"
   ]
  },
  {
   "cell_type": "markdown",
   "metadata": {},
   "source": [
    "- 제공받은 데이터는 이미 MinMax Scaler가 적용되어 있어, 따로 Scale을 하지 않습니다."
   ]
  },
  {
   "cell_type": "markdown",
   "metadata": {},
   "source": [
    "## 5. Machine Learning 기법을 사용하여 예측하기\n",
    "---"
   ]
  },
  {
   "cell_type": "markdown",
   "metadata": {},
   "source": [
    "### 5.1 머신러닝을 위한 데이터 처리"
   ]
  },
  {
   "cell_type": "code",
   "execution_count": 14,
   "metadata": {
    "execution": {
     "iopub.execute_input": "2020-12-17T02:10:11.439043Z",
     "iopub.status.busy": "2020-12-17T02:10:11.438439Z",
     "iopub.status.idle": "2020-12-17T02:10:11.444603Z",
     "shell.execute_reply": "2020-12-17T02:10:11.444112Z",
     "shell.execute_reply.started": "2020-12-17T02:10:11.438972Z"
    }
   },
   "outputs": [],
   "source": [
    "skfold = StratifiedKFold(n_splits=5, shuffle=True, random_state=87)\n",
    "X_train_reshape = X_train.reshape(X_train.shape[0], 28 * 28) # 48000, 784\n",
    "X_valid_reshape = X_valid.reshape(X_valid.shape[0], 28 * 28) # 12000, 784\n",
    "X_test_reshape = X_test.reshape(X_test.shape[0], 28 * 28) # 10000, 784"
   ]
  },
  {
   "cell_type": "markdown",
   "metadata": {},
   "source": [
    "- 머신러닝을 하기전에 28 by 28의 데이터를 flatten하게 48000 * 784와 12000 * 28형식으로 reshape 해주었습니다. \n",
    "- 즉, 6만개의 데이터가 있고 총 784개의 특성이 있는 형식입니다.\n",
    "- 또한 검증을 위해 StratifiedKFold를 생성합니다."
   ]
  },
  {
   "cell_type": "markdown",
   "metadata": {},
   "source": [
    "### 4.2 DecisionTree"
   ]
  },
  {
   "cell_type": "code",
   "execution_count": 15,
   "metadata": {
    "execution": {
     "iopub.execute_input": "2020-12-17T02:10:12.733928Z",
     "iopub.status.busy": "2020-12-17T02:10:12.733306Z",
     "iopub.status.idle": "2020-12-17T02:11:20.864787Z",
     "shell.execute_reply": "2020-12-17T02:11:20.864320Z",
     "shell.execute_reply.started": "2020-12-17T02:10:12.733853Z"
    }
   },
   "outputs": [
    {
     "name": "stdout",
     "output_type": "stream",
     "text": [
      "\n",
      "Accuracy: 0.7900\n"
     ]
    }
   ],
   "source": [
    "clf = DecisionTreeClassifier(random_state=87)\n",
    "cv_score = cross_val_score(clf, X_train_reshape, y_train, cv = skfold)\n",
    "print('\\nAccuracy: {:.4f}'.format(cv_score.mean()))"
   ]
  },
  {
   "cell_type": "markdown",
   "metadata": {},
   "source": [
    "- 가장 먼저 DecisionTree로 학습해보았습니다.\n",
    "- KFold로 검증한 평균 Accuracy는 0.79정도가 나옵니다."
   ]
  },
  {
   "cell_type": "code",
   "execution_count": 16,
   "metadata": {
    "execution": {
     "iopub.execute_input": "2020-12-17T02:11:20.865665Z",
     "iopub.status.busy": "2020-12-17T02:11:20.865528Z",
     "iopub.status.idle": "2020-12-17T02:11:39.275515Z",
     "shell.execute_reply": "2020-12-17T02:11:39.275071Z",
     "shell.execute_reply.started": "2020-12-17T02:11:20.865651Z"
    }
   },
   "outputs": [
    {
     "name": "stdout",
     "output_type": "stream",
     "text": [
      "\n",
      "Accuracy: 0.7896\n"
     ]
    }
   ],
   "source": [
    "clf.fit(X_train_reshape, y_train)\n",
    "print('\\nAccuracy: {:.4f}'.format(clf.score(X_valid_reshape, y_valid)))"
   ]
  },
  {
   "cell_type": "markdown",
   "metadata": {},
   "source": [
    "- Decision Tree를 사용하여 검증결과 Accuracy는 0.7896정도 입니다.\n",
    "- 생각보다 수치가 낮습니다."
   ]
  },
  {
   "cell_type": "code",
   "execution_count": 17,
   "metadata": {
    "execution": {
     "iopub.execute_input": "2020-12-17T02:11:39.276528Z",
     "iopub.status.busy": "2020-12-17T02:11:39.276413Z",
     "iopub.status.idle": "2020-12-17T02:11:39.293393Z",
     "shell.execute_reply": "2020-12-17T02:11:39.293099Z",
     "shell.execute_reply.started": "2020-12-17T02:11:39.276515Z"
    }
   },
   "outputs": [],
   "source": [
    "clf_predict = clf.predict(X_test_reshape)\n",
    "y_test_clf = y_test.copy()\n",
    "y_test_clf['class'] = clf_predict\n",
    "y_test_clf.to_csv('./Fashion_MNIST/clf_test.csv', index = False)"
   ]
  },
  {
   "cell_type": "markdown",
   "metadata": {},
   "source": [
    "- 위에서 학습한 Decision Tree 모델을 Test 데이터에 적용하여 예측한 결과를 keyonbit_clf_test.csv파일로 저장합니다."
   ]
  },
  {
   "cell_type": "markdown",
   "metadata": {},
   "source": [
    "### 5.3 RandomForest"
   ]
  },
  {
   "cell_type": "code",
   "execution_count": 18,
   "metadata": {
    "execution": {
     "iopub.execute_input": "2020-12-17T02:11:39.294227Z",
     "iopub.status.busy": "2020-12-17T02:11:39.294085Z",
     "iopub.status.idle": "2020-12-17T02:14:02.899265Z",
     "shell.execute_reply": "2020-12-17T02:14:02.898801Z",
     "shell.execute_reply.started": "2020-12-17T02:11:39.294209Z"
    }
   },
   "outputs": [
    {
     "name": "stdout",
     "output_type": "stream",
     "text": [
      "\n",
      "Accuracy: 0.8799\n"
     ]
    }
   ],
   "source": [
    "rf = RandomForestClassifier(random_state = 87)\n",
    "cv_score = cross_val_score(rf, X_train_reshape, y_train, cv = skfold)\n",
    "print('\\nAccuracy: {:.4f}'.format(cv_score.mean()))"
   ]
  },
  {
   "cell_type": "markdown",
   "metadata": {},
   "source": [
    "- 이번엔 RandomForest를 사용하여 예측합니다.\n",
    "- RandomForest는 Decision Tree들이 모인 앙상블 기법입니다.\n",
    "- 보통 Decision Tree보다 성능이 좋은것으로 알려져 있습니다.\n",
    "- KFold를 진행하여, 평균 Accuracy를 확인해보니 0.8799가 나옵니다. 확실히 Decision Tree보다 높은 성능입니다."
   ]
  },
  {
   "cell_type": "code",
   "execution_count": 19,
   "metadata": {
    "execution": {
     "iopub.execute_input": "2020-12-17T02:14:02.900020Z",
     "iopub.status.busy": "2020-12-17T02:14:02.899873Z",
     "iopub.status.idle": "2020-12-17T02:14:39.771953Z",
     "shell.execute_reply": "2020-12-17T02:14:39.771401Z",
     "shell.execute_reply.started": "2020-12-17T02:14:02.900001Z"
    }
   },
   "outputs": [
    {
     "name": "stdout",
     "output_type": "stream",
     "text": [
      "\n",
      "Accuracy: 0.8805\n"
     ]
    }
   ],
   "source": [
    "rf.fit(X_train_reshape, y_train)\n",
    "print('\\nAccuracy: {:.4f}'.format(rf.score(X_valid_reshape, y_valid)))"
   ]
  },
  {
   "cell_type": "markdown",
   "metadata": {},
   "source": [
    "- 생성한 모델을 검증 데이터로 Accuracy를 확인한 결과 0.8805 나옵니다.\n",
    "- 나쁘지 않은 Accuracy로 보이지만, 다른 알고리즘도 해봐야겠습니다."
   ]
  },
  {
   "cell_type": "code",
   "execution_count": 20,
   "metadata": {
    "execution": {
     "iopub.execute_input": "2020-12-17T02:14:39.772691Z",
     "iopub.status.busy": "2020-12-17T02:14:39.772573Z",
     "iopub.status.idle": "2020-12-17T02:14:40.036208Z",
     "shell.execute_reply": "2020-12-17T02:14:40.035796Z",
     "shell.execute_reply.started": "2020-12-17T02:14:39.772678Z"
    }
   },
   "outputs": [],
   "source": [
    "rf_predict = rf.predict(X_test_reshape)\n",
    "y_test_rf = y_test.copy()\n",
    "y_test_rf['class'] = rf_predict\n",
    "y_test_rf.to_csv('./Fashion_MNIST/rf_test.csv', index = False)"
   ]
  },
  {
   "cell_type": "markdown",
   "metadata": {},
   "source": [
    "- 위에서 학습 및 검증한 Random Forest 모델을 Test 데이터에 적용하여 예측한 결과를 keyonbit_rf_test.csv파일로 저장합니다."
   ]
  },
  {
   "cell_type": "markdown",
   "metadata": {},
   "source": [
    "## 5. Deep Learning을 사용하여 예측하기"
   ]
  },
  {
   "cell_type": "markdown",
   "metadata": {},
   "source": [
    "---\n",
    "### 5.1 Deel Learning을 위한 데이터 처리"
   ]
  },
  {
   "cell_type": "code",
   "execution_count": 20,
   "metadata": {
    "execution": {
     "iopub.execute_input": "2020-12-16T08:21:22.751185Z",
     "iopub.status.busy": "2020-12-16T08:21:22.750570Z",
     "iopub.status.idle": "2020-12-16T08:21:22.761221Z",
     "shell.execute_reply": "2020-12-16T08:21:22.760819Z",
     "shell.execute_reply.started": "2020-12-16T08:21:22.751109Z"
    }
   },
   "outputs": [],
   "source": [
    "y_train_one_hot = tf.keras.utils.to_categorical(y_train, 10)\n",
    "y_valid_one_hot = tf.keras.utils.to_categorical(y_valid, 10)"
   ]
  },
  {
   "cell_type": "markdown",
   "metadata": {},
   "source": [
    "- keras의 유틸을 사용하여, y 라벨을 one-hot encoding 해줍니다.\n",
    "- One-Hot encodig이란 *9* 라고 표현된 라벨을 [0,0,0,0,0,0,0,0,0,1]의 벡터로 바꾸어주는 것입니다.\n",
    "- Deep Learning은 각 클래스별로 확률을 출력해주기 때문에 꼭 필요한 작업 입니다."
   ]
  },
  {
   "cell_type": "markdown",
   "metadata": {},
   "source": [
    "### 6.2 Multi Layer Perceptron"
   ]
  },
  {
   "cell_type": "code",
   "execution_count": 38,
   "metadata": {
    "execution": {
     "iopub.execute_input": "2020-12-16T08:29:14.519093Z",
     "iopub.status.busy": "2020-12-16T08:29:14.518480Z",
     "iopub.status.idle": "2020-12-16T08:29:14.614765Z",
     "shell.execute_reply": "2020-12-16T08:29:14.614360Z",
     "shell.execute_reply.started": "2020-12-16T08:29:14.519016Z"
    }
   },
   "outputs": [],
   "source": [
    "mlp_model = tf.keras.Sequential([\n",
    "    tf.keras.layers.Flatten(input_shape = (28, 28)),\n",
    "    tf.keras.layers.Dense(1000, activation = 'relu'),\n",
    "    tf.keras.layers.Dropout(0.2),\n",
    "    tf.keras.layers.Dense(800, activation = 'relu'),\n",
    "    tf.keras.layers.Dropout(0.2),\n",
    "    tf.keras.layers.Dense(500, activation = 'relu'),\n",
    "    tf.keras.layers.Dropout(0.2),\n",
    "    tf.keras.layers.Dense(300, activation = 'relu'),\n",
    "    tf.keras.layers.Dropout(0.2),\n",
    "    tf.keras.layers.Dense(200, activation = 'relu'),\n",
    "    tf.keras.layers.Dropout(0.2),\n",
    "    tf.keras.layers.Dense(100, activation = 'relu'),\n",
    "    tf.keras.layers.Dropout(0.2),\n",
    "    tf.keras.layers.Dense(50, activation = 'relu'),\n",
    "    tf.keras.layers.Dense(10, activation = 'softmax'),\n",
    "])"
   ]
  },
  {
   "cell_type": "markdown",
   "metadata": {},
   "source": [
    "- keras를 사용하여 Layer를 쌓습니다.\n",
    "- 처음 input은 train 데이터인 (48000, 28, 28)입니다.\n",
    "- 위의 28, 28 데이터를 평평하게 (flatten) 784로 바꾸어 줍니다.\n",
    "- 이후 1000 -> 800 -> 500 -> 300 -> 200 -> 100 -> 50으로 레이어가 생기고 나중엔 10개의 layer를 출력합니다. 해당 10개는 y라벨의 갯수 즉, class의 종류입니다.\n",
    "- 마지막 layer에 softmax 활성화 함수를 사용하여 10개의 output에 대한 확률값을 출력하고, 가장 높은값을 예측값으로 사용합니다."
   ]
  },
  {
   "cell_type": "code",
   "execution_count": 39,
   "metadata": {
    "execution": {
     "iopub.execute_input": "2020-12-16T08:29:15.115375Z",
     "iopub.status.busy": "2020-12-16T08:29:15.114786Z",
     "iopub.status.idle": "2020-12-16T08:29:15.122389Z",
     "shell.execute_reply": "2020-12-16T08:29:15.122099Z",
     "shell.execute_reply.started": "2020-12-16T08:29:15.115302Z"
    }
   },
   "outputs": [
    {
     "name": "stdout",
     "output_type": "stream",
     "text": [
      "Model: \"sequential_3\"\n",
      "_________________________________________________________________\n",
      "Layer (type)                 Output Shape              Param #   \n",
      "=================================================================\n",
      "flatten_3 (Flatten)          (None, 784)               0         \n",
      "_________________________________________________________________\n",
      "dense_20 (Dense)             (None, 1000)              785000    \n",
      "_________________________________________________________________\n",
      "dropout_17 (Dropout)         (None, 1000)              0         \n",
      "_________________________________________________________________\n",
      "dense_21 (Dense)             (None, 800)               800800    \n",
      "_________________________________________________________________\n",
      "dropout_18 (Dropout)         (None, 800)               0         \n",
      "_________________________________________________________________\n",
      "dense_22 (Dense)             (None, 500)               400500    \n",
      "_________________________________________________________________\n",
      "dropout_19 (Dropout)         (None, 500)               0         \n",
      "_________________________________________________________________\n",
      "dense_23 (Dense)             (None, 300)               150300    \n",
      "_________________________________________________________________\n",
      "dropout_20 (Dropout)         (None, 300)               0         \n",
      "_________________________________________________________________\n",
      "dense_24 (Dense)             (None, 200)               60200     \n",
      "_________________________________________________________________\n",
      "dropout_21 (Dropout)         (None, 200)               0         \n",
      "_________________________________________________________________\n",
      "dense_25 (Dense)             (None, 100)               20100     \n",
      "_________________________________________________________________\n",
      "dropout_22 (Dropout)         (None, 100)               0         \n",
      "_________________________________________________________________\n",
      "dense_26 (Dense)             (None, 50)                5050      \n",
      "_________________________________________________________________\n",
      "dense_27 (Dense)             (None, 10)                510       \n",
      "=================================================================\n",
      "Total params: 2,222,460\n",
      "Trainable params: 2,222,460\n",
      "Non-trainable params: 0\n",
      "_________________________________________________________________\n"
     ]
    }
   ],
   "source": [
    "mlp_model.summary()"
   ]
  },
  {
   "cell_type": "markdown",
   "metadata": {},
   "source": [
    "- 위에서 생성한 모델의 summary입니다.\n",
    "- layer는 각 층에서 행하는 type이고, output shape는 해당 층을 거치면 나오게 되는 output에 대한 size 입니다.\n",
    "- Param은 해당 layer에서 가치는 파라미터 수의 입니다.\n",
    "- Param = (입력 데이터 차원 + 1) * 뉴런 수 입니다. (1 씩 증가하는 이유는 각 뉴런에 바이어스가 있기 때문입니다.) ex : dense = (784 +1) * 392 = 307720개"
   ]
  },
  {
   "cell_type": "code",
   "execution_count": 40,
   "metadata": {
    "execution": {
     "iopub.execute_input": "2020-12-16T08:29:16.523082Z",
     "iopub.status.busy": "2020-12-16T08:29:16.522466Z",
     "iopub.status.idle": "2020-12-16T08:29:16.532114Z",
     "shell.execute_reply": "2020-12-16T08:29:16.531722Z",
     "shell.execute_reply.started": "2020-12-16T08:29:16.523009Z"
    }
   },
   "outputs": [],
   "source": [
    "mlp_model.compile(optimizer = 'Adam', loss='categorical_crossentropy', metrics=['accuracy'])"
   ]
  },
  {
   "cell_type": "markdown",
   "metadata": {},
   "source": [
    "- loss : 손실함수, 모델의 최적화에 사용되는 목적함수입니다. 모델과 데이터 분류종류에 따라 MSE, categorical_crossentropy, sparse_categorical_crossentropy, binary_crossentropy 등 이 있습니다.\n",
    "- optimizer : 최적의 가중치를 검색하는 데 사용되는 최적화 알고리즘. adam이 대표적입니다.\n",
    "- metrics : 모델의 성능을 저장하는 지표, 리스트 형태로 여러개도 저장가능합니다."
   ]
  },
  {
   "cell_type": "code",
   "execution_count": 41,
   "metadata": {
    "execution": {
     "iopub.execute_input": "2020-12-16T08:29:16.992118Z",
     "iopub.status.busy": "2020-12-16T08:29:16.991528Z",
     "iopub.status.idle": "2020-12-16T08:29:34.547750Z",
     "shell.execute_reply": "2020-12-16T08:29:34.547436Z",
     "shell.execute_reply.started": "2020-12-16T08:29:16.992045Z"
    }
   },
   "outputs": [],
   "source": [
    "checkpoint = ModelCheckpoint(filepath='model.weights.best.mlp.develop.hdf5', verbose=0, save_best_only=True)\n",
    "earlystopping = EarlyStopping(monitor='val_loss', patience=50)\n",
    "mlp_history = mlp_model.fit(X_train, y_train_one_hot, epochs=500, batch_size=500,\n",
    "                            validation_split=0.2, callbacks=[checkpoint, earlystopping], verbose=0)"
   ]
  },
  {
   "cell_type": "markdown",
   "metadata": {},
   "source": [
    "- 위에서 생성한 MLP모델을 학습 시켰습니다.\n",
    "- batch : 전체 데이터셋 중 batch의 크기만큼 학습시키것을 의미합니다.\n",
    "- epochs : 전체 데이터셋을 학습시키는 수입니다.\n",
    "- ModelCheckpoint : epoch마다 성능이 좋아지면 모델을 저장합니다.(model.weights.best.mlp.develop.hdf5 라는 이름으로 저장됨)\n",
    "- EarlyStopping : epoch 마다 설정한 성능이 좋아지지 않으면 자동으로 학습을 종료시킵니다. 위에서는 val_loss 이며, epoch 20회동안 나아지지 않으면 멈춥니다.\n",
    "- validation_split : 입력받은 데이터의 20%를 사용하여 매 epochs 마다 검증을 실행합니다."
   ]
  },
  {
   "cell_type": "code",
   "execution_count": 42,
   "metadata": {
    "execution": {
     "iopub.execute_input": "2020-12-16T08:29:49.374474Z",
     "iopub.status.busy": "2020-12-16T08:29:49.373857Z",
     "iopub.status.idle": "2020-12-16T08:29:49.541200Z",
     "shell.execute_reply": "2020-12-16T08:29:49.540779Z",
     "shell.execute_reply.started": "2020-12-16T08:29:49.374399Z"
    }
   },
   "outputs": [
    {
     "data": {
      "image/png": "[encoded data removed]",
      "text/plain": [
       "<Figure size 864x864 with 2 Axes>"
      ]
     },
     "metadata": {
      "needs_background": "light"
     },
     "output_type": "display_data"
    }
   ],
   "source": [
    "fig, loss_ax = plt.subplots(figsize=(12, 12))\n",
    "acc_ax = loss_ax.twinx()\n",
    "\n",
    "loss_ax.plot(mlp_history.history['loss'], 'y', label='train loss')\n",
    "loss_ax.plot(mlp_history.history['val_loss'], 'r', label='val loss')\n",
    "loss_ax.set_xlabel('epoch')\n",
    "loss_ax.set_ylabel('loss')\n",
    "loss_ax.legend(loc='upper right')\n",
    "\n",
    "acc_ax.plot(mlp_history.history['accuracy'], 'b', label='train acc')\n",
    "acc_ax.plot(mlp_history.history['val_accuracy'], 'g', label='val acc')\n",
    "acc_ax.set_ylabel('accuracy')\n",
    "acc_ax.legend(loc='upper left')\n",
    "\n",
    "plt.show()"
   ]
  },
  {
   "cell_type": "markdown",
   "metadata": {},
   "source": [
    "- 모델 학습 대한 지표입니다.\n",
    "- 그래프를 보면 epoch가 늘어날때마다 학습 데이터의 loss는 줄어드는데, 검증 데이터의 loss는 점점 늘어나고 있습니다.\n",
    "- 더이상 검증 loss가 줄지 않아 early stopping이 적용되어 약 80 epoch전에 학습이 종료된것으로 보입니다."
   ]
  },
  {
   "cell_type": "code",
   "execution_count": 43,
   "metadata": {
    "execution": {
     "iopub.execute_input": "2020-12-16T08:30:40.488136Z",
     "iopub.status.busy": "2020-12-16T08:30:40.487513Z",
     "iopub.status.idle": "2020-12-16T08:30:40.941937Z",
     "shell.execute_reply": "2020-12-16T08:30:40.941526Z",
     "shell.execute_reply.started": "2020-12-16T08:30:40.488060Z"
    }
   },
   "outputs": [
    {
     "name": "stdout",
     "output_type": "stream",
     "text": [
      "375/375 [==============================] - 0s 885us/step - loss: 0.3000 - accuracy: 0.8953\n",
      "\n",
      "Accuracy: 0.8953\n"
     ]
    }
   ],
   "source": [
    "mlp_model.load_weights('model.weights.best.mlp.develop.hdf5')\n",
    "print('\\nAccuracy: {:.4f}'.format(mlp_model.evaluate(X_valid, y_valid_one_hot)[1]))"
   ]
  },
  {
   "cell_type": "markdown",
   "metadata": {},
   "source": [
    "- load_weights로 가장 학습이 잘된 모델의 가중치를 가져와서 검증을 해봅니다.\n",
    "- Accuracy는 0.8953로 사실 RandomForest보다는 조금 큰 성능을 보여줍니다."
   ]
  },
  {
   "cell_type": "code",
   "execution_count": 44,
   "metadata": {
    "execution": {
     "iopub.execute_input": "2020-12-16T08:31:11.571958Z",
     "iopub.status.busy": "2020-12-16T08:31:11.571349Z",
     "iopub.status.idle": "2020-12-16T08:31:11.768804Z",
     "shell.execute_reply": "2020-12-16T08:31:11.768480Z",
     "shell.execute_reply.started": "2020-12-16T08:31:11.571884Z"
    }
   },
   "outputs": [],
   "source": [
    "mlp_predict = np.argmax(mlp_model.predict(X_test), axis=-1)\n",
    "y_test_mlp = y_test.copy()\n",
    "y_test_mlp['class'] = mlp_predict\n",
    "y_test_mlp.to_csv('./Fashion_MNIST/mlp_test.csv', index = False)"
   ]
  },
  {
   "cell_type": "markdown",
   "metadata": {},
   "source": [
    "- 위에서 만든 mlp 모델을 사용하여 제공받은 test 데이터를 가지고 예측을 하였고, csv 파일로 저장하였습니다."
   ]
  },
  {
   "cell_type": "markdown",
   "metadata": {},
   "source": [
    "### 6.3 Convolution Neural Network"
   ]
  },
  {
   "cell_type": "code",
   "execution_count": 45,
   "metadata": {
    "execution": {
     "iopub.execute_input": "2020-12-16T08:31:12.580450Z",
     "iopub.status.busy": "2020-12-16T08:31:12.579843Z",
     "iopub.status.idle": "2020-12-16T08:31:12.586153Z",
     "shell.execute_reply": "2020-12-16T08:31:12.585748Z",
     "shell.execute_reply.started": "2020-12-16T08:31:12.580375Z"
    }
   },
   "outputs": [],
   "source": [
    "X_train_cnn = X_train.reshape(X_train.shape[0], 28, 28, 1)\n",
    "X_valid_cnn = X_valid.reshape(X_valid.shape[0], 28, 28, 1)\n",
    "X_test_cnn = X_test.reshape(X_test.shape[0], 28, 28, 1)"
   ]
  },
  {
   "cell_type": "markdown",
   "metadata": {},
   "source": [
    "- cnn 모델에 넣기 위해 data를 reshape 해줍니다.\n",
    "- 사진이미지를 넣을때 마지막에 1인 chanel입니다. Mnist Fashion image는 gray scale이므로 1채널이라, 마지막에 1을 붙여줍니다."
   ]
  },
  {
   "cell_type": "code",
   "execution_count": 46,
   "metadata": {
    "execution": {
     "iopub.execute_input": "2020-12-16T08:31:13.455945Z",
     "iopub.status.busy": "2020-12-16T08:31:13.455331Z",
     "iopub.status.idle": "2020-12-16T08:31:13.611645Z",
     "shell.execute_reply": "2020-12-16T08:31:13.611257Z",
     "shell.execute_reply.started": "2020-12-16T08:31:13.455868Z"
    }
   },
   "outputs": [],
   "source": [
    "cnn_model = tf.keras.Sequential([\n",
    "    keras.layers.Conv2D(filters = 64, kernel_size = 2, padding = 'same', activation = 'relu', input_shape = (28, 28, 1)),\n",
    "    keras.layers.BatchNormalization(),\n",
    "    keras.layers.MaxPooling2D(pool_size = 2),\n",
    "    keras.layers.Dropout(0.3),\n",
    "    \n",
    "    keras.layers.Conv2D(filters = 64, kernel_size = 2, padding = 'same', activation = 'relu'),\n",
    "    keras.layers.BatchNormalization(),\n",
    "    keras.layers.MaxPooling2D(pool_size = 2),\n",
    "    keras.layers.Dropout(0.3),\n",
    "    \n",
    "    keras.layers.Conv2D(filters = 128, kernel_size = 2, padding = 'same', activation = 'relu'),\n",
    "    keras.layers.BatchNormalization(),\n",
    "    keras.layers.MaxPooling2D(pool_size = 2),\n",
    "    keras.layers.Dropout(0.3),\n",
    "    \n",
    "    keras.layers.Conv2D(filters = 128, kernel_size = 2, padding = 'same', activation = 'relu'),\n",
    "    keras.layers.BatchNormalization(),\n",
    "    keras.layers.MaxPooling2D(pool_size = 2),\n",
    "    keras.layers.Dropout(0.3),\n",
    "    \n",
    "    keras.layers.Flatten(), # Flaatten으로 이미지를 일차원으로 바꿔줌\n",
    "    keras.layers.Dense(1024, activation = 'relu'),\n",
    "    keras.layers.Dense(512, activation = 'relu'),\n",
    "    keras.layers.Dense(256, activation = 'relu'),\n",
    "    keras.layers.Dropout(0.5),\n",
    "    keras.layers.Dense(10, activation = 'softmax')\n",
    "])"
   ]
  },
  {
   "cell_type": "markdown",
   "metadata": {},
   "source": [
    "- **input_shape** : 샘플 수를 제외한 입력 형태를 정의 합니다. 모델에서 첫 레이어일 때만 정의하면 됩니다. (행, 열, 채널 수)로 정의합니다. 흑백영상인 경우에는 채널이 1이고, 컬러(RGB)영상인 경우에는 채널을 3으로 설정합니다.\n",
    "- **activation** : 활성화 함수를 설정\n",
    "    - linear : 디폴트 값, 입력뉴런과 가중치로 계산된 결과값이 그대로 출력으로 나옵니다.\n",
    "    - relu : rectifier 함수, 은익층에 주로 쓰입니다. 0이하는 0으로 만들고 그 이상은 그대로 출력합니다.\n",
    "    - sigmoid : 시그모이드 함수, 이진 분류 문제에서 출력층에 주로 쓰입니다. 0 혹은 1로 출력합니다.\n",
    "    - softmax : 소프트맥스 함수, 다중 클래스 분류 문제에서 출력층에 주로 쓰입니다. 0과 1사이의 값으로 출력되며, 모두 더한값은 1이 되므로, 확률처럼 사용합니다.\n",
    "- **filter(kernel)** : 이미지의 특징을 찾기위한 파라미터, 해당 filter가 이미지를 움직이며 특징을 잡아냄, 해당 특징이 featuremap, filter의 종류에 따라 가로선 filter, 세로선 filter등이 있는데 cnn에선 해당 필터를 자동으로 생성함\n",
    "- **featuremap** : input 이미지에서 filter로 만들어진 해당 이미지의 특성을 가진 map\n",
    "- **filters** : input 이미지에서 featuremap을 생성 하는 filter의 갯수\n",
    "- **padding** : 외곽의 값을 0으로 채워넣어서 filter들로 만들어진 featuremap 기존의 이미지의 크기와 같게 할지의 여부 same은 같게, valid는 다르게, same으로 하면 filter가 이미지 사이즈에 맞게 featuremap을 만듬.\n",
    "- **pooling** : 계속 filter가 이미지를 움직이며 featuremap을 만들고 paddind이 same이라면 계속 같은 크기의 featuremap이 생성되게 됨. 이를 방지하기 위해 pooling 레이어를 거쳐 이미지 사이즈를 줄임, pool_size는 이미지에서 줄여지는 값\n",
    "    - maxpooling : pooling 영역에서 가장 큰 값만 남기는것\n",
    "    - averagepoolig : pooling 영역의 모든 데이터의 평균값을 구하여 남김\n",
    "- **dropout** : 이미지의 일부분을 drop시켜 학습하는데 어려움을 줌, 이로 인해 과적함을 막을 수 있습니다.\n",
    "- **flatten** : 앞에서 만든 (7, 7, 64)의 배열을 7 * 7 * 64하여  3136의 1줄의 배열로 평평하게 만드는것 입니다.\n",
    "    - (2번의 pooling으로 이미지 사이즈가 작아짐, 28, 28, 64 -> 14, 14, 64 -> 7, 7, 64)\n",
    "- **dense** : 평평한 데이터가 들어오면, 해당 데이터를 dense레이어를 지나 맨앞의 사이즈로 줄여줌, 마지막은 10개 사이즈가 나오고, 이를 softmax함수로 활성화하여 0 ~ 9까지의 클래스를 예측할수 있게 해줍니다.\n"
   ]
  },
  {
   "cell_type": "code",
   "execution_count": 47,
   "metadata": {
    "execution": {
     "iopub.execute_input": "2020-12-16T08:31:16.012322Z",
     "iopub.status.busy": "2020-12-16T08:31:16.011706Z",
     "iopub.status.idle": "2020-12-16T08:31:16.020514Z",
     "shell.execute_reply": "2020-12-16T08:31:16.020207Z",
     "shell.execute_reply.started": "2020-12-16T08:31:16.012245Z"
    }
   },
   "outputs": [
    {
     "name": "stdout",
     "output_type": "stream",
     "text": [
      "Model: \"sequential_4\"\n",
      "_________________________________________________________________\n",
      "Layer (type)                 Output Shape              Param #   \n",
      "=================================================================\n",
      "conv2d_4 (Conv2D)            (None, 28, 28, 64)        320       \n",
      "_________________________________________________________________\n",
      "batch_normalization_4 (Batch (None, 28, 28, 64)        256       \n",
      "_________________________________________________________________\n",
      "max_pooling2d_4 (MaxPooling2 (None, 14, 14, 64)        0         \n",
      "_________________________________________________________________\n",
      "dropout_23 (Dropout)         (None, 14, 14, 64)        0         \n",
      "_________________________________________________________________\n",
      "conv2d_5 (Conv2D)            (None, 14, 14, 64)        16448     \n",
      "_________________________________________________________________\n",
      "batch_normalization_5 (Batch (None, 14, 14, 64)        256       \n",
      "_________________________________________________________________\n",
      "max_pooling2d_5 (MaxPooling2 (None, 7, 7, 64)          0         \n",
      "_________________________________________________________________\n",
      "dropout_24 (Dropout)         (None, 7, 7, 64)          0         \n",
      "_________________________________________________________________\n",
      "conv2d_6 (Conv2D)            (None, 7, 7, 128)         32896     \n",
      "_________________________________________________________________\n",
      "batch_normalization_6 (Batch (None, 7, 7, 128)         512       \n",
      "_________________________________________________________________\n",
      "max_pooling2d_6 (MaxPooling2 (None, 3, 3, 128)         0         \n",
      "_________________________________________________________________\n",
      "dropout_25 (Dropout)         (None, 3, 3, 128)         0         \n",
      "_________________________________________________________________\n",
      "conv2d_7 (Conv2D)            (None, 3, 3, 128)         65664     \n",
      "_________________________________________________________________\n",
      "batch_normalization_7 (Batch (None, 3, 3, 128)         512       \n",
      "_________________________________________________________________\n",
      "max_pooling2d_7 (MaxPooling2 (None, 1, 1, 128)         0         \n",
      "_________________________________________________________________\n",
      "dropout_26 (Dropout)         (None, 1, 1, 128)         0         \n",
      "_________________________________________________________________\n",
      "flatten_4 (Flatten)          (None, 128)               0         \n",
      "_________________________________________________________________\n",
      "dense_28 (Dense)             (None, 1024)              132096    \n",
      "_________________________________________________________________\n",
      "dense_29 (Dense)             (None, 512)               524800    \n",
      "_________________________________________________________________\n",
      "dense_30 (Dense)             (None, 256)               131328    \n",
      "_________________________________________________________________\n",
      "dropout_27 (Dropout)         (None, 256)               0         \n",
      "_________________________________________________________________\n",
      "dense_31 (Dense)             (None, 10)                2570      \n",
      "=================================================================\n",
      "Total params: 907,658\n",
      "Trainable params: 906,890\n",
      "Non-trainable params: 768\n",
      "_________________________________________________________________\n"
     ]
    }
   ],
   "source": [
    "cnn_model.summary()"
   ]
  },
  {
   "cell_type": "markdown",
   "metadata": {},
   "source": [
    "- cnn_model의 summary입니다. 지금은 모델이 크지 않으니 그렇지만, 나중에 더 큰 모델을 만든다면 꼭 summary를 봐야 합니다."
   ]
  },
  {
   "cell_type": "code",
   "execution_count": 48,
   "metadata": {
    "execution": {
     "iopub.execute_input": "2020-12-16T08:31:17.066020Z",
     "iopub.status.busy": "2020-12-16T08:31:17.065408Z",
     "iopub.status.idle": "2020-12-16T08:31:17.075258Z",
     "shell.execute_reply": "2020-12-16T08:31:17.074859Z",
     "shell.execute_reply.started": "2020-12-16T08:31:17.065944Z"
    }
   },
   "outputs": [],
   "source": [
    "cnn_model.compile(loss = 'categorical_crossentropy', optimizer = 'adam', metrics=['accuracy'])"
   ]
  },
  {
   "cell_type": "markdown",
   "metadata": {},
   "source": [
    "- 모델을 컴파일해줍니다."
   ]
  },
  {
   "cell_type": "code",
   "execution_count": 49,
   "metadata": {
    "execution": {
     "iopub.execute_input": "2020-12-16T08:31:17.928444Z",
     "iopub.status.busy": "2020-12-16T08:31:17.927834Z",
     "iopub.status.idle": "2020-12-16T08:33:07.037479Z",
     "shell.execute_reply": "2020-12-16T08:33:07.036388Z",
     "shell.execute_reply.started": "2020-12-16T08:31:17.928369Z"
    }
   },
   "outputs": [],
   "source": [
    "checkpointer = ModelCheckpoint(filepath='model.weights.best.cnn.hdf5', verbose=0, save_best_only=True)\n",
    "earlystopping = EarlyStopping(monitor='val_loss', patience=50)\n",
    "history = cnn_model.fit(X_train_cnn, y_train_one_hot, batch_size=500, epochs=500, verbose=0, validation_split=0.2, callbacks=[checkpointer, earlystopping])"
   ]
  },
  {
   "cell_type": "code",
   "execution_count": 50,
   "metadata": {
    "execution": {
     "iopub.execute_input": "2020-12-16T08:33:37.405747Z",
     "iopub.status.busy": "2020-12-16T08:33:37.405128Z",
     "iopub.status.idle": "2020-12-16T08:33:37.541145Z",
     "shell.execute_reply": "2020-12-16T08:33:37.540699Z",
     "shell.execute_reply.started": "2020-12-16T08:33:37.405671Z"
    }
   },
   "outputs": [
    {
     "data": {
      "image/png": "[encoded data removed]",
      "text/plain": [
       "<Figure size 864x864 with 2 Axes>"
      ]
     },
     "metadata": {
      "needs_background": "light"
     },
     "output_type": "display_data"
    }
   ],
   "source": [
    "fig, loss_ax = plt.subplots(figsize=(12, 12))\n",
    "acc_ax = loss_ax.twinx()\n",
    "\n",
    "loss_ax.plot(history.history['loss'], 'y', label='train loss')\n",
    "loss_ax.plot(history.history['val_loss'], 'r', label='val loss')\n",
    "loss_ax.set_xlabel('epoch')\n",
    "loss_ax.set_ylabel('loss')\n",
    "loss_ax.legend(loc='upper right')\n",
    "\n",
    "acc_ax.plot(history.history['accuracy'], 'b', label='train acc')\n",
    "acc_ax.plot(history.history['val_accuracy'], 'g', label='val acc')\n",
    "acc_ax.set_ylabel('accuracy')\n",
    "acc_ax.legend(loc='upper left')\n",
    "\n",
    "plt.show()"
   ]
  },
  {
   "cell_type": "markdown",
   "metadata": {},
   "source": [
    "- 앞에서 학습했던 MLP 모델과 비교하여 loss도 굉장히 잘 떨어지고, train과 valid간의 차이도 많이 없어보입니다.\n",
    "- accuracy도 train과 valid간에 오르는것이 보입니다.\n",
    "- 성능을 기대해봐도 좋을듯 합니다."
   ]
  },
  {
   "cell_type": "code",
   "execution_count": 51,
   "metadata": {
    "execution": {
     "iopub.execute_input": "2020-12-16T08:33:42.033972Z",
     "iopub.status.busy": "2020-12-16T08:33:42.033360Z",
     "iopub.status.idle": "2020-12-16T08:33:42.649368Z",
     "shell.execute_reply": "2020-12-16T08:33:42.648975Z",
     "shell.execute_reply.started": "2020-12-16T08:33:42.033897Z"
    }
   },
   "outputs": [
    {
     "name": "stdout",
     "output_type": "stream",
     "text": [
      "375/375 [==============================] - 0s 1ms/step - loss: 0.2169 - accuracy: 0.9252\n",
      "\n",
      "Accuracy: 0.9252\n"
     ]
    }
   ],
   "source": [
    "cnn_model.load_weights('model.weights.best.cnn.hdf5')\n",
    "print('\\nAccuracy: {:.4f}'.format(cnn_model.evaluate(X_valid_cnn, y_valid_one_hot)[1]))"
   ]
  },
  {
   "cell_type": "markdown",
   "metadata": {},
   "source": [
    "- CNN의 성능이 여태까지의 모델중에 좋게나왔습니다.\n",
    "- MLP도 Accuracy가 0.9를 넘지못했는데, CNN은 0.9252로 0.9의 Acuuracy를 넘었습니다.\n",
    "- 확실히 이미지쪽은 CNN이 좋은듯 합니다."
   ]
  },
  {
   "cell_type": "code",
   "execution_count": 52,
   "metadata": {
    "execution": {
     "iopub.execute_input": "2020-12-16T08:34:02.622138Z",
     "iopub.status.busy": "2020-12-16T08:34:02.621505Z",
     "iopub.status.idle": "2020-12-16T08:34:03.047116Z",
     "shell.execute_reply": "2020-12-16T08:34:03.046363Z",
     "shell.execute_reply.started": "2020-12-16T08:34:02.622061Z"
    }
   },
   "outputs": [],
   "source": [
    "cnn_predict = np.argmax(cnn_model.predict(X_test_cnn), axis=-1)\n",
    "y_test_cnn = y_test.copy()\n",
    "y_test_cnn['class'] = cnn_predict\n",
    "y_test_cnn.to_csv('./Fashion_MNIST/cnn_test.csv', index = False)"
   ]
  },
  {
   "cell_type": "markdown",
   "metadata": {},
   "source": [
    "- 마지막으로 CNN의 모델로 X_test 데이터를 예측 한뒤 cnn_test.csv에 저장합니다."
   ]
  },
  {
   "cell_type": "markdown",
   "metadata": {},
   "source": [
    "## 7. 회고\n",
    "---\n",
    "- CNN Model의 Test Data를 제출할 예정입니다. \n",
    "- 마지막 스코어인 0.92 근방의 Accuracy가 나오지 않을까 예상합니다. \n",
    "- 데이터도 분리해서 검증도 잘했고, 과적합도 아닌것으로 파악되기 때문 입니다.\n",
    "- 향후 Deep Learning 관련 학습을 더 진행하여 CNN 모델을 개선시키고 싶습니다."
   ]
  },
  {
   "cell_type": "code",
   "execution_count": null,
   "metadata": {},
   "outputs": [],
   "source": []
  }
 ],
 "metadata": {
  "kernelspec": {
   "display_name": "Python 3",
   "language": "python",
   "name": "python3"
  },
  "language_info": {
   "codemirror_mode": {
    "name": "ipython",
    "version": 3
   },
   "file_extension": ".py",
   "mimetype": "text/x-python",
   "name": "python",
   "nbconvert_exporter": "python",
   "pygments_lexer": "ipython3",
   "version": "3.8.3"
  }
 },
 "nbformat": 4,
 "nbformat_minor": 4
}
