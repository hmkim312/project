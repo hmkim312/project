{
 "cells": [
  {
   "cell_type": "markdown",
   "metadata": {},
   "source": [
    "![title](./00_titleimage.png)\n",
    "## Predicting Employee Attrition\n",
    "---\n",
    "- IBM 데이터 과학자들이 만든 가상의 HR 데이터셋입니다.\n",
    "- 1,470명에 대한 35개의 변수가 기록되어 있고, 종속변수는 <b>Attrition</b>, 즉 0 또는 1의 퇴사 여부입니다.\n",
    "- Data Source: https://www.kaggle.com/pavansubhasht/ibm-hr-analytics-attrition-dataset"
   ]
  },
  {
   "cell_type": "markdown",
   "metadata": {},
   "source": [
    "## 순서\n",
    "0. 패키지 import\n",
    "1. 데이터 설명 및 전처리\n",
    "2. EDA\n",
    "3. 예측을 위한 데이터 처리\n",
    "4. 머신러닝 알고리즘을 이용한 퇴사자 예측\n",
    "5. 이후의 방향"
   ]
  },
  {
   "cell_type": "markdown",
   "metadata": {},
   "source": [
    "## 0. 패키지 import\n",
    "---\n",
    "### 0.1 필요한 패키지 import"
   ]
  },
  {
   "cell_type": "code",
   "execution_count": 1,
   "metadata": {
    "execution": {
     "iopub.execute_input": "2020-12-08T00:42:29.274452Z",
     "iopub.status.busy": "2020-12-08T00:42:29.274222Z",
     "iopub.status.idle": "2020-12-08T00:42:29.848819Z",
     "shell.execute_reply": "2020-12-08T00:42:29.848080Z",
     "shell.execute_reply.started": "2020-12-08T00:42:29.274428Z"
    }
   },
   "outputs": [
    {
     "name": "stderr",
     "output_type": "stream",
     "text": [
      "/Users/hmkim/.pyenv/versions/MLproject_HR/lib/python3.7/site-packages/pandas/compat/__init__.py:120: UserWarning: Could not import the lzma module. Your installed Python is incomplete. Attempting to use lzma compression will result in a RuntimeError.\n",
      "  warnings.warn(msg)\n"
     ]
    }
   ],
   "source": [
    "from collections import OrderedDict\n",
    "\n",
    "# Data preprocessing\n",
    "from sklearn.preprocessing import OneHotEncoder, StandardScaler, LabelEncoder\n",
    "from sklearn.model_selection import train_test_split, GridSearchCV, learning_curve\n",
    "from sklearn.metrics import accuracy_score, roc_curve\n",
    "from sklearn.pipeline import Pipeline\n",
    "from sklearn.compose import ColumnTransformer\n",
    "from sklearn.impute import SimpleImputer\n",
    "\n",
    "\n",
    "# 모델 import\n",
    "from sklearn.tree import DecisionTreeClassifier\n",
    "from sklearn.ensemble import RandomForestClassifier\n",
    "from sklearn.linear_model import LogisticRegression\n",
    "\n",
    "import xgboost as xgb\n",
    "\n",
    "\n",
    "# EDA package\n",
    "import pandas as pd\n",
    "import numpy as np\n",
    "import missingno\n",
    "import matplotlib.pyplot as plt\n",
    "import seaborn as sns\n",
    "import warnings\n",
    "import matplotlib as mpl\n",
    "\n",
    "\n",
    "# warnings 끄기\n",
    "warnings.filterwarnings('ignore')\n",
    "\n",
    "# pandas display option view row & columns\n",
    "pd.set_option('display.max_row', 500)\n",
    "pd.set_option('display.max_columns', 100)\n",
    "pd.set_option('display.max_colwidth', 1000)\n",
    "\n",
    "# # matplotlib set\n",
    "plt.rc('font', family='AppleGothic') # For MacOS\n",
    "plt.rc('axes', unicode_minus=False)\n",
    "\n",
    "%matplotlib inline"
   ]
  },
  {
   "cell_type": "markdown",
   "metadata": {},
   "source": [
    "<br>\n",
    "\n",
    "## 1. 데이터 설명 및 전처리\n",
    "---"
   ]
  },
  {
   "cell_type": "markdown",
   "metadata": {},
   "source": [
    "### 1.1 데이터 로드 및 체크"
   ]
  },
  {
   "cell_type": "code",
   "execution_count": 18,
   "metadata": {
    "execution": {
     "iopub.execute_input": "2020-12-08T00:45:35.717376Z",
     "iopub.status.busy": "2020-12-08T00:45:35.717143Z",
     "iopub.status.idle": "2020-12-08T00:45:35.750396Z",
     "shell.execute_reply": "2020-12-08T00:45:35.749767Z",
     "shell.execute_reply.started": "2020-12-08T00:45:35.717349Z"
    }
   },
   "outputs": [
    {
     "data": {
      "text/html": [
       "<div>\n",
       "<style scoped>\n",
       "    .dataframe tbody tr th:only-of-type {\n",
       "        vertical-align: middle;\n",
       "    }\n",
       "\n",
       "    .dataframe tbody tr th {\n",
       "        vertical-align: top;\n",
       "    }\n",
       "\n",
       "    .dataframe thead th {\n",
       "        text-align: right;\n",
       "    }\n",
       "</style>\n",
       "<table border=\"1\" class=\"dataframe\">\n",
       "  <thead>\n",
       "    <tr style=\"text-align: right;\">\n",
       "      <th></th>\n",
       "      <th>Age</th>\n",
       "      <th>Attrition</th>\n",
       "      <th>BusinessTravel</th>\n",
       "      <th>DailyRate</th>\n",
       "      <th>Department</th>\n",
       "      <th>DistanceFromHome</th>\n",
       "      <th>Education</th>\n",
       "      <th>EducationField</th>\n",
       "      <th>EmployeeCount</th>\n",
       "      <th>EmployeeNumber</th>\n",
       "      <th>EnvironmentSatisfaction</th>\n",
       "      <th>Gender</th>\n",
       "      <th>HourlyRate</th>\n",
       "      <th>JobInvolvement</th>\n",
       "      <th>JobLevel</th>\n",
       "      <th>JobRole</th>\n",
       "      <th>JobSatisfaction</th>\n",
       "      <th>MaritalStatus</th>\n",
       "      <th>MonthlyIncome</th>\n",
       "      <th>MonthlyRate</th>\n",
       "      <th>NumCompaniesWorked</th>\n",
       "      <th>Over18</th>\n",
       "      <th>OverTime</th>\n",
       "      <th>PercentSalaryHike</th>\n",
       "      <th>PerformanceRating</th>\n",
       "      <th>RelationshipSatisfaction</th>\n",
       "      <th>StandardHours</th>\n",
       "      <th>StockOptionLevel</th>\n",
       "      <th>TotalWorkingYears</th>\n",
       "      <th>TrainingTimesLastYear</th>\n",
       "      <th>WorkLifeBalance</th>\n",
       "      <th>YearsAtCompany</th>\n",
       "      <th>YearsInCurrentRole</th>\n",
       "      <th>YearsSinceLastPromotion</th>\n",
       "      <th>YearsWithCurrManager</th>\n",
       "    </tr>\n",
       "  </thead>\n",
       "  <tbody>\n",
       "    <tr>\n",
       "      <th>1465</th>\n",
       "      <td>36</td>\n",
       "      <td>No</td>\n",
       "      <td>Travel_Frequently</td>\n",
       "      <td>884</td>\n",
       "      <td>Research &amp; Development</td>\n",
       "      <td>23</td>\n",
       "      <td>2</td>\n",
       "      <td>Medical</td>\n",
       "      <td>1</td>\n",
       "      <td>2061</td>\n",
       "      <td>3</td>\n",
       "      <td>Male</td>\n",
       "      <td>41</td>\n",
       "      <td>4</td>\n",
       "      <td>2</td>\n",
       "      <td>Laboratory Technician</td>\n",
       "      <td>4</td>\n",
       "      <td>Married</td>\n",
       "      <td>2571</td>\n",
       "      <td>12290</td>\n",
       "      <td>4</td>\n",
       "      <td>Y</td>\n",
       "      <td>No</td>\n",
       "      <td>17</td>\n",
       "      <td>3</td>\n",
       "      <td>3</td>\n",
       "      <td>80</td>\n",
       "      <td>1</td>\n",
       "      <td>17</td>\n",
       "      <td>3</td>\n",
       "      <td>3</td>\n",
       "      <td>5</td>\n",
       "      <td>2</td>\n",
       "      <td>0</td>\n",
       "      <td>3</td>\n",
       "    </tr>\n",
       "    <tr>\n",
       "      <th>1466</th>\n",
       "      <td>39</td>\n",
       "      <td>No</td>\n",
       "      <td>Travel_Rarely</td>\n",
       "      <td>613</td>\n",
       "      <td>Research &amp; Development</td>\n",
       "      <td>6</td>\n",
       "      <td>1</td>\n",
       "      <td>Medical</td>\n",
       "      <td>1</td>\n",
       "      <td>2062</td>\n",
       "      <td>4</td>\n",
       "      <td>Male</td>\n",
       "      <td>42</td>\n",
       "      <td>2</td>\n",
       "      <td>3</td>\n",
       "      <td>Healthcare Representative</td>\n",
       "      <td>1</td>\n",
       "      <td>Married</td>\n",
       "      <td>9991</td>\n",
       "      <td>21457</td>\n",
       "      <td>4</td>\n",
       "      <td>Y</td>\n",
       "      <td>No</td>\n",
       "      <td>15</td>\n",
       "      <td>3</td>\n",
       "      <td>1</td>\n",
       "      <td>80</td>\n",
       "      <td>1</td>\n",
       "      <td>9</td>\n",
       "      <td>5</td>\n",
       "      <td>3</td>\n",
       "      <td>7</td>\n",
       "      <td>7</td>\n",
       "      <td>1</td>\n",
       "      <td>7</td>\n",
       "    </tr>\n",
       "    <tr>\n",
       "      <th>1467</th>\n",
       "      <td>27</td>\n",
       "      <td>No</td>\n",
       "      <td>Travel_Rarely</td>\n",
       "      <td>155</td>\n",
       "      <td>Research &amp; Development</td>\n",
       "      <td>4</td>\n",
       "      <td>3</td>\n",
       "      <td>Life Sciences</td>\n",
       "      <td>1</td>\n",
       "      <td>2064</td>\n",
       "      <td>2</td>\n",
       "      <td>Male</td>\n",
       "      <td>87</td>\n",
       "      <td>4</td>\n",
       "      <td>2</td>\n",
       "      <td>Manufacturing Director</td>\n",
       "      <td>2</td>\n",
       "      <td>Married</td>\n",
       "      <td>6142</td>\n",
       "      <td>5174</td>\n",
       "      <td>1</td>\n",
       "      <td>Y</td>\n",
       "      <td>Yes</td>\n",
       "      <td>20</td>\n",
       "      <td>4</td>\n",
       "      <td>2</td>\n",
       "      <td>80</td>\n",
       "      <td>1</td>\n",
       "      <td>6</td>\n",
       "      <td>0</td>\n",
       "      <td>3</td>\n",
       "      <td>6</td>\n",
       "      <td>2</td>\n",
       "      <td>0</td>\n",
       "      <td>3</td>\n",
       "    </tr>\n",
       "    <tr>\n",
       "      <th>1468</th>\n",
       "      <td>49</td>\n",
       "      <td>No</td>\n",
       "      <td>Travel_Frequently</td>\n",
       "      <td>1023</td>\n",
       "      <td>Sales</td>\n",
       "      <td>2</td>\n",
       "      <td>3</td>\n",
       "      <td>Medical</td>\n",
       "      <td>1</td>\n",
       "      <td>2065</td>\n",
       "      <td>4</td>\n",
       "      <td>Male</td>\n",
       "      <td>63</td>\n",
       "      <td>2</td>\n",
       "      <td>2</td>\n",
       "      <td>Sales Executive</td>\n",
       "      <td>2</td>\n",
       "      <td>Married</td>\n",
       "      <td>5390</td>\n",
       "      <td>13243</td>\n",
       "      <td>2</td>\n",
       "      <td>Y</td>\n",
       "      <td>No</td>\n",
       "      <td>14</td>\n",
       "      <td>3</td>\n",
       "      <td>4</td>\n",
       "      <td>80</td>\n",
       "      <td>0</td>\n",
       "      <td>17</td>\n",
       "      <td>3</td>\n",
       "      <td>2</td>\n",
       "      <td>9</td>\n",
       "      <td>6</td>\n",
       "      <td>0</td>\n",
       "      <td>8</td>\n",
       "    </tr>\n",
       "    <tr>\n",
       "      <th>1469</th>\n",
       "      <td>34</td>\n",
       "      <td>No</td>\n",
       "      <td>Travel_Rarely</td>\n",
       "      <td>628</td>\n",
       "      <td>Research &amp; Development</td>\n",
       "      <td>8</td>\n",
       "      <td>3</td>\n",
       "      <td>Medical</td>\n",
       "      <td>1</td>\n",
       "      <td>2068</td>\n",
       "      <td>2</td>\n",
       "      <td>Male</td>\n",
       "      <td>82</td>\n",
       "      <td>4</td>\n",
       "      <td>2</td>\n",
       "      <td>Laboratory Technician</td>\n",
       "      <td>3</td>\n",
       "      <td>Married</td>\n",
       "      <td>4404</td>\n",
       "      <td>10228</td>\n",
       "      <td>2</td>\n",
       "      <td>Y</td>\n",
       "      <td>No</td>\n",
       "      <td>12</td>\n",
       "      <td>3</td>\n",
       "      <td>1</td>\n",
       "      <td>80</td>\n",
       "      <td>0</td>\n",
       "      <td>6</td>\n",
       "      <td>3</td>\n",
       "      <td>4</td>\n",
       "      <td>4</td>\n",
       "      <td>3</td>\n",
       "      <td>1</td>\n",
       "      <td>2</td>\n",
       "    </tr>\n",
       "  </tbody>\n",
       "</table>\n",
       "</div>"
      ],
      "text/plain": [
       "      Age Attrition     BusinessTravel  DailyRate              Department  \\\n",
       "1465   36        No  Travel_Frequently        884  Research & Development   \n",
       "1466   39        No      Travel_Rarely        613  Research & Development   \n",
       "1467   27        No      Travel_Rarely        155  Research & Development   \n",
       "1468   49        No  Travel_Frequently       1023                   Sales   \n",
       "1469   34        No      Travel_Rarely        628  Research & Development   \n",
       "\n",
       "      DistanceFromHome  Education EducationField  EmployeeCount  \\\n",
       "1465                23          2        Medical              1   \n",
       "1466                 6          1        Medical              1   \n",
       "1467                 4          3  Life Sciences              1   \n",
       "1468                 2          3        Medical              1   \n",
       "1469                 8          3        Medical              1   \n",
       "\n",
       "      EmployeeNumber  EnvironmentSatisfaction Gender  HourlyRate  \\\n",
       "1465            2061                        3   Male          41   \n",
       "1466            2062                        4   Male          42   \n",
       "1467            2064                        2   Male          87   \n",
       "1468            2065                        4   Male          63   \n",
       "1469            2068                        2   Male          82   \n",
       "\n",
       "      JobInvolvement  JobLevel                    JobRole  JobSatisfaction  \\\n",
       "1465               4         2      Laboratory Technician                4   \n",
       "1466               2         3  Healthcare Representative                1   \n",
       "1467               4         2     Manufacturing Director                2   \n",
       "1468               2         2            Sales Executive                2   \n",
       "1469               4         2      Laboratory Technician                3   \n",
       "\n",
       "     MaritalStatus  MonthlyIncome  MonthlyRate  NumCompaniesWorked Over18  \\\n",
       "1465       Married           2571        12290                   4      Y   \n",
       "1466       Married           9991        21457                   4      Y   \n",
       "1467       Married           6142         5174                   1      Y   \n",
       "1468       Married           5390        13243                   2      Y   \n",
       "1469       Married           4404        10228                   2      Y   \n",
       "\n",
       "     OverTime  PercentSalaryHike  PerformanceRating  RelationshipSatisfaction  \\\n",
       "1465       No                 17                  3                         3   \n",
       "1466       No                 15                  3                         1   \n",
       "1467      Yes                 20                  4                         2   \n",
       "1468       No                 14                  3                         4   \n",
       "1469       No                 12                  3                         1   \n",
       "\n",
       "      StandardHours  StockOptionLevel  TotalWorkingYears  \\\n",
       "1465             80                 1                 17   \n",
       "1466             80                 1                  9   \n",
       "1467             80                 1                  6   \n",
       "1468             80                 0                 17   \n",
       "1469             80                 0                  6   \n",
       "\n",
       "      TrainingTimesLastYear  WorkLifeBalance  YearsAtCompany  \\\n",
       "1465                      3                3               5   \n",
       "1466                      5                3               7   \n",
       "1467                      0                3               6   \n",
       "1468                      3                2               9   \n",
       "1469                      3                4               4   \n",
       "\n",
       "      YearsInCurrentRole  YearsSinceLastPromotion  YearsWithCurrManager  \n",
       "1465                   2                        0                     3  \n",
       "1466                   7                        1                     7  \n",
       "1467                   2                        0                     3  \n",
       "1468                   6                        0                     8  \n",
       "1469                   3                        1                     2  "
      ]
     },
     "execution_count": 18,
     "metadata": {},
     "output_type": "execute_result"
    }
   ],
   "source": [
    "data = pd.read_csv('WA_Fn-UseC_-HR-Employee-Attrition.csv')\n",
    "data.tail()"
   ]
  },
  {
   "cell_type": "markdown",
   "metadata": {},
   "source": [
    "1. Age : 해당 직원의 나이\n",
    "2. Attrition : 퇴직 여부 Target값 (종속변수)\n",
    "3. BusinessTravel : 출장의 빈도\n",
    "4. DailyRate : 일 대비 급여의 수준\n",
    "5. Department : 업무분야\n",
    "6. DistanceFromHome : 집과의 거리\n",
    "7. Education : 교육의 정도\n",
    "    - 1 : 'Below College' : 대학 이하\n",
    "    - 2 : 'College' : 전문대\n",
    "    - 3 : 'Bachelor' : 학사\n",
    "    - 4 : 'Master' : 석사\n",
    "    - 5 : 'Doctor' : 박사\n",
    "8. EducationField : 전공\n",
    "9. EmployeeCount : 직원 숫자\n",
    "10. EmployeeNumber : 직원 ID\n",
    "11. EnvironmentSatisfaction : 업무 환경에 대한 만족도\n",
    "    - 1 : 'Low'\n",
    "    - 2 : 'Medium'\n",
    "    - 3 : 'High'\n",
    "    - 4 : 'Very High'\n",
    "12. Gender : 성별\n",
    "13. HourlyRate : 시간 대비 급여의 수준\n",
    "14. JobInvolvement : 업무 참여도\n",
    "    - 1 : 'Low'\n",
    "    - 2 : 'Medium'\n",
    "    - 3 : 'High'\n",
    "    - 4 : 'Very High'\n",
    "15. JobLevel : 업무의 수준\n",
    "16. JobRole : 업무 종류\n",
    "17. JobSatisfaction : 업무 만족도\n",
    "    - 1 : 'Low'\n",
    "    - 2 : 'Medium'\n",
    "    - 3 : 'High'\n",
    "    - 4 : 'Very High'\n",
    "18. MaritalStatus : 결혼 여부\n",
    "19. MonthlyIncome : 월 소득\n",
    "20. MonthlyRate : 월 대비 급여 수준\n",
    "21. NumCompaniesWorked : 일한 회사의 수\n",
    "22. Over18 : 18세 이상\n",
    "23. OverTime : 규정외 노동시간\n",
    "24. PercentSalaryHike : 급여의 증가분 백분율\n",
    "25. PerformanceRating : 업무 성과\n",
    "    - 1 : 'Low'\n",
    "    - 2 : 'Good'\n",
    "    - 3 : 'Excellent'\n",
    "    - 4 : 'Outstanding'\n",
    "26. RelationshipSatisfaction : 대인관계 만족도\n",
    "    - 1 : 'Low'\n",
    "    - 2 : 'Medium'\n",
    "    - 3 : 'High'\n",
    "    - 4 : 'Very High'\n",
    "27. StandardHours : 표준 시간\n",
    "28. StockOptionLevel : 스톡옵션 정도\n",
    "29. TotalWorkingYears : 경력 기간\n",
    "30. TrainingTimesLastYear : 교육 시간\n",
    "31. WorkLifeBalance : 일과 생활의 균형 정도\n",
    "    - 1 : 'Bad'\n",
    "    - 2 : 'Good'\n",
    "    - 3 : 'Better'\n",
    "    - 4 : 'Best'\n",
    "32. YearsAtCompany : 근속 연수\n",
    "33. YearsInCurrentRole : 현재 역할의 년수\n",
    "34. YearsSinceLastPromotion : 마지막 프로모션\n",
    "35. YearsWithCurrManager : 현재 관리자와 함께 보낸 시간\n",
    "\n",
    "- 총 독립변수 : 34개, 종속변수 1개 확인 됩니다.\n",
    "\n",
    "<br>"
   ]
  },
  {
   "cell_type": "code",
   "execution_count": 19,
   "metadata": {
    "execution": {
     "iopub.execute_input": "2020-12-08T00:45:36.018212Z",
     "iopub.status.busy": "2020-12-08T00:45:36.017983Z",
     "iopub.status.idle": "2020-12-08T00:45:36.029718Z",
     "shell.execute_reply": "2020-12-08T00:45:36.029009Z",
     "shell.execute_reply.started": "2020-12-08T00:45:36.018186Z"
    }
   },
   "outputs": [
    {
     "name": "stdout",
     "output_type": "stream",
     "text": [
      "<class 'pandas.core.frame.DataFrame'>\n",
      "RangeIndex: 1470 entries, 0 to 1469\n",
      "Data columns (total 35 columns):\n",
      " #   Column                    Non-Null Count  Dtype \n",
      "---  ------                    --------------  ----- \n",
      " 0   Age                       1470 non-null   int64 \n",
      " 1   Attrition                 1470 non-null   object\n",
      " 2   BusinessTravel            1470 non-null   object\n",
      " 3   DailyRate                 1470 non-null   int64 \n",
      " 4   Department                1470 non-null   object\n",
      " 5   DistanceFromHome          1470 non-null   int64 \n",
      " 6   Education                 1470 non-null   int64 \n",
      " 7   EducationField            1470 non-null   object\n",
      " 8   EmployeeCount             1470 non-null   int64 \n",
      " 9   EmployeeNumber            1470 non-null   int64 \n",
      " 10  EnvironmentSatisfaction   1470 non-null   int64 \n",
      " 11  Gender                    1470 non-null   object\n",
      " 12  HourlyRate                1470 non-null   int64 \n",
      " 13  JobInvolvement            1470 non-null   int64 \n",
      " 14  JobLevel                  1470 non-null   int64 \n",
      " 15  JobRole                   1470 non-null   object\n",
      " 16  JobSatisfaction           1470 non-null   int64 \n",
      " 17  MaritalStatus             1470 non-null   object\n",
      " 18  MonthlyIncome             1470 non-null   int64 \n",
      " 19  MonthlyRate               1470 non-null   int64 \n",
      " 20  NumCompaniesWorked        1470 non-null   int64 \n",
      " 21  Over18                    1470 non-null   object\n",
      " 22  OverTime                  1470 non-null   object\n",
      " 23  PercentSalaryHike         1470 non-null   int64 \n",
      " 24  PerformanceRating         1470 non-null   int64 \n",
      " 25  RelationshipSatisfaction  1470 non-null   int64 \n",
      " 26  StandardHours             1470 non-null   int64 \n",
      " 27  StockOptionLevel          1470 non-null   int64 \n",
      " 28  TotalWorkingYears         1470 non-null   int64 \n",
      " 29  TrainingTimesLastYear     1470 non-null   int64 \n",
      " 30  WorkLifeBalance           1470 non-null   int64 \n",
      " 31  YearsAtCompany            1470 non-null   int64 \n",
      " 32  YearsInCurrentRole        1470 non-null   int64 \n",
      " 33  YearsSinceLastPromotion   1470 non-null   int64 \n",
      " 34  YearsWithCurrManager      1470 non-null   int64 \n",
      "dtypes: int64(26), object(9)\n",
      "memory usage: 402.1+ KB\n"
     ]
    }
   ],
   "source": [
    "data.info()"
   ]
  },
  {
   "cell_type": "markdown",
   "metadata": {},
   "source": [
    "- Education, EnvironmentSatisfaction, JobInvolvement, JobSatisfaction, PerformanceRating, RelationshipSatisfaction, WorkLifeBalance, JobLevel, StockOptionLevel, NumCompaniesWorked\n",
    "- 위의 컬럼들이 실제론 Category column인데, int형으로 되어있습니다.\n",
    "- int형 컬럼들을 Category 컬럼으로 바꿔주어야 EDA 할때 조금더 편합니다. \\<int형 26개, category형 9개>\n",
    "\n",
    "<br>"
   ]
  },
  {
   "cell_type": "markdown",
   "metadata": {},
   "source": [
    "### 1.2 데이터값을 Object로 변경"
   ]
  },
  {
   "cell_type": "code",
   "execution_count": 20,
   "metadata": {
    "execution": {
     "iopub.execute_input": "2020-12-08T00:45:36.491381Z",
     "iopub.status.busy": "2020-12-08T00:45:36.491152Z",
     "iopub.status.idle": "2020-12-08T00:45:36.498743Z",
     "shell.execute_reply": "2020-12-08T00:45:36.498136Z",
     "shell.execute_reply.started": "2020-12-08T00:45:36.491355Z"
    }
   },
   "outputs": [
    {
     "data": {
      "text/plain": [
       "array(['College', 'Below College', 'Master', 'Bachelor', 'Doctor'],\n",
       "      dtype=object)"
      ]
     },
     "execution_count": 20,
     "metadata": {},
     "output_type": "execute_result"
    }
   ],
   "source": [
    "# Education\n",
    "change_dict = {1: 'Below College', 2: 'College', 3: 'Bachelor', 4: 'Master', 5: 'Doctor'}\n",
    "data.replace({'Education': change_dict}, inplace=True)\n",
    "data['Education'].unique()"
   ]
  },
  {
   "cell_type": "code",
   "execution_count": 21,
   "metadata": {
    "execution": {
     "iopub.execute_input": "2020-12-08T00:45:36.672900Z",
     "iopub.status.busy": "2020-12-08T00:45:36.672685Z",
     "iopub.status.idle": "2020-12-08T00:45:36.679892Z",
     "shell.execute_reply": "2020-12-08T00:45:36.679329Z",
     "shell.execute_reply.started": "2020-12-08T00:45:36.672876Z"
    }
   },
   "outputs": [
    {
     "data": {
      "text/plain": [
       "array(['Medium', 'High', 'Very High', 'Low'], dtype=object)"
      ]
     },
     "execution_count": 21,
     "metadata": {},
     "output_type": "execute_result"
    }
   ],
   "source": [
    "# EnvironmentSatisfaction\n",
    "change_dict = {1: 'Low', 2: 'Medium', 3: 'High', 4: 'Very High'}\n",
    "data.replace({'EnvironmentSatisfaction': change_dict}, inplace=True)\n",
    "data['EnvironmentSatisfaction'].unique()"
   ]
  },
  {
   "cell_type": "code",
   "execution_count": 22,
   "metadata": {
    "execution": {
     "iopub.execute_input": "2020-12-08T00:45:36.861169Z",
     "iopub.status.busy": "2020-12-08T00:45:36.860947Z",
     "iopub.status.idle": "2020-12-08T00:45:36.868449Z",
     "shell.execute_reply": "2020-12-08T00:45:36.867839Z",
     "shell.execute_reply.started": "2020-12-08T00:45:36.861144Z"
    }
   },
   "outputs": [
    {
     "data": {
      "text/plain": [
       "array(['High', 'Medium', 'Very High', 'Low'], dtype=object)"
      ]
     },
     "execution_count": 22,
     "metadata": {},
     "output_type": "execute_result"
    }
   ],
   "source": [
    "# JobInvolvement\n",
    "change_dict = {1: 'Low', 2: 'Medium', 3: 'High', 4: 'Very High'}\n",
    "data.replace({'JobInvolvement': change_dict}, inplace=True)\n",
    "data['JobInvolvement'].unique()"
   ]
  },
  {
   "cell_type": "code",
   "execution_count": 23,
   "metadata": {
    "execution": {
     "iopub.execute_input": "2020-12-08T00:45:37.053768Z",
     "iopub.status.busy": "2020-12-08T00:45:37.053490Z",
     "iopub.status.idle": "2020-12-08T00:45:37.061971Z",
     "shell.execute_reply": "2020-12-08T00:45:37.061458Z",
     "shell.execute_reply.started": "2020-12-08T00:45:37.053737Z"
    }
   },
   "outputs": [
    {
     "data": {
      "text/plain": [
       "array(['Very High', 'Medium', 'High', 'Low'], dtype=object)"
      ]
     },
     "execution_count": 23,
     "metadata": {},
     "output_type": "execute_result"
    }
   ],
   "source": [
    "# JobSatisfaction\n",
    "change_dict = {1: 'Low', 2: 'Medium', 3: 'High', 4: 'Very High'}\n",
    "data.replace({'JobSatisfaction': change_dict}, inplace=True)\n",
    "data['JobSatisfaction'].unique()"
   ]
  },
  {
   "cell_type": "code",
   "execution_count": 24,
   "metadata": {
    "execution": {
     "iopub.execute_input": "2020-12-08T00:45:37.233276Z",
     "iopub.status.busy": "2020-12-08T00:45:37.233057Z",
     "iopub.status.idle": "2020-12-08T00:45:37.240703Z",
     "shell.execute_reply": "2020-12-08T00:45:37.240202Z",
     "shell.execute_reply.started": "2020-12-08T00:45:37.233252Z"
    }
   },
   "outputs": [
    {
     "data": {
      "text/plain": [
       "array(['Excellent', 'Outstanding'], dtype=object)"
      ]
     },
     "execution_count": 24,
     "metadata": {},
     "output_type": "execute_result"
    }
   ],
   "source": [
    "# PerformanceRating\n",
    "change_dict = {1: 'Low', 2: 'Good', 3: 'Excellent', 4: 'Outstanding'}\n",
    "data.replace({'PerformanceRating': change_dict}, inplace=True)\n",
    "data['PerformanceRating'].unique()"
   ]
  },
  {
   "cell_type": "code",
   "execution_count": 25,
   "metadata": {
    "execution": {
     "iopub.execute_input": "2020-12-08T00:45:37.591547Z",
     "iopub.status.busy": "2020-12-08T00:45:37.591320Z",
     "iopub.status.idle": "2020-12-08T00:45:37.599207Z",
     "shell.execute_reply": "2020-12-08T00:45:37.598557Z",
     "shell.execute_reply.started": "2020-12-08T00:45:37.591522Z"
    }
   },
   "outputs": [
    {
     "data": {
      "text/plain": [
       "array(['Low', 'Very High', 'Medium', 'High'], dtype=object)"
      ]
     },
     "execution_count": 25,
     "metadata": {},
     "output_type": "execute_result"
    }
   ],
   "source": [
    "# RelationshipSatisfaction\n",
    "change_dict = {1: 'Low', 2: 'Medium', 3: 'High', 4: 'Very High'}\n",
    "data.replace({'RelationshipSatisfaction': change_dict}, inplace=True)\n",
    "data['RelationshipSatisfaction'].unique()"
   ]
  },
  {
   "cell_type": "code",
   "execution_count": 26,
   "metadata": {
    "execution": {
     "iopub.execute_input": "2020-12-08T00:45:38.100211Z",
     "iopub.status.busy": "2020-12-08T00:45:38.099982Z",
     "iopub.status.idle": "2020-12-08T00:45:38.108410Z",
     "shell.execute_reply": "2020-12-08T00:45:38.107780Z",
     "shell.execute_reply.started": "2020-12-08T00:45:38.100186Z"
    }
   },
   "outputs": [
    {
     "data": {
      "text/plain": [
       "array(['Bad', 'Better', 'Good', 'Best'], dtype=object)"
      ]
     },
     "execution_count": 26,
     "metadata": {},
     "output_type": "execute_result"
    }
   ],
   "source": [
    "# WorkLifeBalance\n",
    "change_dict = {1: 'Bad', 2: 'Good', 3: 'Better', 4: 'Best'}\n",
    "data.replace({'WorkLifeBalance': change_dict}, inplace=True)\n",
    "data['WorkLifeBalance'].unique()"
   ]
  },
  {
   "cell_type": "code",
   "execution_count": 27,
   "metadata": {
    "execution": {
     "iopub.execute_input": "2020-12-08T00:45:38.463731Z",
     "iopub.status.busy": "2020-12-08T00:45:38.463502Z",
     "iopub.status.idle": "2020-12-08T00:45:38.511468Z",
     "shell.execute_reply": "2020-12-08T00:45:38.510867Z",
     "shell.execute_reply.started": "2020-12-08T00:45:38.463704Z"
    }
   },
   "outputs": [
    {
     "data": {
      "text/html": [
       "<div>\n",
       "<style scoped>\n",
       "    .dataframe tbody tr th:only-of-type {\n",
       "        vertical-align: middle;\n",
       "    }\n",
       "\n",
       "    .dataframe tbody tr th {\n",
       "        vertical-align: top;\n",
       "    }\n",
       "\n",
       "    .dataframe thead th {\n",
       "        text-align: right;\n",
       "    }\n",
       "</style>\n",
       "<table border=\"1\" class=\"dataframe\">\n",
       "  <thead>\n",
       "    <tr style=\"text-align: right;\">\n",
       "      <th></th>\n",
       "      <th>Age</th>\n",
       "      <th>Attrition</th>\n",
       "      <th>BusinessTravel</th>\n",
       "      <th>DailyRate</th>\n",
       "      <th>Department</th>\n",
       "      <th>DistanceFromHome</th>\n",
       "      <th>Education</th>\n",
       "      <th>EducationField</th>\n",
       "      <th>EmployeeCount</th>\n",
       "      <th>EmployeeNumber</th>\n",
       "      <th>EnvironmentSatisfaction</th>\n",
       "      <th>Gender</th>\n",
       "      <th>HourlyRate</th>\n",
       "      <th>JobInvolvement</th>\n",
       "      <th>JobLevel</th>\n",
       "      <th>JobRole</th>\n",
       "      <th>JobSatisfaction</th>\n",
       "      <th>MaritalStatus</th>\n",
       "      <th>MonthlyIncome</th>\n",
       "      <th>MonthlyRate</th>\n",
       "      <th>NumCompaniesWorked</th>\n",
       "      <th>Over18</th>\n",
       "      <th>OverTime</th>\n",
       "      <th>PercentSalaryHike</th>\n",
       "      <th>PerformanceRating</th>\n",
       "      <th>RelationshipSatisfaction</th>\n",
       "      <th>StandardHours</th>\n",
       "      <th>StockOptionLevel</th>\n",
       "      <th>TotalWorkingYears</th>\n",
       "      <th>TrainingTimesLastYear</th>\n",
       "      <th>WorkLifeBalance</th>\n",
       "      <th>YearsAtCompany</th>\n",
       "      <th>YearsInCurrentRole</th>\n",
       "      <th>YearsSinceLastPromotion</th>\n",
       "      <th>YearsWithCurrManager</th>\n",
       "    </tr>\n",
       "  </thead>\n",
       "  <tbody>\n",
       "    <tr>\n",
       "      <th>0</th>\n",
       "      <td>41</td>\n",
       "      <td>Yes</td>\n",
       "      <td>Travel_Rarely</td>\n",
       "      <td>1102</td>\n",
       "      <td>Sales</td>\n",
       "      <td>1</td>\n",
       "      <td>College</td>\n",
       "      <td>Life Sciences</td>\n",
       "      <td>1</td>\n",
       "      <td>1</td>\n",
       "      <td>Medium</td>\n",
       "      <td>Female</td>\n",
       "      <td>94</td>\n",
       "      <td>High</td>\n",
       "      <td>2</td>\n",
       "      <td>Sales Executive</td>\n",
       "      <td>Very High</td>\n",
       "      <td>Single</td>\n",
       "      <td>5993</td>\n",
       "      <td>19479</td>\n",
       "      <td>8</td>\n",
       "      <td>Y</td>\n",
       "      <td>Yes</td>\n",
       "      <td>11</td>\n",
       "      <td>Excellent</td>\n",
       "      <td>Low</td>\n",
       "      <td>80</td>\n",
       "      <td>0</td>\n",
       "      <td>8</td>\n",
       "      <td>0</td>\n",
       "      <td>Bad</td>\n",
       "      <td>6</td>\n",
       "      <td>4</td>\n",
       "      <td>0</td>\n",
       "      <td>5</td>\n",
       "    </tr>\n",
       "    <tr>\n",
       "      <th>1</th>\n",
       "      <td>49</td>\n",
       "      <td>No</td>\n",
       "      <td>Travel_Frequently</td>\n",
       "      <td>279</td>\n",
       "      <td>Research &amp; Development</td>\n",
       "      <td>8</td>\n",
       "      <td>Below College</td>\n",
       "      <td>Life Sciences</td>\n",
       "      <td>1</td>\n",
       "      <td>2</td>\n",
       "      <td>High</td>\n",
       "      <td>Male</td>\n",
       "      <td>61</td>\n",
       "      <td>Medium</td>\n",
       "      <td>2</td>\n",
       "      <td>Research Scientist</td>\n",
       "      <td>Medium</td>\n",
       "      <td>Married</td>\n",
       "      <td>5130</td>\n",
       "      <td>24907</td>\n",
       "      <td>1</td>\n",
       "      <td>Y</td>\n",
       "      <td>No</td>\n",
       "      <td>23</td>\n",
       "      <td>Outstanding</td>\n",
       "      <td>Very High</td>\n",
       "      <td>80</td>\n",
       "      <td>1</td>\n",
       "      <td>10</td>\n",
       "      <td>3</td>\n",
       "      <td>Better</td>\n",
       "      <td>10</td>\n",
       "      <td>7</td>\n",
       "      <td>1</td>\n",
       "      <td>7</td>\n",
       "    </tr>\n",
       "    <tr>\n",
       "      <th>2</th>\n",
       "      <td>37</td>\n",
       "      <td>Yes</td>\n",
       "      <td>Travel_Rarely</td>\n",
       "      <td>1373</td>\n",
       "      <td>Research &amp; Development</td>\n",
       "      <td>2</td>\n",
       "      <td>College</td>\n",
       "      <td>Other</td>\n",
       "      <td>1</td>\n",
       "      <td>4</td>\n",
       "      <td>Very High</td>\n",
       "      <td>Male</td>\n",
       "      <td>92</td>\n",
       "      <td>Medium</td>\n",
       "      <td>1</td>\n",
       "      <td>Laboratory Technician</td>\n",
       "      <td>High</td>\n",
       "      <td>Single</td>\n",
       "      <td>2090</td>\n",
       "      <td>2396</td>\n",
       "      <td>6</td>\n",
       "      <td>Y</td>\n",
       "      <td>Yes</td>\n",
       "      <td>15</td>\n",
       "      <td>Excellent</td>\n",
       "      <td>Medium</td>\n",
       "      <td>80</td>\n",
       "      <td>0</td>\n",
       "      <td>7</td>\n",
       "      <td>3</td>\n",
       "      <td>Better</td>\n",
       "      <td>0</td>\n",
       "      <td>0</td>\n",
       "      <td>0</td>\n",
       "      <td>0</td>\n",
       "    </tr>\n",
       "    <tr>\n",
       "      <th>3</th>\n",
       "      <td>33</td>\n",
       "      <td>No</td>\n",
       "      <td>Travel_Frequently</td>\n",
       "      <td>1392</td>\n",
       "      <td>Research &amp; Development</td>\n",
       "      <td>3</td>\n",
       "      <td>Master</td>\n",
       "      <td>Life Sciences</td>\n",
       "      <td>1</td>\n",
       "      <td>5</td>\n",
       "      <td>Very High</td>\n",
       "      <td>Female</td>\n",
       "      <td>56</td>\n",
       "      <td>High</td>\n",
       "      <td>1</td>\n",
       "      <td>Research Scientist</td>\n",
       "      <td>High</td>\n",
       "      <td>Married</td>\n",
       "      <td>2909</td>\n",
       "      <td>23159</td>\n",
       "      <td>1</td>\n",
       "      <td>Y</td>\n",
       "      <td>Yes</td>\n",
       "      <td>11</td>\n",
       "      <td>Excellent</td>\n",
       "      <td>High</td>\n",
       "      <td>80</td>\n",
       "      <td>0</td>\n",
       "      <td>8</td>\n",
       "      <td>3</td>\n",
       "      <td>Better</td>\n",
       "      <td>8</td>\n",
       "      <td>7</td>\n",
       "      <td>3</td>\n",
       "      <td>0</td>\n",
       "    </tr>\n",
       "    <tr>\n",
       "      <th>4</th>\n",
       "      <td>27</td>\n",
       "      <td>No</td>\n",
       "      <td>Travel_Rarely</td>\n",
       "      <td>591</td>\n",
       "      <td>Research &amp; Development</td>\n",
       "      <td>2</td>\n",
       "      <td>Below College</td>\n",
       "      <td>Medical</td>\n",
       "      <td>1</td>\n",
       "      <td>7</td>\n",
       "      <td>Low</td>\n",
       "      <td>Male</td>\n",
       "      <td>40</td>\n",
       "      <td>High</td>\n",
       "      <td>1</td>\n",
       "      <td>Laboratory Technician</td>\n",
       "      <td>Medium</td>\n",
       "      <td>Married</td>\n",
       "      <td>3468</td>\n",
       "      <td>16632</td>\n",
       "      <td>9</td>\n",
       "      <td>Y</td>\n",
       "      <td>No</td>\n",
       "      <td>12</td>\n",
       "      <td>Excellent</td>\n",
       "      <td>Very High</td>\n",
       "      <td>80</td>\n",
       "      <td>1</td>\n",
       "      <td>6</td>\n",
       "      <td>3</td>\n",
       "      <td>Better</td>\n",
       "      <td>2</td>\n",
       "      <td>2</td>\n",
       "      <td>2</td>\n",
       "      <td>2</td>\n",
       "    </tr>\n",
       "    <tr>\n",
       "      <th>...</th>\n",
       "      <td>...</td>\n",
       "      <td>...</td>\n",
       "      <td>...</td>\n",
       "      <td>...</td>\n",
       "      <td>...</td>\n",
       "      <td>...</td>\n",
       "      <td>...</td>\n",
       "      <td>...</td>\n",
       "      <td>...</td>\n",
       "      <td>...</td>\n",
       "      <td>...</td>\n",
       "      <td>...</td>\n",
       "      <td>...</td>\n",
       "      <td>...</td>\n",
       "      <td>...</td>\n",
       "      <td>...</td>\n",
       "      <td>...</td>\n",
       "      <td>...</td>\n",
       "      <td>...</td>\n",
       "      <td>...</td>\n",
       "      <td>...</td>\n",
       "      <td>...</td>\n",
       "      <td>...</td>\n",
       "      <td>...</td>\n",
       "      <td>...</td>\n",
       "      <td>...</td>\n",
       "      <td>...</td>\n",
       "      <td>...</td>\n",
       "      <td>...</td>\n",
       "      <td>...</td>\n",
       "      <td>...</td>\n",
       "      <td>...</td>\n",
       "      <td>...</td>\n",
       "      <td>...</td>\n",
       "      <td>...</td>\n",
       "    </tr>\n",
       "    <tr>\n",
       "      <th>1465</th>\n",
       "      <td>36</td>\n",
       "      <td>No</td>\n",
       "      <td>Travel_Frequently</td>\n",
       "      <td>884</td>\n",
       "      <td>Research &amp; Development</td>\n",
       "      <td>23</td>\n",
       "      <td>College</td>\n",
       "      <td>Medical</td>\n",
       "      <td>1</td>\n",
       "      <td>2061</td>\n",
       "      <td>High</td>\n",
       "      <td>Male</td>\n",
       "      <td>41</td>\n",
       "      <td>Very High</td>\n",
       "      <td>2</td>\n",
       "      <td>Laboratory Technician</td>\n",
       "      <td>Very High</td>\n",
       "      <td>Married</td>\n",
       "      <td>2571</td>\n",
       "      <td>12290</td>\n",
       "      <td>4</td>\n",
       "      <td>Y</td>\n",
       "      <td>No</td>\n",
       "      <td>17</td>\n",
       "      <td>Excellent</td>\n",
       "      <td>High</td>\n",
       "      <td>80</td>\n",
       "      <td>1</td>\n",
       "      <td>17</td>\n",
       "      <td>3</td>\n",
       "      <td>Better</td>\n",
       "      <td>5</td>\n",
       "      <td>2</td>\n",
       "      <td>0</td>\n",
       "      <td>3</td>\n",
       "    </tr>\n",
       "    <tr>\n",
       "      <th>1466</th>\n",
       "      <td>39</td>\n",
       "      <td>No</td>\n",
       "      <td>Travel_Rarely</td>\n",
       "      <td>613</td>\n",
       "      <td>Research &amp; Development</td>\n",
       "      <td>6</td>\n",
       "      <td>Below College</td>\n",
       "      <td>Medical</td>\n",
       "      <td>1</td>\n",
       "      <td>2062</td>\n",
       "      <td>Very High</td>\n",
       "      <td>Male</td>\n",
       "      <td>42</td>\n",
       "      <td>Medium</td>\n",
       "      <td>3</td>\n",
       "      <td>Healthcare Representative</td>\n",
       "      <td>Low</td>\n",
       "      <td>Married</td>\n",
       "      <td>9991</td>\n",
       "      <td>21457</td>\n",
       "      <td>4</td>\n",
       "      <td>Y</td>\n",
       "      <td>No</td>\n",
       "      <td>15</td>\n",
       "      <td>Excellent</td>\n",
       "      <td>Low</td>\n",
       "      <td>80</td>\n",
       "      <td>1</td>\n",
       "      <td>9</td>\n",
       "      <td>5</td>\n",
       "      <td>Better</td>\n",
       "      <td>7</td>\n",
       "      <td>7</td>\n",
       "      <td>1</td>\n",
       "      <td>7</td>\n",
       "    </tr>\n",
       "    <tr>\n",
       "      <th>1467</th>\n",
       "      <td>27</td>\n",
       "      <td>No</td>\n",
       "      <td>Travel_Rarely</td>\n",
       "      <td>155</td>\n",
       "      <td>Research &amp; Development</td>\n",
       "      <td>4</td>\n",
       "      <td>Bachelor</td>\n",
       "      <td>Life Sciences</td>\n",
       "      <td>1</td>\n",
       "      <td>2064</td>\n",
       "      <td>Medium</td>\n",
       "      <td>Male</td>\n",
       "      <td>87</td>\n",
       "      <td>Very High</td>\n",
       "      <td>2</td>\n",
       "      <td>Manufacturing Director</td>\n",
       "      <td>Medium</td>\n",
       "      <td>Married</td>\n",
       "      <td>6142</td>\n",
       "      <td>5174</td>\n",
       "      <td>1</td>\n",
       "      <td>Y</td>\n",
       "      <td>Yes</td>\n",
       "      <td>20</td>\n",
       "      <td>Outstanding</td>\n",
       "      <td>Medium</td>\n",
       "      <td>80</td>\n",
       "      <td>1</td>\n",
       "      <td>6</td>\n",
       "      <td>0</td>\n",
       "      <td>Better</td>\n",
       "      <td>6</td>\n",
       "      <td>2</td>\n",
       "      <td>0</td>\n",
       "      <td>3</td>\n",
       "    </tr>\n",
       "    <tr>\n",
       "      <th>1468</th>\n",
       "      <td>49</td>\n",
       "      <td>No</td>\n",
       "      <td>Travel_Frequently</td>\n",
       "      <td>1023</td>\n",
       "      <td>Sales</td>\n",
       "      <td>2</td>\n",
       "      <td>Bachelor</td>\n",
       "      <td>Medical</td>\n",
       "      <td>1</td>\n",
       "      <td>2065</td>\n",
       "      <td>Very High</td>\n",
       "      <td>Male</td>\n",
       "      <td>63</td>\n",
       "      <td>Medium</td>\n",
       "      <td>2</td>\n",
       "      <td>Sales Executive</td>\n",
       "      <td>Medium</td>\n",
       "      <td>Married</td>\n",
       "      <td>5390</td>\n",
       "      <td>13243</td>\n",
       "      <td>2</td>\n",
       "      <td>Y</td>\n",
       "      <td>No</td>\n",
       "      <td>14</td>\n",
       "      <td>Excellent</td>\n",
       "      <td>Very High</td>\n",
       "      <td>80</td>\n",
       "      <td>0</td>\n",
       "      <td>17</td>\n",
       "      <td>3</td>\n",
       "      <td>Good</td>\n",
       "      <td>9</td>\n",
       "      <td>6</td>\n",
       "      <td>0</td>\n",
       "      <td>8</td>\n",
       "    </tr>\n",
       "    <tr>\n",
       "      <th>1469</th>\n",
       "      <td>34</td>\n",
       "      <td>No</td>\n",
       "      <td>Travel_Rarely</td>\n",
       "      <td>628</td>\n",
       "      <td>Research &amp; Development</td>\n",
       "      <td>8</td>\n",
       "      <td>Bachelor</td>\n",
       "      <td>Medical</td>\n",
       "      <td>1</td>\n",
       "      <td>2068</td>\n",
       "      <td>Medium</td>\n",
       "      <td>Male</td>\n",
       "      <td>82</td>\n",
       "      <td>Very High</td>\n",
       "      <td>2</td>\n",
       "      <td>Laboratory Technician</td>\n",
       "      <td>High</td>\n",
       "      <td>Married</td>\n",
       "      <td>4404</td>\n",
       "      <td>10228</td>\n",
       "      <td>2</td>\n",
       "      <td>Y</td>\n",
       "      <td>No</td>\n",
       "      <td>12</td>\n",
       "      <td>Excellent</td>\n",
       "      <td>Low</td>\n",
       "      <td>80</td>\n",
       "      <td>0</td>\n",
       "      <td>6</td>\n",
       "      <td>3</td>\n",
       "      <td>Best</td>\n",
       "      <td>4</td>\n",
       "      <td>3</td>\n",
       "      <td>1</td>\n",
       "      <td>2</td>\n",
       "    </tr>\n",
       "  </tbody>\n",
       "</table>\n",
       "<p>1470 rows × 35 columns</p>\n",
       "</div>"
      ],
      "text/plain": [
       "      Age Attrition     BusinessTravel  DailyRate              Department  \\\n",
       "0      41       Yes      Travel_Rarely       1102                   Sales   \n",
       "1      49        No  Travel_Frequently        279  Research & Development   \n",
       "2      37       Yes      Travel_Rarely       1373  Research & Development   \n",
       "3      33        No  Travel_Frequently       1392  Research & Development   \n",
       "4      27        No      Travel_Rarely        591  Research & Development   \n",
       "...   ...       ...                ...        ...                     ...   \n",
       "1465   36        No  Travel_Frequently        884  Research & Development   \n",
       "1466   39        No      Travel_Rarely        613  Research & Development   \n",
       "1467   27        No      Travel_Rarely        155  Research & Development   \n",
       "1468   49        No  Travel_Frequently       1023                   Sales   \n",
       "1469   34        No      Travel_Rarely        628  Research & Development   \n",
       "\n",
       "      DistanceFromHome      Education EducationField  EmployeeCount  \\\n",
       "0                    1        College  Life Sciences              1   \n",
       "1                    8  Below College  Life Sciences              1   \n",
       "2                    2        College          Other              1   \n",
       "3                    3         Master  Life Sciences              1   \n",
       "4                    2  Below College        Medical              1   \n",
       "...                ...            ...            ...            ...   \n",
       "1465                23        College        Medical              1   \n",
       "1466                 6  Below College        Medical              1   \n",
       "1467                 4       Bachelor  Life Sciences              1   \n",
       "1468                 2       Bachelor        Medical              1   \n",
       "1469                 8       Bachelor        Medical              1   \n",
       "\n",
       "      EmployeeNumber EnvironmentSatisfaction  Gender  HourlyRate  \\\n",
       "0                  1                  Medium  Female          94   \n",
       "1                  2                    High    Male          61   \n",
       "2                  4               Very High    Male          92   \n",
       "3                  5               Very High  Female          56   \n",
       "4                  7                     Low    Male          40   \n",
       "...              ...                     ...     ...         ...   \n",
       "1465            2061                    High    Male          41   \n",
       "1466            2062               Very High    Male          42   \n",
       "1467            2064                  Medium    Male          87   \n",
       "1468            2065               Very High    Male          63   \n",
       "1469            2068                  Medium    Male          82   \n",
       "\n",
       "     JobInvolvement JobLevel                    JobRole JobSatisfaction  \\\n",
       "0              High        2            Sales Executive       Very High   \n",
       "1            Medium        2         Research Scientist          Medium   \n",
       "2            Medium        1      Laboratory Technician            High   \n",
       "3              High        1         Research Scientist            High   \n",
       "4              High        1      Laboratory Technician          Medium   \n",
       "...             ...      ...                        ...             ...   \n",
       "1465      Very High        2      Laboratory Technician       Very High   \n",
       "1466         Medium        3  Healthcare Representative             Low   \n",
       "1467      Very High        2     Manufacturing Director          Medium   \n",
       "1468         Medium        2            Sales Executive          Medium   \n",
       "1469      Very High        2      Laboratory Technician            High   \n",
       "\n",
       "     MaritalStatus  MonthlyIncome  MonthlyRate NumCompaniesWorked Over18  \\\n",
       "0           Single           5993        19479                  8      Y   \n",
       "1          Married           5130        24907                  1      Y   \n",
       "2           Single           2090         2396                  6      Y   \n",
       "3          Married           2909        23159                  1      Y   \n",
       "4          Married           3468        16632                  9      Y   \n",
       "...            ...            ...          ...                ...    ...   \n",
       "1465       Married           2571        12290                  4      Y   \n",
       "1466       Married           9991        21457                  4      Y   \n",
       "1467       Married           6142         5174                  1      Y   \n",
       "1468       Married           5390        13243                  2      Y   \n",
       "1469       Married           4404        10228                  2      Y   \n",
       "\n",
       "     OverTime  PercentSalaryHike PerformanceRating RelationshipSatisfaction  \\\n",
       "0         Yes                 11         Excellent                      Low   \n",
       "1          No                 23       Outstanding                Very High   \n",
       "2         Yes                 15         Excellent                   Medium   \n",
       "3         Yes                 11         Excellent                     High   \n",
       "4          No                 12         Excellent                Very High   \n",
       "...       ...                ...               ...                      ...   \n",
       "1465       No                 17         Excellent                     High   \n",
       "1466       No                 15         Excellent                      Low   \n",
       "1467      Yes                 20       Outstanding                   Medium   \n",
       "1468       No                 14         Excellent                Very High   \n",
       "1469       No                 12         Excellent                      Low   \n",
       "\n",
       "      StandardHours StockOptionLevel  TotalWorkingYears  \\\n",
       "0                80                0                  8   \n",
       "1                80                1                 10   \n",
       "2                80                0                  7   \n",
       "3                80                0                  8   \n",
       "4                80                1                  6   \n",
       "...             ...              ...                ...   \n",
       "1465             80                1                 17   \n",
       "1466             80                1                  9   \n",
       "1467             80                1                  6   \n",
       "1468             80                0                 17   \n",
       "1469             80                0                  6   \n",
       "\n",
       "      TrainingTimesLastYear WorkLifeBalance  YearsAtCompany  \\\n",
       "0                         0             Bad               6   \n",
       "1                         3          Better              10   \n",
       "2                         3          Better               0   \n",
       "3                         3          Better               8   \n",
       "4                         3          Better               2   \n",
       "...                     ...             ...             ...   \n",
       "1465                      3          Better               5   \n",
       "1466                      5          Better               7   \n",
       "1467                      0          Better               6   \n",
       "1468                      3            Good               9   \n",
       "1469                      3            Best               4   \n",
       "\n",
       "      YearsInCurrentRole  YearsSinceLastPromotion  YearsWithCurrManager  \n",
       "0                      4                        0                     5  \n",
       "1                      7                        1                     7  \n",
       "2                      0                        0                     0  \n",
       "3                      7                        3                     0  \n",
       "4                      2                        2                     2  \n",
       "...                  ...                      ...                   ...  \n",
       "1465                   2                        0                     3  \n",
       "1466                   7                        1                     7  \n",
       "1467                   2                        0                     3  \n",
       "1468                   6                        0                     8  \n",
       "1469                   3                        1                     2  \n",
       "\n",
       "[1470 rows x 35 columns]"
      ]
     },
     "execution_count": 27,
     "metadata": {},
     "output_type": "execute_result"
    }
   ],
   "source": [
    "# JobLevel, StockOptionLevel, TrainingTimesLastYear, NumCompaniesWorked, TotalWorkingYears\n",
    "data = data.astype({'JobLevel': object, 'StockOptionLevel': object, 'NumCompaniesWorked': object})\n",
    "data"
   ]
  },
  {
   "cell_type": "code",
   "execution_count": 28,
   "metadata": {
    "execution": {
     "iopub.execute_input": "2020-12-08T00:45:38.822402Z",
     "iopub.status.busy": "2020-12-08T00:45:38.822172Z",
     "iopub.status.idle": "2020-12-08T00:45:38.834284Z",
     "shell.execute_reply": "2020-12-08T00:45:38.833569Z",
     "shell.execute_reply.started": "2020-12-08T00:45:38.822376Z"
    }
   },
   "outputs": [
    {
     "name": "stdout",
     "output_type": "stream",
     "text": [
      "<class 'pandas.core.frame.DataFrame'>\n",
      "RangeIndex: 1470 entries, 0 to 1469\n",
      "Data columns (total 35 columns):\n",
      " #   Column                    Non-Null Count  Dtype \n",
      "---  ------                    --------------  ----- \n",
      " 0   Age                       1470 non-null   int64 \n",
      " 1   Attrition                 1470 non-null   object\n",
      " 2   BusinessTravel            1470 non-null   object\n",
      " 3   DailyRate                 1470 non-null   int64 \n",
      " 4   Department                1470 non-null   object\n",
      " 5   DistanceFromHome          1470 non-null   int64 \n",
      " 6   Education                 1470 non-null   object\n",
      " 7   EducationField            1470 non-null   object\n",
      " 8   EmployeeCount             1470 non-null   int64 \n",
      " 9   EmployeeNumber            1470 non-null   int64 \n",
      " 10  EnvironmentSatisfaction   1470 non-null   object\n",
      " 11  Gender                    1470 non-null   object\n",
      " 12  HourlyRate                1470 non-null   int64 \n",
      " 13  JobInvolvement            1470 non-null   object\n",
      " 14  JobLevel                  1470 non-null   object\n",
      " 15  JobRole                   1470 non-null   object\n",
      " 16  JobSatisfaction           1470 non-null   object\n",
      " 17  MaritalStatus             1470 non-null   object\n",
      " 18  MonthlyIncome             1470 non-null   int64 \n",
      " 19  MonthlyRate               1470 non-null   int64 \n",
      " 20  NumCompaniesWorked        1470 non-null   object\n",
      " 21  Over18                    1470 non-null   object\n",
      " 22  OverTime                  1470 non-null   object\n",
      " 23  PercentSalaryHike         1470 non-null   int64 \n",
      " 24  PerformanceRating         1470 non-null   object\n",
      " 25  RelationshipSatisfaction  1470 non-null   object\n",
      " 26  StandardHours             1470 non-null   int64 \n",
      " 27  StockOptionLevel          1470 non-null   object\n",
      " 28  TotalWorkingYears         1470 non-null   int64 \n",
      " 29  TrainingTimesLastYear     1470 non-null   int64 \n",
      " 30  WorkLifeBalance           1470 non-null   object\n",
      " 31  YearsAtCompany            1470 non-null   int64 \n",
      " 32  YearsInCurrentRole        1470 non-null   int64 \n",
      " 33  YearsSinceLastPromotion   1470 non-null   int64 \n",
      " 34  YearsWithCurrManager      1470 non-null   int64 \n",
      "dtypes: int64(16), object(19)\n",
      "memory usage: 402.1+ KB\n"
     ]
    }
   ],
   "source": [
    "data.info()"
   ]
  },
  {
   "cell_type": "markdown",
   "metadata": {},
   "source": [
    "- EDA 과정을 하기 위해 Category Columns는 object 형식으로 변환함\n",
    "- \\<int형 16개, Category형 19개>\n",
    "\n",
    "<br>"
   ]
  },
  {
   "cell_type": "markdown",
   "metadata": {},
   "source": [
    "### 1.3 결측치 확인"
   ]
  },
  {
   "cell_type": "code",
   "execution_count": 14,
   "metadata": {
    "execution": {
     "iopub.execute_input": "2020-12-08T00:34:18.432814Z",
     "iopub.status.busy": "2020-12-08T00:34:18.432574Z",
     "iopub.status.idle": "2020-12-08T00:34:18.942257Z",
     "shell.execute_reply": "2020-12-08T00:34:18.941682Z",
     "shell.execute_reply.started": "2020-12-08T00:34:18.432789Z"
    }
   },
   "outputs": [
    {
     "data": {
      "image/png": "[encoded data removed]",
      "text/plain": [
       "<Figure size 1800x720 with 2 Axes>"
      ]
     },
     "metadata": {
      "needs_background": "light"
     },
     "output_type": "display_data"
    }
   ],
   "source": [
    "missingno.matrix(data)\n",
    "plt.show()"
   ]
  },
  {
   "cell_type": "markdown",
   "metadata": {},
   "source": [
    "- Missingno 패키지를 통해 Null 데이터가 있는지 시각화 해보았습니다.\n",
    "- 총 1470 데이터 중에 Null 데이터는 없는것으로 확인됩니다.\n",
    "- 만일 있다면 중간값, 삭제, 평균 값 등으로 채워주거나 혹은 해당 데이터 행 자체를 삭제 해야합니다.\n",
    "- 만일 Null data를 임의적으로 0혹은 999와 같이 일괄적인 값으로 채워넣었다면 여기서 확인은 어렵습니다.\n",
    "\n",
    "<br>"
   ]
  },
  {
   "cell_type": "markdown",
   "metadata": {},
   "source": [
    "## 3. Feature Engineering\n",
    "---"
   ]
  },
  {
   "cell_type": "code",
   "execution_count": 39,
   "metadata": {
    "execution": {
     "iopub.execute_input": "2020-12-08T00:51:01.776857Z",
     "iopub.status.busy": "2020-12-08T00:51:01.776623Z",
     "iopub.status.idle": "2020-12-08T00:51:01.779798Z",
     "shell.execute_reply": "2020-12-08T00:51:01.779032Z",
     "shell.execute_reply.started": "2020-12-08T00:51:01.776830Z"
    }
   },
   "outputs": [],
   "source": [
    "# EmployeeCount, StandardHours, Over18, EmployeeNumber\n",
    "# EDA 과정에서 Drop된 data로 만들어주기 위해\n",
    "print('Over18 :', data['Over18'].unique()[0])\n",
    "print('EmployeeCount :', data['EmployeeCount'].unique()[0])\n",
    "print('StandardHours :', data['StandardHours'].unique()[0])\n",
    "print('EmployeeNumber :', data['EmployeeNumber'].unique()[0])\n",
    "data.drop(['EmployeeCount', 'StandardHours', 'Over18', 'EmployeeNumber'], axis = 1, inplace = True)\n",
    "print(data.shape)\n",
    "data.tail()"
   ]
  },
  {
   "cell_type": "markdown",
   "metadata": {},
   "source": [
    "### 3.1 Label Encoding"
   ]
  },
  {
   "cell_type": "code",
   "execution_count": 49,
   "metadata": {
    "execution": {
     "iopub.execute_input": "2020-12-08T00:54:45.287312Z",
     "iopub.status.busy": "2020-12-08T00:54:45.287078Z",
     "iopub.status.idle": "2020-12-08T00:54:45.308671Z",
     "shell.execute_reply": "2020-12-08T00:54:45.308113Z",
     "shell.execute_reply.started": "2020-12-08T00:54:45.287283Z"
    }
   },
   "outputs": [
    {
     "data": {
      "text/html": [
       "<div>\n",
       "<style scoped>\n",
       "    .dataframe tbody tr th:only-of-type {\n",
       "        vertical-align: middle;\n",
       "    }\n",
       "\n",
       "    .dataframe tbody tr th {\n",
       "        vertical-align: top;\n",
       "    }\n",
       "\n",
       "    .dataframe thead th {\n",
       "        text-align: right;\n",
       "    }\n",
       "</style>\n",
       "<table border=\"1\" class=\"dataframe\">\n",
       "  <thead>\n",
       "    <tr style=\"text-align: right;\">\n",
       "      <th></th>\n",
       "      <th>Age</th>\n",
       "      <th>Attrition</th>\n",
       "      <th>BusinessTravel</th>\n",
       "      <th>DailyRate</th>\n",
       "      <th>Department</th>\n",
       "      <th>DistanceFromHome</th>\n",
       "      <th>Education</th>\n",
       "      <th>EducationField</th>\n",
       "      <th>EnvironmentSatisfaction</th>\n",
       "      <th>Gender</th>\n",
       "      <th>HourlyRate</th>\n",
       "      <th>JobInvolvement</th>\n",
       "      <th>JobLevel</th>\n",
       "      <th>JobRole</th>\n",
       "      <th>JobSatisfaction</th>\n",
       "      <th>MaritalStatus</th>\n",
       "      <th>MonthlyIncome</th>\n",
       "      <th>MonthlyRate</th>\n",
       "      <th>NumCompaniesWorked</th>\n",
       "      <th>OverTime</th>\n",
       "      <th>PercentSalaryHike</th>\n",
       "      <th>PerformanceRating</th>\n",
       "      <th>RelationshipSatisfaction</th>\n",
       "      <th>StockOptionLevel</th>\n",
       "      <th>TotalWorkingYears</th>\n",
       "      <th>TrainingTimesLastYear</th>\n",
       "      <th>WorkLifeBalance</th>\n",
       "      <th>YearsAtCompany</th>\n",
       "      <th>YearsInCurrentRole</th>\n",
       "      <th>YearsSinceLastPromotion</th>\n",
       "      <th>YearsWithCurrManager</th>\n",
       "    </tr>\n",
       "  </thead>\n",
       "  <tbody>\n",
       "    <tr>\n",
       "      <th>0</th>\n",
       "      <td>41</td>\n",
       "      <td>1</td>\n",
       "      <td>2</td>\n",
       "      <td>1102</td>\n",
       "      <td>2</td>\n",
       "      <td>1</td>\n",
       "      <td>2</td>\n",
       "      <td>1</td>\n",
       "      <td>2</td>\n",
       "      <td>0</td>\n",
       "      <td>94</td>\n",
       "      <td>0</td>\n",
       "      <td>1</td>\n",
       "      <td>7</td>\n",
       "      <td>3</td>\n",
       "      <td>2</td>\n",
       "      <td>5993</td>\n",
       "      <td>19479</td>\n",
       "      <td>8</td>\n",
       "      <td>1</td>\n",
       "      <td>11</td>\n",
       "      <td>0</td>\n",
       "      <td>1</td>\n",
       "      <td>0</td>\n",
       "      <td>8</td>\n",
       "      <td>0</td>\n",
       "      <td>0</td>\n",
       "      <td>6</td>\n",
       "      <td>4</td>\n",
       "      <td>0</td>\n",
       "      <td>5</td>\n",
       "    </tr>\n",
       "    <tr>\n",
       "      <th>1</th>\n",
       "      <td>49</td>\n",
       "      <td>0</td>\n",
       "      <td>1</td>\n",
       "      <td>279</td>\n",
       "      <td>1</td>\n",
       "      <td>8</td>\n",
       "      <td>1</td>\n",
       "      <td>1</td>\n",
       "      <td>0</td>\n",
       "      <td>1</td>\n",
       "      <td>61</td>\n",
       "      <td>2</td>\n",
       "      <td>1</td>\n",
       "      <td>6</td>\n",
       "      <td>2</td>\n",
       "      <td>1</td>\n",
       "      <td>5130</td>\n",
       "      <td>24907</td>\n",
       "      <td>1</td>\n",
       "      <td>0</td>\n",
       "      <td>23</td>\n",
       "      <td>1</td>\n",
       "      <td>3</td>\n",
       "      <td>1</td>\n",
       "      <td>10</td>\n",
       "      <td>3</td>\n",
       "      <td>2</td>\n",
       "      <td>10</td>\n",
       "      <td>7</td>\n",
       "      <td>1</td>\n",
       "      <td>7</td>\n",
       "    </tr>\n",
       "    <tr>\n",
       "      <th>2</th>\n",
       "      <td>37</td>\n",
       "      <td>1</td>\n",
       "      <td>2</td>\n",
       "      <td>1373</td>\n",
       "      <td>1</td>\n",
       "      <td>2</td>\n",
       "      <td>2</td>\n",
       "      <td>4</td>\n",
       "      <td>3</td>\n",
       "      <td>1</td>\n",
       "      <td>92</td>\n",
       "      <td>2</td>\n",
       "      <td>0</td>\n",
       "      <td>2</td>\n",
       "      <td>0</td>\n",
       "      <td>2</td>\n",
       "      <td>2090</td>\n",
       "      <td>2396</td>\n",
       "      <td>6</td>\n",
       "      <td>1</td>\n",
       "      <td>15</td>\n",
       "      <td>0</td>\n",
       "      <td>2</td>\n",
       "      <td>0</td>\n",
       "      <td>7</td>\n",
       "      <td>3</td>\n",
       "      <td>2</td>\n",
       "      <td>0</td>\n",
       "      <td>0</td>\n",
       "      <td>0</td>\n",
       "      <td>0</td>\n",
       "    </tr>\n",
       "    <tr>\n",
       "      <th>3</th>\n",
       "      <td>33</td>\n",
       "      <td>0</td>\n",
       "      <td>1</td>\n",
       "      <td>1392</td>\n",
       "      <td>1</td>\n",
       "      <td>3</td>\n",
       "      <td>4</td>\n",
       "      <td>1</td>\n",
       "      <td>3</td>\n",
       "      <td>0</td>\n",
       "      <td>56</td>\n",
       "      <td>0</td>\n",
       "      <td>0</td>\n",
       "      <td>6</td>\n",
       "      <td>0</td>\n",
       "      <td>1</td>\n",
       "      <td>2909</td>\n",
       "      <td>23159</td>\n",
       "      <td>1</td>\n",
       "      <td>1</td>\n",
       "      <td>11</td>\n",
       "      <td>0</td>\n",
       "      <td>0</td>\n",
       "      <td>0</td>\n",
       "      <td>8</td>\n",
       "      <td>3</td>\n",
       "      <td>2</td>\n",
       "      <td>8</td>\n",
       "      <td>7</td>\n",
       "      <td>3</td>\n",
       "      <td>0</td>\n",
       "    </tr>\n",
       "    <tr>\n",
       "      <th>4</th>\n",
       "      <td>27</td>\n",
       "      <td>0</td>\n",
       "      <td>2</td>\n",
       "      <td>591</td>\n",
       "      <td>1</td>\n",
       "      <td>2</td>\n",
       "      <td>1</td>\n",
       "      <td>3</td>\n",
       "      <td>1</td>\n",
       "      <td>1</td>\n",
       "      <td>40</td>\n",
       "      <td>0</td>\n",
       "      <td>0</td>\n",
       "      <td>2</td>\n",
       "      <td>2</td>\n",
       "      <td>1</td>\n",
       "      <td>3468</td>\n",
       "      <td>16632</td>\n",
       "      <td>9</td>\n",
       "      <td>0</td>\n",
       "      <td>12</td>\n",
       "      <td>0</td>\n",
       "      <td>3</td>\n",
       "      <td>1</td>\n",
       "      <td>6</td>\n",
       "      <td>3</td>\n",
       "      <td>2</td>\n",
       "      <td>2</td>\n",
       "      <td>2</td>\n",
       "      <td>2</td>\n",
       "      <td>2</td>\n",
       "    </tr>\n",
       "    <tr>\n",
       "      <th>...</th>\n",
       "      <td>...</td>\n",
       "      <td>...</td>\n",
       "      <td>...</td>\n",
       "      <td>...</td>\n",
       "      <td>...</td>\n",
       "      <td>...</td>\n",
       "      <td>...</td>\n",
       "      <td>...</td>\n",
       "      <td>...</td>\n",
       "      <td>...</td>\n",
       "      <td>...</td>\n",
       "      <td>...</td>\n",
       "      <td>...</td>\n",
       "      <td>...</td>\n",
       "      <td>...</td>\n",
       "      <td>...</td>\n",
       "      <td>...</td>\n",
       "      <td>...</td>\n",
       "      <td>...</td>\n",
       "      <td>...</td>\n",
       "      <td>...</td>\n",
       "      <td>...</td>\n",
       "      <td>...</td>\n",
       "      <td>...</td>\n",
       "      <td>...</td>\n",
       "      <td>...</td>\n",
       "      <td>...</td>\n",
       "      <td>...</td>\n",
       "      <td>...</td>\n",
       "      <td>...</td>\n",
       "      <td>...</td>\n",
       "    </tr>\n",
       "    <tr>\n",
       "      <th>1465</th>\n",
       "      <td>36</td>\n",
       "      <td>0</td>\n",
       "      <td>1</td>\n",
       "      <td>884</td>\n",
       "      <td>1</td>\n",
       "      <td>23</td>\n",
       "      <td>2</td>\n",
       "      <td>3</td>\n",
       "      <td>0</td>\n",
       "      <td>1</td>\n",
       "      <td>41</td>\n",
       "      <td>3</td>\n",
       "      <td>1</td>\n",
       "      <td>2</td>\n",
       "      <td>3</td>\n",
       "      <td>1</td>\n",
       "      <td>2571</td>\n",
       "      <td>12290</td>\n",
       "      <td>4</td>\n",
       "      <td>0</td>\n",
       "      <td>17</td>\n",
       "      <td>0</td>\n",
       "      <td>0</td>\n",
       "      <td>1</td>\n",
       "      <td>17</td>\n",
       "      <td>3</td>\n",
       "      <td>2</td>\n",
       "      <td>5</td>\n",
       "      <td>2</td>\n",
       "      <td>0</td>\n",
       "      <td>3</td>\n",
       "    </tr>\n",
       "    <tr>\n",
       "      <th>1466</th>\n",
       "      <td>39</td>\n",
       "      <td>0</td>\n",
       "      <td>2</td>\n",
       "      <td>613</td>\n",
       "      <td>1</td>\n",
       "      <td>6</td>\n",
       "      <td>1</td>\n",
       "      <td>3</td>\n",
       "      <td>3</td>\n",
       "      <td>1</td>\n",
       "      <td>42</td>\n",
       "      <td>2</td>\n",
       "      <td>2</td>\n",
       "      <td>0</td>\n",
       "      <td>1</td>\n",
       "      <td>1</td>\n",
       "      <td>9991</td>\n",
       "      <td>21457</td>\n",
       "      <td>4</td>\n",
       "      <td>0</td>\n",
       "      <td>15</td>\n",
       "      <td>0</td>\n",
       "      <td>1</td>\n",
       "      <td>1</td>\n",
       "      <td>9</td>\n",
       "      <td>5</td>\n",
       "      <td>2</td>\n",
       "      <td>7</td>\n",
       "      <td>7</td>\n",
       "      <td>1</td>\n",
       "      <td>7</td>\n",
       "    </tr>\n",
       "    <tr>\n",
       "      <th>1467</th>\n",
       "      <td>27</td>\n",
       "      <td>0</td>\n",
       "      <td>2</td>\n",
       "      <td>155</td>\n",
       "      <td>1</td>\n",
       "      <td>4</td>\n",
       "      <td>0</td>\n",
       "      <td>1</td>\n",
       "      <td>2</td>\n",
       "      <td>1</td>\n",
       "      <td>87</td>\n",
       "      <td>3</td>\n",
       "      <td>1</td>\n",
       "      <td>4</td>\n",
       "      <td>2</td>\n",
       "      <td>1</td>\n",
       "      <td>6142</td>\n",
       "      <td>5174</td>\n",
       "      <td>1</td>\n",
       "      <td>1</td>\n",
       "      <td>20</td>\n",
       "      <td>1</td>\n",
       "      <td>2</td>\n",
       "      <td>1</td>\n",
       "      <td>6</td>\n",
       "      <td>0</td>\n",
       "      <td>2</td>\n",
       "      <td>6</td>\n",
       "      <td>2</td>\n",
       "      <td>0</td>\n",
       "      <td>3</td>\n",
       "    </tr>\n",
       "    <tr>\n",
       "      <th>1468</th>\n",
       "      <td>49</td>\n",
       "      <td>0</td>\n",
       "      <td>1</td>\n",
       "      <td>1023</td>\n",
       "      <td>2</td>\n",
       "      <td>2</td>\n",
       "      <td>0</td>\n",
       "      <td>3</td>\n",
       "      <td>3</td>\n",
       "      <td>1</td>\n",
       "      <td>63</td>\n",
       "      <td>2</td>\n",
       "      <td>1</td>\n",
       "      <td>7</td>\n",
       "      <td>2</td>\n",
       "      <td>1</td>\n",
       "      <td>5390</td>\n",
       "      <td>13243</td>\n",
       "      <td>2</td>\n",
       "      <td>0</td>\n",
       "      <td>14</td>\n",
       "      <td>0</td>\n",
       "      <td>3</td>\n",
       "      <td>0</td>\n",
       "      <td>17</td>\n",
       "      <td>3</td>\n",
       "      <td>3</td>\n",
       "      <td>9</td>\n",
       "      <td>6</td>\n",
       "      <td>0</td>\n",
       "      <td>8</td>\n",
       "    </tr>\n",
       "    <tr>\n",
       "      <th>1469</th>\n",
       "      <td>34</td>\n",
       "      <td>0</td>\n",
       "      <td>2</td>\n",
       "      <td>628</td>\n",
       "      <td>1</td>\n",
       "      <td>8</td>\n",
       "      <td>0</td>\n",
       "      <td>3</td>\n",
       "      <td>2</td>\n",
       "      <td>1</td>\n",
       "      <td>82</td>\n",
       "      <td>3</td>\n",
       "      <td>1</td>\n",
       "      <td>2</td>\n",
       "      <td>0</td>\n",
       "      <td>1</td>\n",
       "      <td>4404</td>\n",
       "      <td>10228</td>\n",
       "      <td>2</td>\n",
       "      <td>0</td>\n",
       "      <td>12</td>\n",
       "      <td>0</td>\n",
       "      <td>1</td>\n",
       "      <td>0</td>\n",
       "      <td>6</td>\n",
       "      <td>3</td>\n",
       "      <td>1</td>\n",
       "      <td>4</td>\n",
       "      <td>3</td>\n",
       "      <td>1</td>\n",
       "      <td>2</td>\n",
       "    </tr>\n",
       "  </tbody>\n",
       "</table>\n",
       "<p>1470 rows × 31 columns</p>\n",
       "</div>"
      ],
      "text/plain": [
       "      Age  Attrition  BusinessTravel  DailyRate  Department  DistanceFromHome  \\\n",
       "0      41          1               2       1102           2                 1   \n",
       "1      49          0               1        279           1                 8   \n",
       "2      37          1               2       1373           1                 2   \n",
       "3      33          0               1       1392           1                 3   \n",
       "4      27          0               2        591           1                 2   \n",
       "...   ...        ...             ...        ...         ...               ...   \n",
       "1465   36          0               1        884           1                23   \n",
       "1466   39          0               2        613           1                 6   \n",
       "1467   27          0               2        155           1                 4   \n",
       "1468   49          0               1       1023           2                 2   \n",
       "1469   34          0               2        628           1                 8   \n",
       "\n",
       "      Education  EducationField  EnvironmentSatisfaction  Gender  HourlyRate  \\\n",
       "0             2               1                        2       0          94   \n",
       "1             1               1                        0       1          61   \n",
       "2             2               4                        3       1          92   \n",
       "3             4               1                        3       0          56   \n",
       "4             1               3                        1       1          40   \n",
       "...         ...             ...                      ...     ...         ...   \n",
       "1465          2               3                        0       1          41   \n",
       "1466          1               3                        3       1          42   \n",
       "1467          0               1                        2       1          87   \n",
       "1468          0               3                        3       1          63   \n",
       "1469          0               3                        2       1          82   \n",
       "\n",
       "      JobInvolvement  JobLevel  JobRole  JobSatisfaction  MaritalStatus  \\\n",
       "0                  0         1        7                3              2   \n",
       "1                  2         1        6                2              1   \n",
       "2                  2         0        2                0              2   \n",
       "3                  0         0        6                0              1   \n",
       "4                  0         0        2                2              1   \n",
       "...              ...       ...      ...              ...            ...   \n",
       "1465               3         1        2                3              1   \n",
       "1466               2         2        0                1              1   \n",
       "1467               3         1        4                2              1   \n",
       "1468               2         1        7                2              1   \n",
       "1469               3         1        2                0              1   \n",
       "\n",
       "      MonthlyIncome  MonthlyRate  NumCompaniesWorked  OverTime  \\\n",
       "0              5993        19479                   8         1   \n",
       "1              5130        24907                   1         0   \n",
       "2              2090         2396                   6         1   \n",
       "3              2909        23159                   1         1   \n",
       "4              3468        16632                   9         0   \n",
       "...             ...          ...                 ...       ...   \n",
       "1465           2571        12290                   4         0   \n",
       "1466           9991        21457                   4         0   \n",
       "1467           6142         5174                   1         1   \n",
       "1468           5390        13243                   2         0   \n",
       "1469           4404        10228                   2         0   \n",
       "\n",
       "      PercentSalaryHike  PerformanceRating  RelationshipSatisfaction  \\\n",
       "0                    11                  0                         1   \n",
       "1                    23                  1                         3   \n",
       "2                    15                  0                         2   \n",
       "3                    11                  0                         0   \n",
       "4                    12                  0                         3   \n",
       "...                 ...                ...                       ...   \n",
       "1465                 17                  0                         0   \n",
       "1466                 15                  0                         1   \n",
       "1467                 20                  1                         2   \n",
       "1468                 14                  0                         3   \n",
       "1469                 12                  0                         1   \n",
       "\n",
       "      StockOptionLevel  TotalWorkingYears  TrainingTimesLastYear  \\\n",
       "0                    0                  8                      0   \n",
       "1                    1                 10                      3   \n",
       "2                    0                  7                      3   \n",
       "3                    0                  8                      3   \n",
       "4                    1                  6                      3   \n",
       "...                ...                ...                    ...   \n",
       "1465                 1                 17                      3   \n",
       "1466                 1                  9                      5   \n",
       "1467                 1                  6                      0   \n",
       "1468                 0                 17                      3   \n",
       "1469                 0                  6                      3   \n",
       "\n",
       "      WorkLifeBalance  YearsAtCompany  YearsInCurrentRole  \\\n",
       "0                   0               6                   4   \n",
       "1                   2              10                   7   \n",
       "2                   2               0                   0   \n",
       "3                   2               8                   7   \n",
       "4                   2               2                   2   \n",
       "...               ...             ...                 ...   \n",
       "1465                2               5                   2   \n",
       "1466                2               7                   7   \n",
       "1467                2               6                   2   \n",
       "1468                3               9                   6   \n",
       "1469                1               4                   3   \n",
       "\n",
       "      YearsSinceLastPromotion  YearsWithCurrManager  \n",
       "0                           0                     5  \n",
       "1                           1                     7  \n",
       "2                           0                     0  \n",
       "3                           3                     0  \n",
       "4                           2                     2  \n",
       "...                       ...                   ...  \n",
       "1465                        0                     3  \n",
       "1466                        1                     7  \n",
       "1467                        0                     3  \n",
       "1468                        0                     8  \n",
       "1469                        1                     2  \n",
       "\n",
       "[1470 rows x 31 columns]"
      ]
     },
     "execution_count": 49,
     "metadata": {},
     "output_type": "execute_result"
    }
   ],
   "source": [
    "ls = [column for column in data.columns if data[column].dtype != int]\n",
    "data[ls] = data[ls].apply(LabelEncoder().fit_transform)\n",
    "data"
   ]
  },
  {
   "cell_type": "code",
   "execution_count": 50,
   "metadata": {
    "execution": {
     "iopub.execute_input": "2020-12-08T00:54:56.591927Z",
     "iopub.status.busy": "2020-12-08T00:54:56.591698Z",
     "iopub.status.idle": "2020-12-08T00:54:56.603048Z",
     "shell.execute_reply": "2020-12-08T00:54:56.602231Z",
     "shell.execute_reply.started": "2020-12-08T00:54:56.591901Z"
    }
   },
   "outputs": [
    {
     "name": "stdout",
     "output_type": "stream",
     "text": [
      "<class 'pandas.core.frame.DataFrame'>\n",
      "RangeIndex: 1470 entries, 0 to 1469\n",
      "Data columns (total 31 columns):\n",
      " #   Column                    Non-Null Count  Dtype\n",
      "---  ------                    --------------  -----\n",
      " 0   Age                       1470 non-null   int64\n",
      " 1   Attrition                 1470 non-null   int64\n",
      " 2   BusinessTravel            1470 non-null   int64\n",
      " 3   DailyRate                 1470 non-null   int64\n",
      " 4   Department                1470 non-null   int64\n",
      " 5   DistanceFromHome          1470 non-null   int64\n",
      " 6   Education                 1470 non-null   int64\n",
      " 7   EducationField            1470 non-null   int64\n",
      " 8   EnvironmentSatisfaction   1470 non-null   int64\n",
      " 9   Gender                    1470 non-null   int64\n",
      " 10  HourlyRate                1470 non-null   int64\n",
      " 11  JobInvolvement            1470 non-null   int64\n",
      " 12  JobLevel                  1470 non-null   int64\n",
      " 13  JobRole                   1470 non-null   int64\n",
      " 14  JobSatisfaction           1470 non-null   int64\n",
      " 15  MaritalStatus             1470 non-null   int64\n",
      " 16  MonthlyIncome             1470 non-null   int64\n",
      " 17  MonthlyRate               1470 non-null   int64\n",
      " 18  NumCompaniesWorked        1470 non-null   int64\n",
      " 19  OverTime                  1470 non-null   int64\n",
      " 20  PercentSalaryHike         1470 non-null   int64\n",
      " 21  PerformanceRating         1470 non-null   int64\n",
      " 22  RelationshipSatisfaction  1470 non-null   int64\n",
      " 23  StockOptionLevel          1470 non-null   int64\n",
      " 24  TotalWorkingYears         1470 non-null   int64\n",
      " 25  TrainingTimesLastYear     1470 non-null   int64\n",
      " 26  WorkLifeBalance           1470 non-null   int64\n",
      " 27  YearsAtCompany            1470 non-null   int64\n",
      " 28  YearsInCurrentRole        1470 non-null   int64\n",
      " 29  YearsSinceLastPromotion   1470 non-null   int64\n",
      " 30  YearsWithCurrManager      1470 non-null   int64\n",
      "dtypes: int64(31)\n",
      "memory usage: 356.1 KB\n"
     ]
    }
   ],
   "source": [
    "data.info()"
   ]
  },
  {
   "cell_type": "markdown",
   "metadata": {},
   "source": [
    "- 모든 데이터에 대해 Label Encoding을 실시하였습니다."
   ]
  },
  {
   "cell_type": "markdown",
   "metadata": {},
   "source": [
    "## 4. 예측을 위한 데이터 처리\n",
    "---"
   ]
  },
  {
   "cell_type": "markdown",
   "metadata": {},
   "source": [
    "### 4.1 X, y 분리"
   ]
  },
  {
   "cell_type": "code",
   "execution_count": 51,
   "metadata": {
    "execution": {
     "iopub.execute_input": "2020-12-08T00:56:53.559494Z",
     "iopub.status.busy": "2020-12-08T00:56:53.559261Z",
     "iopub.status.idle": "2020-12-08T00:56:53.563372Z",
     "shell.execute_reply": "2020-12-08T00:56:53.562596Z",
     "shell.execute_reply.started": "2020-12-08T00:56:53.559468Z"
    }
   },
   "outputs": [],
   "source": [
    "X = data.drop(labels= 'Attrition', axis = 1)\n",
    "y = data.Attrition"
   ]
  },
  {
   "cell_type": "markdown",
   "metadata": {},
   "source": [
    "- data를 타겟값y와 독립변수들의 모임인 x로 나누어줌\n",
    "<br>"
   ]
  },
  {
   "cell_type": "markdown",
   "metadata": {},
   "source": [
    "### 4.2 Scaler and Onehot-encoder"
   ]
  },
  {
   "cell_type": "code",
   "execution_count": 52,
   "metadata": {
    "execution": {
     "iopub.execute_input": "2020-12-08T00:56:55.667105Z",
     "iopub.status.busy": "2020-12-08T00:56:55.666870Z",
     "iopub.status.idle": "2020-12-08T00:56:55.673626Z",
     "shell.execute_reply": "2020-12-08T00:56:55.672769Z",
     "shell.execute_reply.started": "2020-12-08T00:56:55.667079Z"
    }
   },
   "outputs": [],
   "source": [
    "numeric_features = [column for column in X.columns if X[column].dtype != object]\n",
    "numeric_transformer = Pipeline(steps=[\n",
    "#     ('imputer', SimpleImputer(strategy='median')), # 결측치 대치\n",
    "    ('scaler', StandardScaler())])\n",
    "\n",
    "categorical_features = [column for column in X.columns if X[column].dtype == object]\n",
    "categorical_transformer = Pipeline(steps=[\n",
    "#     ('imputer', SimpleImputer(strategy='constant', fill_value='missing')), # 결측치 대치\n",
    "    ('onehot', OneHotEncoder())])\n",
    "\n",
    "preprocessor = ColumnTransformer(\n",
    "    transformers=[\n",
    "        ('num', numeric_transformer, numeric_features),\n",
    "        ('cat', categorical_transformer, categorical_features)])\n"
   ]
  },
  {
   "cell_type": "markdown",
   "metadata": {},
   "source": [
    "- 데이터를 받으면 숫자형은 standardscaler를 카테고리형은 onehot encoding을 하는 전처리기(prepocessor) 생성\n",
    "- Pipe라인에 넣으면 따로 데이터에 무언갈 하지 않아도 자동으로 scaler와 onehot encoding을 해줌\n",
    "\n",
    "<br>"
   ]
  },
  {
   "cell_type": "markdown",
   "metadata": {},
   "source": [
    "### 3.2 train, test 분리"
   ]
  },
  {
   "cell_type": "code",
   "execution_count": 53,
   "metadata": {
    "execution": {
     "iopub.execute_input": "2020-12-08T00:56:58.126581Z",
     "iopub.status.busy": "2020-12-08T00:56:58.126340Z",
     "iopub.status.idle": "2020-12-08T00:56:58.132893Z",
     "shell.execute_reply": "2020-12-08T00:56:58.132244Z",
     "shell.execute_reply.started": "2020-12-08T00:56:58.126554Z"
    }
   },
   "outputs": [],
   "source": [
    "X_train, X_test, y_train, y_test = train_test_split(X, y, stratify = y, random_state = 87 )"
   ]
  },
  {
   "cell_type": "code",
   "execution_count": 54,
   "metadata": {
    "execution": {
     "iopub.execute_input": "2020-12-08T00:56:58.658932Z",
     "iopub.status.busy": "2020-12-08T00:56:58.658696Z",
     "iopub.status.idle": "2020-12-08T00:56:58.664115Z",
     "shell.execute_reply": "2020-12-08T00:56:58.663168Z",
     "shell.execute_reply.started": "2020-12-08T00:56:58.658905Z"
    }
   },
   "outputs": [
    {
     "name": "stdout",
     "output_type": "stream",
     "text": [
      "학습 데이터에서의 Target 비율 : 0.16\n",
      "테스트 데이터에서의 Target 비율 : 0.16\n"
     ]
    }
   ],
   "source": [
    "train_rate = round(y_train.sum() / len(y_train),2)\n",
    "test_rate = round(y_test.sum() / len(y_test),2)\n",
    "print(f'학습 데이터에서의 Target 비율 : {train_rate}')\n",
    "print(f'테스트 데이터에서의 Target 비율 : {test_rate}')"
   ]
  },
  {
   "cell_type": "markdown",
   "metadata": {
    "execution": {
     "iopub.execute_input": "2020-12-04T08:33:15.369035Z",
     "iopub.status.busy": "2020-12-04T08:33:15.368814Z",
     "iopub.status.idle": "2020-12-04T08:33:15.373797Z",
     "shell.execute_reply": "2020-12-04T08:33:15.372994Z",
     "shell.execute_reply.started": "2020-12-04T08:33:15.369011Z"
    }
   },
   "source": [
    "- 학습 데이터와 테스트 데이터를 분리하면서 stratify 옵션을 주어 Target값의 비율을 동일하게 맞추었습니다.(16%)\n",
    "\n",
    "<br>"
   ]
  },
  {
   "cell_type": "markdown",
   "metadata": {},
   "source": [
    "### 3.3 Learning Curve 함수 준비"
   ]
  },
  {
   "cell_type": "code",
   "execution_count": 55,
   "metadata": {
    "execution": {
     "iopub.execute_input": "2020-12-08T00:57:01.975771Z",
     "iopub.status.busy": "2020-12-08T00:57:01.975529Z",
     "iopub.status.idle": "2020-12-08T00:57:01.983799Z",
     "shell.execute_reply": "2020-12-08T00:57:01.983047Z",
     "shell.execute_reply.started": "2020-12-08T00:57:01.975744Z"
    }
   },
   "outputs": [],
   "source": [
    "# Plot learning curve\n",
    "def plot_learning_curve(estimator, title, X, y, ylim=None, cv=None,\n",
    "                        n_jobs=-1, train_sizes=np.linspace(.1, 1.0, 5), scoring = 'accuracy'):\n",
    "    \"\"\"\n",
    "    Generate a simple plot of the test and traning learning curve.\n",
    "\n",
    "    Parameters\n",
    "    ----------\n",
    "    estimator : object type that implements the \"fit\" and \"predict\" methods\n",
    "        An object of that type which is cloned for each validation.\n",
    "\n",
    "    title : string\n",
    "        Title for the chart.\n",
    "\n",
    "    X : array-like, shape (n_samples, n_features)\n",
    "        Training vector, where n_samples is the number of samples and\n",
    "        n_features is the number of features.\n",
    "\n",
    "    y : array-like, shape (n_samples) or (n_samples, n_features), optional\n",
    "        Target relative to X for classification or regression;\n",
    "        None for unsupervised learning.\n",
    "\n",
    "    ylim : tuple, shape (ymin, ymax), optional\n",
    "        Defines minimum and maximum yvalues plotted.\n",
    "\n",
    "    cv : integer, cross-validation generator, optional\n",
    "        If an integer is passed, it is the number of folds (defaults to 3).\n",
    "        Specific cross-validation objects can be passed, see\n",
    "        sklearn.cross_validation module for the list of possible objects\n",
    "\n",
    "    n_jobs : integer, optional\n",
    "        Number of jobs to run in parallel (default 1).\n",
    "\n",
    "    x1 = np.linspace(0, 10, 8, endpoint=True) produces\n",
    "        8 evenly spaced points in the range 0 to 10\n",
    "    \"\"\"\n",
    "\n",
    "    plt.figure()\n",
    "    plt.title(title)\n",
    "    if ylim is not None:\n",
    "        plt.ylim(*ylim)\n",
    "\n",
    "    plt.xlabel(\"Training examples\")\n",
    "    plt.ylabel(\"Score\")\n",
    "    train_sizes, train_scores, test_scores = learning_curve(\n",
    "        estimator, X, y, cv=cv, n_jobs=n_jobs, train_sizes=train_sizes, scoring=scoring)\n",
    "    train_scores_mean = np.mean(train_scores, axis=1)\n",
    "    train_scores_std = np.std(train_scores, axis=1)\n",
    "    test_scores_mean = np.mean(test_scores, axis=1)\n",
    "    test_scores_std = np.std(test_scores, axis=1)\n",
    "    plt.grid()\n",
    "\n",
    "    plt.fill_between(train_sizes, train_scores_mean - train_scores_std,\n",
    "                     train_scores_mean + train_scores_std, alpha=0.1,\n",
    "                     color=\"r\")\n",
    "    plt.fill_between(train_sizes, test_scores_mean - test_scores_std,\n",
    "                     test_scores_mean + test_scores_std, alpha=0.1, color=\"g\")\n",
    "    plt.plot(train_sizes, train_scores_mean, 'o-', color=\"r\",\n",
    "             label=\"Training score\")\n",
    "    plt.plot(train_sizes, test_scores_mean, 'o-', color=\"g\",\n",
    "             label=\"Cross-validation score\")\n",
    "\n",
    "    plt.legend(loc=\"best\")\n",
    "    return plt.show()"
   ]
  },
  {
   "cell_type": "markdown",
   "metadata": {},
   "source": [
    "- Gridsearch와 title, x, y값을 넣으면 Learning Curve를 볼수 있는 함수\n",
    "- Learning Curve로 과적합을 판단함\n",
    "\n",
    "<br>"
   ]
  },
  {
   "cell_type": "markdown",
   "metadata": {},
   "source": [
    "## 4. 머신러닝 알고리즘을 이용한 퇴사자 예측\n",
    "---"
   ]
  },
  {
   "cell_type": "markdown",
   "metadata": {},
   "source": [
    "### 4.1 의사결정나무"
   ]
  },
  {
   "cell_type": "code",
   "execution_count": 57,
   "metadata": {
    "execution": {
     "iopub.execute_input": "2020-12-08T00:57:26.412492Z",
     "iopub.status.busy": "2020-12-08T00:57:26.412242Z",
     "iopub.status.idle": "2020-12-08T00:57:32.096449Z",
     "shell.execute_reply": "2020-12-08T00:57:32.095743Z",
     "shell.execute_reply.started": "2020-12-08T00:57:26.412463Z"
    }
   },
   "outputs": [
    {
     "data": {
      "text/plain": [
       "GridSearchCV(cv=5,\n",
       "             estimator=Pipeline(steps=[('preprocessor',\n",
       "                                        ColumnTransformer(transformers=[('num',\n",
       "                                                                         Pipeline(steps=[('scaler',\n",
       "                                                                                          StandardScaler())]),\n",
       "                                                                         ['Age',\n",
       "                                                                          'BusinessTravel',\n",
       "                                                                          'DailyRate',\n",
       "                                                                          'Department',\n",
       "                                                                          'DistanceFromHome',\n",
       "                                                                          'Education',\n",
       "                                                                          'EducationField',\n",
       "                                                                          'EnvironmentSatisfaction',\n",
       "                                                                          'Gender',\n",
       "                                                                          'HourlyRate',\n",
       "                                                                          'JobInvolvement',\n",
       "                                                                          'JobLevel',\n",
       "                                                                          'JobRole',\n",
       "                                                                          'JobSatisfaction',\n",
       "                                                                          'Mar...\n",
       "                                                                          'YearsInCurrentRole',\n",
       "                                                                          'YearsSinceLastPromotion',\n",
       "                                                                          'YearsWithCurrManager']),\n",
       "                                                                        ('cat',\n",
       "                                                                         Pipeline(steps=[('onehot',\n",
       "                                                                                          OneHotEncoder())]),\n",
       "                                                                         [])])),\n",
       "                                       ('clf',\n",
       "                                        DecisionTreeClassifier(random_state=87))]),\n",
       "             n_jobs=-1,\n",
       "             param_grid=[{'clf__max_depth': [1, 3, 5, 7, 9, 11, 13, 15, 17, 19],\n",
       "                          'clf__min_samples_leaf': [1, 3, 5, 7, 9, 11, 13, 15,\n",
       "                                                    17, 19],\n",
       "                          'clf__min_samples_split': [2, 3, 4]}],\n",
       "             return_train_score=True)"
      ]
     },
     "execution_count": 57,
     "metadata": {},
     "output_type": "execute_result"
    }
   ],
   "source": [
    "clf_model = DecisionTreeClassifier(random_state=87)\n",
    "pipe = Pipeline([('preprocessor', preprocessor),\n",
    "                 ('clf', clf_model)],\n",
    "                )\n",
    "params_grid = [{'clf__max_depth': list(range(1, 20, 2)),\n",
    "                'clf__min_samples_split': [2, 3, 4],\n",
    "                'clf__min_samples_leaf': list(range(1, 20, 2))\n",
    "                }]\n",
    "gridsearch = GridSearchCV(\n",
    "    estimator=pipe, param_grid=params_grid, cv=5, n_jobs=-1, return_train_score=True)\n",
    "gridsearch.fit(X_train, y_train)"
   ]
  },
  {
   "cell_type": "markdown",
   "metadata": {},
   "source": [
    "- 위에서 설정한 pipeline에 의사결정나무에 맞는 파라미터를 설정 후 그리드서치를 진행하였습니다\n",
    "\n",
    "<br>"
   ]
  },
  {
   "cell_type": "code",
   "execution_count": 58,
   "metadata": {
    "execution": {
     "iopub.execute_input": "2020-12-08T00:57:59.838979Z",
     "iopub.status.busy": "2020-12-08T00:57:59.838732Z",
     "iopub.status.idle": "2020-12-08T00:57:59.856695Z",
     "shell.execute_reply": "2020-12-08T00:57:59.856056Z",
     "shell.execute_reply.started": "2020-12-08T00:57:59.838952Z"
    }
   },
   "outputs": [
    {
     "data": {
      "text/html": [
       "<div>\n",
       "<style scoped>\n",
       "    .dataframe tbody tr th:only-of-type {\n",
       "        vertical-align: middle;\n",
       "    }\n",
       "\n",
       "    .dataframe tbody tr th {\n",
       "        vertical-align: top;\n",
       "    }\n",
       "\n",
       "    .dataframe thead th {\n",
       "        text-align: right;\n",
       "    }\n",
       "</style>\n",
       "<table border=\"1\" class=\"dataframe\">\n",
       "  <thead>\n",
       "    <tr style=\"text-align: right;\">\n",
       "      <th></th>\n",
       "      <th>params</th>\n",
       "      <th>mean_test_score</th>\n",
       "      <th>rank_test_score</th>\n",
       "      <th>split0_test_score</th>\n",
       "      <th>split1_test_score</th>\n",
       "      <th>split2_test_score</th>\n",
       "      <th>split3_test_score</th>\n",
       "      <th>split4_test_score</th>\n",
       "    </tr>\n",
       "  </thead>\n",
       "  <tbody>\n",
       "    <tr>\n",
       "      <th>0</th>\n",
       "      <td>{'clf__max_depth': 3, 'clf__min_samples_leaf': 9, 'clf__min_samples_split': 2}</td>\n",
       "      <td>0.842106</td>\n",
       "      <td>1</td>\n",
       "      <td>0.837104</td>\n",
       "      <td>0.846154</td>\n",
       "      <td>0.836364</td>\n",
       "      <td>0.854545</td>\n",
       "      <td>0.836364</td>\n",
       "    </tr>\n",
       "    <tr>\n",
       "      <th>1</th>\n",
       "      <td>{'clf__max_depth': 3, 'clf__min_samples_leaf': 9, 'clf__min_samples_split': 4}</td>\n",
       "      <td>0.842106</td>\n",
       "      <td>1</td>\n",
       "      <td>0.837104</td>\n",
       "      <td>0.846154</td>\n",
       "      <td>0.836364</td>\n",
       "      <td>0.854545</td>\n",
       "      <td>0.836364</td>\n",
       "    </tr>\n",
       "    <tr>\n",
       "      <th>2</th>\n",
       "      <td>{'clf__max_depth': 3, 'clf__min_samples_leaf': 9, 'clf__min_samples_split': 3}</td>\n",
       "      <td>0.842106</td>\n",
       "      <td>1</td>\n",
       "      <td>0.837104</td>\n",
       "      <td>0.846154</td>\n",
       "      <td>0.836364</td>\n",
       "      <td>0.854545</td>\n",
       "      <td>0.836364</td>\n",
       "    </tr>\n",
       "    <tr>\n",
       "      <th>3</th>\n",
       "      <td>{'clf__max_depth': 3, 'clf__min_samples_leaf': 19, 'clf__min_samples_split': 2}</td>\n",
       "      <td>0.841205</td>\n",
       "      <td>4</td>\n",
       "      <td>0.837104</td>\n",
       "      <td>0.837104</td>\n",
       "      <td>0.831818</td>\n",
       "      <td>0.850000</td>\n",
       "      <td>0.850000</td>\n",
       "    </tr>\n",
       "    <tr>\n",
       "      <th>4</th>\n",
       "      <td>{'clf__max_depth': 3, 'clf__min_samples_leaf': 19, 'clf__min_samples_split': 3}</td>\n",
       "      <td>0.841205</td>\n",
       "      <td>4</td>\n",
       "      <td>0.837104</td>\n",
       "      <td>0.837104</td>\n",
       "      <td>0.831818</td>\n",
       "      <td>0.850000</td>\n",
       "      <td>0.850000</td>\n",
       "    </tr>\n",
       "  </tbody>\n",
       "</table>\n",
       "</div>"
      ],
      "text/plain": [
       "                                                                            params  \\\n",
       "0   {'clf__max_depth': 3, 'clf__min_samples_leaf': 9, 'clf__min_samples_split': 2}   \n",
       "1   {'clf__max_depth': 3, 'clf__min_samples_leaf': 9, 'clf__min_samples_split': 4}   \n",
       "2   {'clf__max_depth': 3, 'clf__min_samples_leaf': 9, 'clf__min_samples_split': 3}   \n",
       "3  {'clf__max_depth': 3, 'clf__min_samples_leaf': 19, 'clf__min_samples_split': 2}   \n",
       "4  {'clf__max_depth': 3, 'clf__min_samples_leaf': 19, 'clf__min_samples_split': 3}   \n",
       "\n",
       "   mean_test_score  rank_test_score  split0_test_score  split1_test_score  \\\n",
       "0         0.842106                1           0.837104           0.846154   \n",
       "1         0.842106                1           0.837104           0.846154   \n",
       "2         0.842106                1           0.837104           0.846154   \n",
       "3         0.841205                4           0.837104           0.837104   \n",
       "4         0.841205                4           0.837104           0.837104   \n",
       "\n",
       "   split2_test_score  split3_test_score  split4_test_score  \n",
       "0           0.836364           0.854545           0.836364  \n",
       "1           0.836364           0.854545           0.836364  \n",
       "2           0.836364           0.854545           0.836364  \n",
       "3           0.831818           0.850000           0.850000  \n",
       "4           0.831818           0.850000           0.850000  "
      ]
     },
     "execution_count": 58,
     "metadata": {},
     "output_type": "execute_result"
    }
   ],
   "source": [
    "scores_df = pd.DataFrame(gridsearch.cv_results_)\n",
    "scores_df[['params', 'mean_test_score', 'rank_test_score',\n",
    "           'split0_test_score', 'split1_test_score', 'split2_test_score', 'split3_test_score', 'split4_test_score']].sort_values('rank_test_score').reset_index(drop = True).head()"
   ]
  },
  {
   "cell_type": "markdown",
   "metadata": {},
   "source": [
    "- 그리드 서치를 진행하여 만들어낸 최적의 파라미터들입니다. rank_test_score가 1인것이 1등 파라미터입니다.\n",
    "\n",
    "<br>"
   ]
  },
  {
   "cell_type": "code",
   "execution_count": 59,
   "metadata": {
    "execution": {
     "iopub.execute_input": "2020-12-08T00:58:01.034500Z",
     "iopub.status.busy": "2020-12-08T00:58:01.034269Z",
     "iopub.status.idle": "2020-12-08T00:58:01.042993Z",
     "shell.execute_reply": "2020-12-08T00:58:01.042315Z",
     "shell.execute_reply.started": "2020-12-08T00:58:01.034474Z"
    }
   },
   "outputs": [
    {
     "data": {
      "text/plain": [
       "0.8586956521739131"
      ]
     },
     "execution_count": 59,
     "metadata": {},
     "output_type": "execute_result"
    }
   ],
   "source": [
    "result = gridsearch.best_estimator_.predict(X_test)\n",
    "accuracy_score(y_test, result)"
   ]
  },
  {
   "cell_type": "code",
   "execution_count": 60,
   "metadata": {
    "execution": {
     "iopub.execute_input": "2020-12-08T00:58:02.874127Z",
     "iopub.status.busy": "2020-12-08T00:58:02.873896Z",
     "iopub.status.idle": "2020-12-08T00:58:03.294922Z",
     "shell.execute_reply": "2020-12-08T00:58:03.294458Z",
     "shell.execute_reply.started": "2020-12-08T00:58:02.874100Z"
    }
   },
   "outputs": [
    {
     "data": {
      "image/png": "[encoded data removed]",
      "text/plain": [
       "<Figure size 432x288 with 1 Axes>"
      ]
     },
     "metadata": {
      "needs_background": "light"
     },
     "output_type": "display_data"
    }
   ],
   "source": [
    "plot_learning_curve(gridsearch.best_estimator_,\n",
    "                    'DecisionTree Learning Curve', X_train, y_train, cv = 10)"
   ]
  },
  {
   "cell_type": "markdown",
   "metadata": {},
   "source": [
    "- Learning Curve가 원하는 Accuracy보다 낮은것으로 보아, 과소적합 되는듯 함\n",
    "- 우상향하는 그래프인것으로 보아 더 상승할 여지가 있어보임.\n",
    "\n",
    "<br>"
   ]
  },
  {
   "cell_type": "code",
   "execution_count": 61,
   "metadata": {
    "execution": {
     "iopub.execute_input": "2020-12-08T00:58:06.458859Z",
     "iopub.status.busy": "2020-12-08T00:58:06.458609Z",
     "iopub.status.idle": "2020-12-08T00:58:06.609901Z",
     "shell.execute_reply": "2020-12-08T00:58:06.609371Z",
     "shell.execute_reply.started": "2020-12-08T00:58:06.458831Z"
    }
   },
   "outputs": [
    {
     "data": {
      "image/png": "[encoded data removed]",
      "text/plain": [
       "<Figure size 720x576 with 1 Axes>"
      ]
     },
     "metadata": {
      "needs_background": "light"
     },
     "output_type": "display_data"
    }
   ],
   "source": [
    "pred_proba = gridsearch.best_estimator_.predict_proba(X_test)[:, 1]\n",
    "fpr, tpr, thresholds = roc_curve(y_test, pred_proba)\n",
    "\n",
    "plt.figure(figsize=(10, 8))\n",
    "plt.plot([0,1], [0,1])\n",
    "plt.plot(fpr, tpr)\n",
    "plt.grid()\n",
    "plt.show()"
   ]
  },
  {
   "cell_type": "markdown",
   "metadata": {},
   "source": [
    "### 4.2 랜덤포레스트"
   ]
  },
  {
   "cell_type": "code",
   "execution_count": 62,
   "metadata": {
    "execution": {
     "iopub.execute_input": "2020-12-08T00:58:39.304478Z",
     "iopub.status.busy": "2020-12-08T00:58:39.304245Z",
     "iopub.status.idle": "2020-12-08T00:58:56.812547Z",
     "shell.execute_reply": "2020-12-08T00:58:56.811967Z",
     "shell.execute_reply.started": "2020-12-08T00:58:39.304452Z"
    }
   },
   "outputs": [
    {
     "data": {
      "text/plain": [
       "GridSearchCV(cv=5,\n",
       "             estimator=Pipeline(steps=[('preprocessor',\n",
       "                                        ColumnTransformer(transformers=[('num',\n",
       "                                                                         Pipeline(steps=[('scaler',\n",
       "                                                                                          StandardScaler())]),\n",
       "                                                                         ['Age',\n",
       "                                                                          'BusinessTravel',\n",
       "                                                                          'DailyRate',\n",
       "                                                                          'Department',\n",
       "                                                                          'DistanceFromHome',\n",
       "                                                                          'Education',\n",
       "                                                                          'EducationField',\n",
       "                                                                          'EnvironmentSatisfaction',\n",
       "                                                                          'Gender',\n",
       "                                                                          'HourlyRate',\n",
       "                                                                          'JobInvolvement',\n",
       "                                                                          'JobLevel',\n",
       "                                                                          'JobRole',\n",
       "                                                                          'JobSatisfaction',\n",
       "                                                                          'Mar...\n",
       "                                                                          'YearsInCurrentRole',\n",
       "                                                                          'YearsSinceLastPromotion',\n",
       "                                                                          'YearsWithCurrManager']),\n",
       "                                                                        ('cat',\n",
       "                                                                         Pipeline(steps=[('onehot',\n",
       "                                                                                          OneHotEncoder())]),\n",
       "                                                                         [])])),\n",
       "                                       ('rf',\n",
       "                                        RandomForestClassifier(random_state=87))]),\n",
       "             n_jobs=-1,\n",
       "             param_grid=[{'rf__max_depth': [2, 3, 5, None],\n",
       "                          'rf__min_samples_leaf': [1, 2, 4, 10],\n",
       "                          'rf__min_samples_split': [2, 5, 10],\n",
       "                          'rf__n_estimators': [100, 150]}],\n",
       "             return_train_score=True)"
      ]
     },
     "execution_count": 62,
     "metadata": {},
     "output_type": "execute_result"
    }
   ],
   "source": [
    "rf_model = RandomForestClassifier(random_state=87)\n",
    "\n",
    "# parameters\n",
    "n_estimators = [100, 150]\n",
    "max_depth = [2, 3, 5]\n",
    "max_depth.append(None)\n",
    "min_samples_split = [2, 5, 10]\n",
    "min_samples_leaf = [1, 2, 4, 10]\n",
    "\n",
    "pipe = Pipeline([('preprocessor', preprocessor),\n",
    "                 ('rf', rf_model)],\n",
    "                )\n",
    "\n",
    "params_grid = [{'rf__n_estimators': n_estimators,\n",
    "                'rf__max_depth': max_depth,\n",
    "                'rf__min_samples_split': min_samples_split,\n",
    "                'rf__min_samples_leaf': min_samples_leaf,\n",
    "               }]\n",
    "\n",
    "gridsearch = GridSearchCV(\n",
    "    estimator=pipe, param_grid=params_grid, cv=5, n_jobs=-1, return_train_score=True)\n",
    "gridsearch.fit(X_train, y_train)"
   ]
  },
  {
   "cell_type": "code",
   "execution_count": 63,
   "metadata": {
    "execution": {
     "iopub.execute_input": "2020-12-08T00:58:56.813943Z",
     "iopub.status.busy": "2020-12-08T00:58:56.813771Z",
     "iopub.status.idle": "2020-12-08T00:58:56.833114Z",
     "shell.execute_reply": "2020-12-08T00:58:56.832593Z",
     "shell.execute_reply.started": "2020-12-08T00:58:56.813921Z"
    }
   },
   "outputs": [
    {
     "data": {
      "text/plain": [
       "0.845108695652174"
      ]
     },
     "execution_count": 63,
     "metadata": {},
     "output_type": "execute_result"
    }
   ],
   "source": [
    "result = gridsearch.best_estimator_.predict(X_test)\n",
    "accuracy_score(y_test, result)"
   ]
  },
  {
   "cell_type": "code",
   "execution_count": 64,
   "metadata": {
    "execution": {
     "iopub.execute_input": "2020-12-08T00:58:56.834725Z",
     "iopub.status.busy": "2020-12-08T00:58:56.834537Z",
     "iopub.status.idle": "2020-12-08T00:58:56.849626Z",
     "shell.execute_reply": "2020-12-08T00:58:56.849026Z",
     "shell.execute_reply.started": "2020-12-08T00:58:56.834699Z"
    }
   },
   "outputs": [
    {
     "data": {
      "text/html": [
       "<div>\n",
       "<style scoped>\n",
       "    .dataframe tbody tr th:only-of-type {\n",
       "        vertical-align: middle;\n",
       "    }\n",
       "\n",
       "    .dataframe tbody tr th {\n",
       "        vertical-align: top;\n",
       "    }\n",
       "\n",
       "    .dataframe thead th {\n",
       "        text-align: right;\n",
       "    }\n",
       "</style>\n",
       "<table border=\"1\" class=\"dataframe\">\n",
       "  <thead>\n",
       "    <tr style=\"text-align: right;\">\n",
       "      <th></th>\n",
       "      <th>params</th>\n",
       "      <th>mean_test_score</th>\n",
       "      <th>rank_test_score</th>\n",
       "      <th>split0_test_score</th>\n",
       "      <th>split1_test_score</th>\n",
       "      <th>split2_test_score</th>\n",
       "      <th>split3_test_score</th>\n",
       "      <th>split4_test_score</th>\n",
       "    </tr>\n",
       "  </thead>\n",
       "  <tbody>\n",
       "    <tr>\n",
       "      <th>0</th>\n",
       "      <td>{'rf__max_depth': None, 'rf__min_samples_leaf': 4, 'rf__min_samples_split': 10, 'rf__n_estimators': 100}</td>\n",
       "      <td>0.861172</td>\n",
       "      <td>1</td>\n",
       "      <td>0.855204</td>\n",
       "      <td>0.855204</td>\n",
       "      <td>0.859091</td>\n",
       "      <td>0.863636</td>\n",
       "      <td>0.872727</td>\n",
       "    </tr>\n",
       "    <tr>\n",
       "      <th>1</th>\n",
       "      <td>{'rf__max_depth': None, 'rf__min_samples_leaf': 2, 'rf__min_samples_split': 5, 'rf__n_estimators': 150}</td>\n",
       "      <td>0.860263</td>\n",
       "      <td>2</td>\n",
       "      <td>0.859729</td>\n",
       "      <td>0.850679</td>\n",
       "      <td>0.868182</td>\n",
       "      <td>0.859091</td>\n",
       "      <td>0.863636</td>\n",
       "    </tr>\n",
       "    <tr>\n",
       "      <th>2</th>\n",
       "      <td>{'rf__max_depth': None, 'rf__min_samples_leaf': 1, 'rf__min_samples_split': 10, 'rf__n_estimators': 150}</td>\n",
       "      <td>0.860259</td>\n",
       "      <td>3</td>\n",
       "      <td>0.859729</td>\n",
       "      <td>0.855204</td>\n",
       "      <td>0.859091</td>\n",
       "      <td>0.863636</td>\n",
       "      <td>0.863636</td>\n",
       "    </tr>\n",
       "    <tr>\n",
       "      <th>3</th>\n",
       "      <td>{'rf__max_depth': None, 'rf__min_samples_leaf': 4, 'rf__min_samples_split': 2, 'rf__n_estimators': 100}</td>\n",
       "      <td>0.859362</td>\n",
       "      <td>4</td>\n",
       "      <td>0.850679</td>\n",
       "      <td>0.850679</td>\n",
       "      <td>0.859091</td>\n",
       "      <td>0.868182</td>\n",
       "      <td>0.868182</td>\n",
       "    </tr>\n",
       "    <tr>\n",
       "      <th>4</th>\n",
       "      <td>{'rf__max_depth': None, 'rf__min_samples_leaf': 4, 'rf__min_samples_split': 5, 'rf__n_estimators': 100}</td>\n",
       "      <td>0.859362</td>\n",
       "      <td>4</td>\n",
       "      <td>0.850679</td>\n",
       "      <td>0.850679</td>\n",
       "      <td>0.859091</td>\n",
       "      <td>0.868182</td>\n",
       "      <td>0.868182</td>\n",
       "    </tr>\n",
       "  </tbody>\n",
       "</table>\n",
       "</div>"
      ],
      "text/plain": [
       "                                                                                                     params  \\\n",
       "0  {'rf__max_depth': None, 'rf__min_samples_leaf': 4, 'rf__min_samples_split': 10, 'rf__n_estimators': 100}   \n",
       "1   {'rf__max_depth': None, 'rf__min_samples_leaf': 2, 'rf__min_samples_split': 5, 'rf__n_estimators': 150}   \n",
       "2  {'rf__max_depth': None, 'rf__min_samples_leaf': 1, 'rf__min_samples_split': 10, 'rf__n_estimators': 150}   \n",
       "3   {'rf__max_depth': None, 'rf__min_samples_leaf': 4, 'rf__min_samples_split': 2, 'rf__n_estimators': 100}   \n",
       "4   {'rf__max_depth': None, 'rf__min_samples_leaf': 4, 'rf__min_samples_split': 5, 'rf__n_estimators': 100}   \n",
       "\n",
       "   mean_test_score  rank_test_score  split0_test_score  split1_test_score  \\\n",
       "0         0.861172                1           0.855204           0.855204   \n",
       "1         0.860263                2           0.859729           0.850679   \n",
       "2         0.860259                3           0.859729           0.855204   \n",
       "3         0.859362                4           0.850679           0.850679   \n",
       "4         0.859362                4           0.850679           0.850679   \n",
       "\n",
       "   split2_test_score  split3_test_score  split4_test_score  \n",
       "0           0.859091           0.863636           0.872727  \n",
       "1           0.868182           0.859091           0.863636  \n",
       "2           0.859091           0.863636           0.863636  \n",
       "3           0.859091           0.868182           0.868182  \n",
       "4           0.859091           0.868182           0.868182  "
      ]
     },
     "execution_count": 64,
     "metadata": {},
     "output_type": "execute_result"
    }
   ],
   "source": [
    "scores_df = pd.DataFrame(gridsearch.cv_results_)\n",
    "scores_df[['params', 'mean_test_score', 'rank_test_score',\n",
    "           'split0_test_score', 'split1_test_score', 'split2_test_score', 'split3_test_score', 'split4_test_score']].sort_values('rank_test_score').reset_index(drop = True).head()"
   ]
  },
  {
   "cell_type": "code",
   "execution_count": 65,
   "metadata": {
    "execution": {
     "iopub.execute_input": "2020-12-08T00:58:56.851271Z",
     "iopub.status.busy": "2020-12-08T00:58:56.851082Z",
     "iopub.status.idle": "2020-12-08T00:58:57.937318Z",
     "shell.execute_reply": "2020-12-08T00:58:57.936629Z",
     "shell.execute_reply.started": "2020-12-08T00:58:56.851245Z"
    }
   },
   "outputs": [
    {
     "data": {
      "image/png": "[encoded data removed]",
      "text/plain": [
       "<Figure size 432x288 with 1 Axes>"
      ]
     },
     "metadata": {
      "needs_background": "light"
     },
     "output_type": "display_data"
    }
   ],
   "source": [
    "plot_learning_curve(gridsearch.best_estimator_, 'RandomForest Learning Curve',X_train, y_train)"
   ]
  },
  {
   "cell_type": "markdown",
   "metadata": {},
   "source": [
    "- train과 test의 Accuracy의 차이가 많이나는것을 볼수 있습니다.\n",
    "- train score는 높은데, test score는 낮은것으로 보아 과적합 입니다.\n",
    "\n",
    "<br>"
   ]
  },
  {
   "cell_type": "code",
   "execution_count": 66,
   "metadata": {
    "execution": {
     "iopub.execute_input": "2020-12-08T00:58:57.938427Z",
     "iopub.status.busy": "2020-12-08T00:58:57.938192Z",
     "iopub.status.idle": "2020-12-08T00:58:58.102840Z",
     "shell.execute_reply": "2020-12-08T00:58:58.102311Z",
     "shell.execute_reply.started": "2020-12-08T00:58:57.938404Z"
    }
   },
   "outputs": [
    {
     "data": {
      "image/png": "[encoded data removed]",
      "text/plain": [
       "<Figure size 720x576 with 1 Axes>"
      ]
     },
     "metadata": {
      "needs_background": "light"
     },
     "output_type": "display_data"
    }
   ],
   "source": [
    "pred_proba = gridsearch.best_estimator_.predict_proba(X_test)[:, 1]\n",
    "fpr, tpr, thresholds = roc_curve(y_test, pred_proba)\n",
    "\n",
    "plt.figure(figsize=(10, 8))\n",
    "plt.plot([0,1], [0,1])\n",
    "plt.plot(fpr, tpr)\n",
    "plt.grid()\n",
    "plt.show()"
   ]
  },
  {
   "cell_type": "markdown",
   "metadata": {},
   "source": [
    "- 앙상블 알고리즘의 하나인 의사결정나무의 모임인 랜덤포레스트 알고리즘으로 예측해본 결과 84%의 정확도가 나왔습니다.\n",
    "- 의사결정나무보단 좋아 보이지만 그래도 아직 모자라 보입니다.\n",
    "\n",
    "<br>"
   ]
  },
  {
   "cell_type": "markdown",
   "metadata": {},
   "source": [
    "### 4.3 로지스틱 회귀"
   ]
  },
  {
   "cell_type": "code",
   "execution_count": 67,
   "metadata": {
    "execution": {
     "iopub.execute_input": "2020-12-08T00:58:58.103965Z",
     "iopub.status.busy": "2020-12-08T00:58:58.103716Z",
     "iopub.status.idle": "2020-12-08T00:58:58.308583Z",
     "shell.execute_reply": "2020-12-08T00:58:58.308025Z",
     "shell.execute_reply.started": "2020-12-08T00:58:58.103944Z"
    }
   },
   "outputs": [
    {
     "data": {
      "text/plain": [
       "GridSearchCV(cv=5,\n",
       "             estimator=Pipeline(steps=[('preprocessor',\n",
       "                                        ColumnTransformer(transformers=[('num',\n",
       "                                                                         Pipeline(steps=[('scaler',\n",
       "                                                                                          StandardScaler())]),\n",
       "                                                                         ['Age',\n",
       "                                                                          'BusinessTravel',\n",
       "                                                                          'DailyRate',\n",
       "                                                                          'Department',\n",
       "                                                                          'DistanceFromHome',\n",
       "                                                                          'Education',\n",
       "                                                                          'EducationField',\n",
       "                                                                          'EnvironmentSatisfaction',\n",
       "                                                                          'Gender',\n",
       "                                                                          'HourlyRate',\n",
       "                                                                          'JobInvolvement',\n",
       "                                                                          'JobLevel',\n",
       "                                                                          'JobRole',\n",
       "                                                                          'JobSatisfaction',\n",
       "                                                                          'Mar...\n",
       "                                                                          'RelationshipSatisfaction',\n",
       "                                                                          'StockOptionLevel',\n",
       "                                                                          'TotalWorkingYears',\n",
       "                                                                          'TrainingTimesLastYear',\n",
       "                                                                          'WorkLifeBalance',\n",
       "                                                                          'YearsAtCompany',\n",
       "                                                                          'YearsInCurrentRole',\n",
       "                                                                          'YearsSinceLastPromotion',\n",
       "                                                                          'YearsWithCurrManager']),\n",
       "                                                                        ('cat',\n",
       "                                                                         Pipeline(steps=[('onehot',\n",
       "                                                                                          OneHotEncoder())]),\n",
       "                                                                         [])])),\n",
       "                                       ('lr',\n",
       "                                        LogisticRegression(solver='liblinear'))]),\n",
       "             n_jobs=-1, param_grid=[{}], return_train_score=True)"
      ]
     },
     "execution_count": 67,
     "metadata": {},
     "output_type": "execute_result"
    }
   ],
   "source": [
    "lr_model = LogisticRegression(solver='liblinear')\n",
    "\n",
    "# parameters\n",
    "\n",
    "pipe = Pipeline([('preprocessor', preprocessor),\n",
    "                 ('lr', lr_model)],\n",
    "                )\n",
    "\n",
    "params_grid = [{}]\n",
    "\n",
    "gridsearch = GridSearchCV(\n",
    "    estimator=pipe, param_grid=params_grid, cv=5, n_jobs=-1, return_train_score=True)\n",
    "gridsearch.fit(X_train, y_train)"
   ]
  },
  {
   "cell_type": "markdown",
   "metadata": {},
   "source": [
    "- 분류 문제에서 사용하는 회귀문제중에 로지스틱 회귀를 사용한 결과 랜덤포레스트와 같이 84%의 정확도가 나왔습니다.\n",
    "- 랜덤포레스트와 똑같지만, 아직 만족스러운 결과는 아닙니다.\n",
    "\n",
    "<br>"
   ]
  },
  {
   "cell_type": "code",
   "execution_count": 68,
   "metadata": {
    "execution": {
     "iopub.execute_input": "2020-12-08T00:58:58.309896Z",
     "iopub.status.busy": "2020-12-08T00:58:58.309717Z",
     "iopub.status.idle": "2020-12-08T00:58:58.318943Z",
     "shell.execute_reply": "2020-12-08T00:58:58.318020Z",
     "shell.execute_reply.started": "2020-12-08T00:58:58.309874Z"
    }
   },
   "outputs": [
    {
     "data": {
      "text/plain": [
       "0.8396739130434783"
      ]
     },
     "execution_count": 68,
     "metadata": {},
     "output_type": "execute_result"
    }
   ],
   "source": [
    "result = gridsearch.best_estimator_.predict(X_test)\n",
    "accuracy_score(y_test, result)"
   ]
  },
  {
   "cell_type": "code",
   "execution_count": 69,
   "metadata": {
    "execution": {
     "iopub.execute_input": "2020-12-08T00:58:58.322424Z",
     "iopub.status.busy": "2020-12-08T00:58:58.322204Z",
     "iopub.status.idle": "2020-12-08T00:58:58.336959Z",
     "shell.execute_reply": "2020-12-08T00:58:58.336249Z",
     "shell.execute_reply.started": "2020-12-08T00:58:58.322398Z"
    }
   },
   "outputs": [
    {
     "data": {
      "text/html": [
       "<div>\n",
       "<style scoped>\n",
       "    .dataframe tbody tr th:only-of-type {\n",
       "        vertical-align: middle;\n",
       "    }\n",
       "\n",
       "    .dataframe tbody tr th {\n",
       "        vertical-align: top;\n",
       "    }\n",
       "\n",
       "    .dataframe thead th {\n",
       "        text-align: right;\n",
       "    }\n",
       "</style>\n",
       "<table border=\"1\" class=\"dataframe\">\n",
       "  <thead>\n",
       "    <tr style=\"text-align: right;\">\n",
       "      <th></th>\n",
       "      <th>params</th>\n",
       "      <th>mean_test_score</th>\n",
       "      <th>rank_test_score</th>\n",
       "      <th>split0_test_score</th>\n",
       "      <th>split1_test_score</th>\n",
       "      <th>split2_test_score</th>\n",
       "      <th>split3_test_score</th>\n",
       "      <th>split4_test_score</th>\n",
       "    </tr>\n",
       "  </thead>\n",
       "  <tbody>\n",
       "    <tr>\n",
       "      <th>0</th>\n",
       "      <td>{}</td>\n",
       "      <td>0.861144</td>\n",
       "      <td>1</td>\n",
       "      <td>0.873303</td>\n",
       "      <td>0.868778</td>\n",
       "      <td>0.85</td>\n",
       "      <td>0.845455</td>\n",
       "      <td>0.868182</td>\n",
       "    </tr>\n",
       "  </tbody>\n",
       "</table>\n",
       "</div>"
      ],
      "text/plain": [
       "  params  mean_test_score  rank_test_score  split0_test_score  \\\n",
       "0     {}         0.861144                1           0.873303   \n",
       "\n",
       "   split1_test_score  split2_test_score  split3_test_score  split4_test_score  \n",
       "0           0.868778               0.85           0.845455           0.868182  "
      ]
     },
     "execution_count": 69,
     "metadata": {},
     "output_type": "execute_result"
    }
   ],
   "source": [
    "scores_df = pd.DataFrame(gridsearch.cv_results_)\n",
    "scores_df[['params', 'mean_test_score', 'rank_test_score',\n",
    "           'split0_test_score', 'split1_test_score', 'split2_test_score', 'split3_test_score', 'split4_test_score']].sort_values('rank_test_score').reset_index(drop = True).head()"
   ]
  },
  {
   "cell_type": "code",
   "execution_count": 70,
   "metadata": {
    "execution": {
     "iopub.execute_input": "2020-12-08T00:58:58.338628Z",
     "iopub.status.busy": "2020-12-08T00:58:58.338422Z",
     "iopub.status.idle": "2020-12-08T00:58:58.736152Z",
     "shell.execute_reply": "2020-12-08T00:58:58.735609Z",
     "shell.execute_reply.started": "2020-12-08T00:58:58.338597Z"
    }
   },
   "outputs": [
    {
     "data": {
      "image/png": "[encoded data removed]",
      "text/plain": [
       "<Figure size 432x288 with 1 Axes>"
      ]
     },
     "metadata": {
      "needs_background": "light"
     },
     "output_type": "display_data"
    }
   ],
   "source": [
    "plot_learning_curve(gridsearch.best_estimator_, 'LogisticRegression Learning Curve',X_train, y_train)"
   ]
  },
  {
   "cell_type": "markdown",
   "metadata": {},
   "source": [
    "- 과소 적합"
   ]
  },
  {
   "cell_type": "code",
   "execution_count": 71,
   "metadata": {
    "execution": {
     "iopub.execute_input": "2020-12-08T00:58:58.737381Z",
     "iopub.status.busy": "2020-12-08T00:58:58.737202Z",
     "iopub.status.idle": "2020-12-08T00:58:58.885730Z",
     "shell.execute_reply": "2020-12-08T00:58:58.885097Z",
     "shell.execute_reply.started": "2020-12-08T00:58:58.737359Z"
    }
   },
   "outputs": [
    {
     "data": {
      "image/png": "[encoded data removed]",
      "text/plain": [
       "<Figure size 720x576 with 1 Axes>"
      ]
     },
     "metadata": {
      "needs_background": "light"
     },
     "output_type": "display_data"
    }
   ],
   "source": [
    "pred_proba = gridsearch.best_estimator_.predict_proba(X_test)[:, 1]\n",
    "fpr, tpr, thresholds = roc_curve(y_test, pred_proba)\n",
    "\n",
    "plt.figure(figsize=(10, 8))\n",
    "plt.plot([0,1], [0,1])\n",
    "plt.plot(fpr, tpr)\n",
    "plt.grid()\n",
    "plt.show()"
   ]
  },
  {
   "cell_type": "markdown",
   "metadata": {},
   "source": [
    "### 4.4 xgboost"
   ]
  },
  {
   "cell_type": "code",
   "execution_count": 72,
   "metadata": {
    "execution": {
     "iopub.execute_input": "2020-12-08T00:59:03.976515Z",
     "iopub.status.busy": "2020-12-08T00:59:03.976279Z",
     "iopub.status.idle": "2020-12-08T00:59:04.484774Z",
     "shell.execute_reply": "2020-12-08T00:59:04.484026Z",
     "shell.execute_reply.started": "2020-12-08T00:59:03.976488Z"
    }
   },
   "outputs": [
    {
     "data": {
      "text/plain": [
       "GridSearchCV(cv=5,\n",
       "             estimator=Pipeline(steps=[('preprocessor',\n",
       "                                        ColumnTransformer(transformers=[('num',\n",
       "                                                                         Pipeline(steps=[('scaler',\n",
       "                                                                                          StandardScaler())]),\n",
       "                                                                         ['Age',\n",
       "                                                                          'BusinessTravel',\n",
       "                                                                          'DailyRate',\n",
       "                                                                          'Department',\n",
       "                                                                          'DistanceFromHome',\n",
       "                                                                          'Education',\n",
       "                                                                          'EducationField',\n",
       "                                                                          'EnvironmentSatisfaction',\n",
       "                                                                          'Gender',\n",
       "                                                                          'HourlyRate',\n",
       "                                                                          'JobInvolvement',\n",
       "                                                                          'JobLevel',\n",
       "                                                                          'JobRole',\n",
       "                                                                          'JobSatisfaction',\n",
       "                                                                          'Mar...\n",
       "                                                      learning_rate=None,\n",
       "                                                      max_delta_step=None,\n",
       "                                                      max_depth=None,\n",
       "                                                      min_child_weight=None,\n",
       "                                                      missing=nan,\n",
       "                                                      monotone_constraints=None,\n",
       "                                                      n_estimators=100,\n",
       "                                                      n_jobs=None,\n",
       "                                                      num_parallel_tree=None,\n",
       "                                                      random_state=None,\n",
       "                                                      reg_alpha=None,\n",
       "                                                      reg_lambda=None,\n",
       "                                                      scale_pos_weight=None,\n",
       "                                                      subsample=None,\n",
       "                                                      tree_method=None,\n",
       "                                                      validate_parameters=None,\n",
       "                                                      verbosity=None))]),\n",
       "             n_jobs=-1, param_grid=[{}], return_train_score=True)"
      ]
     },
     "execution_count": 72,
     "metadata": {},
     "output_type": "execute_result"
    }
   ],
   "source": [
    "xgb_model = xgb.XGBClassifier()\n",
    "\n",
    "# parameters\n",
    "\n",
    "pipe = Pipeline([('preprocessor', preprocessor),\n",
    "                 ('xgb', xgb_model)],\n",
    "                )\n",
    "\n",
    "params_grid = [{\n",
    "}]\n",
    "\n",
    "gridsearch = GridSearchCV(\n",
    "    estimator=pipe, param_grid=params_grid, cv=5, n_jobs=-1, return_train_score=True)\n",
    "gridsearch.fit(X_train, y_train)"
   ]
  },
  {
   "cell_type": "code",
   "execution_count": 73,
   "metadata": {
    "execution": {
     "iopub.execute_input": "2020-12-08T00:59:05.124000Z",
     "iopub.status.busy": "2020-12-08T00:59:05.123754Z",
     "iopub.status.idle": "2020-12-08T00:59:05.134592Z",
     "shell.execute_reply": "2020-12-08T00:59:05.133742Z",
     "shell.execute_reply.started": "2020-12-08T00:59:05.123972Z"
    }
   },
   "outputs": [
    {
     "data": {
      "text/plain": [
       "0.8532608695652174"
      ]
     },
     "execution_count": 73,
     "metadata": {},
     "output_type": "execute_result"
    }
   ],
   "source": [
    "result = gridsearch.best_estimator_.predict(X_test)\n",
    "accuracy_score(y_test, result)"
   ]
  },
  {
   "cell_type": "code",
   "execution_count": 74,
   "metadata": {
    "execution": {
     "iopub.execute_input": "2020-12-08T00:59:05.390748Z",
     "iopub.status.busy": "2020-12-08T00:59:05.390453Z",
     "iopub.status.idle": "2020-12-08T00:59:05.404511Z",
     "shell.execute_reply": "2020-12-08T00:59:05.403778Z",
     "shell.execute_reply.started": "2020-12-08T00:59:05.390715Z"
    }
   },
   "outputs": [
    {
     "data": {
      "text/html": [
       "<div>\n",
       "<style scoped>\n",
       "    .dataframe tbody tr th:only-of-type {\n",
       "        vertical-align: middle;\n",
       "    }\n",
       "\n",
       "    .dataframe tbody tr th {\n",
       "        vertical-align: top;\n",
       "    }\n",
       "\n",
       "    .dataframe thead th {\n",
       "        text-align: right;\n",
       "    }\n",
       "</style>\n",
       "<table border=\"1\" class=\"dataframe\">\n",
       "  <thead>\n",
       "    <tr style=\"text-align: right;\">\n",
       "      <th></th>\n",
       "      <th>params</th>\n",
       "      <th>mean_test_score</th>\n",
       "      <th>rank_test_score</th>\n",
       "      <th>split0_test_score</th>\n",
       "      <th>split1_test_score</th>\n",
       "      <th>split2_test_score</th>\n",
       "      <th>split3_test_score</th>\n",
       "      <th>split4_test_score</th>\n",
       "    </tr>\n",
       "  </thead>\n",
       "  <tbody>\n",
       "    <tr>\n",
       "      <th>0</th>\n",
       "      <td>{}</td>\n",
       "      <td>0.855738</td>\n",
       "      <td>1</td>\n",
       "      <td>0.819005</td>\n",
       "      <td>0.868778</td>\n",
       "      <td>0.845455</td>\n",
       "      <td>0.881818</td>\n",
       "      <td>0.863636</td>\n",
       "    </tr>\n",
       "  </tbody>\n",
       "</table>\n",
       "</div>"
      ],
      "text/plain": [
       "  params  mean_test_score  rank_test_score  split0_test_score  \\\n",
       "0     {}         0.855738                1           0.819005   \n",
       "\n",
       "   split1_test_score  split2_test_score  split3_test_score  split4_test_score  \n",
       "0           0.868778           0.845455           0.881818           0.863636  "
      ]
     },
     "execution_count": 74,
     "metadata": {},
     "output_type": "execute_result"
    }
   ],
   "source": [
    "scores_df = pd.DataFrame(gridsearch.cv_results_)\n",
    "scores_df[['params', 'mean_test_score', 'rank_test_score',\n",
    "           'split0_test_score', 'split1_test_score', 'split2_test_score', 'split3_test_score', 'split4_test_score']].sort_values('rank_test_score').reset_index(drop=True).head()"
   ]
  },
  {
   "cell_type": "code",
   "execution_count": 75,
   "metadata": {
    "execution": {
     "iopub.execute_input": "2020-12-08T00:59:06.621077Z",
     "iopub.status.busy": "2020-12-08T00:59:06.620812Z",
     "iopub.status.idle": "2020-12-08T00:59:07.294491Z",
     "shell.execute_reply": "2020-12-08T00:59:07.293724Z",
     "shell.execute_reply.started": "2020-12-08T00:59:06.621047Z"
    }
   },
   "outputs": [
    {
     "data": {
      "image/png": "[encoded data removed]",
      "text/plain": [
       "<Figure size 432x288 with 1 Axes>"
      ]
     },
     "metadata": {
      "needs_background": "light"
     },
     "output_type": "display_data"
    }
   ],
   "source": [
    "plot_learning_curve(gridsearch.best_estimator_, ' LogisticRegression Learning Curve',X_train, y_train)"
   ]
  },
  {
   "cell_type": "markdown",
   "metadata": {},
   "source": [
    "- 과소 적합"
   ]
  },
  {
   "cell_type": "code",
   "execution_count": 76,
   "metadata": {
    "execution": {
     "iopub.execute_input": "2020-12-08T00:59:10.738668Z",
     "iopub.status.busy": "2020-12-08T00:59:10.738434Z",
     "iopub.status.idle": "2020-12-08T00:59:10.912362Z",
     "shell.execute_reply": "2020-12-08T00:59:10.911677Z",
     "shell.execute_reply.started": "2020-12-08T00:59:10.738641Z"
    }
   },
   "outputs": [
    {
     "data": {
      "image/png": "[encoded data removed]",
      "text/plain": [
       "<Figure size 720x576 with 1 Axes>"
      ]
     },
     "metadata": {
      "needs_background": "light"
     },
     "output_type": "display_data"
    }
   ],
   "source": [
    "pred_proba = gridsearch.best_estimator_.predict_proba(X_test)[:, 1]\n",
    "fpr, tpr, thresholds = roc_curve(y_test, pred_proba)\n",
    "\n",
    "plt.figure(figsize=(10, 8))\n",
    "plt.plot([0,1], [0,1])\n",
    "plt.plot(fpr, tpr)\n",
    "plt.grid()\n",
    "plt.show()"
   ]
  },
  {
   "cell_type": "markdown",
   "metadata": {},
   "source": [
    "- 앙상블 모델인 Xgboost를 이용하여 예측한 결과 85%의 정확도를 보입니다.\n",
    "- 가장 높은 수치이지만 만족스럽지 못합니다.\n",
    "\n",
    "<br>"
   ]
  },
  {
   "cell_type": "markdown",
   "metadata": {},
   "source": [
    "### 4.5 결론\n",
    "- 일단 데이터 Feature Engineering이 거의 없는 상태에선 대부분의 알고리즘의 과소적합으로 나온다. 아마도 Feature Engineering을 더 진행해야 할듯 하다.\n",
    "\n",
    "<br>\n",
    "\n",
    "## 5. Feature Engineering - 2\n",
    "---\n",
    "### 5.1 Age"
   ]
  },
  {
   "cell_type": "code",
   "execution_count": 89,
   "metadata": {
    "execution": {
     "iopub.execute_input": "2020-12-08T01:04:10.728461Z",
     "iopub.status.busy": "2020-12-08T01:04:10.728117Z",
     "iopub.status.idle": "2020-12-08T01:04:10.895671Z",
     "shell.execute_reply": "2020-12-08T01:04:10.895083Z",
     "shell.execute_reply.started": "2020-12-08T01:04:10.728426Z"
    }
   },
   "outputs": [
    {
     "data": {
      "image/png": "[encoded data removed]",
      "text/plain": [
       "<Figure size 576x576 with 1 Axes>"
      ]
     },
     "metadata": {
      "needs_background": "light"
     },
     "output_type": "display_data"
    }
   ],
   "source": [
    "plt.figure(figsize=(8,8))\n",
    "plt.title('Age의 분포')\n",
    "data['Age'].plot(kind = 'hist')\n",
    "plt.show()"
   ]
  },
  {
   "cell_type": "code",
   "execution_count": 95,
   "metadata": {
    "execution": {
     "iopub.execute_input": "2020-12-08T01:05:21.913386Z",
     "iopub.status.busy": "2020-12-08T01:05:21.913149Z",
     "iopub.status.idle": "2020-12-08T01:05:21.924508Z",
     "shell.execute_reply": "2020-12-08T01:05:21.923873Z",
     "shell.execute_reply.started": "2020-12-08T01:05:21.913359Z"
    }
   },
   "outputs": [
    {
     "data": {
      "text/html": [
       "<div>\n",
       "<style scoped>\n",
       "    .dataframe tbody tr th:only-of-type {\n",
       "        vertical-align: middle;\n",
       "    }\n",
       "\n",
       "    .dataframe tbody tr th {\n",
       "        vertical-align: top;\n",
       "    }\n",
       "\n",
       "    .dataframe thead th {\n",
       "        text-align: right;\n",
       "    }\n",
       "</style>\n",
       "<table border=\"1\" class=\"dataframe\">\n",
       "  <thead>\n",
       "    <tr style=\"text-align: right;\">\n",
       "      <th></th>\n",
       "      <th>index</th>\n",
       "      <th>Age</th>\n",
       "    </tr>\n",
       "  </thead>\n",
       "  <tbody>\n",
       "    <tr>\n",
       "      <th>0</th>\n",
       "      <td>35</td>\n",
       "      <td>78</td>\n",
       "    </tr>\n",
       "    <tr>\n",
       "      <th>1</th>\n",
       "      <td>34</td>\n",
       "      <td>77</td>\n",
       "    </tr>\n",
       "    <tr>\n",
       "      <th>2</th>\n",
       "      <td>31</td>\n",
       "      <td>69</td>\n",
       "    </tr>\n",
       "    <tr>\n",
       "      <th>3</th>\n",
       "      <td>36</td>\n",
       "      <td>69</td>\n",
       "    </tr>\n",
       "    <tr>\n",
       "      <th>4</th>\n",
       "      <td>29</td>\n",
       "      <td>68</td>\n",
       "    </tr>\n",
       "    <tr>\n",
       "      <th>5</th>\n",
       "      <td>32</td>\n",
       "      <td>61</td>\n",
       "    </tr>\n",
       "    <tr>\n",
       "      <th>6</th>\n",
       "      <td>30</td>\n",
       "      <td>60</td>\n",
       "    </tr>\n",
       "    <tr>\n",
       "      <th>7</th>\n",
       "      <td>33</td>\n",
       "      <td>58</td>\n",
       "    </tr>\n",
       "    <tr>\n",
       "      <th>8</th>\n",
       "      <td>38</td>\n",
       "      <td>58</td>\n",
       "    </tr>\n",
       "    <tr>\n",
       "      <th>9</th>\n",
       "      <td>40</td>\n",
       "      <td>57</td>\n",
       "    </tr>\n",
       "    <tr>\n",
       "      <th>10</th>\n",
       "      <td>37</td>\n",
       "      <td>50</td>\n",
       "    </tr>\n",
       "    <tr>\n",
       "      <th>11</th>\n",
       "      <td>27</td>\n",
       "      <td>48</td>\n",
       "    </tr>\n",
       "    <tr>\n",
       "      <th>12</th>\n",
       "      <td>28</td>\n",
       "      <td>48</td>\n",
       "    </tr>\n",
       "    <tr>\n",
       "      <th>13</th>\n",
       "      <td>42</td>\n",
       "      <td>46</td>\n",
       "    </tr>\n",
       "    <tr>\n",
       "      <th>14</th>\n",
       "      <td>39</td>\n",
       "      <td>42</td>\n",
       "    </tr>\n",
       "    <tr>\n",
       "      <th>15</th>\n",
       "      <td>45</td>\n",
       "      <td>41</td>\n",
       "    </tr>\n",
       "    <tr>\n",
       "      <th>16</th>\n",
       "      <td>41</td>\n",
       "      <td>40</td>\n",
       "    </tr>\n",
       "    <tr>\n",
       "      <th>17</th>\n",
       "      <td>26</td>\n",
       "      <td>39</td>\n",
       "    </tr>\n",
       "    <tr>\n",
       "      <th>18</th>\n",
       "      <td>46</td>\n",
       "      <td>33</td>\n",
       "    </tr>\n",
       "    <tr>\n",
       "      <th>19</th>\n",
       "      <td>44</td>\n",
       "      <td>33</td>\n",
       "    </tr>\n",
       "    <tr>\n",
       "      <th>20</th>\n",
       "      <td>43</td>\n",
       "      <td>32</td>\n",
       "    </tr>\n",
       "    <tr>\n",
       "      <th>21</th>\n",
       "      <td>50</td>\n",
       "      <td>30</td>\n",
       "    </tr>\n",
       "    <tr>\n",
       "      <th>22</th>\n",
       "      <td>24</td>\n",
       "      <td>26</td>\n",
       "    </tr>\n",
       "    <tr>\n",
       "      <th>23</th>\n",
       "      <td>25</td>\n",
       "      <td>26</td>\n",
       "    </tr>\n",
       "    <tr>\n",
       "      <th>24</th>\n",
       "      <td>47</td>\n",
       "      <td>24</td>\n",
       "    </tr>\n",
       "    <tr>\n",
       "      <th>25</th>\n",
       "      <td>49</td>\n",
       "      <td>24</td>\n",
       "    </tr>\n",
       "    <tr>\n",
       "      <th>26</th>\n",
       "      <td>55</td>\n",
       "      <td>22</td>\n",
       "    </tr>\n",
       "    <tr>\n",
       "      <th>27</th>\n",
       "      <td>48</td>\n",
       "      <td>19</td>\n",
       "    </tr>\n",
       "    <tr>\n",
       "      <th>28</th>\n",
       "      <td>51</td>\n",
       "      <td>19</td>\n",
       "    </tr>\n",
       "    <tr>\n",
       "      <th>29</th>\n",
       "      <td>53</td>\n",
       "      <td>19</td>\n",
       "    </tr>\n",
       "    <tr>\n",
       "      <th>30</th>\n",
       "      <td>52</td>\n",
       "      <td>18</td>\n",
       "    </tr>\n",
       "    <tr>\n",
       "      <th>31</th>\n",
       "      <td>54</td>\n",
       "      <td>18</td>\n",
       "    </tr>\n",
       "    <tr>\n",
       "      <th>32</th>\n",
       "      <td>22</td>\n",
       "      <td>16</td>\n",
       "    </tr>\n",
       "    <tr>\n",
       "      <th>33</th>\n",
       "      <td>56</td>\n",
       "      <td>14</td>\n",
       "    </tr>\n",
       "    <tr>\n",
       "      <th>34</th>\n",
       "      <td>58</td>\n",
       "      <td>14</td>\n",
       "    </tr>\n",
       "    <tr>\n",
       "      <th>35</th>\n",
       "      <td>23</td>\n",
       "      <td>14</td>\n",
       "    </tr>\n",
       "    <tr>\n",
       "      <th>36</th>\n",
       "      <td>21</td>\n",
       "      <td>13</td>\n",
       "    </tr>\n",
       "    <tr>\n",
       "      <th>37</th>\n",
       "      <td>20</td>\n",
       "      <td>11</td>\n",
       "    </tr>\n",
       "    <tr>\n",
       "      <th>38</th>\n",
       "      <td>59</td>\n",
       "      <td>10</td>\n",
       "    </tr>\n",
       "    <tr>\n",
       "      <th>39</th>\n",
       "      <td>19</td>\n",
       "      <td>9</td>\n",
       "    </tr>\n",
       "    <tr>\n",
       "      <th>40</th>\n",
       "      <td>18</td>\n",
       "      <td>8</td>\n",
       "    </tr>\n",
       "    <tr>\n",
       "      <th>41</th>\n",
       "      <td>60</td>\n",
       "      <td>5</td>\n",
       "    </tr>\n",
       "    <tr>\n",
       "      <th>42</th>\n",
       "      <td>57</td>\n",
       "      <td>4</td>\n",
       "    </tr>\n",
       "  </tbody>\n",
       "</table>\n",
       "</div>"
      ],
      "text/plain": [
       "    index  Age\n",
       "0      35   78\n",
       "1      34   77\n",
       "2      31   69\n",
       "3      36   69\n",
       "4      29   68\n",
       "5      32   61\n",
       "6      30   60\n",
       "7      33   58\n",
       "8      38   58\n",
       "9      40   57\n",
       "10     37   50\n",
       "11     27   48\n",
       "12     28   48\n",
       "13     42   46\n",
       "14     39   42\n",
       "15     45   41\n",
       "16     41   40\n",
       "17     26   39\n",
       "18     46   33\n",
       "19     44   33\n",
       "20     43   32\n",
       "21     50   30\n",
       "22     24   26\n",
       "23     25   26\n",
       "24     47   24\n",
       "25     49   24\n",
       "26     55   22\n",
       "27     48   19\n",
       "28     51   19\n",
       "29     53   19\n",
       "30     52   18\n",
       "31     54   18\n",
       "32     22   16\n",
       "33     56   14\n",
       "34     58   14\n",
       "35     23   14\n",
       "36     21   13\n",
       "37     20   11\n",
       "38     59   10\n",
       "39     19    9\n",
       "40     18    8\n",
       "41     60    5\n",
       "42     57    4"
      ]
     },
     "execution_count": 95,
     "metadata": {},
     "output_type": "execute_result"
    }
   ],
   "source": [
    "data['Age'].value_counts().reset_index()"
   ]
  },
  {
   "cell_type": "markdown",
   "metadata": {},
   "source": [
    "ㅁ"
   ]
  },
  {
   "cell_type": "code",
   "execution_count": null,
   "metadata": {},
   "outputs": [],
   "source": []
  },
  {
   "cell_type": "code",
   "execution_count": null,
   "metadata": {},
   "outputs": [],
   "source": []
  },
  {
   "cell_type": "code",
   "execution_count": null,
   "metadata": {},
   "outputs": [],
   "source": []
  },
  {
   "cell_type": "markdown",
   "metadata": {},
   "source": [
    "## 5. 이후의 방향\n",
    "---\n",
    "### 5.1 머신러닝 기법의 세분화\n",
    "- 사실 Chepter 4에서 했던 예측들은 그냥 알고리즘을 가져와서 아무런 셋팅없이 진행한것 입니다.\n",
    "- 따라서, 알고리즘의 파라미터들을 수정하여 예측력을 더 올려야합니다.\n",
    "\n",
    "<br>\n",
    "\n",
    "### 5.2 정확도의 기준\n",
    "- 사실 Target의 비율이 16%이므로, 모든 데이터에 퇴사하지 않는다 라고 예측해도 84%의 정확도를 가집니다.\n",
    "- 이말인즉슨 최소한 84%는 나와야하고 이것보다 낮다는것은 성능이 좋지 않다는 이야기입니다.\n",
    "- 따라서, 파라미터 셋팅, 그리드서치등을 이용하여 일단 성능을 더 좋게 나오게 만들어야합니다.\n",
    "\n",
    "<br>\n",
    "\n",
    "### 5.3 추가적인 EDA\n",
    "- EDA 부분에서 더 많은 인사이트를 얻지 못하여 변수의 삭제, 추가적인 방향이 없었습니다. 해당부분의 추가적인 보완이 필요합니다."
   ]
  },
  {
   "cell_type": "code",
   "execution_count": 92,
   "metadata": {
    "execution": {
     "iopub.execute_input": "2020-12-07T05:00:37.731793Z",
     "iopub.status.busy": "2020-12-07T05:00:37.731537Z",
     "iopub.status.idle": "2020-12-07T05:00:37.736008Z",
     "shell.execute_reply": "2020-12-07T05:00:37.735129Z",
     "shell.execute_reply.started": "2020-12-07T05:00:37.731766Z"
    }
   },
   "outputs": [],
   "source": [
    "\n",
    "\n",
    "\n",
    "estimators = [('scaler', MinMaxScaler()),\n",
    "              ('clf', DecisionTreeClassifier(random_state=87)),]\n",
    "#               ('rf', RandomForestClassifier(random_state=87))]\n",
    "\n"
   ]
  },
  {
   "cell_type": "code",
   "execution_count": 94,
   "metadata": {
    "execution": {
     "iopub.execute_input": "2020-12-07T05:00:57.886360Z",
     "iopub.status.busy": "2020-12-07T05:00:57.886085Z",
     "iopub.status.idle": "2020-12-07T05:00:59.269468Z",
     "shell.execute_reply": "2020-12-07T05:00:59.268639Z",
     "shell.execute_reply.started": "2020-12-07T05:00:57.886326Z"
    }
   },
   "outputs": [
    {
     "data": {
      "text/plain": [
       "GridSearchCV(cv=5,\n",
       "             estimator=Pipeline(steps=[('scaler', MinMaxScaler()),\n",
       "                                       ('clf',\n",
       "                                        DecisionTreeClassifier(random_state=87))]),\n",
       "             n_jobs=-1, param_grid=[{'clf__max_depth': [2, 4, 7, 10]}])"
      ]
     },
     "execution_count": 94,
     "metadata": {},
     "output_type": "execute_result"
    }
   ],
   "source": [
    "\n",
    "\n",
    "\n",
    "#                'rf__n_estimators': [100, 200, 300, 400]}]\n",
    "\n"
   ]
  },
  {
   "cell_type": "code",
   "execution_count": 95,
   "metadata": {
    "execution": {
     "iopub.execute_input": "2020-12-07T05:00:59.271542Z",
     "iopub.status.busy": "2020-12-07T05:00:59.271310Z",
     "iopub.status.idle": "2020-12-07T05:00:59.278113Z",
     "shell.execute_reply": "2020-12-07T05:00:59.277427Z",
     "shell.execute_reply.started": "2020-12-07T05:00:59.271513Z"
    }
   },
   "outputs": [
    {
     "data": {
      "text/plain": [
       "{'memory': None,\n",
       " 'steps': [('scaler', MinMaxScaler()),\n",
       "  ('clf', DecisionTreeClassifier(max_depth=4, random_state=87))],\n",
       " 'verbose': False,\n",
       " 'scaler': MinMaxScaler(),\n",
       " 'clf': DecisionTreeClassifier(max_depth=4, random_state=87),\n",
       " 'scaler__copy': True,\n",
       " 'scaler__feature_range': (0, 1),\n",
       " 'clf__ccp_alpha': 0.0,\n",
       " 'clf__class_weight': None,\n",
       " 'clf__criterion': 'gini',\n",
       " 'clf__max_depth': 4,\n",
       " 'clf__max_features': None,\n",
       " 'clf__max_leaf_nodes': None,\n",
       " 'clf__min_impurity_decrease': 0.0,\n",
       " 'clf__min_impurity_split': None,\n",
       " 'clf__min_samples_leaf': 1,\n",
       " 'clf__min_samples_split': 2,\n",
       " 'clf__min_weight_fraction_leaf': 0.0,\n",
       " 'clf__presort': 'deprecated',\n",
       " 'clf__random_state': 87,\n",
       " 'clf__splitter': 'best'}"
      ]
     },
     "execution_count": 95,
     "metadata": {},
     "output_type": "execute_result"
    }
   ],
   "source": [
    "gridsearch.best_estimator_.get_params()\n"
   ]
  },
  {
   "cell_type": "code",
   "execution_count": 67,
   "metadata": {
    "execution": {
     "iopub.execute_input": "2020-12-07T04:42:41.146092Z",
     "iopub.status.busy": "2020-12-07T04:42:41.145893Z",
     "iopub.status.idle": "2020-12-07T04:42:41.151141Z",
     "shell.execute_reply": "2020-12-07T04:42:41.150333Z",
     "shell.execute_reply.started": "2020-12-07T04:42:41.146071Z"
    }
   },
   "outputs": [
    {
     "data": {
      "text/plain": [
       "0.8288043478260869"
      ]
     },
     "execution_count": 67,
     "metadata": {},
     "output_type": "execute_result"
    }
   ],
   "source": [
    "accuracy_score(y_test,gridsearch.best_estimator_.predict(X_test))"
   ]
  },
  {
   "cell_type": "code",
   "execution_count": 69,
   "metadata": {
    "execution": {
     "iopub.execute_input": "2020-12-07T04:44:42.224201Z",
     "iopub.status.busy": "2020-12-07T04:44:42.223952Z",
     "iopub.status.idle": "2020-12-07T04:44:42.231374Z",
     "shell.execute_reply": "2020-12-07T04:44:42.230719Z",
     "shell.execute_reply.started": "2020-12-07T04:44:42.224174Z"
    }
   },
   "outputs": [
    {
     "data": {
      "text/plain": [
       "{'mean_fit_time': array([0.00311236, 0.00433178, 0.0075696 , 0.00780277]),\n",
       " 'std_fit_time': array([0.0001426 , 0.00029346, 0.00016187, 0.00032953]),\n",
       " 'mean_score_time': array([0.00050621, 0.00065985, 0.00074525, 0.00067196]),\n",
       " 'std_score_time': array([4.09964612e-05, 9.45314002e-05, 1.33672467e-04, 1.12719261e-04]),\n",
       " 'param_clf__max_depth': masked_array(data=[2, 4, 7, 10],\n",
       "              mask=[False, False, False, False],\n",
       "        fill_value='?',\n",
       "             dtype=object),\n",
       " 'params': [{'clf__max_depth': 2},\n",
       "  {'clf__max_depth': 4},\n",
       "  {'clf__max_depth': 7},\n",
       "  {'clf__max_depth': 10}],\n",
       " 'split0_test_score': array([0.83710407, 0.83257919, 0.80542986, 0.79638009]),\n",
       " 'split1_test_score': array([0.84162896, 0.83257919, 0.85067873, 0.79638009]),\n",
       " 'split2_test_score': array([0.82272727, 0.84090909, 0.8       , 0.79090909]),\n",
       " 'split3_test_score': array([0.83636364, 0.84090909, 0.8       , 0.75909091]),\n",
       " 'split4_test_score': array([0.83636364, 0.82727273, 0.80909091, 0.78636364]),\n",
       " 'mean_test_score': array([0.83483752, 0.83484986, 0.8130399 , 0.78582476]),\n",
       " 'std_test_score': array([0.00636517, 0.00531326, 0.01913252, 0.01388286]),\n",
       " 'rank_test_score': array([2, 1, 3, 4], dtype=int32)}"
      ]
     },
     "execution_count": 69,
     "metadata": {},
     "output_type": "execute_result"
    }
   ],
   "source": [
    "gridsearch.cv_results_"
   ]
  },
  {
   "cell_type": "code",
   "execution_count": null,
   "metadata": {},
   "outputs": [],
   "source": []
  }
 ],
 "metadata": {
  "kernelspec": {
   "display_name": "MLproject_HR",
   "language": "python",
   "name": "mlproject_hr"
  },
  "language_info": {
   "codemirror_mode": {
    "name": "ipython",
    "version": 3
   },
   "file_extension": ".py",
   "mimetype": "text/x-python",
   "name": "python",
   "nbconvert_exporter": "python",
   "pygments_lexer": "ipython3",
   "version": "3.7.2"
  }
 },
 "nbformat": 4,
 "nbformat_minor": 4
}
