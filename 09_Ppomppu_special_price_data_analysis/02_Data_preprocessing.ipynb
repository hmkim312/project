{
 "cells": [
  {
   "attachments": {},
   "cell_type": "markdown",
   "id": "9882f069-f323-48c7-9f24-89ed597556de",
   "metadata": {
    "tags": []
   },
   "source": [
    "# 뽐뿌 특가 데이터 전처리\n",
    "---\n",
    "## 개요\n",
    "\n",
    "데이터 분석을 시작하기 전에, 정확한 데이터 분석을 위해 전처리 과정이 필요하다. 데이터 분석가 업무의 80%는 데이터 전처리라는 우스갯소리를 할 정도로 굉장히 많은 시간이 들어가고 많은 고민을 하게 하는것이 데이터 전처리 과정이다. 이번 '뽐뿌' 특가 데이터 분석에도 데이터 전처리는 빠질수 없는 과정으로 분석을 진행하기 용이하기 데이터 전처리를 진행했다.\n",
    "\n",
    "## 데이터 전처리 과정\n",
    "\n",
    "1. **특성 추출**: 게시물 제목에서 판매채널, 제품 가격, 배송비 정보를 추출했다.\n",
    "2. **데이터 정제**: 추출한 특성에서 결측치, 이상치, 정합성 확인, 통합 등을 처리하여 데이터의 일관성과 정확성을 높였다\n",
    "3. **데이터 변환**: 문자열을 숫자로 변환하는 등의 필요한 형태로 데이터를 변환했다.\n",
    "\n",
    "\n",
    "## 결론\n",
    "데이터 전처리를 통해 특가 게시물의 핵심 정보인 판매 채널, 제품 금액, 배송비, 그리고 키워드를 추출하였다. 이러한 과정에서 판매 채널의 통합, 금액 정보의 정제 및 키워드의 최적화 작업으로 데이터 품질을 향상시켰다. 이렇게 향상된 데이터는 특가를 찾는 사용자들의 관심도와 반응을 파악하는 데 큰 도움을 제공할 것이다.  따라서, 전처리된 데이터는 특가 정보의 특성과 트렌드를 더욱 명확하게 보여주며, 사용자들이 더 현명한 소비 결정을 내릴 수 있도록 도와줄 것이다."
   ]
  },
  {
   "attachments": {},
   "cell_type": "markdown",
   "id": "089814e9-d15d-4458-8e38-6b33a78b7bf0",
   "metadata": {},
   "source": [
    "#### Package and Data load"
   ]
  },
  {
   "cell_type": "code",
   "execution_count": 30,
   "id": "993e7d62-5d8e-4777-9170-f8036dd2499d",
   "metadata": {
    "execution": {
     "iopub.execute_input": "2023-08-14T13:32:16.812641Z",
     "iopub.status.busy": "2023-08-14T13:32:16.812356Z",
     "iopub.status.idle": "2023-08-14T13:32:16.815540Z",
     "shell.execute_reply": "2023-08-14T13:32:16.815194Z",
     "shell.execute_reply.started": "2023-08-14T13:32:16.812618Z"
    },
    "tags": []
   },
   "outputs": [],
   "source": [
    "import pandas as pd\n",
    "import numpy as np\n",
    "import re\n",
    "\n",
    "from tqdm import tqdm\n",
    "from kiwipiepy import Kiwi\n",
    "from datetime import datetime"
   ]
  },
  {
   "cell_type": "code",
   "execution_count": 2,
   "id": "a111bba6-c9e7-469d-804c-9307a7b57493",
   "metadata": {
    "execution": {
     "iopub.execute_input": "2023-08-14T13:31:30.368605Z",
     "iopub.status.busy": "2023-08-14T13:31:30.368412Z",
     "iopub.status.idle": "2023-08-14T13:31:30.710954Z",
     "shell.execute_reply": "2023-08-14T13:31:30.710501Z",
     "shell.execute_reply.started": "2023-08-14T13:31:30.368590Z"
    },
    "tags": []
   },
   "outputs": [
    {
     "data": {
      "text/html": [
       "<div>\n",
       "<style scoped>\n",
       "    .dataframe tbody tr th:only-of-type {\n",
       "        vertical-align: middle;\n",
       "    }\n",
       "\n",
       "    .dataframe tbody tr th {\n",
       "        vertical-align: top;\n",
       "    }\n",
       "\n",
       "    .dataframe thead th {\n",
       "        text-align: right;\n",
       "    }\n",
       "</style>\n",
       "<table border=\"1\" class=\"dataframe\">\n",
       "  <thead>\n",
       "    <tr style=\"text-align: right;\">\n",
       "      <th></th>\n",
       "      <th>item_no</th>\n",
       "      <th>writer</th>\n",
       "      <th>title</th>\n",
       "      <th>end</th>\n",
       "      <th>comment</th>\n",
       "      <th>date</th>\n",
       "      <th>recommend</th>\n",
       "      <th>opposite</th>\n",
       "      <th>view</th>\n",
       "      <th>category</th>\n",
       "      <th>URL</th>\n",
       "      <th>pop</th>\n",
       "      <th>hot</th>\n",
       "    </tr>\n",
       "  </thead>\n",
       "  <tbody>\n",
       "    <tr>\n",
       "      <th>0</th>\n",
       "      <td>470673</td>\n",
       "      <td>Ko1023!</td>\n",
       "      <td>[cj온스타일] 아이더 반팔 기능티 2장 (21,600원/무료)</td>\n",
       "      <td>True</td>\n",
       "      <td>8</td>\n",
       "      <td>23.06.29 20:39:22</td>\n",
       "      <td>1</td>\n",
       "      <td>1</td>\n",
       "      <td>7125</td>\n",
       "      <td>[의류/잡화]</td>\n",
       "      <td>https://www.ppomppu.co.kr/zboard/view.php?id=p...</td>\n",
       "      <td>False</td>\n",
       "      <td>False</td>\n",
       "    </tr>\n",
       "    <tr>\n",
       "      <th>1</th>\n",
       "      <td>470672</td>\n",
       "      <td>아미드뺑</td>\n",
       "      <td>[G마켓] PS5 디스크 에디션 갓오워 라그나로크 에디션(1218A) (606,97...</td>\n",
       "      <td>True</td>\n",
       "      <td>15</td>\n",
       "      <td>23.06.29 20:03:40</td>\n",
       "      <td>0</td>\n",
       "      <td>0</td>\n",
       "      <td>9811</td>\n",
       "      <td>[가전/가구]</td>\n",
       "      <td>https://www.ppomppu.co.kr/zboard/view.php?id=p...</td>\n",
       "      <td>False</td>\n",
       "      <td>False</td>\n",
       "    </tr>\n",
       "  </tbody>\n",
       "</table>\n",
       "</div>"
      ],
      "text/plain": [
       "   item_no   writer                                              title   end  \\\n",
       "0   470673  Ko1023!                [cj온스타일] 아이더 반팔 기능티 2장 (21,600원/무료)  True   \n",
       "1   470672     아미드뺑  [G마켓] PS5 디스크 에디션 갓오워 라그나로크 에디션(1218A) (606,97...  True   \n",
       "\n",
       "   comment               date  recommend  opposite  view category  \\\n",
       "0        8  23.06.29 20:39:22          1         1  7125  [의류/잡화]   \n",
       "1       15  23.06.29 20:03:40          0         0  9811  [가전/가구]   \n",
       "\n",
       "                                                 URL    pop    hot  \n",
       "0  https://www.ppomppu.co.kr/zboard/view.php?id=p...  False  False  \n",
       "1  https://www.ppomppu.co.kr/zboard/view.php?id=p...  False  False  "
      ]
     },
     "execution_count": 2,
     "metadata": {},
     "output_type": "execute_result"
    }
   ],
   "source": [
    "df = pd.read_csv('./datas/2023-06-30 22:27:20.666568_117980개.csv')\n",
    "df.head(2)"
   ]
  },
  {
   "attachments": {},
   "cell_type": "markdown",
   "id": "d7b41ce8-2a2d-4bc3-af98-a53cb40b8176",
   "metadata": {},
   "source": [
    "\n",
    "| Column                 | 설명                                                                                      |\n",
    "|-----------------------|--------------------------------------------------------------------------------------------------|\n",
    "| item_no               | 게시물 번호                                                                   |\n",
    "| Author                | 작성자                                                                   |\n",
    "| Title                 | 게시물 제목                 |\n",
    "| end                   | 특가 종료 여부                                  |\n",
    "| Comments              | 댓글 수                                                   |\n",
    "| Date                  | 게시 날짜                                                           |\n",
    "| recommend           | 추천수                      |\n",
    "| opposite              | 반대수                         |\n",
    "| view                  | 조회수                                                    |\n",
    "| Category              | 특가 제품이 속한 카테고리                                                                        |\n",
    "| URL                   | URL                                                                  |\n",
    "| pop                   | 인기 게시물 여부                                           |\n",
    "| hot                   | 핫 게시물 여부                                           |"
   ]
  },
  {
   "attachments": {},
   "cell_type": "markdown",
   "id": "64e2e3b8-e56c-422f-a140-0f03ccad4662",
   "metadata": {},
   "source": [
    "## 데이터 전처리"
   ]
  },
  {
   "attachments": {},
   "cell_type": "markdown",
   "id": "c9b7ad84-6953-4ad9-add2-02ba68a0b247",
   "metadata": {},
   "source": [
    "### 1. Data Info\n",
    "데이터 전처리 전 간단하게 크롤링된 데이터의 요약자료를 보았다. 눈에 뜨는것은 댓글이 1401개 있는 게시물인데, 확인해보니 P11이라는 가성비 태블릿이 역대급 특가였으나, 실제로는 가격 오류로 인한것이였으며, 주문 제품은 모두 취소처리된 게시물이다."
   ]
  },
  {
   "cell_type": "code",
   "execution_count": 3,
   "id": "eae30184-5baf-4a8f-8b07-6d025f2bc339",
   "metadata": {
    "execution": {
     "iopub.execute_input": "2023-08-14T13:31:31.528035Z",
     "iopub.status.busy": "2023-08-14T13:31:31.527750Z",
     "iopub.status.idle": "2023-08-14T13:31:31.547556Z",
     "shell.execute_reply": "2023-08-14T13:31:31.547250Z",
     "shell.execute_reply.started": "2023-08-14T13:31:31.528012Z"
    },
    "tags": []
   },
   "outputs": [
    {
     "data": {
      "text/html": [
       "<div>\n",
       "<style scoped>\n",
       "    .dataframe tbody tr th:only-of-type {\n",
       "        vertical-align: middle;\n",
       "    }\n",
       "\n",
       "    .dataframe tbody tr th {\n",
       "        vertical-align: top;\n",
       "    }\n",
       "\n",
       "    .dataframe thead th {\n",
       "        text-align: right;\n",
       "    }\n",
       "</style>\n",
       "<table border=\"1\" class=\"dataframe\">\n",
       "  <thead>\n",
       "    <tr style=\"text-align: right;\">\n",
       "      <th></th>\n",
       "      <th>item_no</th>\n",
       "      <th>comment</th>\n",
       "      <th>recommend</th>\n",
       "      <th>opposite</th>\n",
       "      <th>view</th>\n",
       "    </tr>\n",
       "  </thead>\n",
       "  <tbody>\n",
       "    <tr>\n",
       "      <th>count</th>\n",
       "      <td>117980.000000</td>\n",
       "      <td>117980.000000</td>\n",
       "      <td>117980.000000</td>\n",
       "      <td>117980.000000</td>\n",
       "      <td>117980.000000</td>\n",
       "    </tr>\n",
       "    <tr>\n",
       "      <th>mean</th>\n",
       "      <td>387483.181395</td>\n",
       "      <td>30.878047</td>\n",
       "      <td>6.636947</td>\n",
       "      <td>0.207391</td>\n",
       "      <td>14840.913062</td>\n",
       "    </tr>\n",
       "    <tr>\n",
       "      <th>std</th>\n",
       "      <td>48189.476587</td>\n",
       "      <td>32.625210</td>\n",
       "      <td>13.671075</td>\n",
       "      <td>1.476107</td>\n",
       "      <td>10264.550307</td>\n",
       "    </tr>\n",
       "    <tr>\n",
       "      <th>min</th>\n",
       "      <td>305204.000000</td>\n",
       "      <td>0.000000</td>\n",
       "      <td>0.000000</td>\n",
       "      <td>0.000000</td>\n",
       "      <td>731.000000</td>\n",
       "    </tr>\n",
       "    <tr>\n",
       "      <th>25%</th>\n",
       "      <td>345619.750000</td>\n",
       "      <td>11.000000</td>\n",
       "      <td>0.000000</td>\n",
       "      <td>0.000000</td>\n",
       "      <td>7676.000000</td>\n",
       "    </tr>\n",
       "    <tr>\n",
       "      <th>50%</th>\n",
       "      <td>387378.500000</td>\n",
       "      <td>21.000000</td>\n",
       "      <td>2.000000</td>\n",
       "      <td>0.000000</td>\n",
       "      <td>12169.000000</td>\n",
       "    </tr>\n",
       "    <tr>\n",
       "      <th>75%</th>\n",
       "      <td>428465.250000</td>\n",
       "      <td>39.000000</td>\n",
       "      <td>7.000000</td>\n",
       "      <td>0.000000</td>\n",
       "      <td>19035.000000</td>\n",
       "    </tr>\n",
       "    <tr>\n",
       "      <th>max</th>\n",
       "      <td>470673.000000</td>\n",
       "      <td>1401.000000</td>\n",
       "      <td>582.000000</td>\n",
       "      <td>141.000000</td>\n",
       "      <td>427882.000000</td>\n",
       "    </tr>\n",
       "  </tbody>\n",
       "</table>\n",
       "</div>"
      ],
      "text/plain": [
       "             item_no        comment      recommend       opposite  \\\n",
       "count  117980.000000  117980.000000  117980.000000  117980.000000   \n",
       "mean   387483.181395      30.878047       6.636947       0.207391   \n",
       "std     48189.476587      32.625210      13.671075       1.476107   \n",
       "min    305204.000000       0.000000       0.000000       0.000000   \n",
       "25%    345619.750000      11.000000       0.000000       0.000000   \n",
       "50%    387378.500000      21.000000       2.000000       0.000000   \n",
       "75%    428465.250000      39.000000       7.000000       0.000000   \n",
       "max    470673.000000    1401.000000     582.000000     141.000000   \n",
       "\n",
       "                view  \n",
       "count  117980.000000  \n",
       "mean    14840.913062  \n",
       "std     10264.550307  \n",
       "min       731.000000  \n",
       "25%      7676.000000  \n",
       "50%     12169.000000  \n",
       "75%     19035.000000  \n",
       "max    427882.000000  "
      ]
     },
     "execution_count": 3,
     "metadata": {},
     "output_type": "execute_result"
    }
   ],
   "source": [
    "df.describe()"
   ]
  },
  {
   "cell_type": "code",
   "execution_count": 4,
   "id": "c297ebd0-1e3c-4b27-b337-6900662a6dea",
   "metadata": {
    "execution": {
     "iopub.execute_input": "2023-08-14T13:31:31.722356Z",
     "iopub.status.busy": "2023-08-14T13:31:31.722157Z",
     "iopub.status.idle": "2023-08-14T13:31:31.794516Z",
     "shell.execute_reply": "2023-08-14T13:31:31.794188Z",
     "shell.execute_reply.started": "2023-08-14T13:31:31.722342Z"
    },
    "tags": []
   },
   "outputs": [
    {
     "name": "stdout",
     "output_type": "stream",
     "text": [
      "<class 'pandas.core.frame.DataFrame'>\n",
      "RangeIndex: 117980 entries, 0 to 117979\n",
      "Data columns (total 13 columns):\n",
      " #   Column     Non-Null Count   Dtype \n",
      "---  ------     --------------   ----- \n",
      " 0   item_no    117980 non-null  int64 \n",
      " 1   writer     117980 non-null  object\n",
      " 2   title      117980 non-null  object\n",
      " 3   end        117980 non-null  bool  \n",
      " 4   comment    117980 non-null  int64 \n",
      " 5   date       117980 non-null  object\n",
      " 6   recommend  117980 non-null  int64 \n",
      " 7   opposite   117980 non-null  int64 \n",
      " 8   view       117980 non-null  int64 \n",
      " 9   category   117980 non-null  object\n",
      " 10  URL        117980 non-null  object\n",
      " 11  pop        117980 non-null  bool  \n",
      " 12  hot        117980 non-null  bool  \n",
      "dtypes: bool(3), int64(5), object(5)\n",
      "memory usage: 9.3+ MB\n"
     ]
    }
   ],
   "source": [
    "df.info()"
   ]
  },
  {
   "attachments": {},
   "cell_type": "markdown",
   "id": "1dbd43ce-9dd6-49a1-b962-8f39845a621e",
   "metadata": {},
   "source": [
    "전체 특가 데이터는 117,980개로 Null값은 없는것으로 보인다. 또한 int형태와 object 형태로만 되어있어서 데이터를 정리할 필요가 있어보인다."
   ]
  },
  {
   "attachments": {},
   "cell_type": "markdown",
   "id": "99cfa4c4-01e5-4b1f-b2fc-79005956be19",
   "metadata": {
    "tags": []
   },
   "source": [
    "\n",
    "### 2. 제목에서 판매 채널, 가격 정보 가져오기\n",
    "뽐뿌게시판은 제목 맨앞에 판매 채널, 맨 뒤에 가격을 적는것을 규칙으로 하고 있으며, 이번에는 해당 규칙을 활용해 판매 채널과 가격을 제목에서 추출했다. 다만, 게시물 작성 규칙을 지키 않아도 게시글은 작성이 되므로 예외 처리된 데이터도 있을것으로 판단되며, 예외 처리되는 데이터를 줄여야 한다."
   ]
  },
  {
   "cell_type": "code",
   "execution_count": 5,
   "id": "cacb2e4e-8017-4165-b560-bcd03c592257",
   "metadata": {
    "execution": {
     "iopub.execute_input": "2023-08-14T13:31:32.367146Z",
     "iopub.status.busy": "2023-08-14T13:31:32.366835Z",
     "iopub.status.idle": "2023-08-14T13:31:32.373568Z",
     "shell.execute_reply": "2023-08-14T13:31:32.372870Z",
     "shell.execute_reply.started": "2023-08-14T13:31:32.367128Z"
    },
    "tags": []
   },
   "outputs": [],
   "source": [
    "def extract_sales_channel_and_price(title):\n",
    "    \"\"\" 특가 게시물 제목에서 가격, 판매채널 추출\n",
    "    Args:\n",
    "        title - 특가 게시물 제목\n",
    "    Returns:\n",
    "        str : 아래의 데이터를 가진 str형식 return\n",
    "            - sales_channel : 특가 판매 채널 (e.g 지마켓)\n",
    "            - price : 제품/배송비 가격\n",
    "    \"\"\"\n",
    "    # 문자열에서 [...] 혹은 (...) 형태의 구성을 찾아 추출\n",
    "    pattern = r\"\\[([^\\]]+)\\]|\\(([^\\)]+)\\)\"\n",
    "    \n",
    "    # 가격, 판매채널 추출\n",
    "    matches = re.findall(pattern, title)\n",
    "    \n",
    "    # 판매채널\n",
    "    sales_channel = matches[0][0] or matches[0][1] if matches else \"unknown\"\n",
    "    sales_channel = sales_channel.strip()\n",
    "    \n",
    "    # 가격\n",
    "    price = matches[-1][0] or matches[-1][1] if matches else \"unknown\"  # Return the last match\n",
    "    price = price.strip()\n",
    "    \n",
    "    return sales_channel, price"
   ]
  },
  {
   "cell_type": "code",
   "execution_count": 6,
   "id": "f14cb75d-0968-4f8b-9dc3-e00649f024d4",
   "metadata": {
    "execution": {
     "iopub.execute_input": "2023-08-14T13:31:33.021528Z",
     "iopub.status.busy": "2023-08-14T13:31:33.021306Z",
     "iopub.status.idle": "2023-08-14T13:31:33.246121Z",
     "shell.execute_reply": "2023-08-14T13:31:33.245684Z",
     "shell.execute_reply.started": "2023-08-14T13:31:33.021511Z"
    },
    "tags": []
   },
   "outputs": [
    {
     "data": {
      "text/html": [
       "<div>\n",
       "<style scoped>\n",
       "    .dataframe tbody tr th:only-of-type {\n",
       "        vertical-align: middle;\n",
       "    }\n",
       "\n",
       "    .dataframe tbody tr th {\n",
       "        vertical-align: top;\n",
       "    }\n",
       "\n",
       "    .dataframe thead th {\n",
       "        text-align: right;\n",
       "    }\n",
       "</style>\n",
       "<table border=\"1\" class=\"dataframe\">\n",
       "  <thead>\n",
       "    <tr style=\"text-align: right;\">\n",
       "      <th></th>\n",
       "      <th>title</th>\n",
       "      <th>sales_channel</th>\n",
       "      <th>price</th>\n",
       "    </tr>\n",
       "  </thead>\n",
       "  <tbody>\n",
       "    <tr>\n",
       "      <th>0</th>\n",
       "      <td>[cj온스타일] 아이더 반팔 기능티 2장 (21,600원/무료)</td>\n",
       "      <td>cj온스타일</td>\n",
       "      <td>21,600원/무료</td>\n",
       "    </tr>\n",
       "    <tr>\n",
       "      <th>1</th>\n",
       "      <td>[G마켓] PS5 디스크 에디션 갓오워 라그나로크 에디션(1218A) (606,97...</td>\n",
       "      <td>G마켓</td>\n",
       "      <td>606,970/무료</td>\n",
       "    </tr>\n",
       "  </tbody>\n",
       "</table>\n",
       "</div>"
      ],
      "text/plain": [
       "                                               title sales_channel       price\n",
       "0                [cj온스타일] 아이더 반팔 기능티 2장 (21,600원/무료)        cj온스타일  21,600원/무료\n",
       "1  [G마켓] PS5 디스크 에디션 갓오워 라그나로크 에디션(1218A) (606,97...           G마켓  606,970/무료"
      ]
     },
     "execution_count": 6,
     "metadata": {},
     "output_type": "execute_result"
    }
   ],
   "source": [
    "# 제목에서 판매채널과 가격 추출\n",
    "df['sales_channel'], df['price'] = zip(*df['title'].map(extract_sales_channel_and_price))\n",
    "df[['title', 'sales_channel', 'price']].head(2)"
   ]
  },
  {
   "attachments": {},
   "cell_type": "markdown",
   "id": "0a060722-8757-4c82-b080-92da9bfb188d",
   "metadata": {},
   "source": [
    "### 3. 제품/배송비 가격 정보에서 제품 가격과 배송비 정보를 분리\n",
    "`price` 컬럼을 보면 제품 가격과 배송비가 같이 적혀있으므로, 이를 다시 분리해준다"
   ]
  },
  {
   "cell_type": "code",
   "execution_count": 7,
   "id": "68eea3a1-12f9-4645-a45e-ddfa833ad642",
   "metadata": {
    "execution": {
     "iopub.execute_input": "2023-08-14T13:31:33.534544Z",
     "iopub.status.busy": "2023-08-14T13:31:33.534261Z",
     "iopub.status.idle": "2023-08-14T13:31:33.537632Z",
     "shell.execute_reply": "2023-08-14T13:31:33.537339Z",
     "shell.execute_reply.started": "2023-08-14T13:31:33.534521Z"
    },
    "tags": []
   },
   "outputs": [],
   "source": [
    "def split_price(price):\n",
    "    \"\"\" 제품/배송비 가격에서 제품 가격과 배송비 분리\n",
    "    Args:\n",
    "        price - 제품/배송비 가격\n",
    "    Returns:\n",
    "        str : 아래의 데이터를 가진 str형식 return\n",
    "            - product_price : 특가 제품 가격\n",
    "            - shipping_cost : 배송비\n",
    "    \"\"\"\n",
    "    # price에 배송비가 없는 경우도 있으므로, 있으면 제품가격과 배송비, 없으면 제품가격과 unknown으로 리턴\n",
    "    if \"/\" in price:\n",
    "        product_price, shipping_cost = price.split(\"/\", 1)  # Split into at most 2 parts\n",
    "    else:\n",
    "        product_price = price\n",
    "        shipping_cost = \"unknown\"\n",
    "    return product_price, shipping_cost"
   ]
  },
  {
   "cell_type": "code",
   "execution_count": 8,
   "id": "7fb7ad7d-ae55-428f-8db9-c4294680c408",
   "metadata": {
    "execution": {
     "iopub.execute_input": "2023-08-14T13:31:33.843337Z",
     "iopub.status.busy": "2023-08-14T13:31:33.843112Z",
     "iopub.status.idle": "2023-08-14T13:31:33.991373Z",
     "shell.execute_reply": "2023-08-14T13:31:33.990917Z",
     "shell.execute_reply.started": "2023-08-14T13:31:33.843320Z"
    },
    "tags": []
   },
   "outputs": [
    {
     "data": {
      "text/html": [
       "<div>\n",
       "<style scoped>\n",
       "    .dataframe tbody tr th:only-of-type {\n",
       "        vertical-align: middle;\n",
       "    }\n",
       "\n",
       "    .dataframe tbody tr th {\n",
       "        vertical-align: top;\n",
       "    }\n",
       "\n",
       "    .dataframe thead th {\n",
       "        text-align: right;\n",
       "    }\n",
       "</style>\n",
       "<table border=\"1\" class=\"dataframe\">\n",
       "  <thead>\n",
       "    <tr style=\"text-align: right;\">\n",
       "      <th></th>\n",
       "      <th>title</th>\n",
       "      <th>sales_channel</th>\n",
       "      <th>price</th>\n",
       "      <th>product_price</th>\n",
       "      <th>shipping_cost</th>\n",
       "    </tr>\n",
       "  </thead>\n",
       "  <tbody>\n",
       "    <tr>\n",
       "      <th>0</th>\n",
       "      <td>[cj온스타일] 아이더 반팔 기능티 2장 (21,600원/무료)</td>\n",
       "      <td>cj온스타일</td>\n",
       "      <td>21,600원/무료</td>\n",
       "      <td>21,600원</td>\n",
       "      <td>무료</td>\n",
       "    </tr>\n",
       "    <tr>\n",
       "      <th>1</th>\n",
       "      <td>[G마켓] PS5 디스크 에디션 갓오워 라그나로크 에디션(1218A) (606,97...</td>\n",
       "      <td>G마켓</td>\n",
       "      <td>606,970/무료</td>\n",
       "      <td>606,970</td>\n",
       "      <td>무료</td>\n",
       "    </tr>\n",
       "  </tbody>\n",
       "</table>\n",
       "</div>"
      ],
      "text/plain": [
       "                                               title sales_channel  \\\n",
       "0                [cj온스타일] 아이더 반팔 기능티 2장 (21,600원/무료)        cj온스타일   \n",
       "1  [G마켓] PS5 디스크 에디션 갓오워 라그나로크 에디션(1218A) (606,97...           G마켓   \n",
       "\n",
       "        price product_price shipping_cost  \n",
       "0  21,600원/무료       21,600원            무료  \n",
       "1  606,970/무료       606,970            무료  "
      ]
     },
     "execution_count": 8,
     "metadata": {},
     "output_type": "execute_result"
    }
   ],
   "source": [
    "# 가격에서 제품 가격과 배송비 구별\n",
    "df['product_price'], df['shipping_cost'] = zip(*df['price'].map(split_price))\n",
    "df[['title', 'sales_channel', 'price', 'product_price', 'shipping_cost']].head(2)"
   ]
  },
  {
   "attachments": {},
   "cell_type": "markdown",
   "id": "166394a8-6ffc-4e59-8532-f32569cb4f5b",
   "metadata": {},
   "source": [
    "### 4. 판매 채널 통합\n",
    "판매 채널의 갯수는 5,992개이지만 사람이 직접 적는것으로 같은 판매 채널이여도 약어로 적거나 별칭 등 다르게 적을 수 있어서 동일한 채널이라면 하나의 판매채널로 통합한다.\n",
    "총, 정리하여 5,992개에서 3,751개로 38% 가량 통합하였다."
   ]
  },
  {
   "cell_type": "code",
   "execution_count": 9,
   "id": "5947ce41-aa25-481a-9961-f84a1b8e2d12",
   "metadata": {
    "execution": {
     "iopub.execute_input": "2023-08-14T13:31:34.266682Z",
     "iopub.status.busy": "2023-08-14T13:31:34.266518Z",
     "iopub.status.idle": "2023-08-14T13:31:34.277504Z",
     "shell.execute_reply": "2023-08-14T13:31:34.277208Z",
     "shell.execute_reply.started": "2023-08-14T13:31:34.266670Z"
    },
    "tags": []
   },
   "outputs": [
    {
     "data": {
      "text/plain": [
       "G마켓        14920\n",
       "11번가       12163\n",
       "옥션         11152\n",
       "위메프         9173\n",
       "티몬          8857\n",
       "           ...  \n",
       "롯데온앱           1\n",
       "쎄제이            1\n",
       "파파존스           1\n",
       "옥션스마일클럽        1\n",
       "NS쇼핑몰          1\n",
       "Name: sales_channel, Length: 5992, dtype: int64"
      ]
     },
     "execution_count": 9,
     "metadata": {},
     "output_type": "execute_result"
    }
   ],
   "source": [
    "df[\"sales_channel\"].value_counts()"
   ]
  },
  {
   "cell_type": "code",
   "execution_count": 10,
   "id": "a7e004ec-0474-4d3b-af1e-2972bb402d4a",
   "metadata": {
    "execution": {
     "iopub.execute_input": "2023-08-14T13:31:34.456639Z",
     "iopub.status.busy": "2023-08-14T13:31:34.456361Z",
     "iopub.status.idle": "2023-08-14T13:31:34.460714Z",
     "shell.execute_reply": "2023-08-14T13:31:34.460093Z",
     "shell.execute_reply.started": "2023-08-14T13:31:34.456617Z"
    },
    "tags": []
   },
   "outputs": [],
   "source": [
    "def channel_merge(df, channel, change_channel):\n",
    "    \"\"\" 판매 채널 명\n",
    "    Args:\n",
    "        df - 특가 게시물 Dataframe\n",
    "        channel - 변경 전 채널 이름 \n",
    "        change_channel - 변경될 채널 이름\n",
    "        \n",
    "    Returns:\n",
    "        Dataframe : 통합 채널명으로 변경된 DataFrame\n",
    "    \"\"\"\n",
    "    \n",
    "    # 통합될 채널 이름 찾기\n",
    "    temp = df[df[\"sales_channel\"].str.contains(channel, case=False)]\n",
    "    # 변경할 index 저장\n",
    "    change_value_idx = temp.index\n",
    "    # index를 기준으로 변경 될 채널이름으로 변경\n",
    "    df.loc[change_value_idx, \"sales_channel\"] = change_channel\n",
    "    return df"
   ]
  },
  {
   "cell_type": "code",
   "execution_count": 11,
   "id": "54767d12-49c4-46d3-a444-1f4fa15b4806",
   "metadata": {
    "execution": {
     "iopub.execute_input": "2023-08-14T13:31:34.666988Z",
     "iopub.status.busy": "2023-08-14T13:31:34.666745Z",
     "iopub.status.idle": "2023-08-14T13:31:34.674971Z",
     "shell.execute_reply": "2023-08-14T13:31:34.674211Z",
     "shell.execute_reply.started": "2023-08-14T13:31:34.666964Z"
    },
    "tags": []
   },
   "outputs": [],
   "source": [
    "channel_dict = {\"네이버\":[\"네이버\", \"스마트스토어\", \"스토어팜\", \"원쁠딜\"],\n",
    "                \"11번가\":[\"11번가\", \"11st\", \"11마존\", \"쇼킹딜\"],\n",
    "                \"신세계\":[\"신세계\", \"SSG\"],\n",
    "                \"하이마트\":[\"하이마트\"],\n",
    "                \"롯데\":[\"롯데\", \"칠성몰\"],\n",
    "                \"카카오\":[\"카카오\", \"톡딜\", \"카톡\", \"톡스토어\"],\n",
    "                \"티몬\":[\"티몬\", \"tmon\", \"티켓몬스터\"],\n",
    "                \"CJ\":[\"CJ\"],\n",
    "                \"그립\":[\"그립\", \"grip\"],\n",
    "                \"우체국\":[\"우체국\"],\n",
    "                \"쿠팡\":[\"쿠팡\", \"ㅋㅍ\"],\n",
    "                \"보고\":[\"보고\",\"vogo\"],\n",
    "                \"인터파크\":[\"인터파크\"],\n",
    "                \"AK몰\":[\"ak\"],\n",
    "                \"큐텐\":[\"큐텐\", \"Qo\", \"큐10\", \"Q10\"],\n",
    "                \"Quube\":[\"Quube\"],\n",
    "                \"GS\":[\"gs\", \"나만의 냉장고\"],\n",
    "                \"지마켓/옥션\":[\"지마켓\", \"옥션\",\"지/옥\", \"쥐마켓\", \"g마켓\", \"g9\", \"지9\", \"지구\", \"gmarket\", \"지옥\", \"옥베이\"],\n",
    "                \"SK\":[\"sk\"],\n",
    "                \"아이허브\":[\"ih\"],\n",
    "                \"KT\":[\"kt\"],\n",
    "                \"Hmall\":[\"hm\", \"H패\", \"현대몰\", \"h몰\"],\n",
    "                \"홈플러스\":[\"홈플\"],\n",
    "                \"NS홈쇼핑\":[\"ns\"],\n",
    "                \"이마트\":[\"이마트몰\"],\n",
    "                \"메가마트\":[\"메가마트\"],\n",
    "                \"오늘의집\":[\"오늘의\"],\n",
    "                \"전자랜드\":[\"전자랜드\"],\n",
    "                \"나이키\":[\"나이키\"],\n",
    "                \"예스24\":[\"yes\"],\n",
    "                \"코스트코\":[\"코스트코\"],\n",
    "                \"Steam\":[\"Steam\", \"스팀\", \"Indiegala\"],\n",
    "                \"아디다스\":[\"아디다스\"],\n",
    "                \"홈앤쇼핑\":[\"홈&\"],\n",
    "                \"삼성\":[\"삼성\"],\n",
    "                \"신한\":[\"신한\"],\n",
    "                \"크록스\":[\"크록스\"],\n",
    "                \"국민\":[\"국민\", \"국카\"],\n",
    "                \"다이슨\":[\"다이슨\"],\n",
    "                \"리복\":[\"리복\"],\n",
    "                \"LF스퀘어몰\":[\"LF\"],\n",
    "                \"K쇼핑\":[\"K쇼핑\"],\n",
    "                \"CGV\":[\"CGV\"],\n",
    "                \"배달의민족\":[\"배민\"],\n",
    "                \"동원몰\":[\"동원\"],\n",
    "                \"탑텐\":[\"탑텐\"],\n",
    "                \"위메프\":[\"위메프\"],\n",
    "                \"unknown\":[\"종료\", \"끌어올림\", \"끌올\", \"무배\", \"다양\", \"공홈\"]\n",
    "               }"
   ]
  },
  {
   "cell_type": "code",
   "execution_count": 12,
   "id": "5d9dba24-1e32-4bab-a9ee-2eba8d4d259b",
   "metadata": {
    "execution": {
     "iopub.execute_input": "2023-08-14T13:31:34.862811Z",
     "iopub.status.busy": "2023-08-14T13:31:34.862531Z",
     "iopub.status.idle": "2023-08-14T13:31:36.894523Z",
     "shell.execute_reply": "2023-08-14T13:31:36.894159Z",
     "shell.execute_reply.started": "2023-08-14T13:31:34.862789Z"
    },
    "tags": []
   },
   "outputs": [],
   "source": [
    "for change_channel, channels in channel_dict.items():\n",
    "    for channel in channels:\n",
    "        df = channel_merge(df, channel, change_channel)"
   ]
  },
  {
   "cell_type": "code",
   "execution_count": 13,
   "id": "7fb705fb-b952-4b15-be0b-c84a3ed20d05",
   "metadata": {
    "execution": {
     "iopub.execute_input": "2023-08-14T13:31:36.895245Z",
     "iopub.status.busy": "2023-08-14T13:31:36.895138Z",
     "iopub.status.idle": "2023-08-14T13:31:36.902201Z",
     "shell.execute_reply": "2023-08-14T13:31:36.901913Z",
     "shell.execute_reply.started": "2023-08-14T13:31:36.895235Z"
    },
    "tags": []
   },
   "outputs": [
    {
     "data": {
      "text/plain": [
       "지마켓/옥션         35548\n",
       "11번가           14834\n",
       "위메프             9247\n",
       "티몬              9009\n",
       "네이버             6828\n",
       "               ...  \n",
       "110만원대 /무료         1\n",
       "올렛츠                1\n",
       "Folderstyle        1\n",
       "모요/스마텔             1\n",
       "리브메이트앱             1\n",
       "Name: sales_channel, Length: 3751, dtype: int64"
      ]
     },
     "execution_count": 13,
     "metadata": {},
     "output_type": "execute_result"
    }
   ],
   "source": [
    "df[\"sales_channel\"].value_counts()"
   ]
  },
  {
   "attachments": {},
   "cell_type": "markdown",
   "id": "de00d6bd-18d3-4ce4-a0ee-c6046506f199",
   "metadata": {},
   "source": [
    "### 5. 제품 가격의 자료형을 Str에서 Float형으로 변환함\n",
    "가격 데이터 분석에 용이하기 위해 unknown을 넘파이를 이용하여 NaN으로 변환하고, 그 외 자료는 `원`글씨를 제외하고 숫자만 남긴다."
   ]
  },
  {
   "cell_type": "code",
   "execution_count": 14,
   "id": "e33b23df-a9bf-434c-996a-b1f95831c1b4",
   "metadata": {
    "execution": {
     "iopub.execute_input": "2023-08-14T13:31:36.902794Z",
     "iopub.status.busy": "2023-08-14T13:31:36.902584Z",
     "iopub.status.idle": "2023-08-14T13:31:36.960871Z",
     "shell.execute_reply": "2023-08-14T13:31:36.960576Z",
     "shell.execute_reply.started": "2023-08-14T13:31:36.902785Z"
    },
    "tags": []
   },
   "outputs": [],
   "source": [
    "def convert_price_to_int(price):\n",
    "    \"\"\" 제품 가격 자료형 변환\n",
    "    Args:\n",
    "        price - : Str 형식의 제품 가격\n",
    "    Returns:\n",
    "        Nan : unknown일때\n",
    "        int : Int형 가격\n",
    "    \"\"\"\n",
    "    \n",
    "    # unknown은 NaN값\n",
    "    if price == \"unknown\":\n",
    "        return np.NaN\n",
    "    # 그 외 가격은 \"원\", \",\" \".\"을 삭제한 숫자형\n",
    "    else:\n",
    "        cleaned_price = price.replace(\"원\", \"\").replace(\",\", \"\").replace(\".\", \"\").strip()\n",
    "        if cleaned_price.isdigit():\n",
    "            return int(cleaned_price)\n",
    "        else:\n",
    "            return np.NaN"
   ]
  },
  {
   "cell_type": "code",
   "execution_count": 15,
   "id": "9a6dfe24-7f63-4154-b0c4-7aa411055d4c",
   "metadata": {
    "execution": {
     "iopub.execute_input": "2023-08-14T13:31:36.961754Z",
     "iopub.status.busy": "2023-08-14T13:31:36.961650Z",
     "iopub.status.idle": "2023-08-14T13:31:37.029834Z",
     "shell.execute_reply": "2023-08-14T13:31:37.029374Z",
     "shell.execute_reply.started": "2023-08-14T13:31:36.961745Z"
    },
    "tags": []
   },
   "outputs": [
    {
     "data": {
      "text/html": [
       "<div>\n",
       "<style scoped>\n",
       "    .dataframe tbody tr th:only-of-type {\n",
       "        vertical-align: middle;\n",
       "    }\n",
       "\n",
       "    .dataframe tbody tr th {\n",
       "        vertical-align: top;\n",
       "    }\n",
       "\n",
       "    .dataframe thead th {\n",
       "        text-align: right;\n",
       "    }\n",
       "</style>\n",
       "<table border=\"1\" class=\"dataframe\">\n",
       "  <thead>\n",
       "    <tr style=\"text-align: right;\">\n",
       "      <th></th>\n",
       "      <th>title</th>\n",
       "      <th>sales_channel</th>\n",
       "      <th>price</th>\n",
       "      <th>product_price</th>\n",
       "      <th>shipping_cost</th>\n",
       "    </tr>\n",
       "  </thead>\n",
       "  <tbody>\n",
       "    <tr>\n",
       "      <th>0</th>\n",
       "      <td>[cj온스타일] 아이더 반팔 기능티 2장 (21,600원/무료)</td>\n",
       "      <td>CJ</td>\n",
       "      <td>21,600원/무료</td>\n",
       "      <td>21600.0</td>\n",
       "      <td>무료</td>\n",
       "    </tr>\n",
       "    <tr>\n",
       "      <th>1</th>\n",
       "      <td>[G마켓] PS5 디스크 에디션 갓오워 라그나로크 에디션(1218A) (606,97...</td>\n",
       "      <td>지마켓/옥션</td>\n",
       "      <td>606,970/무료</td>\n",
       "      <td>606970.0</td>\n",
       "      <td>무료</td>\n",
       "    </tr>\n",
       "    <tr>\n",
       "      <th>2</th>\n",
       "      <td>[네이버] 국내산 1등급 소고기 등심 200G (9,900원/4000원)</td>\n",
       "      <td>네이버</td>\n",
       "      <td>9,900원/4000원</td>\n",
       "      <td>9900.0</td>\n",
       "      <td>4000원</td>\n",
       "    </tr>\n",
       "    <tr>\n",
       "      <th>3</th>\n",
       "      <td>[NS몰] 데이즈온 오한진 초임계 알티지 오메가3 비타플러스 3개월 (9,500원/무료)</td>\n",
       "      <td>NS홈쇼핑</td>\n",
       "      <td>9,500원/무료</td>\n",
       "      <td>9500.0</td>\n",
       "      <td>무료</td>\n",
       "    </tr>\n",
       "    <tr>\n",
       "      <th>4</th>\n",
       "      <td>[옥션] 리큐 진한겔 꿉꿉한냄새 싹 2.1L X 6 [20,930/무료배송]</td>\n",
       "      <td>지마켓/옥션</td>\n",
       "      <td>20,930/무료배송</td>\n",
       "      <td>20930.0</td>\n",
       "      <td>무료배송</td>\n",
       "    </tr>\n",
       "  </tbody>\n",
       "</table>\n",
       "</div>"
      ],
      "text/plain": [
       "                                               title sales_channel  \\\n",
       "0                [cj온스타일] 아이더 반팔 기능티 2장 (21,600원/무료)            CJ   \n",
       "1  [G마켓] PS5 디스크 에디션 갓오워 라그나로크 에디션(1218A) (606,97...        지마켓/옥션   \n",
       "2           [네이버] 국내산 1등급 소고기 등심 200G (9,900원/4000원)           네이버   \n",
       "3  [NS몰] 데이즈온 오한진 초임계 알티지 오메가3 비타플러스 3개월 (9,500원/무료)         NS홈쇼핑   \n",
       "4         [옥션] 리큐 진한겔 꿉꿉한냄새 싹 2.1L X 6 [20,930/무료배송]        지마켓/옥션   \n",
       "\n",
       "          price  product_price shipping_cost  \n",
       "0    21,600원/무료        21600.0            무료  \n",
       "1    606,970/무료       606970.0            무료  \n",
       "2  9,900원/4000원         9900.0         4000원  \n",
       "3     9,500원/무료         9500.0            무료  \n",
       "4   20,930/무료배송        20930.0          무료배송  "
      ]
     },
     "execution_count": 15,
     "metadata": {},
     "output_type": "execute_result"
    }
   ],
   "source": [
    "df['product_price'] = df['product_price'].map(convert_price_to_int)\n",
    "df[['title', 'sales_channel', 'price', 'product_price', 'shipping_cost']].head()"
   ]
  },
  {
   "attachments": {},
   "cell_type": "markdown",
   "id": "746158d9-2bc8-46c5-b6c9-9b44ae89eaa0",
   "metadata": {},
   "source": [
    "### 6. 제품 가격 아웃라이어 확인 및 NaN 처리\n",
    "특가 게시물 등록시 규칙을 지키지 않거나 가격을 여러번 적어 잘못 추출된 가격을 삭제하기 위해 상위 0.0014를 nan 값 처리 했다."
   ]
  },
  {
   "cell_type": "code",
   "execution_count": 16,
   "id": "ac78aa90-8f98-42fb-a694-e523961b412c",
   "metadata": {
    "execution": {
     "iopub.execute_input": "2023-08-14T13:31:37.030388Z",
     "iopub.status.busy": "2023-08-14T13:31:37.030273Z",
     "iopub.status.idle": "2023-08-14T13:31:37.038277Z",
     "shell.execute_reply": "2023-08-14T13:31:37.038006Z",
     "shell.execute_reply.started": "2023-08-14T13:31:37.030377Z"
    },
    "tags": []
   },
   "outputs": [
    {
     "name": "stdout",
     "output_type": "stream",
     "text": [
      "기준 가격 6050509.500005719\n"
     ]
    },
    {
     "data": {
      "text/html": [
       "<div>\n",
       "<style scoped>\n",
       "    .dataframe tbody tr th:only-of-type {\n",
       "        vertical-align: middle;\n",
       "    }\n",
       "\n",
       "    .dataframe tbody tr th {\n",
       "        vertical-align: top;\n",
       "    }\n",
       "\n",
       "    .dataframe thead th {\n",
       "        text-align: right;\n",
       "    }\n",
       "</style>\n",
       "<table border=\"1\" class=\"dataframe\">\n",
       "  <thead>\n",
       "    <tr style=\"text-align: right;\">\n",
       "      <th></th>\n",
       "      <th>product_price</th>\n",
       "      <th>price</th>\n",
       "    </tr>\n",
       "  </thead>\n",
       "  <tbody>\n",
       "    <tr>\n",
       "      <th>108936</th>\n",
       "      <td>7.495909e+17</td>\n",
       "      <td>749,590,887,040,974,160/무료</td>\n",
       "    </tr>\n",
       "    <tr>\n",
       "      <th>101994</th>\n",
       "      <td>9.600097e+14</td>\n",
       "      <td>96,000원,96,500원,97,000원/무료,무료,5장이상 구매시 무료</td>\n",
       "    </tr>\n",
       "    <tr>\n",
       "      <th>89044</th>\n",
       "      <td>3.570020e+14</td>\n",
       "      <td>35700,19800,18990/2500,3000</td>\n",
       "    </tr>\n",
       "    <tr>\n",
       "      <th>63422</th>\n",
       "      <td>3.083063e+14</td>\n",
       "      <td>30,830원,62,770원,33,620원/무료</td>\n",
       "    </tr>\n",
       "    <tr>\n",
       "      <th>76481</th>\n",
       "      <td>2.590028e+14</td>\n",
       "      <td>25900,27900,30900/무료배송</td>\n",
       "    </tr>\n",
       "    <tr>\n",
       "      <th>...</th>\n",
       "      <td>...</td>\n",
       "      <td>...</td>\n",
       "    </tr>\n",
       "    <tr>\n",
       "      <th>100576</th>\n",
       "      <td>9.701960e+06</td>\n",
       "      <td>970,1,960/2500</td>\n",
       "    </tr>\n",
       "    <tr>\n",
       "      <th>44753</th>\n",
       "      <td>8.891700e+06</td>\n",
       "      <td>889,1700/무료, 카드할인 791,360원, 자급제, 로켓배송</td>\n",
       "    </tr>\n",
       "    <tr>\n",
       "      <th>80368</th>\n",
       "      <td>7.690000e+06</td>\n",
       "      <td>769,000,0</td>\n",
       "    </tr>\n",
       "    <tr>\n",
       "      <th>34872</th>\n",
       "      <td>7.324760e+06</td>\n",
       "      <td>7324,760/무료</td>\n",
       "    </tr>\n",
       "    <tr>\n",
       "      <th>96789</th>\n",
       "      <td>6.510000e+06</td>\n",
       "      <td>651,0000/배송</td>\n",
       "    </tr>\n",
       "  </tbody>\n",
       "</table>\n",
       "<p>135 rows × 2 columns</p>\n",
       "</div>"
      ],
      "text/plain": [
       "        product_price                                      price\n",
       "108936   7.495909e+17                 749,590,887,040,974,160/무료\n",
       "101994   9.600097e+14  96,000원,96,500원,97,000원/무료,무료,5장이상 구매시 무료\n",
       "89044    3.570020e+14                35700,19800,18990/2500,3000\n",
       "63422    3.083063e+14                 30,830원,62,770원,33,620원/무료\n",
       "76481    2.590028e+14                     25900,27900,30900/무료배송\n",
       "...               ...                                        ...\n",
       "100576   9.701960e+06                             970,1,960/2500\n",
       "44753    8.891700e+06      889,1700/무료, 카드할인 791,360원, 자급제, 로켓배송\n",
       "80368    7.690000e+06                                  769,000,0\n",
       "34872    7.324760e+06                                7324,760/무료\n",
       "96789    6.510000e+06                                651,0000/배송\n",
       "\n",
       "[135 rows x 2 columns]"
      ]
     },
     "execution_count": 16,
     "metadata": {},
     "output_type": "execute_result"
    }
   ],
   "source": [
    "# 상위 0.0014 제외\n",
    "cut = df[\"product_price\"].quantile(0.9986)\n",
    "print(f\"기준 가격 {cut}\")\n",
    "temp = df[df[\"product_price\"] > cut]\n",
    "temp.sort_values(\"product_price\", ascending=False)[[\"product_price\", \"price\"]]"
   ]
  },
  {
   "cell_type": "code",
   "execution_count": 17,
   "id": "8efd6cf2-0fa1-4879-aab5-749eaf9b63c4",
   "metadata": {
    "execution": {
     "iopub.execute_input": "2023-08-14T13:31:37.038864Z",
     "iopub.status.busy": "2023-08-14T13:31:37.038658Z",
     "iopub.status.idle": "2023-08-14T13:31:37.040833Z",
     "shell.execute_reply": "2023-08-14T13:31:37.040574Z",
     "shell.execute_reply.started": "2023-08-14T13:31:37.038852Z"
    },
    "tags": []
   },
   "outputs": [],
   "source": [
    "top_index = temp.index\n",
    "df.loc[top_index, \"product_price\"] = np.nan"
   ]
  },
  {
   "attachments": {},
   "cell_type": "markdown",
   "id": "0ea3eea5-e1d0-4baa-b977-f164a72a3792",
   "metadata": {},
   "source": [
    "### 7. 배송비 정합성 확인 및 NaN 처리\n",
    "배송비에 대한 단어들은 \"무료\", \"무배\" 등 여러 가지로 작성되어 있어서 무료배송을 뜻하는 단어를 포함하면 모두 0원으로 변경하고 그 외 단어는 NaN처리했다. 그리고 나머지 데이터는 숫자로 변경하였다"
   ]
  },
  {
   "cell_type": "code",
   "execution_count": 18,
   "id": "60a11fd0-893b-4f33-ac20-3d9222764546",
   "metadata": {
    "execution": {
     "iopub.execute_input": "2023-08-14T13:31:37.041445Z",
     "iopub.status.busy": "2023-08-14T13:31:37.041179Z",
     "iopub.status.idle": "2023-08-14T13:31:37.052489Z",
     "shell.execute_reply": "2023-08-14T13:31:37.052241Z",
     "shell.execute_reply.started": "2023-08-14T13:31:37.041429Z"
    },
    "tags": []
   },
   "outputs": [
    {
     "data": {
      "text/plain": [
       "무료                        53908\n",
       "무배                        12669\n",
       "unknown                   11391\n",
       "무료배송                       9793\n",
       " 무료                        4459\n",
       "                          ...  \n",
       "쿠폰받으면무료                       1\n",
       "닌텐도 스위치                       1\n",
       "2,500, 2만원이상 무료배송             1\n",
       "와우회원무료, 카드할인20,720            1\n",
       " 29,800원이상 무료,미만 5,000        1\n",
       "Name: shipping_cost, Length: 4330, dtype: int64"
      ]
     },
     "execution_count": 18,
     "metadata": {},
     "output_type": "execute_result"
    }
   ],
   "source": [
    "# 배송비 확인\n",
    "df[\"shipping_cost\"].value_counts()"
   ]
  },
  {
   "cell_type": "code",
   "execution_count": 19,
   "id": "e805d28e-a4cb-444c-be71-bce936eae68e",
   "metadata": {
    "execution": {
     "iopub.execute_input": "2023-08-14T13:31:37.053056Z",
     "iopub.status.busy": "2023-08-14T13:31:37.052835Z",
     "iopub.status.idle": "2023-08-14T13:31:37.055526Z",
     "shell.execute_reply": "2023-08-14T13:31:37.055239Z",
     "shell.execute_reply.started": "2023-08-14T13:31:37.053046Z"
    },
    "tags": []
   },
   "outputs": [],
   "source": [
    "def convert_shipping_cost(cost):\n",
    "    \"\"\" 배송비 변환\n",
    "    Args:\n",
    "        cost - Str 형식의 배송비\n",
    "    Returns:\n",
    "        Nan : unknown이거나, 그 외 Str형 일때\n",
    "        0 : 무료 배송일때\n",
    "        int : 그 외 숫자형 일때\n",
    "    \"\"\"\n",
    "    cost = cost.strip()\n",
    "    if cost.find(\"무료\") > -1:\n",
    "        return \"0\"\n",
    "    elif cost.find(\"무배\") > -1:\n",
    "        return \"0\"\n",
    "    elif cost.replace(\"원\", \"\").replace(\",\", \"\").replace(\"~\", \"\").replace(\".\", \"\").isdigit():\n",
    "        return cost.replace(\"원\", \"\").replace(\",\", \"\").replace(\"~\", \"\").replace(\".\", \"\")\n",
    "    else:\n",
    "        return np.NaN"
   ]
  },
  {
   "cell_type": "code",
   "execution_count": 20,
   "id": "5eaa07cc-370e-464f-a79d-0950aa5600a9",
   "metadata": {
    "execution": {
     "iopub.execute_input": "2023-08-14T13:31:37.056394Z",
     "iopub.status.busy": "2023-08-14T13:31:37.056181Z",
     "iopub.status.idle": "2023-08-14T13:31:37.118202Z",
     "shell.execute_reply": "2023-08-14T13:31:37.117834Z",
     "shell.execute_reply.started": "2023-08-14T13:31:37.056384Z"
    },
    "tags": []
   },
   "outputs": [
    {
     "data": {
      "text/html": [
       "<div>\n",
       "<style scoped>\n",
       "    .dataframe tbody tr th:only-of-type {\n",
       "        vertical-align: middle;\n",
       "    }\n",
       "\n",
       "    .dataframe tbody tr th {\n",
       "        vertical-align: top;\n",
       "    }\n",
       "\n",
       "    .dataframe thead th {\n",
       "        text-align: right;\n",
       "    }\n",
       "</style>\n",
       "<table border=\"1\" class=\"dataframe\">\n",
       "  <thead>\n",
       "    <tr style=\"text-align: right;\">\n",
       "      <th></th>\n",
       "      <th>title</th>\n",
       "      <th>sales_channel</th>\n",
       "      <th>price</th>\n",
       "      <th>product_price</th>\n",
       "      <th>shipping_cost</th>\n",
       "    </tr>\n",
       "  </thead>\n",
       "  <tbody>\n",
       "    <tr>\n",
       "      <th>0</th>\n",
       "      <td>[cj온스타일] 아이더 반팔 기능티 2장 (21,600원/무료)</td>\n",
       "      <td>CJ</td>\n",
       "      <td>21,600원/무료</td>\n",
       "      <td>21600.0</td>\n",
       "      <td>0</td>\n",
       "    </tr>\n",
       "    <tr>\n",
       "      <th>1</th>\n",
       "      <td>[G마켓] PS5 디스크 에디션 갓오워 라그나로크 에디션(1218A) (606,97...</td>\n",
       "      <td>지마켓/옥션</td>\n",
       "      <td>606,970/무료</td>\n",
       "      <td>606970.0</td>\n",
       "      <td>0</td>\n",
       "    </tr>\n",
       "  </tbody>\n",
       "</table>\n",
       "</div>"
      ],
      "text/plain": [
       "                                               title sales_channel  \\\n",
       "0                [cj온스타일] 아이더 반팔 기능티 2장 (21,600원/무료)            CJ   \n",
       "1  [G마켓] PS5 디스크 에디션 갓오워 라그나로크 에디션(1218A) (606,97...        지마켓/옥션   \n",
       "\n",
       "        price  product_price shipping_cost  \n",
       "0  21,600원/무료        21600.0             0  \n",
       "1  606,970/무료       606970.0             0  "
      ]
     },
     "execution_count": 20,
     "metadata": {},
     "output_type": "execute_result"
    }
   ],
   "source": [
    "df['shipping_cost'] = df['shipping_cost'].map(convert_shipping_cost)\n",
    "df[['title', 'sales_channel', 'price', 'product_price', 'shipping_cost']].head(2)"
   ]
  },
  {
   "attachments": {},
   "cell_type": "markdown",
   "id": "5c3b8133-2714-4bdf-9797-8a6af1153818",
   "metadata": {},
   "source": [
    "### 8. 배송비 아웃라이어 확인 및 NaN 처리\n",
    "배송비 정합성 체크 후 잘못 추출된 배송비가 있을 수 있었다. 배송비가 상위 0.002 이상 (약 2만원)은 NaN 처리를 해주었다."
   ]
  },
  {
   "cell_type": "code",
   "execution_count": 21,
   "id": "fdea9f45-d8d1-41be-b072-49adc73c8c55",
   "metadata": {
    "execution": {
     "iopub.execute_input": "2023-08-14T13:31:37.585810Z",
     "iopub.status.busy": "2023-08-14T13:31:37.585643Z",
     "iopub.status.idle": "2023-08-14T13:31:37.605820Z",
     "shell.execute_reply": "2023-08-14T13:31:37.605424Z",
     "shell.execute_reply.started": "2023-08-14T13:31:37.585798Z"
    },
    "tags": []
   },
   "outputs": [],
   "source": [
    "# 배송비 아웃라이어 확인\n",
    "df[\"shipping_cost\"] = df[\"shipping_cost\"].fillna(-1).astype(int).replace({-1: None})"
   ]
  },
  {
   "cell_type": "code",
   "execution_count": 22,
   "id": "039bcdf5-5aa5-4569-8246-cc60beefbc9a",
   "metadata": {
    "execution": {
     "iopub.execute_input": "2023-08-14T13:31:37.796564Z",
     "iopub.status.busy": "2023-08-14T13:31:37.796398Z",
     "iopub.status.idle": "2023-08-14T13:31:37.869361Z",
     "shell.execute_reply": "2023-08-14T13:31:37.868967Z",
     "shell.execute_reply.started": "2023-08-14T13:31:37.796553Z"
    },
    "tags": []
   },
   "outputs": [
    {
     "name": "stdout",
     "output_type": "stream",
     "text": [
      "기준 가격 20000.0\n"
     ]
    }
   ],
   "source": [
    "# (상위 0.002 제외)\n",
    "cut = df[\"shipping_cost\"].quantile(0.998)\n",
    "print(f\"기준 가격 {cut}\")\n",
    "temp = df[df[\"shipping_cost\"] > cut]\n",
    "temp.sort_values(\"shipping_cost\", ascending=False)[[\"shipping_cost\", \"price\"]]\n",
    "top_index = temp.index\n",
    "df.loc[top_index, \"shipping_cost\"] = np.nan"
   ]
  },
  {
   "attachments": {},
   "cell_type": "markdown",
   "id": "1c0e36ab-79b8-4d19-b019-12a5dabfdb7f",
   "metadata": {},
   "source": [
    "### 9. 키워드 추출\n",
    "특가 데이터 분석에 용이하게 하기 위해 Kiwi 패키지를 사용하여 제목에서 판매 채널과 가격 정보, 특수 문자를 제외하여 제목을 정제하였으며, 정제된 제목에서 불용어를 제외한 명사형 키워드를 추출하였다.\n",
    "불용어의 기준은 의미를 모르거나, 자주 등장된 단어 중 필요 없다고 판단된 단어이다."
   ]
  },
  {
   "cell_type": "code",
   "execution_count": 23,
   "id": "17b15903-4628-44aa-ae51-efe6e6f649bf",
   "metadata": {
    "execution": {
     "iopub.execute_input": "2023-08-14T13:31:38.203100Z",
     "iopub.status.busy": "2023-08-14T13:31:38.202889Z",
     "iopub.status.idle": "2023-08-14T13:31:38.205682Z",
     "shell.execute_reply": "2023-08-14T13:31:38.205177Z",
     "shell.execute_reply.started": "2023-08-14T13:31:38.203086Z"
    },
    "tags": []
   },
   "outputs": [],
   "source": [
    "def clean_title(title):\n",
    "    \"\"\" 제목 정체\n",
    "    Args:\n",
    "        title - Str 형식의 특가 게시물 제목\n",
    "    Returns:\n",
    "        title - Str 형식의 판매 채널, 제품 가격 정보, 특수 문자가 제외 된 제목\n",
    "    \"\"\"\n",
    "    # 제목에서 판매 채널 제외\n",
    "    title = re.sub(r'^\\[([^\\]]+)\\]|\\(([^\\)]+)\\)s*', '', title)\n",
    "    # 제목에서 가격 정보 제외\n",
    "    title = re.sub(r'\\s*\\[([^\\]]+)\\]|\\(([^\\)]+)\\)$', '', title)\n",
    "    \n",
    "    return title"
   ]
  },
  {
   "cell_type": "code",
   "execution_count": 24,
   "id": "2792aa79-8deb-4e67-bc72-3ca54e58b998",
   "metadata": {
    "execution": {
     "iopub.execute_input": "2023-08-14T13:31:38.420058Z",
     "iopub.status.busy": "2023-08-14T13:31:38.419784Z",
     "iopub.status.idle": "2023-08-14T13:31:38.730718Z",
     "shell.execute_reply": "2023-08-14T13:31:38.730310Z",
     "shell.execute_reply.started": "2023-08-14T13:31:38.420037Z"
    },
    "tags": []
   },
   "outputs": [
    {
     "data": {
      "text/html": [
       "<div>\n",
       "<style scoped>\n",
       "    .dataframe tbody tr th:only-of-type {\n",
       "        vertical-align: middle;\n",
       "    }\n",
       "\n",
       "    .dataframe tbody tr th {\n",
       "        vertical-align: top;\n",
       "    }\n",
       "\n",
       "    .dataframe thead th {\n",
       "        text-align: right;\n",
       "    }\n",
       "</style>\n",
       "<table border=\"1\" class=\"dataframe\">\n",
       "  <thead>\n",
       "    <tr style=\"text-align: right;\">\n",
       "      <th></th>\n",
       "      <th>title</th>\n",
       "      <th>real_title</th>\n",
       "    </tr>\n",
       "  </thead>\n",
       "  <tbody>\n",
       "    <tr>\n",
       "      <th>0</th>\n",
       "      <td>[cj온스타일] 아이더 반팔 기능티 2장 (21,600원/무료)</td>\n",
       "      <td>아이더 반팔 기능티 2장</td>\n",
       "    </tr>\n",
       "    <tr>\n",
       "      <th>1</th>\n",
       "      <td>[G마켓] PS5 디스크 에디션 갓오워 라그나로크 에디션(1218A) (606,97...</td>\n",
       "      <td>PS5 디스크 에디션 갓오워 라그나로크 에디션</td>\n",
       "    </tr>\n",
       "  </tbody>\n",
       "</table>\n",
       "</div>"
      ],
      "text/plain": [
       "                                               title  \\\n",
       "0                [cj온스타일] 아이더 반팔 기능티 2장 (21,600원/무료)   \n",
       "1  [G마켓] PS5 디스크 에디션 갓오워 라그나로크 에디션(1218A) (606,97...   \n",
       "\n",
       "                    real_title  \n",
       "0               아이더 반팔 기능티 2장   \n",
       "1   PS5 디스크 에디션 갓오워 라그나로크 에디션   "
      ]
     },
     "execution_count": 24,
     "metadata": {},
     "output_type": "execute_result"
    }
   ],
   "source": [
    "df['title'] = df['title'].astype(str)\n",
    "df['real_title'] = df['title'].apply(clean_title)\n",
    "df[['title', 'real_title']].head(2)"
   ]
  },
  {
   "cell_type": "code",
   "execution_count": 25,
   "id": "d37590b6-7d68-4f30-8f7d-a5979ff36983",
   "metadata": {
    "execution": {
     "iopub.execute_input": "2023-08-14T13:31:38.731464Z",
     "iopub.status.busy": "2023-08-14T13:31:38.731343Z",
     "iopub.status.idle": "2023-08-14T13:31:38.733952Z",
     "shell.execute_reply": "2023-08-14T13:31:38.733675Z",
     "shell.execute_reply.started": "2023-08-14T13:31:38.731452Z"
    },
    "tags": []
   },
   "outputs": [],
   "source": [
    "\n",
    "def noun_extractor(title):\n",
    "    \"\"\" 명사 추출 및 불용어 처리 함수\n",
    "    Args:\n",
    "        title - Str 형식의 판매 채널, 제품 가격 정보, 특수 문자가 제외 된 제목\n",
    "    Returns:\n",
    "        results - List : title에서 지정된 불용어를 제외한 명사만 추출된 List\n",
    "    \"\"\"\n",
    "    results = []\n",
    "    try:\n",
    "        result = kiwi.analyze(title)\n",
    "    except:\n",
    "        return results\n",
    "    for token, pos, _, _ in result[0][0]:\n",
    "        if len(token) != 1 and pos.startswith('N') and token not in stopwords:\n",
    "                results.append(token)\n",
    "    return results"
   ]
  },
  {
   "cell_type": "code",
   "execution_count": 26,
   "id": "f27f1995-28fc-43eb-b2f9-ddce0f4b4f45",
   "metadata": {
    "execution": {
     "iopub.execute_input": "2023-08-14T13:31:38.845403Z",
     "iopub.status.busy": "2023-08-14T13:31:38.845263Z",
     "iopub.status.idle": "2023-08-14T13:31:38.847887Z",
     "shell.execute_reply": "2023-08-14T13:31:38.847442Z",
     "shell.execute_reply.started": "2023-08-14T13:31:38.845390Z"
    },
    "tags": []
   },
   "outputs": [],
   "source": [
    "# 불용어\n",
    "stopwords = [\"할인\", \"쿠폰\", \"상품\", \"무료\", \"스마일\", \"적용\", \"카드\", \"삼성\", \"세트\", \"클럽\",\n",
    "            \"프로\", \"증정\", \"블랙\", \"인치\", \"스클\", \"박스\", \"에어\", \"세대\", \"무선\", \"랜드\", \"머니\",\n",
    "            \"가능\", \"캡슐\", \"샤오미\", \"결제\", \"포인트\", \"구매\", \"추가\", \"최대\", \"배송\", \"프리미엄\"]"
   ]
  },
  {
   "cell_type": "code",
   "execution_count": 27,
   "id": "bffebcb5-ab40-4504-b871-96f5ea5d06cc",
   "metadata": {
    "execution": {
     "iopub.execute_input": "2023-08-14T13:31:39.084458Z",
     "iopub.status.busy": "2023-08-14T13:31:39.084228Z",
     "iopub.status.idle": "2023-08-14T13:32:03.129244Z",
     "shell.execute_reply": "2023-08-14T13:32:03.128871Z",
     "shell.execute_reply.started": "2023-08-14T13:31:39.084440Z"
    },
    "tags": []
   },
   "outputs": [
    {
     "name": "stderr",
     "output_type": "stream",
     "text": [
      "100%|█████████████████████████████████████████████████████████████████████████| 117980/117980 [00:23<00:00, 4979.96it/s]\n"
     ]
    }
   ],
   "source": [
    "tqdm.pandas()\n",
    "kiwi = Kiwi()\n",
    "df[\"keywords\"] = df[\"real_title\"].progress_apply(noun_extractor)"
   ]
  },
  {
   "attachments": {},
   "cell_type": "markdown",
   "id": "3740c430-2d76-499c-b9ea-6dc98b5e1d9b",
   "metadata": {},
   "source": [
    "### 10. 인기/핫 게시물과 일반 게시물 라벨링\n",
    "특가 데이터 분석을 인기/핫 게시물을 중점으로 할 것이므로, 인기/핫 게시물과 일반 게시물을 구별해주는 컬럼을 생성해주었다."
   ]
  },
  {
   "cell_type": "code",
   "execution_count": 28,
   "id": "ec1c3e72-afa6-4c9a-a7a7-a22e3e25202c",
   "metadata": {
    "execution": {
     "iopub.execute_input": "2023-08-14T13:32:03.130178Z",
     "iopub.status.busy": "2023-08-14T13:32:03.130067Z",
     "iopub.status.idle": "2023-08-14T13:32:03.139404Z",
     "shell.execute_reply": "2023-08-14T13:32:03.139134Z",
     "shell.execute_reply.started": "2023-08-14T13:32:03.130168Z"
    },
    "tags": []
   },
   "outputs": [],
   "source": [
    "df.loc[df['pop'] == True, 'post_type'] = 'popular/hot'\n",
    "df.loc[df['hot'] == True, 'post_type'] = 'popular/hot'\n",
    "df['post_type'].fillna('general', inplace=True)"
   ]
  },
  {
   "attachments": {},
   "cell_type": "markdown",
   "id": "ca871761-5f19-495d-b4b1-5430efa8c2dc",
   "metadata": {},
   "source": [
    "### 11. 데이터 저장\n",
    "전처리한 데이터를 csv 파일로 저장하여, 추후 특가 데이터 분석시 해당 전처리를 진행하지 않아도 되게 하였다. 또한 저장되는 파일명은 현재 시간을 자동으로 지정하여 실수로 다른 파일을 덮어쓰여 저장하지 않게 하였다."
   ]
  },
  {
   "cell_type": "code",
   "execution_count": 31,
   "id": "1aa3a871-0666-4194-b81d-de44e0f4bb31",
   "metadata": {
    "execution": {
     "iopub.execute_input": "2023-08-14T13:32:20.144437Z",
     "iopub.status.busy": "2023-08-14T13:32:20.144207Z",
     "iopub.status.idle": "2023-08-14T13:32:20.825368Z",
     "shell.execute_reply": "2023-08-14T13:32:20.824985Z",
     "shell.execute_reply.started": "2023-08-14T13:32:20.144421Z"
    },
    "tags": []
   },
   "outputs": [],
   "source": [
    "# 데이터 csv 저장\n",
    "now = str(datetime.now())\n",
    "df.to_csv(f\"./datas/{now}_preprocessing.csv\", index=False)"
   ]
  }
 ],
 "metadata": {
  "kernelspec": {
   "display_name": "Python [conda env:root] *",
   "language": "python",
   "name": "conda-root-py"
  },
  "language_info": {
   "codemirror_mode": {
    "name": "ipython",
    "version": 3
   },
   "file_extension": ".py",
   "mimetype": "text/x-python",
   "name": "python",
   "nbconvert_exporter": "python",
   "pygments_lexer": "ipython3",
   "version": "3.10.9"
  }
 },
 "nbformat": 4,
 "nbformat_minor": 5
}
